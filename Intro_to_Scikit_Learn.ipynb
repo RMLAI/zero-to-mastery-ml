{
  "nbformat": 4,
  "nbformat_minor": 0,
  "metadata": {
    "colab": {
      "name": "Intro to Scikit Learn.ipynb",
      "provenance": [],
      "collapsed_sections": [],
      "mount_file_id": "1PZcvFBLBuHxT8BA5W_FXZZbT3bXW75Tm",
      "authorship_tag": "ABX9TyNA2AZMqm9iQdNxRTjNQ8d3",
      "include_colab_link": true
    },
    "kernelspec": {
      "name": "python3",
      "display_name": "Python 3"
    }
  },
  "cells": [
    {
      "cell_type": "markdown",
      "metadata": {
        "id": "view-in-github",
        "colab_type": "text"
      },
      "source": [
        "<a href=\"https://colab.research.google.com/github/RMLAI/zero-to-mastery-ml/blob/master/Intro_to_Scikit_Learn.ipynb\" target=\"_parent\"><img src=\"https://colab.research.google.com/assets/colab-badge.svg\" alt=\"Open In Colab\"/></a>"
      ]
    },
    {
      "cell_type": "code",
      "metadata": {
        "id": "QziUTc6ex2Vt",
        "colab_type": "code",
        "outputId": "2e5513c6-8704-4bcb-b94b-f3695a4fcfc1",
        "colab": {
          "base_uri": "https://localhost:8080/",
          "height": 289
        }
      },
      "source": [
        "ls"
      ],
      "execution_count": 0,
      "outputs": [
        {
          "output_type": "stream",
          "text": [
            "Advertising.csv                      Hitters.csv\n",
            "Auto.csv                             Hitters_X_test.csv\n",
            "Boston.csv                           Hitters_X_train.csv\n",
            "Caravan.csv                          Hitters_y_test.csv\n",
            "car-photo.png                        Hitters_y_train.csv\n",
            "car-sales.csv                        Khan_xtest.csv\n",
            "car-sales-extended.csv               Khan_xtrain.csv\n",
            "car-sales-extended-missing-data.csv  Khan_ytest.csv\n",
            "car-sales-missing-data.csv           Khan_ytrain.csv\n",
            "Carseats.csv                         NCI60_X.csv\n",
            "covid_19_india.csv                   NCI60_y.csv\n",
            "Credit.csv                           panda.png\n",
            "Default.xlsx                         random_forest_model_1.pkl\n",
            "dog-photo.png                        Smarket.csv\n",
            "Heart.csv                            USArrests.csv\n",
            "heart-disease.csv                    Wage.csv\n"
          ],
          "name": "stdout"
        }
      ]
    },
    {
      "cell_type": "code",
      "metadata": {
        "id": "fey8NqwL6KTN",
        "colab_type": "code",
        "outputId": "bdb5bb5b-d3dd-4ea6-e411-9f0ba55f6446",
        "colab": {
          "base_uri": "https://localhost:8080/",
          "height": 34
        }
      },
      "source": [
        "cd drive/My Drive/Data"
      ],
      "execution_count": 1,
      "outputs": [
        {
          "output_type": "stream",
          "text": [
            "/content/drive/My Drive/Data\n"
          ],
          "name": "stdout"
        }
      ]
    },
    {
      "cell_type": "markdown",
      "metadata": {
        "id": "uJi-12KAymvp",
        "colab_type": "text"
      },
      "source": [
        "This notebook Demos the power of scikit learn\n",
        "\n",
        "\n",
        "*   Getting data ready\n",
        "\n",
        "*   Choose right algorithm for problem\n",
        "\n",
        "*   Fit model/algorithm for data , make predictions\n",
        "*   Evaluate and improve model\n",
        "\n",
        "\n",
        "*   Load trained model\n",
        "\n",
        "\n",
        "*   Put it all together\n",
        "\n"
      ]
    },
    {
      "cell_type": "code",
      "metadata": {
        "id": "CLV_o6xyyrT6",
        "colab_type": "code",
        "outputId": "251d119e-4854-4837-a82e-31199ac9e653",
        "colab": {
          "base_uri": "https://localhost:8080/",
          "height": 71
        }
      },
      "source": [
        "#import necesseary libraries\n",
        "import pandas as pd\n",
        "import numpy as np\n",
        "import matplotlib.pyplot as plt\n",
        "%matplotlib inline\n",
        "import seaborn as sns"
      ],
      "execution_count": 0,
      "outputs": [
        {
          "output_type": "stream",
          "text": [
            "/usr/local/lib/python3.6/dist-packages/statsmodels/tools/_testing.py:19: FutureWarning: pandas.util.testing is deprecated. Use the functions in the public API at pandas.testing instead.\n",
            "  import pandas.util.testing as tm\n"
          ],
          "name": "stderr"
        }
      ]
    },
    {
      "cell_type": "code",
      "metadata": {
        "id": "eYGHOt3WJJD8",
        "colab_type": "code",
        "outputId": "4699bc3a-276e-4900-fa96-e5f8cdc59d2a",
        "colab": {
          "base_uri": "https://localhost:8080/",
          "height": 359
        }
      },
      "source": [
        "#Getting the data ready\n",
        "heart_disease=pd.read_csv('heart-disease.csv')\n",
        "heart_disease.head(10)"
      ],
      "execution_count": 0,
      "outputs": [
        {
          "output_type": "execute_result",
          "data": {
            "text/html": [
              "<div>\n",
              "<style scoped>\n",
              "    .dataframe tbody tr th:only-of-type {\n",
              "        vertical-align: middle;\n",
              "    }\n",
              "\n",
              "    .dataframe tbody tr th {\n",
              "        vertical-align: top;\n",
              "    }\n",
              "\n",
              "    .dataframe thead th {\n",
              "        text-align: right;\n",
              "    }\n",
              "</style>\n",
              "<table border=\"1\" class=\"dataframe\">\n",
              "  <thead>\n",
              "    <tr style=\"text-align: right;\">\n",
              "      <th></th>\n",
              "      <th>age</th>\n",
              "      <th>sex</th>\n",
              "      <th>cp</th>\n",
              "      <th>trestbps</th>\n",
              "      <th>chol</th>\n",
              "      <th>fbs</th>\n",
              "      <th>restecg</th>\n",
              "      <th>thalach</th>\n",
              "      <th>exang</th>\n",
              "      <th>oldpeak</th>\n",
              "      <th>slope</th>\n",
              "      <th>ca</th>\n",
              "      <th>thal</th>\n",
              "      <th>target</th>\n",
              "    </tr>\n",
              "  </thead>\n",
              "  <tbody>\n",
              "    <tr>\n",
              "      <th>0</th>\n",
              "      <td>63</td>\n",
              "      <td>1</td>\n",
              "      <td>3</td>\n",
              "      <td>145</td>\n",
              "      <td>233</td>\n",
              "      <td>1</td>\n",
              "      <td>0</td>\n",
              "      <td>150</td>\n",
              "      <td>0</td>\n",
              "      <td>2.3</td>\n",
              "      <td>0</td>\n",
              "      <td>0</td>\n",
              "      <td>1</td>\n",
              "      <td>1</td>\n",
              "    </tr>\n",
              "    <tr>\n",
              "      <th>1</th>\n",
              "      <td>37</td>\n",
              "      <td>1</td>\n",
              "      <td>2</td>\n",
              "      <td>130</td>\n",
              "      <td>250</td>\n",
              "      <td>0</td>\n",
              "      <td>1</td>\n",
              "      <td>187</td>\n",
              "      <td>0</td>\n",
              "      <td>3.5</td>\n",
              "      <td>0</td>\n",
              "      <td>0</td>\n",
              "      <td>2</td>\n",
              "      <td>1</td>\n",
              "    </tr>\n",
              "    <tr>\n",
              "      <th>2</th>\n",
              "      <td>41</td>\n",
              "      <td>0</td>\n",
              "      <td>1</td>\n",
              "      <td>130</td>\n",
              "      <td>204</td>\n",
              "      <td>0</td>\n",
              "      <td>0</td>\n",
              "      <td>172</td>\n",
              "      <td>0</td>\n",
              "      <td>1.4</td>\n",
              "      <td>2</td>\n",
              "      <td>0</td>\n",
              "      <td>2</td>\n",
              "      <td>1</td>\n",
              "    </tr>\n",
              "    <tr>\n",
              "      <th>3</th>\n",
              "      <td>56</td>\n",
              "      <td>1</td>\n",
              "      <td>1</td>\n",
              "      <td>120</td>\n",
              "      <td>236</td>\n",
              "      <td>0</td>\n",
              "      <td>1</td>\n",
              "      <td>178</td>\n",
              "      <td>0</td>\n",
              "      <td>0.8</td>\n",
              "      <td>2</td>\n",
              "      <td>0</td>\n",
              "      <td>2</td>\n",
              "      <td>1</td>\n",
              "    </tr>\n",
              "    <tr>\n",
              "      <th>4</th>\n",
              "      <td>57</td>\n",
              "      <td>0</td>\n",
              "      <td>0</td>\n",
              "      <td>120</td>\n",
              "      <td>354</td>\n",
              "      <td>0</td>\n",
              "      <td>1</td>\n",
              "      <td>163</td>\n",
              "      <td>1</td>\n",
              "      <td>0.6</td>\n",
              "      <td>2</td>\n",
              "      <td>0</td>\n",
              "      <td>2</td>\n",
              "      <td>1</td>\n",
              "    </tr>\n",
              "    <tr>\n",
              "      <th>5</th>\n",
              "      <td>57</td>\n",
              "      <td>1</td>\n",
              "      <td>0</td>\n",
              "      <td>140</td>\n",
              "      <td>192</td>\n",
              "      <td>0</td>\n",
              "      <td>1</td>\n",
              "      <td>148</td>\n",
              "      <td>0</td>\n",
              "      <td>0.4</td>\n",
              "      <td>1</td>\n",
              "      <td>0</td>\n",
              "      <td>1</td>\n",
              "      <td>1</td>\n",
              "    </tr>\n",
              "    <tr>\n",
              "      <th>6</th>\n",
              "      <td>56</td>\n",
              "      <td>0</td>\n",
              "      <td>1</td>\n",
              "      <td>140</td>\n",
              "      <td>294</td>\n",
              "      <td>0</td>\n",
              "      <td>0</td>\n",
              "      <td>153</td>\n",
              "      <td>0</td>\n",
              "      <td>1.3</td>\n",
              "      <td>1</td>\n",
              "      <td>0</td>\n",
              "      <td>2</td>\n",
              "      <td>1</td>\n",
              "    </tr>\n",
              "    <tr>\n",
              "      <th>7</th>\n",
              "      <td>44</td>\n",
              "      <td>1</td>\n",
              "      <td>1</td>\n",
              "      <td>120</td>\n",
              "      <td>263</td>\n",
              "      <td>0</td>\n",
              "      <td>1</td>\n",
              "      <td>173</td>\n",
              "      <td>0</td>\n",
              "      <td>0.0</td>\n",
              "      <td>2</td>\n",
              "      <td>0</td>\n",
              "      <td>3</td>\n",
              "      <td>1</td>\n",
              "    </tr>\n",
              "    <tr>\n",
              "      <th>8</th>\n",
              "      <td>52</td>\n",
              "      <td>1</td>\n",
              "      <td>2</td>\n",
              "      <td>172</td>\n",
              "      <td>199</td>\n",
              "      <td>1</td>\n",
              "      <td>1</td>\n",
              "      <td>162</td>\n",
              "      <td>0</td>\n",
              "      <td>0.5</td>\n",
              "      <td>2</td>\n",
              "      <td>0</td>\n",
              "      <td>3</td>\n",
              "      <td>1</td>\n",
              "    </tr>\n",
              "    <tr>\n",
              "      <th>9</th>\n",
              "      <td>57</td>\n",
              "      <td>1</td>\n",
              "      <td>2</td>\n",
              "      <td>150</td>\n",
              "      <td>168</td>\n",
              "      <td>0</td>\n",
              "      <td>1</td>\n",
              "      <td>174</td>\n",
              "      <td>0</td>\n",
              "      <td>1.6</td>\n",
              "      <td>2</td>\n",
              "      <td>0</td>\n",
              "      <td>2</td>\n",
              "      <td>1</td>\n",
              "    </tr>\n",
              "  </tbody>\n",
              "</table>\n",
              "</div>"
            ],
            "text/plain": [
              "   age  sex  cp  trestbps  chol  fbs  ...  exang  oldpeak  slope  ca  thal  target\n",
              "0   63    1   3       145   233    1  ...      0      2.3      0   0     1       1\n",
              "1   37    1   2       130   250    0  ...      0      3.5      0   0     2       1\n",
              "2   41    0   1       130   204    0  ...      0      1.4      2   0     2       1\n",
              "3   56    1   1       120   236    0  ...      0      0.8      2   0     2       1\n",
              "4   57    0   0       120   354    0  ...      1      0.6      2   0     2       1\n",
              "5   57    1   0       140   192    0  ...      0      0.4      1   0     1       1\n",
              "6   56    0   1       140   294    0  ...      0      1.3      1   0     2       1\n",
              "7   44    1   1       120   263    0  ...      0      0.0      2   0     3       1\n",
              "8   52    1   2       172   199    1  ...      0      0.5      2   0     3       1\n",
              "9   57    1   2       150   168    0  ...      0      1.6      2   0     2       1\n",
              "\n",
              "[10 rows x 14 columns]"
            ]
          },
          "metadata": {
            "tags": []
          },
          "execution_count": 6
        }
      ]
    },
    {
      "cell_type": "code",
      "metadata": {
        "id": "1r2ejyr3Jb0U",
        "colab_type": "code",
        "colab": {}
      },
      "source": [
        "# Creating the predictor variable and target variable matrix\n",
        "X=heart_disease.drop('target',axis=1)\n",
        "y=heart_disease['target']"
      ],
      "execution_count": 0,
      "outputs": []
    },
    {
      "cell_type": "code",
      "metadata": {
        "id": "rH71f4mnMzu6",
        "colab_type": "code",
        "outputId": "87da532d-ea48-41b7-d5b2-41e4a51fe135",
        "colab": {
          "base_uri": "https://localhost:8080/",
          "height": 34
        }
      },
      "source": [
        "#checkinng the shape of the predictor and target variables\n",
        "X.shape,y.shape"
      ],
      "execution_count": 0,
      "outputs": [
        {
          "output_type": "execute_result",
          "data": {
            "text/plain": [
              "((303, 13), (303,))"
            ]
          },
          "metadata": {
            "tags": []
          },
          "execution_count": 16
        }
      ]
    },
    {
      "cell_type": "markdown",
      "metadata": {
        "id": "ZWaajgG2J35i",
        "colab_type": "text"
      },
      "source": [
        "#2 Choosing the right model and hyperparameters"
      ]
    },
    {
      "cell_type": "code",
      "metadata": {
        "id": "KUjk2_LMKP-T",
        "colab_type": "code",
        "outputId": "3295c739-f00c-4d48-d5b1-b67b20324c38",
        "colab": {
          "base_uri": "https://localhost:8080/",
          "height": 153
        }
      },
      "source": [
        "from sklearn.ensemble import RandomForestClassifier\n",
        "clf = RandomForestClassifier()\n",
        "\n",
        "#checking the default parameters\n",
        "clf.get_params"
      ],
      "execution_count": 0,
      "outputs": [
        {
          "output_type": "execute_result",
          "data": {
            "text/plain": [
              "<bound method BaseEstimator.get_params of RandomForestClassifier(bootstrap=True, ccp_alpha=0.0, class_weight=None,\n",
              "                       criterion='gini', max_depth=None, max_features='auto',\n",
              "                       max_leaf_nodes=None, max_samples=None,\n",
              "                       min_impurity_decrease=0.0, min_impurity_split=None,\n",
              "                       min_samples_leaf=1, min_samples_split=2,\n",
              "                       min_weight_fraction_leaf=0.0, n_estimators=100,\n",
              "                       n_jobs=None, oob_score=False, random_state=None,\n",
              "                       verbose=0, warm_start=False)>"
            ]
          },
          "metadata": {
            "tags": []
          },
          "execution_count": 12
        }
      ]
    },
    {
      "cell_type": "code",
      "metadata": {
        "id": "v7V_RF39K5ys",
        "colab_type": "code",
        "outputId": "85dc35fc-62dd-4556-b366-3a92b7a1a992",
        "colab": {
          "base_uri": "https://localhost:8080/",
          "height": 180
        }
      },
      "source": [
        "#3 Assigining observations to testing and training datasets\n",
        "from sklearn.model_selection import train_test_split\n",
        "X_train,X_test,y_train,y_test = train_test_split(X,y,test_size=0.2,random_state=0)"
      ],
      "execution_count": 0,
      "outputs": [
        {
          "output_type": "error",
          "ename": "NameError",
          "evalue": "ignored",
          "traceback": [
            "\u001b[0;31m---------------------------------------------------------------------------\u001b[0m",
            "\u001b[0;31mNameError\u001b[0m                                 Traceback (most recent call last)",
            "\u001b[0;32m<ipython-input-16-578e49168f6a>\u001b[0m in \u001b[0;36m<module>\u001b[0;34m()\u001b[0m\n\u001b[1;32m      1\u001b[0m \u001b[0;32mfrom\u001b[0m \u001b[0msklearn\u001b[0m\u001b[0;34m.\u001b[0m\u001b[0mmodel_selection\u001b[0m \u001b[0;32mimport\u001b[0m \u001b[0mtrain_test_split\u001b[0m\u001b[0;34m\u001b[0m\u001b[0;34m\u001b[0m\u001b[0m\n\u001b[0;32m----> 2\u001b[0;31m \u001b[0mX_train\u001b[0m\u001b[0;34m,\u001b[0m\u001b[0mX_test\u001b[0m\u001b[0;34m,\u001b[0m\u001b[0my_train\u001b[0m\u001b[0;34m,\u001b[0m\u001b[0my_test\u001b[0m \u001b[0;34m=\u001b[0m \u001b[0mtrain_test_split\u001b[0m\u001b[0;34m(\u001b[0m\u001b[0mX\u001b[0m\u001b[0;34m,\u001b[0m\u001b[0my\u001b[0m\u001b[0;34m,\u001b[0m\u001b[0mtest_size\u001b[0m\u001b[0;34m=\u001b[0m\u001b[0;36m0.2\u001b[0m\u001b[0;34m,\u001b[0m\u001b[0mrandom_state\u001b[0m\u001b[0;34m=\u001b[0m\u001b[0;36m0\u001b[0m\u001b[0;34m)\u001b[0m\u001b[0;34m\u001b[0m\u001b[0;34m\u001b[0m\u001b[0m\n\u001b[0m",
            "\u001b[0;31mNameError\u001b[0m: name 'X' is not defined"
          ]
        }
      ]
    },
    {
      "cell_type": "code",
      "metadata": {
        "id": "kEQJP2ULNAvM",
        "colab_type": "code",
        "outputId": "ee32c92d-274c-4bb3-bf2b-4ceee912cacf",
        "colab": {
          "base_uri": "https://localhost:8080/",
          "height": 34
        }
      },
      "source": [
        "X_train.shape,X_test.shape,y_train.shape,y_test.shape"
      ],
      "execution_count": 0,
      "outputs": [
        {
          "output_type": "execute_result",
          "data": {
            "text/plain": [
              "((242, 13), (61, 13), (242,), (61,))"
            ]
          },
          "metadata": {
            "tags": []
          },
          "execution_count": 17
        }
      ]
    },
    {
      "cell_type": "code",
      "metadata": {
        "id": "m5cMvBxdMMx6",
        "colab_type": "code",
        "colab": {}
      },
      "source": [
        "#fitting the data to the model\n",
        "clf.fit(X_train,y_train);"
      ],
      "execution_count": 0,
      "outputs": []
    },
    {
      "cell_type": "code",
      "metadata": {
        "id": "i9YfKz1JMq2m",
        "colab_type": "code",
        "colab": {}
      },
      "source": [
        "#make predictions\n",
        "y_preds = clf.predict(X_test)"
      ],
      "execution_count": 0,
      "outputs": []
    },
    {
      "cell_type": "code",
      "metadata": {
        "id": "En3ZkPKfNr5a",
        "colab_type": "code",
        "outputId": "bb2ae810-d30e-480b-8730-1416eef339bd",
        "colab": {
          "base_uri": "https://localhost:8080/",
          "height": 858
        }
      },
      "source": [
        "#Actual vs predictions\n",
        "Check=pd.DataFrame({'Actual':y_test,'Prediction':y_preds})\n",
        "Check.head(25)"
      ],
      "execution_count": 0,
      "outputs": [
        {
          "output_type": "stream",
          "text": [
            "ERROR! Session/line number was not unique in "
          ],
          "name": "stdout"
        },
        {
          "output_type": "execute_result",
          "data": {
            "text/html": [
              "<div>\n",
              "<style scoped>\n",
              "    .dataframe tbody tr th:only-of-type {\n",
              "        vertical-align: middle;\n",
              "    }\n",
              "\n",
              "    .dataframe tbody tr th {\n",
              "        vertical-align: top;\n",
              "    }\n",
              "\n",
              "    .dataframe thead th {\n",
              "        text-align: right;\n",
              "    }\n",
              "</style>\n",
              "<table border=\"1\" class=\"dataframe\">\n",
              "  <thead>\n",
              "    <tr style=\"text-align: right;\">\n",
              "      <th></th>\n",
              "      <th>Actual</th>\n",
              "      <th>Prediction</th>\n",
              "    </tr>\n",
              "  </thead>\n",
              "  <tbody>\n",
              "    <tr>\n",
              "      <th>225</th>\n",
              "      <td>0</td>\n",
              "      <td>0</td>\n",
              "    </tr>\n",
              "    <tr>\n",
              "      <th>152</th>\n",
              "      <td>1</td>\n",
              "      <td>1</td>\n",
              "    </tr>\n",
              "    <tr>\n",
              "      <th>228</th>\n",
              "      <td>0</td>\n",
              "      <td>1</td>\n",
              "    </tr>\n",
              "    <tr>\n",
              "      <th>201</th>\n",
              "      <td>0</td>\n",
              "      <td>0</td>\n",
              "    </tr>\n",
              "    <tr>\n",
              "      <th>52</th>\n",
              "      <td>1</td>\n",
              "      <td>0</td>\n",
              "    </tr>\n",
              "    <tr>\n",
              "      <th>245</th>\n",
              "      <td>0</td>\n",
              "      <td>1</td>\n",
              "    </tr>\n",
              "    <tr>\n",
              "      <th>175</th>\n",
              "      <td>0</td>\n",
              "      <td>0</td>\n",
              "    </tr>\n",
              "    <tr>\n",
              "      <th>168</th>\n",
              "      <td>0</td>\n",
              "      <td>0</td>\n",
              "    </tr>\n",
              "    <tr>\n",
              "      <th>223</th>\n",
              "      <td>0</td>\n",
              "      <td>0</td>\n",
              "    </tr>\n",
              "    <tr>\n",
              "      <th>217</th>\n",
              "      <td>0</td>\n",
              "      <td>0</td>\n",
              "    </tr>\n",
              "    <tr>\n",
              "      <th>111</th>\n",
              "      <td>1</td>\n",
              "      <td>1</td>\n",
              "    </tr>\n",
              "    <tr>\n",
              "      <th>135</th>\n",
              "      <td>1</td>\n",
              "      <td>1</td>\n",
              "    </tr>\n",
              "    <tr>\n",
              "      <th>218</th>\n",
              "      <td>0</td>\n",
              "      <td>0</td>\n",
              "    </tr>\n",
              "    <tr>\n",
              "      <th>12</th>\n",
              "      <td>1</td>\n",
              "      <td>1</td>\n",
              "    </tr>\n",
              "    <tr>\n",
              "      <th>15</th>\n",
              "      <td>1</td>\n",
              "      <td>1</td>\n",
              "    </tr>\n",
              "    <tr>\n",
              "      <th>66</th>\n",
              "      <td>1</td>\n",
              "      <td>1</td>\n",
              "    </tr>\n",
              "    <tr>\n",
              "      <th>97</th>\n",
              "      <td>1</td>\n",
              "      <td>0</td>\n",
              "    </tr>\n",
              "    <tr>\n",
              "      <th>90</th>\n",
              "      <td>1</td>\n",
              "      <td>1</td>\n",
              "    </tr>\n",
              "    <tr>\n",
              "      <th>198</th>\n",
              "      <td>0</td>\n",
              "      <td>0</td>\n",
              "    </tr>\n",
              "    <tr>\n",
              "      <th>103</th>\n",
              "      <td>1</td>\n",
              "      <td>1</td>\n",
              "    </tr>\n",
              "    <tr>\n",
              "      <th>22</th>\n",
              "      <td>1</td>\n",
              "      <td>1</td>\n",
              "    </tr>\n",
              "    <tr>\n",
              "      <th>212</th>\n",
              "      <td>0</td>\n",
              "      <td>0</td>\n",
              "    </tr>\n",
              "    <tr>\n",
              "      <th>226</th>\n",
              "      <td>0</td>\n",
              "      <td>0</td>\n",
              "    </tr>\n",
              "    <tr>\n",
              "      <th>264</th>\n",
              "      <td>0</td>\n",
              "      <td>0</td>\n",
              "    </tr>\n",
              "    <tr>\n",
              "      <th>133</th>\n",
              "      <td>1</td>\n",
              "      <td>1</td>\n",
              "    </tr>\n",
              "  </tbody>\n",
              "</table>\n",
              "</div>"
            ],
            "text/plain": [
              "     Actual  Prediction\n",
              "225       0           0\n",
              "152       1           1\n",
              "228       0           1\n",
              "201       0           0\n",
              "52        1           0\n",
              "245       0           1\n",
              "175       0           0\n",
              "168       0           0\n",
              "223       0           0\n",
              "217       0           0\n",
              "111       1           1\n",
              "135       1           1\n",
              "218       0           0\n",
              "12        1           1\n",
              "15        1           1\n",
              "66        1           1\n",
              "97        1           0\n",
              "90        1           1\n",
              "198       0           0\n",
              "103       1           1\n",
              "22        1           1\n",
              "212       0           0\n",
              "226       0           0\n",
              "264       0           0\n",
              "133       1           1"
            ]
          },
          "metadata": {
            "tags": []
          },
          "execution_count": 19
        },
        {
          "output_type": "stream",
          "text": [
            "database. History logging moved to new session 60\n"
          ],
          "name": "stdout"
        }
      ]
    },
    {
      "cell_type": "code",
      "metadata": {
        "id": "YzHzHgduPXQY",
        "colab_type": "code",
        "outputId": "ded69230-ffca-4b71-bb0e-5bf28e307c50",
        "colab": {
          "base_uri": "https://localhost:8080/",
          "height": 34
        }
      },
      "source": [
        "clf.score(X_train,y_train)"
      ],
      "execution_count": 0,
      "outputs": [
        {
          "output_type": "execute_result",
          "data": {
            "text/plain": [
              "1.0"
            ]
          },
          "metadata": {
            "tags": []
          },
          "execution_count": 20
        }
      ]
    },
    {
      "cell_type": "code",
      "metadata": {
        "id": "jhl4QdHhPn1m",
        "colab_type": "code",
        "outputId": "f2b68865-1bea-4847-86db-a7f5bd28ecdb",
        "colab": {
          "base_uri": "https://localhost:8080/",
          "height": 34
        }
      },
      "source": [
        "clf.score(X_test,y_test)"
      ],
      "execution_count": 0,
      "outputs": [
        {
          "output_type": "execute_result",
          "data": {
            "text/plain": [
              "0.8688524590163934"
            ]
          },
          "metadata": {
            "tags": []
          },
          "execution_count": 21
        }
      ]
    },
    {
      "cell_type": "code",
      "metadata": {
        "id": "edrqvPSjPuLS",
        "colab_type": "code",
        "outputId": "5dc6b207-281d-4652-a101-c4d6755761bf",
        "colab": {
          "base_uri": "https://localhost:8080/",
          "height": 170
        }
      },
      "source": [
        "# import and test the accuracy metrics ofthe model\n",
        "from sklearn.metrics import classification_report, confusion_matrix, accuracy_score\n",
        "print(classification_report(y_test,y_preds))"
      ],
      "execution_count": 0,
      "outputs": [
        {
          "output_type": "stream",
          "text": [
            "              precision    recall  f1-score   support\n",
            "\n",
            "           0       0.88      0.81      0.85        27\n",
            "           1       0.86      0.91      0.89        34\n",
            "\n",
            "    accuracy                           0.87        61\n",
            "   macro avg       0.87      0.86      0.87        61\n",
            "weighted avg       0.87      0.87      0.87        61\n",
            "\n"
          ],
          "name": "stdout"
        }
      ]
    },
    {
      "cell_type": "code",
      "metadata": {
        "id": "vBy1tXoAQnNR",
        "colab_type": "code",
        "outputId": "c0ce3c6c-e1e0-48a8-8664-69e563afb088",
        "colab": {
          "base_uri": "https://localhost:8080/",
          "height": 51
        }
      },
      "source": [
        "print(confusion_matrix(y_test,y_preds))"
      ],
      "execution_count": 0,
      "outputs": [
        {
          "output_type": "stream",
          "text": [
            "[[22  5]\n",
            " [ 3 31]]\n"
          ],
          "name": "stdout"
        }
      ]
    },
    {
      "cell_type": "code",
      "metadata": {
        "id": "WCJowK4aQ093",
        "colab_type": "code",
        "outputId": "5a7d3323-d7de-438c-ca2f-fd9ce0e452a5",
        "colab": {
          "base_uri": "https://localhost:8080/",
          "height": 51
        }
      },
      "source": [
        "print('accuracy:%.2f' %accuracy_score(y_test,y_preds))"
      ],
      "execution_count": 0,
      "outputs": [
        {
          "output_type": "stream",
          "text": [
            "accuracy:0.87\n",
            "ERROR! Session/line number was not unique in database. History logging moved to new session 62\n"
          ],
          "name": "stdout"
        }
      ]
    },
    {
      "cell_type": "code",
      "metadata": {
        "id": "Qxe7av6YRiZy",
        "colab_type": "code",
        "outputId": "11a39d6e-ec0e-473a-c18a-6356b404f08c",
        "colab": {
          "base_uri": "https://localhost:8080/",
          "height": 476
        }
      },
      "source": [
        "# Improve the model\n",
        "# Trying different n_estimators\n",
        "np.random.seed(42)\n",
        "for i in range(10,100,10):\n",
        "  print(f'Trying model with {i} estimators')\n",
        "  clf = RandomForestClassifier(n_estimators=i).fit(X_train,y_train)\n",
        "  print(f'Model accuracy on test set:{clf.score(X_test,y_test)*100:.2f}%')\n",
        "  print(' ')"
      ],
      "execution_count": 0,
      "outputs": [
        {
          "output_type": "stream",
          "text": [
            "Trying model with 10 estimators\n",
            "Model accuracy on test set:81.97%\n",
            " \n",
            "Trying model with 20 estimators\n",
            "Model accuracy on test set:80.33%\n",
            " \n",
            "Trying model with 30 estimators\n",
            "Model accuracy on test set:81.97%\n",
            " \n",
            "Trying model with 40 estimators\n",
            "Model accuracy on test set:85.25%\n",
            " \n",
            "Trying model with 50 estimators\n",
            "Model accuracy on test set:90.16%\n",
            " \n",
            "Trying model with 60 estimators\n",
            "Model accuracy on test set:83.61%\n",
            " \n",
            "Trying model with 70 estimators\n",
            "Model accuracy on test set:83.61%\n",
            " \n",
            "Trying model with 80 estimators\n",
            "Model accuracy on test set:88.52%\n",
            " \n",
            "Trying model with 90 estimators\n",
            "Model accuracy on test set:86.89%\n",
            " \n"
          ],
          "name": "stdout"
        }
      ]
    },
    {
      "cell_type": "code",
      "metadata": {
        "id": "GPt-TjZcstgH",
        "colab_type": "code",
        "colab": {}
      },
      "source": [
        "#saving a model\n",
        "import pickle\n",
        "pickle.dump(clf,open('random_forest_model_1.pkl','wb'))"
      ],
      "execution_count": 0,
      "outputs": []
    },
    {
      "cell_type": "code",
      "metadata": {
        "id": "oaABYTzTtBOs",
        "colab_type": "code",
        "outputId": "d4494d25-c41f-4724-805f-75a31b5dbcf0",
        "colab": {
          "base_uri": "https://localhost:8080/",
          "height": 34
        }
      },
      "source": [
        "#loading the model\n",
        "loaded_model = pickle.load(open('random_forest_model_1.pkl','rb'))\n",
        "print(f'loaded model acccuracy:{loaded_model.score(X_test,y_test)*100 :.2f}%');"
      ],
      "execution_count": 0,
      "outputs": [
        {
          "output_type": "stream",
          "text": [
            "loaded model acccuracy:86.89%\n"
          ],
          "name": "stdout"
        }
      ]
    },
    {
      "cell_type": "code",
      "metadata": {
        "id": "kHIGOt2p7XUI",
        "colab_type": "code",
        "outputId": "47ee0511-e261-4cb4-9a18-61c832cbe5d7",
        "colab": {
          "base_uri": "https://localhost:8080/",
          "height": 204
        }
      },
      "source": [
        "#loading car sales dataset\n",
        "car_sales = pd.read_csv('car-sales-extended.csv')\n",
        "car_sales.head()"
      ],
      "execution_count": 0,
      "outputs": [
        {
          "output_type": "execute_result",
          "data": {
            "text/html": [
              "<div>\n",
              "<style scoped>\n",
              "    .dataframe tbody tr th:only-of-type {\n",
              "        vertical-align: middle;\n",
              "    }\n",
              "\n",
              "    .dataframe tbody tr th {\n",
              "        vertical-align: top;\n",
              "    }\n",
              "\n",
              "    .dataframe thead th {\n",
              "        text-align: right;\n",
              "    }\n",
              "</style>\n",
              "<table border=\"1\" class=\"dataframe\">\n",
              "  <thead>\n",
              "    <tr style=\"text-align: right;\">\n",
              "      <th></th>\n",
              "      <th>Make</th>\n",
              "      <th>Colour</th>\n",
              "      <th>Odometer (KM)</th>\n",
              "      <th>Doors</th>\n",
              "      <th>Price</th>\n",
              "    </tr>\n",
              "  </thead>\n",
              "  <tbody>\n",
              "    <tr>\n",
              "      <th>0</th>\n",
              "      <td>Honda</td>\n",
              "      <td>White</td>\n",
              "      <td>35431</td>\n",
              "      <td>4</td>\n",
              "      <td>15323</td>\n",
              "    </tr>\n",
              "    <tr>\n",
              "      <th>1</th>\n",
              "      <td>BMW</td>\n",
              "      <td>Blue</td>\n",
              "      <td>192714</td>\n",
              "      <td>5</td>\n",
              "      <td>19943</td>\n",
              "    </tr>\n",
              "    <tr>\n",
              "      <th>2</th>\n",
              "      <td>Honda</td>\n",
              "      <td>White</td>\n",
              "      <td>84714</td>\n",
              "      <td>4</td>\n",
              "      <td>28343</td>\n",
              "    </tr>\n",
              "    <tr>\n",
              "      <th>3</th>\n",
              "      <td>Toyota</td>\n",
              "      <td>White</td>\n",
              "      <td>154365</td>\n",
              "      <td>4</td>\n",
              "      <td>13434</td>\n",
              "    </tr>\n",
              "    <tr>\n",
              "      <th>4</th>\n",
              "      <td>Nissan</td>\n",
              "      <td>Blue</td>\n",
              "      <td>181577</td>\n",
              "      <td>3</td>\n",
              "      <td>14043</td>\n",
              "    </tr>\n",
              "  </tbody>\n",
              "</table>\n",
              "</div>"
            ],
            "text/plain": [
              "     Make Colour  Odometer (KM)  Doors  Price\n",
              "0   Honda  White          35431      4  15323\n",
              "1     BMW   Blue         192714      5  19943\n",
              "2   Honda  White          84714      4  28343\n",
              "3  Toyota  White         154365      4  13434\n",
              "4  Nissan   Blue         181577      3  14043"
            ]
          },
          "metadata": {
            "tags": []
          },
          "execution_count": 8
        }
      ]
    },
    {
      "cell_type": "code",
      "metadata": {
        "id": "Z1c5lwTS7w28",
        "colab_type": "code",
        "outputId": "793f7b10-1987-4d4c-c59c-22ed3c5a5f42",
        "colab": {
          "base_uri": "https://localhost:8080/",
          "height": 34
        }
      },
      "source": [
        "car_sales.shape"
      ],
      "execution_count": 0,
      "outputs": [
        {
          "output_type": "execute_result",
          "data": {
            "text/plain": [
              "(1000, 5)"
            ]
          },
          "metadata": {
            "tags": []
          },
          "execution_count": 9
        }
      ]
    },
    {
      "cell_type": "code",
      "metadata": {
        "id": "0rDQO4Yq8aVo",
        "colab_type": "code",
        "colab": {}
      },
      "source": [
        "from sklearn.model_selection import train_test_split\n",
        "#splitting data into training and test sets\n",
        "X = car_sales.drop('Price',axis=1)\n",
        "y = car_sales['Price']\n",
        "\n",
        "X_train,X_test,y_train,y_test = train_test_split(X,y,test_size=0.2,random_state=0)"
      ],
      "execution_count": 0,
      "outputs": []
    },
    {
      "cell_type": "code",
      "metadata": {
        "id": "HxUO4DHf9Rcv",
        "colab_type": "code",
        "outputId": "165dd3d7-dc1b-4321-ece0-f61336f3be2f",
        "colab": {
          "base_uri": "https://localhost:8080/",
          "height": 357
        }
      },
      "source": [
        "#Building a ML Model\n",
        "from sklearn.ensemble import RandomForestRegressor\n",
        "model = RandomForestRegressor()\n",
        "model.fit(X_train,y_train)\n",
        "model.score(X_test,y_test)"
      ],
      "execution_count": 0,
      "outputs": [
        {
          "output_type": "error",
          "ename": "ValueError",
          "evalue": "ignored",
          "traceback": [
            "\u001b[0;31m---------------------------------------------------------------------------\u001b[0m",
            "\u001b[0;31mValueError\u001b[0m                                Traceback (most recent call last)",
            "\u001b[0;32m<ipython-input-12-6693d2ed8bee>\u001b[0m in \u001b[0;36m<module>\u001b[0;34m()\u001b[0m\n\u001b[1;32m      1\u001b[0m \u001b[0;32mfrom\u001b[0m \u001b[0msklearn\u001b[0m\u001b[0;34m.\u001b[0m\u001b[0mensemble\u001b[0m \u001b[0;32mimport\u001b[0m \u001b[0mRandomForestRegressor\u001b[0m\u001b[0;34m\u001b[0m\u001b[0;34m\u001b[0m\u001b[0m\n\u001b[1;32m      2\u001b[0m \u001b[0mmodel\u001b[0m \u001b[0;34m=\u001b[0m \u001b[0mRandomForestRegressor\u001b[0m\u001b[0;34m(\u001b[0m\u001b[0;34m)\u001b[0m\u001b[0;34m\u001b[0m\u001b[0;34m\u001b[0m\u001b[0m\n\u001b[0;32m----> 3\u001b[0;31m \u001b[0mmodel\u001b[0m\u001b[0;34m.\u001b[0m\u001b[0mfit\u001b[0m\u001b[0;34m(\u001b[0m\u001b[0mX_train\u001b[0m\u001b[0;34m,\u001b[0m\u001b[0my_train\u001b[0m\u001b[0;34m)\u001b[0m\u001b[0;34m\u001b[0m\u001b[0;34m\u001b[0m\u001b[0m\n\u001b[0m\u001b[1;32m      4\u001b[0m \u001b[0mmodel\u001b[0m\u001b[0;34m.\u001b[0m\u001b[0mscore\u001b[0m\u001b[0;34m(\u001b[0m\u001b[0mX_test\u001b[0m\u001b[0;34m,\u001b[0m\u001b[0my_test\u001b[0m\u001b[0;34m)\u001b[0m\u001b[0;34m\u001b[0m\u001b[0;34m\u001b[0m\u001b[0m\n",
            "\u001b[0;32m/usr/local/lib/python3.6/dist-packages/sklearn/ensemble/_forest.py\u001b[0m in \u001b[0;36mfit\u001b[0;34m(self, X, y, sample_weight)\u001b[0m\n\u001b[1;32m    293\u001b[0m         \"\"\"\n\u001b[1;32m    294\u001b[0m         \u001b[0;31m# Validate or convert input data\u001b[0m\u001b[0;34m\u001b[0m\u001b[0;34m\u001b[0m\u001b[0;34m\u001b[0m\u001b[0m\n\u001b[0;32m--> 295\u001b[0;31m         \u001b[0mX\u001b[0m \u001b[0;34m=\u001b[0m \u001b[0mcheck_array\u001b[0m\u001b[0;34m(\u001b[0m\u001b[0mX\u001b[0m\u001b[0;34m,\u001b[0m \u001b[0maccept_sparse\u001b[0m\u001b[0;34m=\u001b[0m\u001b[0;34m\"csc\"\u001b[0m\u001b[0;34m,\u001b[0m \u001b[0mdtype\u001b[0m\u001b[0;34m=\u001b[0m\u001b[0mDTYPE\u001b[0m\u001b[0;34m)\u001b[0m\u001b[0;34m\u001b[0m\u001b[0;34m\u001b[0m\u001b[0m\n\u001b[0m\u001b[1;32m    296\u001b[0m         \u001b[0my\u001b[0m \u001b[0;34m=\u001b[0m \u001b[0mcheck_array\u001b[0m\u001b[0;34m(\u001b[0m\u001b[0my\u001b[0m\u001b[0;34m,\u001b[0m \u001b[0maccept_sparse\u001b[0m\u001b[0;34m=\u001b[0m\u001b[0;34m'csc'\u001b[0m\u001b[0;34m,\u001b[0m \u001b[0mensure_2d\u001b[0m\u001b[0;34m=\u001b[0m\u001b[0;32mFalse\u001b[0m\u001b[0;34m,\u001b[0m \u001b[0mdtype\u001b[0m\u001b[0;34m=\u001b[0m\u001b[0;32mNone\u001b[0m\u001b[0;34m)\u001b[0m\u001b[0;34m\u001b[0m\u001b[0;34m\u001b[0m\u001b[0m\n\u001b[1;32m    297\u001b[0m         \u001b[0;32mif\u001b[0m \u001b[0msample_weight\u001b[0m \u001b[0;32mis\u001b[0m \u001b[0;32mnot\u001b[0m \u001b[0;32mNone\u001b[0m\u001b[0;34m:\u001b[0m\u001b[0;34m\u001b[0m\u001b[0;34m\u001b[0m\u001b[0m\n",
            "\u001b[0;32m/usr/local/lib/python3.6/dist-packages/sklearn/utils/validation.py\u001b[0m in \u001b[0;36mcheck_array\u001b[0;34m(array, accept_sparse, accept_large_sparse, dtype, order, copy, force_all_finite, ensure_2d, allow_nd, ensure_min_samples, ensure_min_features, warn_on_dtype, estimator)\u001b[0m\n\u001b[1;32m    529\u001b[0m                     \u001b[0marray\u001b[0m \u001b[0;34m=\u001b[0m \u001b[0marray\u001b[0m\u001b[0;34m.\u001b[0m\u001b[0mastype\u001b[0m\u001b[0;34m(\u001b[0m\u001b[0mdtype\u001b[0m\u001b[0;34m,\u001b[0m \u001b[0mcasting\u001b[0m\u001b[0;34m=\u001b[0m\u001b[0;34m\"unsafe\"\u001b[0m\u001b[0;34m,\u001b[0m \u001b[0mcopy\u001b[0m\u001b[0;34m=\u001b[0m\u001b[0;32mFalse\u001b[0m\u001b[0;34m)\u001b[0m\u001b[0;34m\u001b[0m\u001b[0;34m\u001b[0m\u001b[0m\n\u001b[1;32m    530\u001b[0m                 \u001b[0;32melse\u001b[0m\u001b[0;34m:\u001b[0m\u001b[0;34m\u001b[0m\u001b[0;34m\u001b[0m\u001b[0m\n\u001b[0;32m--> 531\u001b[0;31m                     \u001b[0marray\u001b[0m \u001b[0;34m=\u001b[0m \u001b[0mnp\u001b[0m\u001b[0;34m.\u001b[0m\u001b[0masarray\u001b[0m\u001b[0;34m(\u001b[0m\u001b[0marray\u001b[0m\u001b[0;34m,\u001b[0m \u001b[0morder\u001b[0m\u001b[0;34m=\u001b[0m\u001b[0morder\u001b[0m\u001b[0;34m,\u001b[0m \u001b[0mdtype\u001b[0m\u001b[0;34m=\u001b[0m\u001b[0mdtype\u001b[0m\u001b[0;34m)\u001b[0m\u001b[0;34m\u001b[0m\u001b[0;34m\u001b[0m\u001b[0m\n\u001b[0m\u001b[1;32m    532\u001b[0m             \u001b[0;32mexcept\u001b[0m \u001b[0mComplexWarning\u001b[0m\u001b[0;34m:\u001b[0m\u001b[0;34m\u001b[0m\u001b[0;34m\u001b[0m\u001b[0m\n\u001b[1;32m    533\u001b[0m                 raise ValueError(\"Complex data not supported\\n\"\n",
            "\u001b[0;32m/usr/local/lib/python3.6/dist-packages/numpy/core/_asarray.py\u001b[0m in \u001b[0;36masarray\u001b[0;34m(a, dtype, order)\u001b[0m\n\u001b[1;32m     83\u001b[0m \u001b[0;34m\u001b[0m\u001b[0m\n\u001b[1;32m     84\u001b[0m     \"\"\"\n\u001b[0;32m---> 85\u001b[0;31m     \u001b[0;32mreturn\u001b[0m \u001b[0marray\u001b[0m\u001b[0;34m(\u001b[0m\u001b[0ma\u001b[0m\u001b[0;34m,\u001b[0m \u001b[0mdtype\u001b[0m\u001b[0;34m,\u001b[0m \u001b[0mcopy\u001b[0m\u001b[0;34m=\u001b[0m\u001b[0;32mFalse\u001b[0m\u001b[0;34m,\u001b[0m \u001b[0morder\u001b[0m\u001b[0;34m=\u001b[0m\u001b[0morder\u001b[0m\u001b[0;34m)\u001b[0m\u001b[0;34m\u001b[0m\u001b[0;34m\u001b[0m\u001b[0m\n\u001b[0m\u001b[1;32m     86\u001b[0m \u001b[0;34m\u001b[0m\u001b[0m\n\u001b[1;32m     87\u001b[0m \u001b[0;34m\u001b[0m\u001b[0m\n",
            "\u001b[0;31mValueError\u001b[0m: could not convert string to float: 'Honda'"
          ]
        }
      ]
    },
    {
      "cell_type": "code",
      "metadata": {
        "id": "zZ57yrGF95Iz",
        "colab_type": "code",
        "colab": {}
      },
      "source": [
        "from sklearn.preprocessing import OneHotEncoder\n",
        "from sklearn.compose import ColumnTransformer\n",
        "\n",
        "categorical_features = ['Make','Colour','Doors']\n",
        "one_hot = OneHotEncoder()\n",
        "transformer = ColumnTransformer([('one_hot',one_hot,categorical_features)],remainder='passthrough')"
      ],
      "execution_count": 0,
      "outputs": []
    },
    {
      "cell_type": "code",
      "metadata": {
        "id": "1pzvwhtvHUt7",
        "colab_type": "code",
        "outputId": "96fafa3c-08b3-4e73-cd90-ef06c5fbcd0f",
        "colab": {
          "base_uri": "https://localhost:8080/",
          "height": 272
        }
      },
      "source": [
        "transformed_X = transformer.fit_transform(X)\n",
        "transformed_X[:5]"
      ],
      "execution_count": 0,
      "outputs": [
        {
          "output_type": "execute_result",
          "data": {
            "text/plain": [
              "array([[0.00000e+00, 1.00000e+00, 0.00000e+00, 0.00000e+00, 0.00000e+00,\n",
              "        0.00000e+00, 0.00000e+00, 0.00000e+00, 1.00000e+00, 0.00000e+00,\n",
              "        1.00000e+00, 0.00000e+00, 3.54310e+04],\n",
              "       [1.00000e+00, 0.00000e+00, 0.00000e+00, 0.00000e+00, 0.00000e+00,\n",
              "        1.00000e+00, 0.00000e+00, 0.00000e+00, 0.00000e+00, 0.00000e+00,\n",
              "        0.00000e+00, 1.00000e+00, 1.92714e+05],\n",
              "       [0.00000e+00, 1.00000e+00, 0.00000e+00, 0.00000e+00, 0.00000e+00,\n",
              "        0.00000e+00, 0.00000e+00, 0.00000e+00, 1.00000e+00, 0.00000e+00,\n",
              "        1.00000e+00, 0.00000e+00, 8.47140e+04],\n",
              "       [0.00000e+00, 0.00000e+00, 0.00000e+00, 1.00000e+00, 0.00000e+00,\n",
              "        0.00000e+00, 0.00000e+00, 0.00000e+00, 1.00000e+00, 0.00000e+00,\n",
              "        1.00000e+00, 0.00000e+00, 1.54365e+05],\n",
              "       [0.00000e+00, 0.00000e+00, 1.00000e+00, 0.00000e+00, 0.00000e+00,\n",
              "        1.00000e+00, 0.00000e+00, 0.00000e+00, 0.00000e+00, 1.00000e+00,\n",
              "        0.00000e+00, 0.00000e+00, 1.81577e+05]])"
            ]
          },
          "metadata": {
            "tags": []
          },
          "execution_count": 19
        }
      ]
    },
    {
      "cell_type": "code",
      "metadata": {
        "id": "ksB5fhbVIWhm",
        "colab_type": "code",
        "outputId": "723505c5-cd2b-4d09-862e-7cb709c71898",
        "colab": {
          "base_uri": "https://localhost:8080/",
          "height": 34
        }
      },
      "source": [
        "transformed_X.shape"
      ],
      "execution_count": 0,
      "outputs": [
        {
          "output_type": "execute_result",
          "data": {
            "text/plain": [
              "(1000, 13)"
            ]
          },
          "metadata": {
            "tags": []
          },
          "execution_count": 20
        }
      ]
    },
    {
      "cell_type": "code",
      "metadata": {
        "id": "ciQeKtweLJ5r",
        "colab_type": "code",
        "outputId": "7c1d83fe-320f-47a0-dd42-730aadd43ee3",
        "colab": {
          "base_uri": "https://localhost:8080/",
          "height": 419
        }
      },
      "source": [
        "#another way to transform categorical data\n",
        "dummies = pd.get_dummies(car_sales[['Make','Colour','Doors']])\n",
        "dummies"
      ],
      "execution_count": 0,
      "outputs": [
        {
          "output_type": "execute_result",
          "data": {
            "text/html": [
              "<div>\n",
              "<style scoped>\n",
              "    .dataframe tbody tr th:only-of-type {\n",
              "        vertical-align: middle;\n",
              "    }\n",
              "\n",
              "    .dataframe tbody tr th {\n",
              "        vertical-align: top;\n",
              "    }\n",
              "\n",
              "    .dataframe thead th {\n",
              "        text-align: right;\n",
              "    }\n",
              "</style>\n",
              "<table border=\"1\" class=\"dataframe\">\n",
              "  <thead>\n",
              "    <tr style=\"text-align: right;\">\n",
              "      <th></th>\n",
              "      <th>Doors</th>\n",
              "      <th>Make_BMW</th>\n",
              "      <th>Make_Honda</th>\n",
              "      <th>Make_Nissan</th>\n",
              "      <th>Make_Toyota</th>\n",
              "      <th>Colour_Black</th>\n",
              "      <th>Colour_Blue</th>\n",
              "      <th>Colour_Green</th>\n",
              "      <th>Colour_Red</th>\n",
              "      <th>Colour_White</th>\n",
              "    </tr>\n",
              "  </thead>\n",
              "  <tbody>\n",
              "    <tr>\n",
              "      <th>0</th>\n",
              "      <td>4</td>\n",
              "      <td>0</td>\n",
              "      <td>1</td>\n",
              "      <td>0</td>\n",
              "      <td>0</td>\n",
              "      <td>0</td>\n",
              "      <td>0</td>\n",
              "      <td>0</td>\n",
              "      <td>0</td>\n",
              "      <td>1</td>\n",
              "    </tr>\n",
              "    <tr>\n",
              "      <th>1</th>\n",
              "      <td>5</td>\n",
              "      <td>1</td>\n",
              "      <td>0</td>\n",
              "      <td>0</td>\n",
              "      <td>0</td>\n",
              "      <td>0</td>\n",
              "      <td>1</td>\n",
              "      <td>0</td>\n",
              "      <td>0</td>\n",
              "      <td>0</td>\n",
              "    </tr>\n",
              "    <tr>\n",
              "      <th>2</th>\n",
              "      <td>4</td>\n",
              "      <td>0</td>\n",
              "      <td>1</td>\n",
              "      <td>0</td>\n",
              "      <td>0</td>\n",
              "      <td>0</td>\n",
              "      <td>0</td>\n",
              "      <td>0</td>\n",
              "      <td>0</td>\n",
              "      <td>1</td>\n",
              "    </tr>\n",
              "    <tr>\n",
              "      <th>3</th>\n",
              "      <td>4</td>\n",
              "      <td>0</td>\n",
              "      <td>0</td>\n",
              "      <td>0</td>\n",
              "      <td>1</td>\n",
              "      <td>0</td>\n",
              "      <td>0</td>\n",
              "      <td>0</td>\n",
              "      <td>0</td>\n",
              "      <td>1</td>\n",
              "    </tr>\n",
              "    <tr>\n",
              "      <th>4</th>\n",
              "      <td>3</td>\n",
              "      <td>0</td>\n",
              "      <td>0</td>\n",
              "      <td>1</td>\n",
              "      <td>0</td>\n",
              "      <td>0</td>\n",
              "      <td>1</td>\n",
              "      <td>0</td>\n",
              "      <td>0</td>\n",
              "      <td>0</td>\n",
              "    </tr>\n",
              "    <tr>\n",
              "      <th>...</th>\n",
              "      <td>...</td>\n",
              "      <td>...</td>\n",
              "      <td>...</td>\n",
              "      <td>...</td>\n",
              "      <td>...</td>\n",
              "      <td>...</td>\n",
              "      <td>...</td>\n",
              "      <td>...</td>\n",
              "      <td>...</td>\n",
              "      <td>...</td>\n",
              "    </tr>\n",
              "    <tr>\n",
              "      <th>995</th>\n",
              "      <td>4</td>\n",
              "      <td>0</td>\n",
              "      <td>0</td>\n",
              "      <td>0</td>\n",
              "      <td>1</td>\n",
              "      <td>1</td>\n",
              "      <td>0</td>\n",
              "      <td>0</td>\n",
              "      <td>0</td>\n",
              "      <td>0</td>\n",
              "    </tr>\n",
              "    <tr>\n",
              "      <th>996</th>\n",
              "      <td>3</td>\n",
              "      <td>0</td>\n",
              "      <td>0</td>\n",
              "      <td>1</td>\n",
              "      <td>0</td>\n",
              "      <td>0</td>\n",
              "      <td>0</td>\n",
              "      <td>0</td>\n",
              "      <td>0</td>\n",
              "      <td>1</td>\n",
              "    </tr>\n",
              "    <tr>\n",
              "      <th>997</th>\n",
              "      <td>4</td>\n",
              "      <td>0</td>\n",
              "      <td>0</td>\n",
              "      <td>1</td>\n",
              "      <td>0</td>\n",
              "      <td>0</td>\n",
              "      <td>1</td>\n",
              "      <td>0</td>\n",
              "      <td>0</td>\n",
              "      <td>0</td>\n",
              "    </tr>\n",
              "    <tr>\n",
              "      <th>998</th>\n",
              "      <td>4</td>\n",
              "      <td>0</td>\n",
              "      <td>1</td>\n",
              "      <td>0</td>\n",
              "      <td>0</td>\n",
              "      <td>0</td>\n",
              "      <td>0</td>\n",
              "      <td>0</td>\n",
              "      <td>0</td>\n",
              "      <td>1</td>\n",
              "    </tr>\n",
              "    <tr>\n",
              "      <th>999</th>\n",
              "      <td>4</td>\n",
              "      <td>0</td>\n",
              "      <td>0</td>\n",
              "      <td>0</td>\n",
              "      <td>1</td>\n",
              "      <td>0</td>\n",
              "      <td>1</td>\n",
              "      <td>0</td>\n",
              "      <td>0</td>\n",
              "      <td>0</td>\n",
              "    </tr>\n",
              "  </tbody>\n",
              "</table>\n",
              "<p>1000 rows × 10 columns</p>\n",
              "</div>"
            ],
            "text/plain": [
              "     Doors  Make_BMW  Make_Honda  ...  Colour_Green  Colour_Red  Colour_White\n",
              "0        4         0           1  ...             0           0             1\n",
              "1        5         1           0  ...             0           0             0\n",
              "2        4         0           1  ...             0           0             1\n",
              "3        4         0           0  ...             0           0             1\n",
              "4        3         0           0  ...             0           0             0\n",
              "..     ...       ...         ...  ...           ...         ...           ...\n",
              "995      4         0           0  ...             0           0             0\n",
              "996      3         0           0  ...             0           0             1\n",
              "997      4         0           0  ...             0           0             0\n",
              "998      4         0           1  ...             0           0             1\n",
              "999      4         0           0  ...             0           0             0\n",
              "\n",
              "[1000 rows x 10 columns]"
            ]
          },
          "metadata": {
            "tags": []
          },
          "execution_count": 24
        }
      ]
    },
    {
      "cell_type": "code",
      "metadata": {
        "id": "Nn3Dreo2N8Fj",
        "colab_type": "code",
        "colab": {}
      },
      "source": [
        "#fitting the model again with transformed variables\n",
        "X_train,X_test,y_train,y_test = train_test_split(transformed_X,y,test_size=0.2,random_state=0)"
      ],
      "execution_count": 0,
      "outputs": []
    },
    {
      "cell_type": "code",
      "metadata": {
        "id": "N_a5gHcTOd7g",
        "colab_type": "code",
        "outputId": "0ab7063b-12f8-43e4-cb6b-67f18d46b4da",
        "colab": {
          "base_uri": "https://localhost:8080/",
          "height": 136
        }
      },
      "source": [
        "model.fit(X_train,y_train)"
      ],
      "execution_count": 0,
      "outputs": [
        {
          "output_type": "execute_result",
          "data": {
            "text/plain": [
              "RandomForestRegressor(bootstrap=True, ccp_alpha=0.0, criterion='mse',\n",
              "                      max_depth=None, max_features='auto', max_leaf_nodes=None,\n",
              "                      max_samples=None, min_impurity_decrease=0.0,\n",
              "                      min_impurity_split=None, min_samples_leaf=1,\n",
              "                      min_samples_split=2, min_weight_fraction_leaf=0.0,\n",
              "                      n_estimators=100, n_jobs=None, oob_score=False,\n",
              "                      random_state=None, verbose=0, warm_start=False)"
            ]
          },
          "metadata": {
            "tags": []
          },
          "execution_count": 26
        }
      ]
    },
    {
      "cell_type": "code",
      "metadata": {
        "id": "d_QU0uMaOlr-",
        "colab_type": "code",
        "outputId": "ff1fb5e5-2bbb-49a0-d93e-7da97d98b75e",
        "colab": {
          "base_uri": "https://localhost:8080/",
          "height": 34
        }
      },
      "source": [
        "model.score(X_test,y_test)"
      ],
      "execution_count": 0,
      "outputs": [
        {
          "output_type": "execute_result",
          "data": {
            "text/plain": [
              "0.34532974807163475"
            ]
          },
          "metadata": {
            "tags": []
          },
          "execution_count": 27
        }
      ]
    },
    {
      "cell_type": "markdown",
      "metadata": {
        "id": "cJ-y1lZZO3yw",
        "colab_type": "text"
      },
      "source": [
        "Handling missing values with Pandas"
      ]
    },
    {
      "cell_type": "code",
      "metadata": {
        "id": "B1tm4AcTO-Ba",
        "colab_type": "code",
        "outputId": "14e0a346-5989-4301-cb2d-c57cc2f1400c",
        "colab": {
          "base_uri": "https://localhost:8080/",
          "height": 204
        }
      },
      "source": [
        "car_sales_missing=pd.read_csv('car-sales-extended-missing-data.csv')\n",
        "car_sales_missing.head()"
      ],
      "execution_count": 0,
      "outputs": [
        {
          "output_type": "execute_result",
          "data": {
            "text/html": [
              "<div>\n",
              "<style scoped>\n",
              "    .dataframe tbody tr th:only-of-type {\n",
              "        vertical-align: middle;\n",
              "    }\n",
              "\n",
              "    .dataframe tbody tr th {\n",
              "        vertical-align: top;\n",
              "    }\n",
              "\n",
              "    .dataframe thead th {\n",
              "        text-align: right;\n",
              "    }\n",
              "</style>\n",
              "<table border=\"1\" class=\"dataframe\">\n",
              "  <thead>\n",
              "    <tr style=\"text-align: right;\">\n",
              "      <th></th>\n",
              "      <th>Make</th>\n",
              "      <th>Colour</th>\n",
              "      <th>Odometer (KM)</th>\n",
              "      <th>Doors</th>\n",
              "      <th>Price</th>\n",
              "    </tr>\n",
              "  </thead>\n",
              "  <tbody>\n",
              "    <tr>\n",
              "      <th>0</th>\n",
              "      <td>Honda</td>\n",
              "      <td>White</td>\n",
              "      <td>35431.0</td>\n",
              "      <td>4.0</td>\n",
              "      <td>15323.0</td>\n",
              "    </tr>\n",
              "    <tr>\n",
              "      <th>1</th>\n",
              "      <td>BMW</td>\n",
              "      <td>Blue</td>\n",
              "      <td>192714.0</td>\n",
              "      <td>5.0</td>\n",
              "      <td>19943.0</td>\n",
              "    </tr>\n",
              "    <tr>\n",
              "      <th>2</th>\n",
              "      <td>Honda</td>\n",
              "      <td>White</td>\n",
              "      <td>84714.0</td>\n",
              "      <td>4.0</td>\n",
              "      <td>28343.0</td>\n",
              "    </tr>\n",
              "    <tr>\n",
              "      <th>3</th>\n",
              "      <td>Toyota</td>\n",
              "      <td>White</td>\n",
              "      <td>154365.0</td>\n",
              "      <td>4.0</td>\n",
              "      <td>13434.0</td>\n",
              "    </tr>\n",
              "    <tr>\n",
              "      <th>4</th>\n",
              "      <td>Nissan</td>\n",
              "      <td>Blue</td>\n",
              "      <td>181577.0</td>\n",
              "      <td>3.0</td>\n",
              "      <td>14043.0</td>\n",
              "    </tr>\n",
              "  </tbody>\n",
              "</table>\n",
              "</div>"
            ],
            "text/plain": [
              "     Make Colour  Odometer (KM)  Doors    Price\n",
              "0   Honda  White        35431.0    4.0  15323.0\n",
              "1     BMW   Blue       192714.0    5.0  19943.0\n",
              "2   Honda  White        84714.0    4.0  28343.0\n",
              "3  Toyota  White       154365.0    4.0  13434.0\n",
              "4  Nissan   Blue       181577.0    3.0  14043.0"
            ]
          },
          "metadata": {
            "tags": []
          },
          "execution_count": 28
        }
      ]
    },
    {
      "cell_type": "code",
      "metadata": {
        "id": "LSJNGFuXQyYk",
        "colab_type": "code",
        "outputId": "092302ff-9600-4103-d7a5-648e162de247",
        "colab": {
          "base_uri": "https://localhost:8080/",
          "height": 119
        }
      },
      "source": [
        "#which columns are having missing values\n",
        "car_sales_missing.isna().sum()"
      ],
      "execution_count": 0,
      "outputs": [
        {
          "output_type": "execute_result",
          "data": {
            "text/plain": [
              "Make             49\n",
              "Colour           50\n",
              "Odometer (KM)    50\n",
              "Doors            50\n",
              "Price            50\n",
              "dtype: int64"
            ]
          },
          "metadata": {
            "tags": []
          },
          "execution_count": 30
        }
      ]
    },
    {
      "cell_type": "code",
      "metadata": {
        "id": "UPR71u_gQ_pN",
        "colab_type": "code",
        "outputId": "8c9f23c9-b05d-4c76-e949-df170649df79",
        "colab": {
          "base_uri": "https://localhost:8080/",
          "height": 204
        }
      },
      "source": [
        "#Create X & y\n",
        "X = car_sales_missing.drop('Price',axis=1)\n",
        "y=car_sales_missing['Price']\n",
        "X.shape,y.shape,X.head(),y.head()"
      ],
      "execution_count": 0,
      "outputs": [
        {
          "output_type": "execute_result",
          "data": {
            "text/plain": [
              "((1000, 4), (1000,),      Make Colour  Odometer (KM)  Doors\n",
              " 0   Honda  White        35431.0    4.0\n",
              " 1     BMW   Blue       192714.0    5.0\n",
              " 2   Honda  White        84714.0    4.0\n",
              " 3  Toyota  White       154365.0    4.0\n",
              " 4  Nissan   Blue       181577.0    3.0, 0    15323.0\n",
              " 1    19943.0\n",
              " 2    28343.0\n",
              " 3    13434.0\n",
              " 4    14043.0\n",
              " Name: Price, dtype: float64)"
            ]
          },
          "metadata": {
            "tags": []
          },
          "execution_count": 31
        }
      ]
    },
    {
      "cell_type": "code",
      "metadata": {
        "id": "NceB8J5nRpYh",
        "colab_type": "code",
        "outputId": "29bcfcf8-5774-4c91-8fbe-ec8e59351117",
        "colab": {
          "base_uri": "https://localhost:8080/",
          "height": 357
        }
      },
      "source": [
        "#turning the categorical variables to numbers\n",
        "from sklearn.preprocessing import OneHotEncoder\n",
        "from sklearn.compose import ColumnTransformer\n",
        "categorical_features = ['Make','Colour','Doors']\n",
        "one_hot = OneHotEncoder()\n",
        "transformer = ColumnTransformer([('one_hot',one_hot,categorical_features)],remainder = 'passthrough')\n",
        "\n",
        "transformed_X = transformer.fit_transform(X)\n",
        "transformed_X\n"
      ],
      "execution_count": 0,
      "outputs": [
        {
          "output_type": "error",
          "ename": "ValueError",
          "evalue": "ignored",
          "traceback": [
            "\u001b[0;31m---------------------------------------------------------------------------\u001b[0m",
            "\u001b[0;31mValueError\u001b[0m                                Traceback (most recent call last)",
            "\u001b[0;32m<ipython-input-35-c43b42f66208>\u001b[0m in \u001b[0;36m<module>\u001b[0;34m()\u001b[0m\n\u001b[1;32m      5\u001b[0m \u001b[0mtransformer\u001b[0m \u001b[0;34m=\u001b[0m \u001b[0mColumnTransformer\u001b[0m\u001b[0;34m(\u001b[0m\u001b[0;34m[\u001b[0m\u001b[0;34m(\u001b[0m\u001b[0;34m'one_hot'\u001b[0m\u001b[0;34m,\u001b[0m\u001b[0mone_hot\u001b[0m\u001b[0;34m,\u001b[0m\u001b[0mcategorical_features\u001b[0m\u001b[0;34m)\u001b[0m\u001b[0;34m]\u001b[0m\u001b[0;34m,\u001b[0m\u001b[0mremainder\u001b[0m \u001b[0;34m=\u001b[0m \u001b[0;34m'passthrough'\u001b[0m\u001b[0;34m)\u001b[0m\u001b[0;34m\u001b[0m\u001b[0;34m\u001b[0m\u001b[0m\n\u001b[1;32m      6\u001b[0m \u001b[0;34m\u001b[0m\u001b[0m\n\u001b[0;32m----> 7\u001b[0;31m \u001b[0mtransformed_X\u001b[0m \u001b[0;34m=\u001b[0m \u001b[0mtransformer\u001b[0m\u001b[0;34m.\u001b[0m\u001b[0mfit_transform\u001b[0m\u001b[0;34m(\u001b[0m\u001b[0mX\u001b[0m\u001b[0;34m)\u001b[0m\u001b[0;34m\u001b[0m\u001b[0;34m\u001b[0m\u001b[0m\n\u001b[0m\u001b[1;32m      8\u001b[0m \u001b[0mtransformed_X\u001b[0m\u001b[0;34m\u001b[0m\u001b[0;34m\u001b[0m\u001b[0m\n",
            "\u001b[0;32m/usr/local/lib/python3.6/dist-packages/sklearn/compose/_column_transformer.py\u001b[0m in \u001b[0;36mfit_transform\u001b[0;34m(self, X, y)\u001b[0m\n\u001b[1;32m    516\u001b[0m         \u001b[0mself\u001b[0m\u001b[0;34m.\u001b[0m\u001b[0m_validate_remainder\u001b[0m\u001b[0;34m(\u001b[0m\u001b[0mX\u001b[0m\u001b[0;34m)\u001b[0m\u001b[0;34m\u001b[0m\u001b[0;34m\u001b[0m\u001b[0m\n\u001b[1;32m    517\u001b[0m \u001b[0;34m\u001b[0m\u001b[0m\n\u001b[0;32m--> 518\u001b[0;31m         \u001b[0mresult\u001b[0m \u001b[0;34m=\u001b[0m \u001b[0mself\u001b[0m\u001b[0;34m.\u001b[0m\u001b[0m_fit_transform\u001b[0m\u001b[0;34m(\u001b[0m\u001b[0mX\u001b[0m\u001b[0;34m,\u001b[0m \u001b[0my\u001b[0m\u001b[0;34m,\u001b[0m \u001b[0m_fit_transform_one\u001b[0m\u001b[0;34m)\u001b[0m\u001b[0;34m\u001b[0m\u001b[0;34m\u001b[0m\u001b[0m\n\u001b[0m\u001b[1;32m    519\u001b[0m \u001b[0;34m\u001b[0m\u001b[0m\n\u001b[1;32m    520\u001b[0m         \u001b[0;32mif\u001b[0m \u001b[0;32mnot\u001b[0m \u001b[0mresult\u001b[0m\u001b[0;34m:\u001b[0m\u001b[0;34m\u001b[0m\u001b[0;34m\u001b[0m\u001b[0m\n",
            "\u001b[0;32m/usr/local/lib/python3.6/dist-packages/sklearn/compose/_column_transformer.py\u001b[0m in \u001b[0;36m_fit_transform\u001b[0;34m(self, X, y, func, fitted)\u001b[0m\n\u001b[1;32m    455\u001b[0m                     message=self._log_message(name, idx, len(transformers)))\n\u001b[1;32m    456\u001b[0m                 for idx, (name, trans, column, weight) in enumerate(\n\u001b[0;32m--> 457\u001b[0;31m                         self._iter(fitted=fitted, replace_strings=True), 1))\n\u001b[0m\u001b[1;32m    458\u001b[0m         \u001b[0;32mexcept\u001b[0m \u001b[0mValueError\u001b[0m \u001b[0;32mas\u001b[0m \u001b[0me\u001b[0m\u001b[0;34m:\u001b[0m\u001b[0;34m\u001b[0m\u001b[0;34m\u001b[0m\u001b[0m\n\u001b[1;32m    459\u001b[0m             \u001b[0;32mif\u001b[0m \u001b[0;34m\"Expected 2D array, got 1D array instead\"\u001b[0m \u001b[0;32min\u001b[0m \u001b[0mstr\u001b[0m\u001b[0;34m(\u001b[0m\u001b[0me\u001b[0m\u001b[0;34m)\u001b[0m\u001b[0;34m:\u001b[0m\u001b[0;34m\u001b[0m\u001b[0;34m\u001b[0m\u001b[0m\n",
            "\u001b[0;32m/usr/local/lib/python3.6/dist-packages/joblib/parallel.py\u001b[0m in \u001b[0;36m__call__\u001b[0;34m(self, iterable)\u001b[0m\n\u001b[1;32m   1002\u001b[0m             \u001b[0;31m# remaining jobs.\u001b[0m\u001b[0;34m\u001b[0m\u001b[0;34m\u001b[0m\u001b[0;34m\u001b[0m\u001b[0m\n\u001b[1;32m   1003\u001b[0m             \u001b[0mself\u001b[0m\u001b[0;34m.\u001b[0m\u001b[0m_iterating\u001b[0m \u001b[0;34m=\u001b[0m \u001b[0;32mFalse\u001b[0m\u001b[0;34m\u001b[0m\u001b[0;34m\u001b[0m\u001b[0m\n\u001b[0;32m-> 1004\u001b[0;31m             \u001b[0;32mif\u001b[0m \u001b[0mself\u001b[0m\u001b[0;34m.\u001b[0m\u001b[0mdispatch_one_batch\u001b[0m\u001b[0;34m(\u001b[0m\u001b[0miterator\u001b[0m\u001b[0;34m)\u001b[0m\u001b[0;34m:\u001b[0m\u001b[0;34m\u001b[0m\u001b[0;34m\u001b[0m\u001b[0m\n\u001b[0m\u001b[1;32m   1005\u001b[0m                 \u001b[0mself\u001b[0m\u001b[0;34m.\u001b[0m\u001b[0m_iterating\u001b[0m \u001b[0;34m=\u001b[0m \u001b[0mself\u001b[0m\u001b[0;34m.\u001b[0m\u001b[0m_original_iterator\u001b[0m \u001b[0;32mis\u001b[0m \u001b[0;32mnot\u001b[0m \u001b[0;32mNone\u001b[0m\u001b[0;34m\u001b[0m\u001b[0;34m\u001b[0m\u001b[0m\n\u001b[1;32m   1006\u001b[0m \u001b[0;34m\u001b[0m\u001b[0m\n",
            "\u001b[0;32m/usr/local/lib/python3.6/dist-packages/joblib/parallel.py\u001b[0m in \u001b[0;36mdispatch_one_batch\u001b[0;34m(self, iterator)\u001b[0m\n\u001b[1;32m    833\u001b[0m                 \u001b[0;32mreturn\u001b[0m \u001b[0;32mFalse\u001b[0m\u001b[0;34m\u001b[0m\u001b[0;34m\u001b[0m\u001b[0m\n\u001b[1;32m    834\u001b[0m             \u001b[0;32melse\u001b[0m\u001b[0;34m:\u001b[0m\u001b[0;34m\u001b[0m\u001b[0;34m\u001b[0m\u001b[0m\n\u001b[0;32m--> 835\u001b[0;31m                 \u001b[0mself\u001b[0m\u001b[0;34m.\u001b[0m\u001b[0m_dispatch\u001b[0m\u001b[0;34m(\u001b[0m\u001b[0mtasks\u001b[0m\u001b[0;34m)\u001b[0m\u001b[0;34m\u001b[0m\u001b[0;34m\u001b[0m\u001b[0m\n\u001b[0m\u001b[1;32m    836\u001b[0m                 \u001b[0;32mreturn\u001b[0m \u001b[0;32mTrue\u001b[0m\u001b[0;34m\u001b[0m\u001b[0;34m\u001b[0m\u001b[0m\n\u001b[1;32m    837\u001b[0m \u001b[0;34m\u001b[0m\u001b[0m\n",
            "\u001b[0;32m/usr/local/lib/python3.6/dist-packages/joblib/parallel.py\u001b[0m in \u001b[0;36m_dispatch\u001b[0;34m(self, batch)\u001b[0m\n\u001b[1;32m    752\u001b[0m         \u001b[0;32mwith\u001b[0m \u001b[0mself\u001b[0m\u001b[0;34m.\u001b[0m\u001b[0m_lock\u001b[0m\u001b[0;34m:\u001b[0m\u001b[0;34m\u001b[0m\u001b[0;34m\u001b[0m\u001b[0m\n\u001b[1;32m    753\u001b[0m             \u001b[0mjob_idx\u001b[0m \u001b[0;34m=\u001b[0m \u001b[0mlen\u001b[0m\u001b[0;34m(\u001b[0m\u001b[0mself\u001b[0m\u001b[0;34m.\u001b[0m\u001b[0m_jobs\u001b[0m\u001b[0;34m)\u001b[0m\u001b[0;34m\u001b[0m\u001b[0;34m\u001b[0m\u001b[0m\n\u001b[0;32m--> 754\u001b[0;31m             \u001b[0mjob\u001b[0m \u001b[0;34m=\u001b[0m \u001b[0mself\u001b[0m\u001b[0;34m.\u001b[0m\u001b[0m_backend\u001b[0m\u001b[0;34m.\u001b[0m\u001b[0mapply_async\u001b[0m\u001b[0;34m(\u001b[0m\u001b[0mbatch\u001b[0m\u001b[0;34m,\u001b[0m \u001b[0mcallback\u001b[0m\u001b[0;34m=\u001b[0m\u001b[0mcb\u001b[0m\u001b[0;34m)\u001b[0m\u001b[0;34m\u001b[0m\u001b[0;34m\u001b[0m\u001b[0m\n\u001b[0m\u001b[1;32m    755\u001b[0m             \u001b[0;31m# A job can complete so quickly than its callback is\u001b[0m\u001b[0;34m\u001b[0m\u001b[0;34m\u001b[0m\u001b[0;34m\u001b[0m\u001b[0m\n\u001b[1;32m    756\u001b[0m             \u001b[0;31m# called before we get here, causing self._jobs to\u001b[0m\u001b[0;34m\u001b[0m\u001b[0;34m\u001b[0m\u001b[0;34m\u001b[0m\u001b[0m\n",
            "\u001b[0;32m/usr/local/lib/python3.6/dist-packages/joblib/_parallel_backends.py\u001b[0m in \u001b[0;36mapply_async\u001b[0;34m(self, func, callback)\u001b[0m\n\u001b[1;32m    207\u001b[0m     \u001b[0;32mdef\u001b[0m \u001b[0mapply_async\u001b[0m\u001b[0;34m(\u001b[0m\u001b[0mself\u001b[0m\u001b[0;34m,\u001b[0m \u001b[0mfunc\u001b[0m\u001b[0;34m,\u001b[0m \u001b[0mcallback\u001b[0m\u001b[0;34m=\u001b[0m\u001b[0;32mNone\u001b[0m\u001b[0;34m)\u001b[0m\u001b[0;34m:\u001b[0m\u001b[0;34m\u001b[0m\u001b[0;34m\u001b[0m\u001b[0m\n\u001b[1;32m    208\u001b[0m         \u001b[0;34m\"\"\"Schedule a func to be run\"\"\"\u001b[0m\u001b[0;34m\u001b[0m\u001b[0;34m\u001b[0m\u001b[0m\n\u001b[0;32m--> 209\u001b[0;31m         \u001b[0mresult\u001b[0m \u001b[0;34m=\u001b[0m \u001b[0mImmediateResult\u001b[0m\u001b[0;34m(\u001b[0m\u001b[0mfunc\u001b[0m\u001b[0;34m)\u001b[0m\u001b[0;34m\u001b[0m\u001b[0;34m\u001b[0m\u001b[0m\n\u001b[0m\u001b[1;32m    210\u001b[0m         \u001b[0;32mif\u001b[0m \u001b[0mcallback\u001b[0m\u001b[0;34m:\u001b[0m\u001b[0;34m\u001b[0m\u001b[0;34m\u001b[0m\u001b[0m\n\u001b[1;32m    211\u001b[0m             \u001b[0mcallback\u001b[0m\u001b[0;34m(\u001b[0m\u001b[0mresult\u001b[0m\u001b[0;34m)\u001b[0m\u001b[0;34m\u001b[0m\u001b[0;34m\u001b[0m\u001b[0m\n",
            "\u001b[0;32m/usr/local/lib/python3.6/dist-packages/joblib/_parallel_backends.py\u001b[0m in \u001b[0;36m__init__\u001b[0;34m(self, batch)\u001b[0m\n\u001b[1;32m    588\u001b[0m         \u001b[0;31m# Don't delay the application, to avoid keeping the input\u001b[0m\u001b[0;34m\u001b[0m\u001b[0;34m\u001b[0m\u001b[0;34m\u001b[0m\u001b[0m\n\u001b[1;32m    589\u001b[0m         \u001b[0;31m# arguments in memory\u001b[0m\u001b[0;34m\u001b[0m\u001b[0;34m\u001b[0m\u001b[0;34m\u001b[0m\u001b[0m\n\u001b[0;32m--> 590\u001b[0;31m         \u001b[0mself\u001b[0m\u001b[0;34m.\u001b[0m\u001b[0mresults\u001b[0m \u001b[0;34m=\u001b[0m \u001b[0mbatch\u001b[0m\u001b[0;34m(\u001b[0m\u001b[0;34m)\u001b[0m\u001b[0;34m\u001b[0m\u001b[0;34m\u001b[0m\u001b[0m\n\u001b[0m\u001b[1;32m    591\u001b[0m \u001b[0;34m\u001b[0m\u001b[0m\n\u001b[1;32m    592\u001b[0m     \u001b[0;32mdef\u001b[0m \u001b[0mget\u001b[0m\u001b[0;34m(\u001b[0m\u001b[0mself\u001b[0m\u001b[0;34m)\u001b[0m\u001b[0;34m:\u001b[0m\u001b[0;34m\u001b[0m\u001b[0;34m\u001b[0m\u001b[0m\n",
            "\u001b[0;32m/usr/local/lib/python3.6/dist-packages/joblib/parallel.py\u001b[0m in \u001b[0;36m__call__\u001b[0;34m(self)\u001b[0m\n\u001b[1;32m    254\u001b[0m         \u001b[0;32mwith\u001b[0m \u001b[0mparallel_backend\u001b[0m\u001b[0;34m(\u001b[0m\u001b[0mself\u001b[0m\u001b[0;34m.\u001b[0m\u001b[0m_backend\u001b[0m\u001b[0;34m,\u001b[0m \u001b[0mn_jobs\u001b[0m\u001b[0;34m=\u001b[0m\u001b[0mself\u001b[0m\u001b[0;34m.\u001b[0m\u001b[0m_n_jobs\u001b[0m\u001b[0;34m)\u001b[0m\u001b[0;34m:\u001b[0m\u001b[0;34m\u001b[0m\u001b[0;34m\u001b[0m\u001b[0m\n\u001b[1;32m    255\u001b[0m             return [func(*args, **kwargs)\n\u001b[0;32m--> 256\u001b[0;31m                     for func, args, kwargs in self.items]\n\u001b[0m\u001b[1;32m    257\u001b[0m \u001b[0;34m\u001b[0m\u001b[0m\n\u001b[1;32m    258\u001b[0m     \u001b[0;32mdef\u001b[0m \u001b[0m__len__\u001b[0m\u001b[0;34m(\u001b[0m\u001b[0mself\u001b[0m\u001b[0;34m)\u001b[0m\u001b[0;34m:\u001b[0m\u001b[0;34m\u001b[0m\u001b[0;34m\u001b[0m\u001b[0m\n",
            "\u001b[0;32m/usr/local/lib/python3.6/dist-packages/joblib/parallel.py\u001b[0m in \u001b[0;36m<listcomp>\u001b[0;34m(.0)\u001b[0m\n\u001b[1;32m    254\u001b[0m         \u001b[0;32mwith\u001b[0m \u001b[0mparallel_backend\u001b[0m\u001b[0;34m(\u001b[0m\u001b[0mself\u001b[0m\u001b[0;34m.\u001b[0m\u001b[0m_backend\u001b[0m\u001b[0;34m,\u001b[0m \u001b[0mn_jobs\u001b[0m\u001b[0;34m=\u001b[0m\u001b[0mself\u001b[0m\u001b[0;34m.\u001b[0m\u001b[0m_n_jobs\u001b[0m\u001b[0;34m)\u001b[0m\u001b[0;34m:\u001b[0m\u001b[0;34m\u001b[0m\u001b[0;34m\u001b[0m\u001b[0m\n\u001b[1;32m    255\u001b[0m             return [func(*args, **kwargs)\n\u001b[0;32m--> 256\u001b[0;31m                     for func, args, kwargs in self.items]\n\u001b[0m\u001b[1;32m    257\u001b[0m \u001b[0;34m\u001b[0m\u001b[0m\n\u001b[1;32m    258\u001b[0m     \u001b[0;32mdef\u001b[0m \u001b[0m__len__\u001b[0m\u001b[0;34m(\u001b[0m\u001b[0mself\u001b[0m\u001b[0;34m)\u001b[0m\u001b[0;34m:\u001b[0m\u001b[0;34m\u001b[0m\u001b[0;34m\u001b[0m\u001b[0m\n",
            "\u001b[0;32m/usr/local/lib/python3.6/dist-packages/sklearn/pipeline.py\u001b[0m in \u001b[0;36m_fit_transform_one\u001b[0;34m(transformer, X, y, weight, message_clsname, message, **fit_params)\u001b[0m\n\u001b[1;32m    726\u001b[0m     \u001b[0;32mwith\u001b[0m \u001b[0m_print_elapsed_time\u001b[0m\u001b[0;34m(\u001b[0m\u001b[0mmessage_clsname\u001b[0m\u001b[0;34m,\u001b[0m \u001b[0mmessage\u001b[0m\u001b[0;34m)\u001b[0m\u001b[0;34m:\u001b[0m\u001b[0;34m\u001b[0m\u001b[0;34m\u001b[0m\u001b[0m\n\u001b[1;32m    727\u001b[0m         \u001b[0;32mif\u001b[0m \u001b[0mhasattr\u001b[0m\u001b[0;34m(\u001b[0m\u001b[0mtransformer\u001b[0m\u001b[0;34m,\u001b[0m \u001b[0;34m'fit_transform'\u001b[0m\u001b[0;34m)\u001b[0m\u001b[0;34m:\u001b[0m\u001b[0;34m\u001b[0m\u001b[0;34m\u001b[0m\u001b[0m\n\u001b[0;32m--> 728\u001b[0;31m             \u001b[0mres\u001b[0m \u001b[0;34m=\u001b[0m \u001b[0mtransformer\u001b[0m\u001b[0;34m.\u001b[0m\u001b[0mfit_transform\u001b[0m\u001b[0;34m(\u001b[0m\u001b[0mX\u001b[0m\u001b[0;34m,\u001b[0m \u001b[0my\u001b[0m\u001b[0;34m,\u001b[0m \u001b[0;34m**\u001b[0m\u001b[0mfit_params\u001b[0m\u001b[0;34m)\u001b[0m\u001b[0;34m\u001b[0m\u001b[0;34m\u001b[0m\u001b[0m\n\u001b[0m\u001b[1;32m    729\u001b[0m         \u001b[0;32melse\u001b[0m\u001b[0;34m:\u001b[0m\u001b[0;34m\u001b[0m\u001b[0;34m\u001b[0m\u001b[0m\n\u001b[1;32m    730\u001b[0m             \u001b[0mres\u001b[0m \u001b[0;34m=\u001b[0m \u001b[0mtransformer\u001b[0m\u001b[0;34m.\u001b[0m\u001b[0mfit\u001b[0m\u001b[0;34m(\u001b[0m\u001b[0mX\u001b[0m\u001b[0;34m,\u001b[0m \u001b[0my\u001b[0m\u001b[0;34m,\u001b[0m \u001b[0;34m**\u001b[0m\u001b[0mfit_params\u001b[0m\u001b[0;34m)\u001b[0m\u001b[0;34m.\u001b[0m\u001b[0mtransform\u001b[0m\u001b[0;34m(\u001b[0m\u001b[0mX\u001b[0m\u001b[0;34m)\u001b[0m\u001b[0;34m\u001b[0m\u001b[0;34m\u001b[0m\u001b[0m\n",
            "\u001b[0;32m/usr/local/lib/python3.6/dist-packages/sklearn/preprocessing/_encoders.py\u001b[0m in \u001b[0;36mfit_transform\u001b[0;34m(self, X, y)\u001b[0m\n\u001b[1;32m    370\u001b[0m         \"\"\"\n\u001b[1;32m    371\u001b[0m         \u001b[0mself\u001b[0m\u001b[0;34m.\u001b[0m\u001b[0m_validate_keywords\u001b[0m\u001b[0;34m(\u001b[0m\u001b[0;34m)\u001b[0m\u001b[0;34m\u001b[0m\u001b[0;34m\u001b[0m\u001b[0m\n\u001b[0;32m--> 372\u001b[0;31m         \u001b[0;32mreturn\u001b[0m \u001b[0msuper\u001b[0m\u001b[0;34m(\u001b[0m\u001b[0;34m)\u001b[0m\u001b[0;34m.\u001b[0m\u001b[0mfit_transform\u001b[0m\u001b[0;34m(\u001b[0m\u001b[0mX\u001b[0m\u001b[0;34m,\u001b[0m \u001b[0my\u001b[0m\u001b[0;34m)\u001b[0m\u001b[0;34m\u001b[0m\u001b[0;34m\u001b[0m\u001b[0m\n\u001b[0m\u001b[1;32m    373\u001b[0m \u001b[0;34m\u001b[0m\u001b[0m\n\u001b[1;32m    374\u001b[0m     \u001b[0;32mdef\u001b[0m \u001b[0mtransform\u001b[0m\u001b[0;34m(\u001b[0m\u001b[0mself\u001b[0m\u001b[0;34m,\u001b[0m \u001b[0mX\u001b[0m\u001b[0;34m)\u001b[0m\u001b[0;34m:\u001b[0m\u001b[0;34m\u001b[0m\u001b[0;34m\u001b[0m\u001b[0m\n",
            "\u001b[0;32m/usr/local/lib/python3.6/dist-packages/sklearn/base.py\u001b[0m in \u001b[0;36mfit_transform\u001b[0;34m(self, X, y, **fit_params)\u001b[0m\n\u001b[1;32m    569\u001b[0m         \u001b[0;32mif\u001b[0m \u001b[0my\u001b[0m \u001b[0;32mis\u001b[0m \u001b[0;32mNone\u001b[0m\u001b[0;34m:\u001b[0m\u001b[0;34m\u001b[0m\u001b[0;34m\u001b[0m\u001b[0m\n\u001b[1;32m    570\u001b[0m             \u001b[0;31m# fit method of arity 1 (unsupervised transformation)\u001b[0m\u001b[0;34m\u001b[0m\u001b[0;34m\u001b[0m\u001b[0;34m\u001b[0m\u001b[0m\n\u001b[0;32m--> 571\u001b[0;31m             \u001b[0;32mreturn\u001b[0m \u001b[0mself\u001b[0m\u001b[0;34m.\u001b[0m\u001b[0mfit\u001b[0m\u001b[0;34m(\u001b[0m\u001b[0mX\u001b[0m\u001b[0;34m,\u001b[0m \u001b[0;34m**\u001b[0m\u001b[0mfit_params\u001b[0m\u001b[0;34m)\u001b[0m\u001b[0;34m.\u001b[0m\u001b[0mtransform\u001b[0m\u001b[0;34m(\u001b[0m\u001b[0mX\u001b[0m\u001b[0;34m)\u001b[0m\u001b[0;34m\u001b[0m\u001b[0;34m\u001b[0m\u001b[0m\n\u001b[0m\u001b[1;32m    572\u001b[0m         \u001b[0;32melse\u001b[0m\u001b[0;34m:\u001b[0m\u001b[0;34m\u001b[0m\u001b[0;34m\u001b[0m\u001b[0m\n\u001b[1;32m    573\u001b[0m             \u001b[0;31m# fit method of arity 2 (supervised transformation)\u001b[0m\u001b[0;34m\u001b[0m\u001b[0;34m\u001b[0m\u001b[0;34m\u001b[0m\u001b[0m\n",
            "\u001b[0;32m/usr/local/lib/python3.6/dist-packages/sklearn/preprocessing/_encoders.py\u001b[0m in \u001b[0;36mfit\u001b[0;34m(self, X, y)\u001b[0m\n\u001b[1;32m    345\u001b[0m         \"\"\"\n\u001b[1;32m    346\u001b[0m         \u001b[0mself\u001b[0m\u001b[0;34m.\u001b[0m\u001b[0m_validate_keywords\u001b[0m\u001b[0;34m(\u001b[0m\u001b[0;34m)\u001b[0m\u001b[0;34m\u001b[0m\u001b[0;34m\u001b[0m\u001b[0m\n\u001b[0;32m--> 347\u001b[0;31m         \u001b[0mself\u001b[0m\u001b[0;34m.\u001b[0m\u001b[0m_fit\u001b[0m\u001b[0;34m(\u001b[0m\u001b[0mX\u001b[0m\u001b[0;34m,\u001b[0m \u001b[0mhandle_unknown\u001b[0m\u001b[0;34m=\u001b[0m\u001b[0mself\u001b[0m\u001b[0;34m.\u001b[0m\u001b[0mhandle_unknown\u001b[0m\u001b[0;34m)\u001b[0m\u001b[0;34m\u001b[0m\u001b[0;34m\u001b[0m\u001b[0m\n\u001b[0m\u001b[1;32m    348\u001b[0m         \u001b[0mself\u001b[0m\u001b[0;34m.\u001b[0m\u001b[0mdrop_idx_\u001b[0m \u001b[0;34m=\u001b[0m \u001b[0mself\u001b[0m\u001b[0;34m.\u001b[0m\u001b[0m_compute_drop_idx\u001b[0m\u001b[0;34m(\u001b[0m\u001b[0;34m)\u001b[0m\u001b[0;34m\u001b[0m\u001b[0;34m\u001b[0m\u001b[0m\n\u001b[1;32m    349\u001b[0m         \u001b[0;32mreturn\u001b[0m \u001b[0mself\u001b[0m\u001b[0;34m\u001b[0m\u001b[0;34m\u001b[0m\u001b[0m\n",
            "\u001b[0;32m/usr/local/lib/python3.6/dist-packages/sklearn/preprocessing/_encoders.py\u001b[0m in \u001b[0;36m_fit\u001b[0;34m(self, X, handle_unknown)\u001b[0m\n\u001b[1;32m     72\u001b[0m \u001b[0;34m\u001b[0m\u001b[0m\n\u001b[1;32m     73\u001b[0m     \u001b[0;32mdef\u001b[0m \u001b[0m_fit\u001b[0m\u001b[0;34m(\u001b[0m\u001b[0mself\u001b[0m\u001b[0;34m,\u001b[0m \u001b[0mX\u001b[0m\u001b[0;34m,\u001b[0m \u001b[0mhandle_unknown\u001b[0m\u001b[0;34m=\u001b[0m\u001b[0;34m'error'\u001b[0m\u001b[0;34m)\u001b[0m\u001b[0;34m:\u001b[0m\u001b[0;34m\u001b[0m\u001b[0;34m\u001b[0m\u001b[0m\n\u001b[0;32m---> 74\u001b[0;31m         \u001b[0mX_list\u001b[0m\u001b[0;34m,\u001b[0m \u001b[0mn_samples\u001b[0m\u001b[0;34m,\u001b[0m \u001b[0mn_features\u001b[0m \u001b[0;34m=\u001b[0m \u001b[0mself\u001b[0m\u001b[0;34m.\u001b[0m\u001b[0m_check_X\u001b[0m\u001b[0;34m(\u001b[0m\u001b[0mX\u001b[0m\u001b[0;34m)\u001b[0m\u001b[0;34m\u001b[0m\u001b[0;34m\u001b[0m\u001b[0m\n\u001b[0m\u001b[1;32m     75\u001b[0m \u001b[0;34m\u001b[0m\u001b[0m\n\u001b[1;32m     76\u001b[0m         \u001b[0;32mif\u001b[0m \u001b[0mself\u001b[0m\u001b[0;34m.\u001b[0m\u001b[0mcategories\u001b[0m \u001b[0;34m!=\u001b[0m \u001b[0;34m'auto'\u001b[0m\u001b[0;34m:\u001b[0m\u001b[0;34m\u001b[0m\u001b[0;34m\u001b[0m\u001b[0m\n",
            "\u001b[0;32m/usr/local/lib/python3.6/dist-packages/sklearn/preprocessing/_encoders.py\u001b[0m in \u001b[0;36m_check_X\u001b[0;34m(self, X)\u001b[0m\n\u001b[1;32m     59\u001b[0m             \u001b[0mXi\u001b[0m \u001b[0;34m=\u001b[0m \u001b[0mself\u001b[0m\u001b[0;34m.\u001b[0m\u001b[0m_get_feature\u001b[0m\u001b[0;34m(\u001b[0m\u001b[0mX\u001b[0m\u001b[0;34m,\u001b[0m \u001b[0mfeature_idx\u001b[0m\u001b[0;34m=\u001b[0m\u001b[0mi\u001b[0m\u001b[0;34m)\u001b[0m\u001b[0;34m\u001b[0m\u001b[0;34m\u001b[0m\u001b[0m\n\u001b[1;32m     60\u001b[0m             Xi = check_array(Xi, ensure_2d=False, dtype=None,\n\u001b[0;32m---> 61\u001b[0;31m                              force_all_finite=needs_validation)\n\u001b[0m\u001b[1;32m     62\u001b[0m             \u001b[0mX_columns\u001b[0m\u001b[0;34m.\u001b[0m\u001b[0mappend\u001b[0m\u001b[0;34m(\u001b[0m\u001b[0mXi\u001b[0m\u001b[0;34m)\u001b[0m\u001b[0;34m\u001b[0m\u001b[0;34m\u001b[0m\u001b[0m\n\u001b[1;32m     63\u001b[0m \u001b[0;34m\u001b[0m\u001b[0m\n",
            "\u001b[0;32m/usr/local/lib/python3.6/dist-packages/sklearn/utils/validation.py\u001b[0m in \u001b[0;36mcheck_array\u001b[0;34m(array, accept_sparse, accept_large_sparse, dtype, order, copy, force_all_finite, ensure_2d, allow_nd, ensure_min_samples, ensure_min_features, warn_on_dtype, estimator)\u001b[0m\n\u001b[1;32m    576\u001b[0m         \u001b[0;32mif\u001b[0m \u001b[0mforce_all_finite\u001b[0m\u001b[0;34m:\u001b[0m\u001b[0;34m\u001b[0m\u001b[0;34m\u001b[0m\u001b[0m\n\u001b[1;32m    577\u001b[0m             _assert_all_finite(array,\n\u001b[0;32m--> 578\u001b[0;31m                                allow_nan=force_all_finite == 'allow-nan')\n\u001b[0m\u001b[1;32m    579\u001b[0m \u001b[0;34m\u001b[0m\u001b[0m\n\u001b[1;32m    580\u001b[0m     \u001b[0;32mif\u001b[0m \u001b[0mensure_min_samples\u001b[0m \u001b[0;34m>\u001b[0m \u001b[0;36m0\u001b[0m\u001b[0;34m:\u001b[0m\u001b[0;34m\u001b[0m\u001b[0;34m\u001b[0m\u001b[0m\n",
            "\u001b[0;32m/usr/local/lib/python3.6/dist-packages/sklearn/utils/validation.py\u001b[0m in \u001b[0;36m_assert_all_finite\u001b[0;34m(X, allow_nan, msg_dtype)\u001b[0m\n\u001b[1;32m     63\u001b[0m     \u001b[0;32melif\u001b[0m \u001b[0mX\u001b[0m\u001b[0;34m.\u001b[0m\u001b[0mdtype\u001b[0m \u001b[0;34m==\u001b[0m \u001b[0mnp\u001b[0m\u001b[0;34m.\u001b[0m\u001b[0mdtype\u001b[0m\u001b[0;34m(\u001b[0m\u001b[0;34m'object'\u001b[0m\u001b[0;34m)\u001b[0m \u001b[0;32mand\u001b[0m \u001b[0;32mnot\u001b[0m \u001b[0mallow_nan\u001b[0m\u001b[0;34m:\u001b[0m\u001b[0;34m\u001b[0m\u001b[0;34m\u001b[0m\u001b[0m\n\u001b[1;32m     64\u001b[0m         \u001b[0;32mif\u001b[0m \u001b[0m_object_dtype_isnan\u001b[0m\u001b[0;34m(\u001b[0m\u001b[0mX\u001b[0m\u001b[0;34m)\u001b[0m\u001b[0;34m.\u001b[0m\u001b[0many\u001b[0m\u001b[0;34m(\u001b[0m\u001b[0;34m)\u001b[0m\u001b[0;34m:\u001b[0m\u001b[0;34m\u001b[0m\u001b[0;34m\u001b[0m\u001b[0m\n\u001b[0;32m---> 65\u001b[0;31m             \u001b[0;32mraise\u001b[0m \u001b[0mValueError\u001b[0m\u001b[0;34m(\u001b[0m\u001b[0;34m\"Input contains NaN\"\u001b[0m\u001b[0;34m)\u001b[0m\u001b[0;34m\u001b[0m\u001b[0;34m\u001b[0m\u001b[0m\n\u001b[0m\u001b[1;32m     66\u001b[0m \u001b[0;34m\u001b[0m\u001b[0m\n\u001b[1;32m     67\u001b[0m \u001b[0;34m\u001b[0m\u001b[0m\n",
            "\u001b[0;31mValueError\u001b[0m: Input contains NaN"
          ]
        }
      ]
    },
    {
      "cell_type": "code",
      "metadata": {
        "id": "nOnDJqm9WH2a",
        "colab_type": "code",
        "colab": {}
      },
      "source": [
        "#The error at the top is because the make column contains missing values"
      ],
      "execution_count": 0,
      "outputs": []
    },
    {
      "cell_type": "code",
      "metadata": {
        "id": "WP72xCkXXoZi",
        "colab_type": "code",
        "outputId": "b32eeb6c-5113-467c-a0b2-261d16ba75ef",
        "colab": {
          "base_uri": "https://localhost:8080/",
          "height": 85
        }
      },
      "source": [
        "car_sales_missing['Doors'].value_counts()"
      ],
      "execution_count": 0,
      "outputs": [
        {
          "output_type": "execute_result",
          "data": {
            "text/plain": [
              "4.0    811\n",
              "5.0     75\n",
              "3.0     64\n",
              "Name: Doors, dtype: int64"
            ]
          },
          "metadata": {
            "tags": []
          },
          "execution_count": 36
        }
      ]
    },
    {
      "cell_type": "code",
      "metadata": {
        "id": "oZG2WbdGWboE",
        "colab_type": "code",
        "colab": {}
      },
      "source": [
        "#filling the missing columns\n",
        "car_sales_missing['Make'].fillna('missing',inplace=True)\n",
        "car_sales_missing['Colour'].fillna('missing',inplace=True)\n",
        "car_sales_missing['Odometer (KM)'].fillna(car_sales_missing['Odometer (KM)'].mean,inplace=True)\n",
        "car_sales_missing['Doors'].fillna(4,inplace=True)"
      ],
      "execution_count": 0,
      "outputs": []
    },
    {
      "cell_type": "code",
      "metadata": {
        "id": "JakzQkk9WtLT",
        "colab_type": "code",
        "outputId": "7537a3d0-e80e-4ba3-918d-1267b6fb75f6",
        "colab": {
          "base_uri": "https://localhost:8080/",
          "height": 119
        }
      },
      "source": [
        "car_sales_missing.isna().sum()"
      ],
      "execution_count": 0,
      "outputs": [
        {
          "output_type": "execute_result",
          "data": {
            "text/plain": [
              "Make             0\n",
              "Colour           0\n",
              "Odometer (KM)    0\n",
              "Doors            0\n",
              "Price            0\n",
              "dtype: int64"
            ]
          },
          "metadata": {
            "tags": []
          },
          "execution_count": 49
        }
      ]
    },
    {
      "cell_type": "code",
      "metadata": {
        "id": "_pdKULfFYASI",
        "colab_type": "code",
        "colab": {}
      },
      "source": [
        "#dropping the price rows with missing values as we should not filll the target columns with imputed values etc.\n",
        "car_sales_missing.dropna(inplace=True)"
      ],
      "execution_count": 0,
      "outputs": []
    },
    {
      "cell_type": "code",
      "metadata": {
        "id": "h3KHGFOGYlgF",
        "colab_type": "code",
        "outputId": "70f510f4-fd1d-40c1-c7c2-960a9a170830",
        "colab": {
          "base_uri": "https://localhost:8080/",
          "height": 119
        }
      },
      "source": [
        "car_sales_missing.isna().sum()"
      ],
      "execution_count": 0,
      "outputs": [
        {
          "output_type": "execute_result",
          "data": {
            "text/plain": [
              "Make             0\n",
              "Colour           0\n",
              "Odometer (KM)    0\n",
              "Doors            0\n",
              "Price            0\n",
              "dtype: int64"
            ]
          },
          "metadata": {
            "tags": []
          },
          "execution_count": 44
        }
      ]
    },
    {
      "cell_type": "code",
      "metadata": {
        "id": "dTrmXIyIZBqM",
        "colab_type": "code",
        "colab": {}
      },
      "source": [
        "#making the predictor and target variables\n",
        "X=car_sales_missing.drop('Price',axis=1)\n",
        "y=car_sales_missing['Price']"
      ],
      "execution_count": 0,
      "outputs": []
    },
    {
      "cell_type": "code",
      "metadata": {
        "id": "N58XekxnZhzr",
        "colab_type": "code",
        "outputId": "5fb50dbc-9221-4570-806d-5335ee9e2b1d",
        "colab": {
          "base_uri": "https://localhost:8080/",
          "height": 136
        }
      },
      "source": [
        "#turning the categorical variables to numbers\n",
        "from sklearn.preprocessing import OneHotEncoder\n",
        "from sklearn.compose import ColumnTransformer\n",
        "categorical_features = ['Make','Colour','Doors']\n",
        "one_hot = OneHotEncoder()\n",
        "transformer = ColumnTransformer([('one_hot',one_hot,categorical_features)],remainder = 'passthrough')\n",
        "\n",
        "transformed_X = transformer.fit_transform(car_sales_missing)\n",
        "transformed_X"
      ],
      "execution_count": 0,
      "outputs": [
        {
          "output_type": "execute_result",
          "data": {
            "text/plain": [
              "array([[0.0, 1.0, 0.0, ..., 0.0, 35431.0, 15323.0],\n",
              "       [1.0, 0.0, 0.0, ..., 1.0, 192714.0, 19943.0],\n",
              "       [0.0, 1.0, 0.0, ..., 0.0, 84714.0, 28343.0],\n",
              "       ...,\n",
              "       [0.0, 0.0, 1.0, ..., 0.0, 66604.0, 31570.0],\n",
              "       [0.0, 1.0, 0.0, ..., 0.0, 215883.0, 4001.0],\n",
              "       [0.0, 0.0, 0.0, ..., 0.0, 248360.0, 12732.0]], dtype=object)"
            ]
          },
          "metadata": {
            "tags": []
          },
          "execution_count": 52
        }
      ]
    },
    {
      "cell_type": "code",
      "metadata": {
        "id": "uZTi6i5JbYSu",
        "colab_type": "code",
        "colab": {}
      },
      "source": [
        "#try to test the model now\n",
        "X_train,X_test,y_train,y_test = train_test_split(transformed_X,y)"
      ],
      "execution_count": 0,
      "outputs": []
    },
    {
      "cell_type": "code",
      "metadata": {
        "id": "PYcQkVeIbnH-",
        "colab_type": "code",
        "outputId": "b4fe6fb7-9fa8-41af-cdff-97ebcc7f2dbc",
        "colab": {
          "base_uri": "https://localhost:8080/",
          "height": 136
        }
      },
      "source": [
        "#fitting the random forest regressor\n",
        "model.fit(X_train,y_train)"
      ],
      "execution_count": 0,
      "outputs": [
        {
          "output_type": "execute_result",
          "data": {
            "text/plain": [
              "RandomForestRegressor(bootstrap=True, ccp_alpha=0.0, criterion='mse',\n",
              "                      max_depth=None, max_features='auto', max_leaf_nodes=None,\n",
              "                      max_samples=None, min_impurity_decrease=0.0,\n",
              "                      min_impurity_split=None, min_samples_leaf=1,\n",
              "                      min_samples_split=2, min_weight_fraction_leaf=0.0,\n",
              "                      n_estimators=100, n_jobs=None, oob_score=False,\n",
              "                      random_state=None, verbose=0, warm_start=False)"
            ]
          },
          "metadata": {
            "tags": []
          },
          "execution_count": 53
        }
      ]
    },
    {
      "cell_type": "code",
      "metadata": {
        "id": "SClOAHQMbvEE",
        "colab_type": "code",
        "outputId": "144aea3f-931f-4b4d-96ff-97198d683f2e",
        "colab": {
          "base_uri": "https://localhost:8080/",
          "height": 34
        }
      },
      "source": [
        "#scoring the model on training data\n",
        "model.score(X_train,y_train)"
      ],
      "execution_count": 0,
      "outputs": [
        {
          "output_type": "execute_result",
          "data": {
            "text/plain": [
              "0.8937101720037295"
            ]
          },
          "metadata": {
            "tags": []
          },
          "execution_count": 54
        }
      ]
    },
    {
      "cell_type": "code",
      "metadata": {
        "id": "ZnmtXfmFb0u0",
        "colab_type": "code",
        "outputId": "f690bc66-b295-4ea2-d939-3a15af92648a",
        "colab": {
          "base_uri": "https://localhost:8080/",
          "height": 34
        }
      },
      "source": [
        "#scoring the model on testing data\n",
        "model.score(X_test,y_test)"
      ],
      "execution_count": 0,
      "outputs": [
        {
          "output_type": "execute_result",
          "data": {
            "text/plain": [
              "0.3344507234811712"
            ]
          },
          "metadata": {
            "tags": []
          },
          "execution_count": 55
        }
      ]
    },
    {
      "cell_type": "markdown",
      "metadata": {
        "id": "TJRVjSRgcSyj",
        "colab_type": "text"
      },
      "source": [
        "Handling missing values with Scikit Learn"
      ]
    },
    {
      "cell_type": "code",
      "metadata": {
        "id": "xCvv6MXetAJY",
        "colab_type": "code",
        "outputId": "0b2989c8-be5f-4782-a2dc-530939c8f446",
        "colab": {
          "base_uri": "https://localhost:8080/",
          "height": 119
        }
      },
      "source": [
        "#loading the dataset\n",
        "from sklearn.impute import SimpleImputer\n",
        "from sklearn.compose import ColumnTransformer\n",
        "\n",
        "car_sales_missing=pd.read_csv('car-sales-extended-missing-data.csv')\n",
        "car_sales_missing.isna().sum()"
      ],
      "execution_count": 0,
      "outputs": [
        {
          "output_type": "execute_result",
          "data": {
            "text/plain": [
              "Make             49\n",
              "Colour           50\n",
              "Odometer (KM)    50\n",
              "Doors            50\n",
              "Price            50\n",
              "dtype: int64"
            ]
          },
          "metadata": {
            "tags": []
          },
          "execution_count": 8
        }
      ]
    },
    {
      "cell_type": "code",
      "metadata": {
        "id": "BU9E7WtN23LU",
        "colab_type": "code",
        "colab": {}
      },
      "source": [
        "car_sales_missing.dropna(subset=['Price'],inplace=True)"
      ],
      "execution_count": 0,
      "outputs": []
    },
    {
      "cell_type": "code",
      "metadata": {
        "id": "l-Uy8uS-yYw2",
        "colab_type": "code",
        "outputId": "9000ef66-46cb-4fa5-8e4e-6d9fbf6bbc28",
        "colab": {
          "base_uri": "https://localhost:8080/",
          "height": 34
        }
      },
      "source": [
        "car_sales_missing.shape"
      ],
      "execution_count": 0,
      "outputs": [
        {
          "output_type": "execute_result",
          "data": {
            "text/plain": [
              "(950, 5)"
            ]
          },
          "metadata": {
            "tags": []
          },
          "execution_count": 16
        }
      ]
    },
    {
      "cell_type": "code",
      "metadata": {
        "id": "-5SqwZ6Rypxo",
        "colab_type": "code",
        "outputId": "6bbb8a38-5fef-4e8a-deb3-6944466341ea",
        "colab": {
          "base_uri": "https://localhost:8080/",
          "height": 34
        }
      },
      "source": [
        "#creating the predictor and resonse variable\n",
        "X=car_sales_missing.drop('Price',axis=1)\n",
        "y=car_sales_missing['Price']\n",
        "X.shape,y.shape"
      ],
      "execution_count": 0,
      "outputs": [
        {
          "output_type": "execute_result",
          "data": {
            "text/plain": [
              "((950, 4), (950,))"
            ]
          },
          "metadata": {
            "tags": []
          },
          "execution_count": 17
        }
      ]
    },
    {
      "cell_type": "code",
      "metadata": {
        "id": "XCFGhYsSy-f7",
        "colab_type": "code",
        "outputId": "9d4ce452-2d0b-472d-afec-6908ffbec38e",
        "colab": {
          "base_uri": "https://localhost:8080/",
          "height": 136
        }
      },
      "source": [
        "#filling the missing values\n",
        "from sklearn.impute import SimpleImputer\n",
        "from sklearn.compose import ColumnTransformer\n",
        "\n",
        "#fill the categorical values with missing and numerical values with mean\n",
        "cat_imputer = SimpleImputer(strategy='constant',fill_value='missing')\n",
        "door_imputer=SimpleImputer(strategy='constant',fill_value=4)\n",
        "num_imputer=SimpleImputer(strategy='mean')\n",
        "\n",
        "#Define columns\n",
        "cat_features=['Make','Colour']\n",
        "door_features=['Doors']\n",
        "num_features=['Odometer (KM)']\n",
        "\n",
        "#Create the imputer\n",
        "\n",
        "imputer = ColumnTransformer([\n",
        "                             ('cat_imputer',cat_imputer,cat_features),\n",
        "                             ('door_imputer',door_imputer,door_features),\n",
        "                             ('num_imputer',num_imputer,num_features)\n",
        "])\n",
        "\n",
        "filled_X=imputer.fit_transform(X)\n",
        "filled_X"
      ],
      "execution_count": 0,
      "outputs": [
        {
          "output_type": "execute_result",
          "data": {
            "text/plain": [
              "array([['Honda', 'White', 4.0, 35431.0],\n",
              "       ['BMW', 'Blue', 5.0, 192714.0],\n",
              "       ['Honda', 'White', 4.0, 84714.0],\n",
              "       ...,\n",
              "       ['Nissan', 'Blue', 4.0, 66604.0],\n",
              "       ['Honda', 'White', 4.0, 215883.0],\n",
              "       ['Toyota', 'Blue', 4.0, 248360.0]], dtype=object)"
            ]
          },
          "metadata": {
            "tags": []
          },
          "execution_count": 18
        }
      ]
    },
    {
      "cell_type": "code",
      "metadata": {
        "id": "oz5cddpE1-_t",
        "colab_type": "code",
        "outputId": "f6c222a3-e176-4912-ac8b-884643e4193d",
        "colab": {
          "base_uri": "https://localhost:8080/",
          "height": 204
        }
      },
      "source": [
        "#converting the array into dataframe\n",
        "car_sales_filled = pd.DataFrame(filled_X,columns=['Make','Colour','Doors','Odometer (KM)'])\n",
        "car_sales_filled.head()\n"
      ],
      "execution_count": 0,
      "outputs": [
        {
          "output_type": "execute_result",
          "data": {
            "text/html": [
              "<div>\n",
              "<style scoped>\n",
              "    .dataframe tbody tr th:only-of-type {\n",
              "        vertical-align: middle;\n",
              "    }\n",
              "\n",
              "    .dataframe tbody tr th {\n",
              "        vertical-align: top;\n",
              "    }\n",
              "\n",
              "    .dataframe thead th {\n",
              "        text-align: right;\n",
              "    }\n",
              "</style>\n",
              "<table border=\"1\" class=\"dataframe\">\n",
              "  <thead>\n",
              "    <tr style=\"text-align: right;\">\n",
              "      <th></th>\n",
              "      <th>Make</th>\n",
              "      <th>Colour</th>\n",
              "      <th>Doors</th>\n",
              "      <th>Odometer (KM)</th>\n",
              "    </tr>\n",
              "  </thead>\n",
              "  <tbody>\n",
              "    <tr>\n",
              "      <th>0</th>\n",
              "      <td>Honda</td>\n",
              "      <td>White</td>\n",
              "      <td>4</td>\n",
              "      <td>35431</td>\n",
              "    </tr>\n",
              "    <tr>\n",
              "      <th>1</th>\n",
              "      <td>BMW</td>\n",
              "      <td>Blue</td>\n",
              "      <td>5</td>\n",
              "      <td>192714</td>\n",
              "    </tr>\n",
              "    <tr>\n",
              "      <th>2</th>\n",
              "      <td>Honda</td>\n",
              "      <td>White</td>\n",
              "      <td>4</td>\n",
              "      <td>84714</td>\n",
              "    </tr>\n",
              "    <tr>\n",
              "      <th>3</th>\n",
              "      <td>Toyota</td>\n",
              "      <td>White</td>\n",
              "      <td>4</td>\n",
              "      <td>154365</td>\n",
              "    </tr>\n",
              "    <tr>\n",
              "      <th>4</th>\n",
              "      <td>Nissan</td>\n",
              "      <td>Blue</td>\n",
              "      <td>3</td>\n",
              "      <td>181577</td>\n",
              "    </tr>\n",
              "  </tbody>\n",
              "</table>\n",
              "</div>"
            ],
            "text/plain": [
              "     Make Colour Doors Odometer (KM)\n",
              "0   Honda  White     4         35431\n",
              "1     BMW   Blue     5        192714\n",
              "2   Honda  White     4         84714\n",
              "3  Toyota  White     4        154365\n",
              "4  Nissan   Blue     3        181577"
            ]
          },
          "metadata": {
            "tags": []
          },
          "execution_count": 19
        }
      ]
    },
    {
      "cell_type": "code",
      "metadata": {
        "id": "ZAG7uxJw2YPv",
        "colab_type": "code",
        "outputId": "ef5c993c-49eb-43d6-b7ff-1bf615406a34",
        "colab": {
          "base_uri": "https://localhost:8080/",
          "height": 102
        }
      },
      "source": [
        "#checking for missing values\n",
        "car_sales_filled.isna().sum()"
      ],
      "execution_count": 0,
      "outputs": [
        {
          "output_type": "execute_result",
          "data": {
            "text/plain": [
              "Make             0\n",
              "Colour           0\n",
              "Doors            0\n",
              "Odometer (KM)    0\n",
              "dtype: int64"
            ]
          },
          "metadata": {
            "tags": []
          },
          "execution_count": 20
        }
      ]
    },
    {
      "cell_type": "code",
      "metadata": {
        "id": "U-oa95nV6WSO",
        "colab_type": "code",
        "outputId": "c1e10e67-7523-4b55-f948-ad7cd5c494f6",
        "colab": {
          "base_uri": "https://localhost:8080/",
          "height": 51
        }
      },
      "source": [
        "#turning the categorical variables to numbers\n",
        "from sklearn.preprocessing import OneHotEncoder\n",
        "from sklearn.compose import ColumnTransformer\n",
        "categorical_features = ['Make','Colour','Doors']\n",
        "one_hot = OneHotEncoder()\n",
        "transformer = ColumnTransformer([('one_hot',one_hot,categorical_features)],remainder = 'passthrough')\n",
        "\n",
        "transformed_X = transformer.fit_transform(car_sales_filled)\n",
        "transformed_X"
      ],
      "execution_count": 0,
      "outputs": [
        {
          "output_type": "execute_result",
          "data": {
            "text/plain": [
              "<950x15 sparse matrix of type '<class 'numpy.float64'>'\n",
              "\twith 3800 stored elements in Compressed Sparse Row format>"
            ]
          },
          "metadata": {
            "tags": []
          },
          "execution_count": 22
        }
      ]
    },
    {
      "cell_type": "code",
      "metadata": {
        "id": "K31qDDb76vem",
        "colab_type": "code",
        "outputId": "66367f20-366c-4541-9f1b-01c8e1bea769",
        "colab": {
          "base_uri": "https://localhost:8080/",
          "height": 34
        }
      },
      "source": [
        "#splitting data and making,scorinng the model\n",
        "from sklearn.ensemble import RandomForestRegressor\n",
        "from sklearn.model_selection import train_test_split\n",
        "\n",
        "X_train,X_test,y_train,y_test = train_test_split(transformed_X,y,test_size=0.2,random_state=0)\n",
        "\n",
        "model=RandomForestRegressor()\n",
        "model.fit(X_train,y_train)\n",
        "model.score(X_test,y_test)"
      ],
      "execution_count": 0,
      "outputs": [
        {
          "output_type": "execute_result",
          "data": {
            "text/plain": [
              "0.15874656822356636"
            ]
          },
          "metadata": {
            "tags": []
          },
          "execution_count": 23
        }
      ]
    },
    {
      "cell_type": "markdown",
      "metadata": {
        "id": "F50x6HLSoVWe",
        "colab_type": "text"
      },
      "source": [
        "# *3. Choosing the right model and Modeling *"
      ]
    },
    {
      "cell_type": "code",
      "metadata": {
        "id": "jSGKTQyKoxiH",
        "colab_type": "code",
        "colab": {}
      },
      "source": [
        "#1.Picking the right model for regression problem\n",
        "#2.Picking the right model for classification problem"
      ],
      "execution_count": 0,
      "outputs": []
    },
    {
      "cell_type": "code",
      "metadata": {
        "id": "k2fpOeuAFN9N",
        "colab_type": "code",
        "outputId": "e854de57-85d3-485b-c21b-318efd3c1307",
        "colab": {
          "base_uri": "https://localhost:8080/",
          "height": 1000
        }
      },
      "source": [
        "#import the boston housing dataset\n",
        "from sklearn.datasets import load_boston\n",
        "boston = load_boston()\n",
        "boston"
      ],
      "execution_count": 0,
      "outputs": [
        {
          "output_type": "execute_result",
          "data": {
            "text/plain": [
              "{'DESCR': \".. _boston_dataset:\\n\\nBoston house prices dataset\\n---------------------------\\n\\n**Data Set Characteristics:**  \\n\\n    :Number of Instances: 506 \\n\\n    :Number of Attributes: 13 numeric/categorical predictive. Median Value (attribute 14) is usually the target.\\n\\n    :Attribute Information (in order):\\n        - CRIM     per capita crime rate by town\\n        - ZN       proportion of residential land zoned for lots over 25,000 sq.ft.\\n        - INDUS    proportion of non-retail business acres per town\\n        - CHAS     Charles River dummy variable (= 1 if tract bounds river; 0 otherwise)\\n        - NOX      nitric oxides concentration (parts per 10 million)\\n        - RM       average number of rooms per dwelling\\n        - AGE      proportion of owner-occupied units built prior to 1940\\n        - DIS      weighted distances to five Boston employment centres\\n        - RAD      index of accessibility to radial highways\\n        - TAX      full-value property-tax rate per $10,000\\n        - PTRATIO  pupil-teacher ratio by town\\n        - B        1000(Bk - 0.63)^2 where Bk is the proportion of blacks by town\\n        - LSTAT    % lower status of the population\\n        - MEDV     Median value of owner-occupied homes in $1000's\\n\\n    :Missing Attribute Values: None\\n\\n    :Creator: Harrison, D. and Rubinfeld, D.L.\\n\\nThis is a copy of UCI ML housing dataset.\\nhttps://archive.ics.uci.edu/ml/machine-learning-databases/housing/\\n\\n\\nThis dataset was taken from the StatLib library which is maintained at Carnegie Mellon University.\\n\\nThe Boston house-price data of Harrison, D. and Rubinfeld, D.L. 'Hedonic\\nprices and the demand for clean air', J. Environ. Economics & Management,\\nvol.5, 81-102, 1978.   Used in Belsley, Kuh & Welsch, 'Regression diagnostics\\n...', Wiley, 1980.   N.B. Various transformations are used in the table on\\npages 244-261 of the latter.\\n\\nThe Boston house-price data has been used in many machine learning papers that address regression\\nproblems.   \\n     \\n.. topic:: References\\n\\n   - Belsley, Kuh & Welsch, 'Regression diagnostics: Identifying Influential Data and Sources of Collinearity', Wiley, 1980. 244-261.\\n   - Quinlan,R. (1993). Combining Instance-Based and Model-Based Learning. In Proceedings on the Tenth International Conference of Machine Learning, 236-243, University of Massachusetts, Amherst. Morgan Kaufmann.\\n\",\n",
              " 'data': array([[6.3200e-03, 1.8000e+01, 2.3100e+00, ..., 1.5300e+01, 3.9690e+02,\n",
              "         4.9800e+00],\n",
              "        [2.7310e-02, 0.0000e+00, 7.0700e+00, ..., 1.7800e+01, 3.9690e+02,\n",
              "         9.1400e+00],\n",
              "        [2.7290e-02, 0.0000e+00, 7.0700e+00, ..., 1.7800e+01, 3.9283e+02,\n",
              "         4.0300e+00],\n",
              "        ...,\n",
              "        [6.0760e-02, 0.0000e+00, 1.1930e+01, ..., 2.1000e+01, 3.9690e+02,\n",
              "         5.6400e+00],\n",
              "        [1.0959e-01, 0.0000e+00, 1.1930e+01, ..., 2.1000e+01, 3.9345e+02,\n",
              "         6.4800e+00],\n",
              "        [4.7410e-02, 0.0000e+00, 1.1930e+01, ..., 2.1000e+01, 3.9690e+02,\n",
              "         7.8800e+00]]),\n",
              " 'feature_names': array(['CRIM', 'ZN', 'INDUS', 'CHAS', 'NOX', 'RM', 'AGE', 'DIS', 'RAD',\n",
              "        'TAX', 'PTRATIO', 'B', 'LSTAT'], dtype='<U7'),\n",
              " 'filename': '/usr/local/lib/python3.6/dist-packages/sklearn/datasets/data/boston_house_prices.csv',\n",
              " 'target': array([24. , 21.6, 34.7, 33.4, 36.2, 28.7, 22.9, 27.1, 16.5, 18.9, 15. ,\n",
              "        18.9, 21.7, 20.4, 18.2, 19.9, 23.1, 17.5, 20.2, 18.2, 13.6, 19.6,\n",
              "        15.2, 14.5, 15.6, 13.9, 16.6, 14.8, 18.4, 21. , 12.7, 14.5, 13.2,\n",
              "        13.1, 13.5, 18.9, 20. , 21. , 24.7, 30.8, 34.9, 26.6, 25.3, 24.7,\n",
              "        21.2, 19.3, 20. , 16.6, 14.4, 19.4, 19.7, 20.5, 25. , 23.4, 18.9,\n",
              "        35.4, 24.7, 31.6, 23.3, 19.6, 18.7, 16. , 22.2, 25. , 33. , 23.5,\n",
              "        19.4, 22. , 17.4, 20.9, 24.2, 21.7, 22.8, 23.4, 24.1, 21.4, 20. ,\n",
              "        20.8, 21.2, 20.3, 28. , 23.9, 24.8, 22.9, 23.9, 26.6, 22.5, 22.2,\n",
              "        23.6, 28.7, 22.6, 22. , 22.9, 25. , 20.6, 28.4, 21.4, 38.7, 43.8,\n",
              "        33.2, 27.5, 26.5, 18.6, 19.3, 20.1, 19.5, 19.5, 20.4, 19.8, 19.4,\n",
              "        21.7, 22.8, 18.8, 18.7, 18.5, 18.3, 21.2, 19.2, 20.4, 19.3, 22. ,\n",
              "        20.3, 20.5, 17.3, 18.8, 21.4, 15.7, 16.2, 18. , 14.3, 19.2, 19.6,\n",
              "        23. , 18.4, 15.6, 18.1, 17.4, 17.1, 13.3, 17.8, 14. , 14.4, 13.4,\n",
              "        15.6, 11.8, 13.8, 15.6, 14.6, 17.8, 15.4, 21.5, 19.6, 15.3, 19.4,\n",
              "        17. , 15.6, 13.1, 41.3, 24.3, 23.3, 27. , 50. , 50. , 50. , 22.7,\n",
              "        25. , 50. , 23.8, 23.8, 22.3, 17.4, 19.1, 23.1, 23.6, 22.6, 29.4,\n",
              "        23.2, 24.6, 29.9, 37.2, 39.8, 36.2, 37.9, 32.5, 26.4, 29.6, 50. ,\n",
              "        32. , 29.8, 34.9, 37. , 30.5, 36.4, 31.1, 29.1, 50. , 33.3, 30.3,\n",
              "        34.6, 34.9, 32.9, 24.1, 42.3, 48.5, 50. , 22.6, 24.4, 22.5, 24.4,\n",
              "        20. , 21.7, 19.3, 22.4, 28.1, 23.7, 25. , 23.3, 28.7, 21.5, 23. ,\n",
              "        26.7, 21.7, 27.5, 30.1, 44.8, 50. , 37.6, 31.6, 46.7, 31.5, 24.3,\n",
              "        31.7, 41.7, 48.3, 29. , 24. , 25.1, 31.5, 23.7, 23.3, 22. , 20.1,\n",
              "        22.2, 23.7, 17.6, 18.5, 24.3, 20.5, 24.5, 26.2, 24.4, 24.8, 29.6,\n",
              "        42.8, 21.9, 20.9, 44. , 50. , 36. , 30.1, 33.8, 43.1, 48.8, 31. ,\n",
              "        36.5, 22.8, 30.7, 50. , 43.5, 20.7, 21.1, 25.2, 24.4, 35.2, 32.4,\n",
              "        32. , 33.2, 33.1, 29.1, 35.1, 45.4, 35.4, 46. , 50. , 32.2, 22. ,\n",
              "        20.1, 23.2, 22.3, 24.8, 28.5, 37.3, 27.9, 23.9, 21.7, 28.6, 27.1,\n",
              "        20.3, 22.5, 29. , 24.8, 22. , 26.4, 33.1, 36.1, 28.4, 33.4, 28.2,\n",
              "        22.8, 20.3, 16.1, 22.1, 19.4, 21.6, 23.8, 16.2, 17.8, 19.8, 23.1,\n",
              "        21. , 23.8, 23.1, 20.4, 18.5, 25. , 24.6, 23. , 22.2, 19.3, 22.6,\n",
              "        19.8, 17.1, 19.4, 22.2, 20.7, 21.1, 19.5, 18.5, 20.6, 19. , 18.7,\n",
              "        32.7, 16.5, 23.9, 31.2, 17.5, 17.2, 23.1, 24.5, 26.6, 22.9, 24.1,\n",
              "        18.6, 30.1, 18.2, 20.6, 17.8, 21.7, 22.7, 22.6, 25. , 19.9, 20.8,\n",
              "        16.8, 21.9, 27.5, 21.9, 23.1, 50. , 50. , 50. , 50. , 50. , 13.8,\n",
              "        13.8, 15. , 13.9, 13.3, 13.1, 10.2, 10.4, 10.9, 11.3, 12.3,  8.8,\n",
              "         7.2, 10.5,  7.4, 10.2, 11.5, 15.1, 23.2,  9.7, 13.8, 12.7, 13.1,\n",
              "        12.5,  8.5,  5. ,  6.3,  5.6,  7.2, 12.1,  8.3,  8.5,  5. , 11.9,\n",
              "        27.9, 17.2, 27.5, 15. , 17.2, 17.9, 16.3,  7. ,  7.2,  7.5, 10.4,\n",
              "         8.8,  8.4, 16.7, 14.2, 20.8, 13.4, 11.7,  8.3, 10.2, 10.9, 11. ,\n",
              "         9.5, 14.5, 14.1, 16.1, 14.3, 11.7, 13.4,  9.6,  8.7,  8.4, 12.8,\n",
              "        10.5, 17.1, 18.4, 15.4, 10.8, 11.8, 14.9, 12.6, 14.1, 13. , 13.4,\n",
              "        15.2, 16.1, 17.8, 14.9, 14.1, 12.7, 13.5, 14.9, 20. , 16.4, 17.7,\n",
              "        19.5, 20.2, 21.4, 19.9, 19. , 19.1, 19.1, 20.1, 19.9, 19.6, 23.2,\n",
              "        29.8, 13.8, 13.3, 16.7, 12. , 14.6, 21.4, 23. , 23.7, 25. , 21.8,\n",
              "        20.6, 21.2, 19.1, 20.6, 15.2,  7. ,  8.1, 13.6, 20.1, 21.8, 24.5,\n",
              "        23.1, 19.7, 18.3, 21.2, 17.5, 16.8, 22.4, 20.6, 23.9, 22. , 11.9])}"
            ]
          },
          "metadata": {
            "tags": []
          },
          "execution_count": 4
        }
      ]
    },
    {
      "cell_type": "code",
      "metadata": {
        "id": "-NdCXO9_GCy0",
        "colab_type": "code",
        "outputId": "2966be28-dad2-42ad-aeea-38cf0aa96ce7",
        "colab": {
          "base_uri": "https://localhost:8080/",
          "height": 204
        }
      },
      "source": [
        "boston_df = pd.DataFrame(boston['data'],columns=boston['feature_names'])\n",
        "boston_df['target']=pd.Series(boston['target'])\n",
        "boston_df.head()"
      ],
      "execution_count": 0,
      "outputs": [
        {
          "output_type": "execute_result",
          "data": {
            "text/html": [
              "<div>\n",
              "<style scoped>\n",
              "    .dataframe tbody tr th:only-of-type {\n",
              "        vertical-align: middle;\n",
              "    }\n",
              "\n",
              "    .dataframe tbody tr th {\n",
              "        vertical-align: top;\n",
              "    }\n",
              "\n",
              "    .dataframe thead th {\n",
              "        text-align: right;\n",
              "    }\n",
              "</style>\n",
              "<table border=\"1\" class=\"dataframe\">\n",
              "  <thead>\n",
              "    <tr style=\"text-align: right;\">\n",
              "      <th></th>\n",
              "      <th>CRIM</th>\n",
              "      <th>ZN</th>\n",
              "      <th>INDUS</th>\n",
              "      <th>CHAS</th>\n",
              "      <th>NOX</th>\n",
              "      <th>RM</th>\n",
              "      <th>AGE</th>\n",
              "      <th>DIS</th>\n",
              "      <th>RAD</th>\n",
              "      <th>TAX</th>\n",
              "      <th>PTRATIO</th>\n",
              "      <th>B</th>\n",
              "      <th>LSTAT</th>\n",
              "      <th>target</th>\n",
              "    </tr>\n",
              "  </thead>\n",
              "  <tbody>\n",
              "    <tr>\n",
              "      <th>0</th>\n",
              "      <td>0.00632</td>\n",
              "      <td>18.0</td>\n",
              "      <td>2.31</td>\n",
              "      <td>0.0</td>\n",
              "      <td>0.538</td>\n",
              "      <td>6.575</td>\n",
              "      <td>65.2</td>\n",
              "      <td>4.0900</td>\n",
              "      <td>1.0</td>\n",
              "      <td>296.0</td>\n",
              "      <td>15.3</td>\n",
              "      <td>396.90</td>\n",
              "      <td>4.98</td>\n",
              "      <td>24.0</td>\n",
              "    </tr>\n",
              "    <tr>\n",
              "      <th>1</th>\n",
              "      <td>0.02731</td>\n",
              "      <td>0.0</td>\n",
              "      <td>7.07</td>\n",
              "      <td>0.0</td>\n",
              "      <td>0.469</td>\n",
              "      <td>6.421</td>\n",
              "      <td>78.9</td>\n",
              "      <td>4.9671</td>\n",
              "      <td>2.0</td>\n",
              "      <td>242.0</td>\n",
              "      <td>17.8</td>\n",
              "      <td>396.90</td>\n",
              "      <td>9.14</td>\n",
              "      <td>21.6</td>\n",
              "    </tr>\n",
              "    <tr>\n",
              "      <th>2</th>\n",
              "      <td>0.02729</td>\n",
              "      <td>0.0</td>\n",
              "      <td>7.07</td>\n",
              "      <td>0.0</td>\n",
              "      <td>0.469</td>\n",
              "      <td>7.185</td>\n",
              "      <td>61.1</td>\n",
              "      <td>4.9671</td>\n",
              "      <td>2.0</td>\n",
              "      <td>242.0</td>\n",
              "      <td>17.8</td>\n",
              "      <td>392.83</td>\n",
              "      <td>4.03</td>\n",
              "      <td>34.7</td>\n",
              "    </tr>\n",
              "    <tr>\n",
              "      <th>3</th>\n",
              "      <td>0.03237</td>\n",
              "      <td>0.0</td>\n",
              "      <td>2.18</td>\n",
              "      <td>0.0</td>\n",
              "      <td>0.458</td>\n",
              "      <td>6.998</td>\n",
              "      <td>45.8</td>\n",
              "      <td>6.0622</td>\n",
              "      <td>3.0</td>\n",
              "      <td>222.0</td>\n",
              "      <td>18.7</td>\n",
              "      <td>394.63</td>\n",
              "      <td>2.94</td>\n",
              "      <td>33.4</td>\n",
              "    </tr>\n",
              "    <tr>\n",
              "      <th>4</th>\n",
              "      <td>0.06905</td>\n",
              "      <td>0.0</td>\n",
              "      <td>2.18</td>\n",
              "      <td>0.0</td>\n",
              "      <td>0.458</td>\n",
              "      <td>7.147</td>\n",
              "      <td>54.2</td>\n",
              "      <td>6.0622</td>\n",
              "      <td>3.0</td>\n",
              "      <td>222.0</td>\n",
              "      <td>18.7</td>\n",
              "      <td>396.90</td>\n",
              "      <td>5.33</td>\n",
              "      <td>36.2</td>\n",
              "    </tr>\n",
              "  </tbody>\n",
              "</table>\n",
              "</div>"
            ],
            "text/plain": [
              "      CRIM    ZN  INDUS  CHAS    NOX  ...    TAX  PTRATIO       B  LSTAT  target\n",
              "0  0.00632  18.0   2.31   0.0  0.538  ...  296.0     15.3  396.90   4.98    24.0\n",
              "1  0.02731   0.0   7.07   0.0  0.469  ...  242.0     17.8  396.90   9.14    21.6\n",
              "2  0.02729   0.0   7.07   0.0  0.469  ...  242.0     17.8  392.83   4.03    34.7\n",
              "3  0.03237   0.0   2.18   0.0  0.458  ...  222.0     18.7  394.63   2.94    33.4\n",
              "4  0.06905   0.0   2.18   0.0  0.458  ...  222.0     18.7  396.90   5.33    36.2\n",
              "\n",
              "[5 rows x 14 columns]"
            ]
          },
          "metadata": {
            "tags": []
          },
          "execution_count": 5
        }
      ]
    },
    {
      "cell_type": "code",
      "metadata": {
        "id": "yrbkbsEAG8NN",
        "colab_type": "code",
        "outputId": "cfcf7303-8cd9-4fbf-b365-a0ab56b206aa",
        "colab": {
          "base_uri": "https://localhost:8080/",
          "height": 231
        }
      },
      "source": [
        "#Try ridge regression model\n",
        "from sklearn.linear_model import Ridge\n",
        "\n",
        "X=boston_df.drop('target',axis=1)\n",
        "y=boston_df['target']\n",
        "\n",
        "#splitting the data\n",
        "from sklearn.model_selection import  train_test_split\n",
        "X_train,X_test,y_train,y_test = train_test_split(X,y,test_size=0.2,random_state=0)\n",
        "\n",
        "#instantiate ridge model\n",
        "model=Ridge()\n",
        "model.fit(X_train,y_train)\n",
        "\n",
        "#scoring the model\n",
        "model.score(X_train,y_train),model.score(X_test,y_test)"
      ],
      "execution_count": 0,
      "outputs": [
        {
          "output_type": "error",
          "ename": "NameError",
          "evalue": "ignored",
          "traceback": [
            "\u001b[0;31m---------------------------------------------------------------------------\u001b[0m",
            "\u001b[0;31mNameError\u001b[0m                                 Traceback (most recent call last)",
            "\u001b[0;32m<ipython-input-11-27beed6dc61e>\u001b[0m in \u001b[0;36m<module>\u001b[0;34m()\u001b[0m\n\u001b[1;32m      1\u001b[0m \u001b[0;32mfrom\u001b[0m \u001b[0msklearn\u001b[0m\u001b[0;34m.\u001b[0m\u001b[0mlinear_model\u001b[0m \u001b[0;32mimport\u001b[0m \u001b[0mRidge\u001b[0m\u001b[0;34m\u001b[0m\u001b[0;34m\u001b[0m\u001b[0m\n\u001b[1;32m      2\u001b[0m \u001b[0;34m\u001b[0m\u001b[0m\n\u001b[0;32m----> 3\u001b[0;31m \u001b[0mX\u001b[0m\u001b[0;34m=\u001b[0m\u001b[0mboston_df\u001b[0m\u001b[0;34m.\u001b[0m\u001b[0mdrop\u001b[0m\u001b[0;34m(\u001b[0m\u001b[0;34m'target'\u001b[0m\u001b[0;34m,\u001b[0m\u001b[0maxis\u001b[0m\u001b[0;34m=\u001b[0m\u001b[0;36m1\u001b[0m\u001b[0;34m)\u001b[0m\u001b[0;34m\u001b[0m\u001b[0;34m\u001b[0m\u001b[0m\n\u001b[0m\u001b[1;32m      4\u001b[0m \u001b[0my\u001b[0m\u001b[0;34m=\u001b[0m\u001b[0mboston_df\u001b[0m\u001b[0;34m[\u001b[0m\u001b[0;34m'target'\u001b[0m\u001b[0;34m]\u001b[0m\u001b[0;34m\u001b[0m\u001b[0;34m\u001b[0m\u001b[0m\n\u001b[1;32m      5\u001b[0m \u001b[0;34m\u001b[0m\u001b[0m\n",
            "\u001b[0;31mNameError\u001b[0m: name 'boston_df' is not defined"
          ]
        }
      ]
    },
    {
      "cell_type": "markdown",
      "metadata": {
        "id": "L9Fjtig9QkOL",
        "colab_type": "text"
      },
      "source": [
        "#Choosing the estimator for classification problem\n",
        "https://scikit-learn.org/stable/tutorial/machine_learning_map/index.html"
      ]
    },
    {
      "cell_type": "code",
      "metadata": {
        "id": "_SuAeANrQ38J",
        "colab_type": "code",
        "outputId": "d4aedcd1-6ee2-44a5-ed62-2887fd631e98",
        "colab": {
          "base_uri": "https://localhost:8080/",
          "height": 204
        }
      },
      "source": [
        "#loading the heart disease dataset\n",
        "heart_disease = pd.read_csv('heart-disease.csv')\n",
        "heart_disease.head()"
      ],
      "execution_count": 0,
      "outputs": [
        {
          "output_type": "execute_result",
          "data": {
            "text/html": [
              "<div>\n",
              "<style scoped>\n",
              "    .dataframe tbody tr th:only-of-type {\n",
              "        vertical-align: middle;\n",
              "    }\n",
              "\n",
              "    .dataframe tbody tr th {\n",
              "        vertical-align: top;\n",
              "    }\n",
              "\n",
              "    .dataframe thead th {\n",
              "        text-align: right;\n",
              "    }\n",
              "</style>\n",
              "<table border=\"1\" class=\"dataframe\">\n",
              "  <thead>\n",
              "    <tr style=\"text-align: right;\">\n",
              "      <th></th>\n",
              "      <th>age</th>\n",
              "      <th>sex</th>\n",
              "      <th>cp</th>\n",
              "      <th>trestbps</th>\n",
              "      <th>chol</th>\n",
              "      <th>fbs</th>\n",
              "      <th>restecg</th>\n",
              "      <th>thalach</th>\n",
              "      <th>exang</th>\n",
              "      <th>oldpeak</th>\n",
              "      <th>slope</th>\n",
              "      <th>ca</th>\n",
              "      <th>thal</th>\n",
              "      <th>target</th>\n",
              "    </tr>\n",
              "  </thead>\n",
              "  <tbody>\n",
              "    <tr>\n",
              "      <th>0</th>\n",
              "      <td>63</td>\n",
              "      <td>1</td>\n",
              "      <td>3</td>\n",
              "      <td>145</td>\n",
              "      <td>233</td>\n",
              "      <td>1</td>\n",
              "      <td>0</td>\n",
              "      <td>150</td>\n",
              "      <td>0</td>\n",
              "      <td>2.3</td>\n",
              "      <td>0</td>\n",
              "      <td>0</td>\n",
              "      <td>1</td>\n",
              "      <td>1</td>\n",
              "    </tr>\n",
              "    <tr>\n",
              "      <th>1</th>\n",
              "      <td>37</td>\n",
              "      <td>1</td>\n",
              "      <td>2</td>\n",
              "      <td>130</td>\n",
              "      <td>250</td>\n",
              "      <td>0</td>\n",
              "      <td>1</td>\n",
              "      <td>187</td>\n",
              "      <td>0</td>\n",
              "      <td>3.5</td>\n",
              "      <td>0</td>\n",
              "      <td>0</td>\n",
              "      <td>2</td>\n",
              "      <td>1</td>\n",
              "    </tr>\n",
              "    <tr>\n",
              "      <th>2</th>\n",
              "      <td>41</td>\n",
              "      <td>0</td>\n",
              "      <td>1</td>\n",
              "      <td>130</td>\n",
              "      <td>204</td>\n",
              "      <td>0</td>\n",
              "      <td>0</td>\n",
              "      <td>172</td>\n",
              "      <td>0</td>\n",
              "      <td>1.4</td>\n",
              "      <td>2</td>\n",
              "      <td>0</td>\n",
              "      <td>2</td>\n",
              "      <td>1</td>\n",
              "    </tr>\n",
              "    <tr>\n",
              "      <th>3</th>\n",
              "      <td>56</td>\n",
              "      <td>1</td>\n",
              "      <td>1</td>\n",
              "      <td>120</td>\n",
              "      <td>236</td>\n",
              "      <td>0</td>\n",
              "      <td>1</td>\n",
              "      <td>178</td>\n",
              "      <td>0</td>\n",
              "      <td>0.8</td>\n",
              "      <td>2</td>\n",
              "      <td>0</td>\n",
              "      <td>2</td>\n",
              "      <td>1</td>\n",
              "    </tr>\n",
              "    <tr>\n",
              "      <th>4</th>\n",
              "      <td>57</td>\n",
              "      <td>0</td>\n",
              "      <td>0</td>\n",
              "      <td>120</td>\n",
              "      <td>354</td>\n",
              "      <td>0</td>\n",
              "      <td>1</td>\n",
              "      <td>163</td>\n",
              "      <td>1</td>\n",
              "      <td>0.6</td>\n",
              "      <td>2</td>\n",
              "      <td>0</td>\n",
              "      <td>2</td>\n",
              "      <td>1</td>\n",
              "    </tr>\n",
              "  </tbody>\n",
              "</table>\n",
              "</div>"
            ],
            "text/plain": [
              "   age  sex  cp  trestbps  chol  fbs  ...  exang  oldpeak  slope  ca  thal  target\n",
              "0   63    1   3       145   233    1  ...      0      2.3      0   0     1       1\n",
              "1   37    1   2       130   250    0  ...      0      3.5      0   0     2       1\n",
              "2   41    0   1       130   204    0  ...      0      1.4      2   0     2       1\n",
              "3   56    1   1       120   236    0  ...      0      0.8      2   0     2       1\n",
              "4   57    0   0       120   354    0  ...      1      0.6      2   0     2       1\n",
              "\n",
              "[5 rows x 14 columns]"
            ]
          },
          "metadata": {
            "tags": []
          },
          "execution_count": 26
        }
      ]
    },
    {
      "cell_type": "code",
      "metadata": {
        "id": "LRWqn_XpR2S7",
        "colab_type": "code",
        "outputId": "9c30e8ab-692a-4ba1-ff9f-451cc18eb796",
        "colab": {
          "base_uri": "https://localhost:8080/",
          "height": 34
        }
      },
      "source": [
        "heart_disease.shape"
      ],
      "execution_count": 0,
      "outputs": [
        {
          "output_type": "execute_result",
          "data": {
            "text/plain": [
              "(303, 14)"
            ]
          },
          "metadata": {
            "tags": []
          },
          "execution_count": 27
        }
      ]
    },
    {
      "cell_type": "code",
      "metadata": {
        "id": "t3eyLG18R6Do",
        "colab_type": "code",
        "colab": {}
      },
      "source": [
        "#importing the model, splitting data into training and test sets\n",
        "from sklearn.svm import LinearSVC\n",
        "\n",
        "#Make Predictor and response variables\n",
        "X=heart_disease.drop('target',axis=1)\n",
        "y=heart_disease['target']\n",
        "\n",
        "#split data\n",
        "from sklearn.model_selection import train_test_split\n",
        "X_train,X_test,y_train,y_test = train_test_split(X,y,test_size=0.2,random_state=0)"
      ],
      "execution_count": 0,
      "outputs": []
    },
    {
      "cell_type": "code",
      "metadata": {
        "id": "N6hqTcgjS2yI",
        "colab_type": "code",
        "outputId": "d8b5c315-fafe-4ccf-c37f-ed798e29afbc",
        "colab": {
          "base_uri": "https://localhost:8080/",
          "height": 68
        }
      },
      "source": [
        "#Instantiate the model and evaluate score\n",
        "model = LinearSVC()\n",
        "model.fit(X_train,y_train)\n",
        "model.score(X_train,y_train),model.score(X_test,y_test)"
      ],
      "execution_count": 0,
      "outputs": [
        {
          "output_type": "stream",
          "text": [
            "/usr/local/lib/python3.6/dist-packages/sklearn/svm/_base.py:947: ConvergenceWarning: Liblinear failed to converge, increase the number of iterations.\n",
            "  \"the number of iterations.\", ConvergenceWarning)\n"
          ],
          "name": "stderr"
        },
        {
          "output_type": "execute_result",
          "data": {
            "text/plain": [
              "(0.7231404958677686, 0.6721311475409836)"
            ]
          },
          "metadata": {
            "tags": []
          },
          "execution_count": 29
        }
      ]
    },
    {
      "cell_type": "code",
      "metadata": {
        "id": "mIhVU9oPTp6L",
        "colab_type": "code",
        "outputId": "28361edd-827f-4662-e14f-3a1d1fe4e150",
        "colab": {
          "base_uri": "https://localhost:8080/",
          "height": 34
        }
      },
      "source": [
        "#Try randomforest regressor for boston housing data\n",
        "#Try ridge regression model\n",
        "from sklearn.ensemble import RandomForestRegressor\n",
        "\n",
        "X=boston_df.drop('target',axis=1)\n",
        "y=boston_df['target']\n",
        "\n",
        "#splitting the data\n",
        "from sklearn.model_selection import  train_test_split\n",
        "X_train,X_test,y_train,y_test = train_test_split(X,y,test_size=0.2,random_state=0)\n",
        "\n",
        "#instantiate ridge model\n",
        "model=RandomForestRegressor()\n",
        "model.fit(X_train,y_train)\n",
        "\n",
        "#scoring the model\n",
        "model.score(X_train,y_train),model.score(X_test,y_test)"
      ],
      "execution_count": 0,
      "outputs": [
        {
          "output_type": "execute_result",
          "data": {
            "text/plain": [
              "(0.983002849709739, 0.7366913061531987)"
            ]
          },
          "metadata": {
            "tags": []
          },
          "execution_count": 32
        }
      ]
    },
    {
      "cell_type": "code",
      "metadata": {
        "id": "CE0Ot8BdUYUR",
        "colab_type": "code",
        "colab": {}
      },
      "source": [
        "#Try RF classifier for heart disease dataset\n",
        "#loading the heart disease dataset\n",
        "heart_disease = pd.read_csv('heart-disease.csv')\n",
        "#importing the model, splitting data into training and test sets\n",
        "from sklearn.ensemble import RandomForestClassifier\n",
        "\n",
        "#Make Predictor and response variables\n",
        "X=heart_disease.drop('target',axis=1)\n",
        "y=heart_disease['target']\n",
        "\n",
        "#split data\n",
        "from sklearn.model_selection import train_test_split\n",
        "X_train,X_test,y_train,y_test = train_test_split(X,y,test_size=0.2,random_state=0)"
      ],
      "execution_count": 0,
      "outputs": []
    },
    {
      "cell_type": "code",
      "metadata": {
        "id": "4ysUHvgyUu7A",
        "colab_type": "code",
        "outputId": "e905668e-e591-4394-e6d3-758b409a4e59",
        "colab": {
          "base_uri": "https://localhost:8080/",
          "height": 34
        }
      },
      "source": [
        "#Instantiate the model and evaluate score\n",
        "model = RandomForestClassifier()\n",
        "model.fit(X_train,y_train)\n",
        "model.score(X_train,y_train),model.score(X_test,y_test)"
      ],
      "execution_count": 0,
      "outputs": [
        {
          "output_type": "execute_result",
          "data": {
            "text/plain": [
              "(1.0, 0.8688524590163934)"
            ]
          },
          "metadata": {
            "tags": []
          },
          "execution_count": 5
        }
      ]
    },
    {
      "cell_type": "markdown",
      "metadata": {
        "id": "lKIi4DYyV6ld",
        "colab_type": "text"
      },
      "source": [
        "# **Making Prediction with our data**"
      ]
    },
    {
      "cell_type": "markdown",
      "metadata": {
        "id": "K6PcCLmfW51-",
        "colab_type": "text"
      },
      "source": [
        "1.Using predict()\n",
        "2.Using predict_proba()\n",
        "\n",
        "\n",
        "\n"
      ]
    },
    {
      "cell_type": "code",
      "metadata": {
        "id": "n7B-UrqHXMWL",
        "colab_type": "code",
        "outputId": "ce15813e-258a-4034-a619-cf63fc383c7f",
        "colab": {
          "base_uri": "https://localhost:8080/",
          "height": 204
        }
      },
      "source": [
        "model.predict(X_train)"
      ],
      "execution_count": 0,
      "outputs": [
        {
          "output_type": "execute_result",
          "data": {
            "text/plain": [
              "array([1, 1, 1, 0, 0, 0, 0, 1, 1, 1, 1, 1, 0, 0, 1, 0, 0, 1, 1, 0, 0, 0,\n",
              "       1, 0, 0, 0, 0, 1, 0, 0, 1, 1, 0, 1, 1, 0, 0, 1, 0, 0, 1, 0, 1, 0,\n",
              "       0, 0, 1, 1, 1, 0, 0, 0, 0, 1, 0, 1, 1, 1, 0, 1, 1, 1, 0, 1, 1, 1,\n",
              "       1, 1, 1, 1, 0, 0, 1, 1, 0, 1, 1, 0, 0, 0, 0, 1, 0, 1, 1, 0, 1, 1,\n",
              "       1, 1, 1, 1, 0, 0, 1, 0, 0, 0, 1, 1, 1, 0, 1, 0, 1, 1, 0, 1, 1, 1,\n",
              "       1, 1, 0, 0, 1, 0, 1, 0, 0, 1, 0, 0, 1, 1, 1, 0, 0, 1, 1, 0, 1, 0,\n",
              "       1, 0, 1, 1, 0, 1, 1, 1, 0, 1, 0, 0, 0, 1, 1, 1, 1, 0, 1, 0, 1, 0,\n",
              "       1, 1, 1, 0, 1, 0, 1, 0, 0, 0, 1, 1, 0, 1, 0, 1, 1, 0, 0, 1, 0, 1,\n",
              "       1, 0, 1, 1, 1, 1, 1, 0, 0, 1, 1, 1, 0, 0, 1, 1, 1, 1, 1, 0, 1, 1,\n",
              "       0, 1, 1, 0, 1, 1, 0, 0, 1, 1, 1, 0, 0, 0, 1, 0, 0, 1, 0, 0, 1, 0,\n",
              "       1, 1, 0, 0, 0, 0, 1, 0, 1, 1, 1, 0, 0, 0, 0, 1, 0, 0, 0, 1, 1, 0])"
            ]
          },
          "metadata": {
            "tags": []
          },
          "execution_count": 6
        }
      ]
    },
    {
      "cell_type": "code",
      "metadata": {
        "id": "jf457NP7W6uu",
        "colab_type": "code",
        "outputId": "99b4f40d-554d-439d-9048-296c0c15233d",
        "colab": {
          "base_uri": "https://localhost:8080/",
          "height": 221
        }
      },
      "source": [
        "y_train"
      ],
      "execution_count": 0,
      "outputs": [
        {
          "output_type": "execute_result",
          "data": {
            "text/plain": [
              "74     1\n",
              "153    1\n",
              "64     1\n",
              "296    0\n",
              "287    0\n",
              "      ..\n",
              "251    0\n",
              "192    0\n",
              "117    1\n",
              "47     1\n",
              "172    0\n",
              "Name: target, Length: 242, dtype: int64"
            ]
          },
          "metadata": {
            "tags": []
          },
          "execution_count": 36
        }
      ]
    },
    {
      "cell_type": "code",
      "metadata": {
        "id": "s0Ip3AmjW7L0",
        "colab_type": "code",
        "outputId": "90ce503b-1a5b-4a31-c0c8-db4675d2f7cc",
        "colab": {
          "base_uri": "https://localhost:8080/",
          "height": 34
        }
      },
      "source": [
        "#compare the results\n",
        "y_preds=model.predict(X_test)\n",
        "np.mean(y_preds==y_test)"
      ],
      "execution_count": 0,
      "outputs": [
        {
          "output_type": "execute_result",
          "data": {
            "text/plain": [
              "0.8688524590163934"
            ]
          },
          "metadata": {
            "tags": []
          },
          "execution_count": 7
        }
      ]
    },
    {
      "cell_type": "code",
      "metadata": {
        "id": "GuyOVHA4W7js",
        "colab_type": "code",
        "outputId": "1e2aa35a-4a4a-4e23-f0f0-110d551d62a0",
        "colab": {
          "base_uri": "https://localhost:8080/",
          "height": 34
        }
      },
      "source": [
        "model.score(X_test,y_test)"
      ],
      "execution_count": 0,
      "outputs": [
        {
          "output_type": "execute_result",
          "data": {
            "text/plain": [
              "0.8688524590163934"
            ]
          },
          "metadata": {
            "tags": []
          },
          "execution_count": 8
        }
      ]
    },
    {
      "cell_type": "code",
      "metadata": {
        "id": "j6mcOVszWPM7",
        "colab_type": "code",
        "outputId": "e6cea308-9e1a-48b2-93e3-9066331653e2",
        "colab": {
          "base_uri": "https://localhost:8080/",
          "height": 34
        }
      },
      "source": [
        "from sklearn.metrics import accuracy_score\n",
        "accuracy_score(y_preds,y_test)"
      ],
      "execution_count": 0,
      "outputs": [
        {
          "output_type": "execute_result",
          "data": {
            "text/plain": [
              "0.8688524590163934"
            ]
          },
          "metadata": {
            "tags": []
          },
          "execution_count": 9
        }
      ]
    },
    {
      "cell_type": "code",
      "metadata": {
        "id": "adBtjvccWJEY",
        "colab_type": "code",
        "outputId": "4d723ac4-4f01-4885-f2bb-c49be98ef9bd",
        "colab": {
          "base_uri": "https://localhost:8080/",
          "height": 102
        }
      },
      "source": [
        "#This predicts the probabilities of the outcomes of the classification\n",
        "model.predict_proba(X_test[:5])"
      ],
      "execution_count": 0,
      "outputs": [
        {
          "output_type": "execute_result",
          "data": {
            "text/plain": [
              "array([[0.78, 0.22],\n",
              "       [0.45, 0.55],\n",
              "       [0.35, 0.65],\n",
              "       [1.  , 0.  ],\n",
              "       [0.89, 0.11]])"
            ]
          },
          "metadata": {
            "tags": []
          },
          "execution_count": 10
        }
      ]
    },
    {
      "cell_type": "markdown",
      "metadata": {
        "id": "8ooT51DtYqT8",
        "colab_type": "text"
      },
      "source": [
        "**Predicting the outcomes for a regression Model**"
      ]
    },
    {
      "cell_type": "code",
      "metadata": {
        "id": "2acAMseWYrAd",
        "colab_type": "code",
        "colab": {}
      },
      "source": [
        "from sklearn.ensemble import RandomForestRegressor\n",
        "np.random.seed(42)"
      ],
      "execution_count": 0,
      "outputs": []
    },
    {
      "cell_type": "code",
      "metadata": {
        "id": "ZLeS6pqKoECC",
        "colab_type": "code",
        "colab": {}
      },
      "source": [
        ""
      ],
      "execution_count": 0,
      "outputs": []
    },
    {
      "cell_type": "code",
      "metadata": {
        "id": "wZZ29xQQYrP6",
        "colab_type": "code",
        "outputId": "0bfffbe2-3ddd-41a6-ba41-df2941214a78",
        "colab": {
          "base_uri": "https://localhost:8080/",
          "height": 34
        }
      },
      "source": [
        "#Loadinng the data into the X,y\n",
        "X = boston_df.drop('target',axis=1)\n",
        "X.shape"
      ],
      "execution_count": 0,
      "outputs": [
        {
          "output_type": "execute_result",
          "data": {
            "text/plain": [
              "(506, 13)"
            ]
          },
          "metadata": {
            "tags": []
          },
          "execution_count": 6
        }
      ]
    },
    {
      "cell_type": "code",
      "metadata": {
        "id": "8oauQuGhYrdK",
        "colab_type": "code",
        "outputId": "a7f8a255-2a65-456b-8e60-71afbbb96b9d",
        "colab": {
          "base_uri": "https://localhost:8080/",
          "height": 34
        }
      },
      "source": [
        "y = boston_df['target']\n",
        "y.shape"
      ],
      "execution_count": 0,
      "outputs": [
        {
          "output_type": "execute_result",
          "data": {
            "text/plain": [
              "(506,)"
            ]
          },
          "metadata": {
            "tags": []
          },
          "execution_count": 7
        }
      ]
    },
    {
      "cell_type": "code",
      "metadata": {
        "id": "aPykxhayYrsW",
        "colab_type": "code",
        "colab": {}
      },
      "source": [
        "# Splitting the data into train test split\n",
        "X_train,X_test,y_train,y_test = train_test_split(X,y, test_size = 0.2)"
      ],
      "execution_count": 0,
      "outputs": []
    },
    {
      "cell_type": "code",
      "metadata": {
        "id": "Y5QvmjrwYsA8",
        "colab_type": "code",
        "outputId": "2ec5b4a2-39d1-492a-f2db-a17a31e05504",
        "colab": {
          "base_uri": "https://localhost:8080/",
          "height": 34
        }
      },
      "source": [
        "X_train.shape,X_test.shape,y_train.shape,y_test.shape"
      ],
      "execution_count": 0,
      "outputs": [
        {
          "output_type": "execute_result",
          "data": {
            "text/plain": [
              "((404, 13), (102, 13), (404,), (102,))"
            ]
          },
          "metadata": {
            "tags": []
          },
          "execution_count": 10
        }
      ]
    },
    {
      "cell_type": "code",
      "metadata": {
        "id": "i5Bz7XF2o5Zz",
        "colab_type": "code",
        "colab": {}
      },
      "source": [
        "#Fitting the model on the training data\n",
        "model = RandomForestRegressor()\n",
        "model.fit(X_train,y_train);"
      ],
      "execution_count": 0,
      "outputs": []
    },
    {
      "cell_type": "code",
      "metadata": {
        "id": "SRuJOkEjo5zc",
        "colab_type": "code",
        "colab": {}
      },
      "source": [
        "# Predicting and stroing outcomes in new array\n",
        "y_preds = model.predict(X_test)"
      ],
      "execution_count": 0,
      "outputs": []
    },
    {
      "cell_type": "code",
      "metadata": {
        "id": "BUklDjkbo6IT",
        "colab_type": "code",
        "outputId": "72c3c4f2-365c-4593-f9e5-5fd48d8f8aa3",
        "colab": {
          "base_uri": "https://localhost:8080/",
          "height": 34
        }
      },
      "source": [
        "#Checking the 1st 5 predictions\n",
        "y_preds[:5]"
      ],
      "execution_count": 0,
      "outputs": [
        {
          "output_type": "execute_result",
          "data": {
            "text/plain": [
              "array([21.399, 28.697, 25.167, 18.331, 19.781])"
            ]
          },
          "metadata": {
            "tags": []
          },
          "execution_count": 16
        }
      ]
    },
    {
      "cell_type": "code",
      "metadata": {
        "id": "huSfYw3Lo6Ye",
        "colab_type": "code",
        "outputId": "9dd94ec0-0b21-4bde-9b20-df1301aa768b",
        "colab": {
          "base_uri": "https://localhost:8080/",
          "height": 34
        }
      },
      "source": [
        "#Checking the 1st 5 actual values\n",
        "np.array(y_test[:5])"
      ],
      "execution_count": 0,
      "outputs": [
        {
          "output_type": "execute_result",
          "data": {
            "text/plain": [
              "array([23. , 32. , 24.1, 17.1, 20.8])"
            ]
          },
          "metadata": {
            "tags": []
          },
          "execution_count": 18
        }
      ]
    },
    {
      "cell_type": "markdown",
      "metadata": {
        "id": "LqMqwVlFwyrL",
        "colab_type": "text"
      },
      "source": [
        "**EVALUATING A MACHINE LEARNING MODEL** \n",
        "3 Ways to evaluate a ML model\n",
        "\n",
        "1.Score method\n",
        "2.Scoring parameter\n",
        "3.Problem specific metrics functions\n"
      ]
    },
    {
      "cell_type": "code",
      "metadata": {
        "id": "F5EYh63PyTiu",
        "colab_type": "code",
        "colab": {}
      },
      "source": [
        "#importing the necessary libraries\n",
        "import numpy as np\n",
        "import pandas as pd\n",
        "import matplotlib.pyplot as plt\n",
        "%matplotlib inline\n",
        "from sklearn.model_selection import train_test_split\n",
        "from sklearn.ensemble import RandomForestClassifier"
      ],
      "execution_count": 0,
      "outputs": []
    },
    {
      "cell_type": "code",
      "metadata": {
        "id": "8EKLJZk6zIgm",
        "colab_type": "code",
        "colab": {}
      },
      "source": [
        "#loading the dataset\n",
        "heart_disease = pd.read_csv('heart-disease.csv')"
      ],
      "execution_count": 0,
      "outputs": []
    },
    {
      "cell_type": "code",
      "metadata": {
        "id": "pWi1tzWozW4p",
        "colab_type": "code",
        "outputId": "d03af58f-6f20-4030-d4ba-a39d2e200e14",
        "colab": {
          "base_uri": "https://localhost:8080/",
          "height": 34
        }
      },
      "source": [
        "#Creating the train test splits\n",
        "X = heart_disease.drop('target',axis=1)\n",
        "y = heart_disease['target']\n",
        "X.shape,y.shape"
      ],
      "execution_count": 4,
      "outputs": [
        {
          "output_type": "execute_result",
          "data": {
            "text/plain": [
              "((303, 13), (303,))"
            ]
          },
          "metadata": {
            "tags": []
          },
          "execution_count": 4
        }
      ]
    },
    {
      "cell_type": "code",
      "metadata": {
        "id": "PFw_61K9zmvt",
        "colab_type": "code",
        "outputId": "5b996cef-b774-4400-977c-44ecebd4cb87",
        "colab": {
          "base_uri": "https://localhost:8080/",
          "height": 153
        }
      },
      "source": [
        "#Splittng the data into train and test sets\n",
        "np.random.seed(42)\n",
        "X_train,X_test,y_train,y_test = train_test_split(X,y,test_size=0.2)\n",
        "model = RandomForestClassifier()\n",
        "model.fit(X_train,y_train)"
      ],
      "execution_count": 0,
      "outputs": [
        {
          "output_type": "execute_result",
          "data": {
            "text/plain": [
              "RandomForestClassifier(bootstrap=True, ccp_alpha=0.0, class_weight=None,\n",
              "                       criterion='gini', max_depth=None, max_features='auto',\n",
              "                       max_leaf_nodes=None, max_samples=None,\n",
              "                       min_impurity_decrease=0.0, min_impurity_split=None,\n",
              "                       min_samples_leaf=1, min_samples_split=2,\n",
              "                       min_weight_fraction_leaf=0.0, n_estimators=100,\n",
              "                       n_jobs=None, oob_score=False, random_state=None,\n",
              "                       verbose=0, warm_start=False)"
            ]
          },
          "metadata": {
            "tags": []
          },
          "execution_count": 7
        }
      ]
    },
    {
      "cell_type": "code",
      "metadata": {
        "id": "u3pKyuo50LAw",
        "colab_type": "code",
        "outputId": "37419088-91b0-46a4-87e9-05dd69f9b247",
        "colab": {
          "base_uri": "https://localhost:8080/",
          "height": 34
        }
      },
      "source": [
        "#check the score of the model\n",
        "model.score(X_train,y_train),model.score(X_test,y_test)"
      ],
      "execution_count": 0,
      "outputs": [
        {
          "output_type": "execute_result",
          "data": {
            "text/plain": [
              "(1.0, 0.8524590163934426)"
            ]
          },
          "metadata": {
            "tags": []
          },
          "execution_count": 14
        }
      ]
    },
    {
      "cell_type": "markdown",
      "metadata": {
        "id": "sWS7Yk-mRPER",
        "colab_type": "text"
      },
      "source": [
        "**Evaluating the cross val scores**"
      ]
    },
    {
      "cell_type": "code",
      "metadata": {
        "id": "D9p-zJNmROzJ",
        "colab_type": "code",
        "colab": {}
      },
      "source": [
        "from sklearn.model_selection import cross_val_score"
      ],
      "execution_count": 0,
      "outputs": []
    },
    {
      "cell_type": "code",
      "metadata": {
        "id": "mJP-gwtxP1gP",
        "colab_type": "code",
        "outputId": "daddeff3-54c7-45d4-eda1-b3a1af397bf0",
        "colab": {
          "base_uri": "https://localhost:8080/",
          "height": 51
        }
      },
      "source": [
        "cross_val_score(model,X,y,cv=10)"
      ],
      "execution_count": 0,
      "outputs": [
        {
          "output_type": "execute_result",
          "data": {
            "text/plain": [
              "array([0.90322581, 0.80645161, 0.90322581, 0.9       , 0.83333333,\n",
              "       0.86666667, 0.8       , 0.83333333, 0.73333333, 0.8       ])"
            ]
          },
          "metadata": {
            "tags": []
          },
          "execution_count": 11
        }
      ]
    },
    {
      "cell_type": "markdown",
      "metadata": {
        "id": "MXGcCXpQRJnN",
        "colab_type": "text"
      },
      "source": [
        "**Evaluating the model with other scoring parameters**"
      ]
    },
    {
      "cell_type": "markdown",
      "metadata": {
        "id": "nk-BbQ3fRST9",
        "colab_type": "text"
      },
      "source": [
        "Classication model Evaluation metrics\n",
        "1.Accuracy\n",
        "2.Area Under the Curve\n",
        "3.Confusion matrix\n",
        "4.Classification report"
      ]
    },
    {
      "cell_type": "markdown",
      "metadata": {
        "id": "Mv7HVACkTo5C",
        "colab_type": "text"
      },
      "source": [
        "**1.Accuracy**"
      ]
    },
    {
      "cell_type": "code",
      "metadata": {
        "id": "-MQIwV15UHnO",
        "colab_type": "code",
        "colab": {}
      },
      "source": [
        "#Importing the necessary libraries\n",
        "import numpy as np\n",
        "import pandas as pd\n",
        "import matplotlib.pyplot as plt\n",
        "%matplotlib inline\n",
        "from sklearn.model_selection import train_test_split\n",
        "from sklearn.ensemble import RandomForestClassifier\n",
        "from sklearn.model_selection import cross_val_score"
      ],
      "execution_count": 0,
      "outputs": []
    },
    {
      "cell_type": "code",
      "metadata": {
        "id": "FWLLc18pTzSy",
        "colab_type": "code",
        "outputId": "895d8939-7513-4880-bbaa-a134c3f35ce1",
        "colab": {
          "base_uri": "https://localhost:8080/",
          "height": 204
        }
      },
      "source": [
        "#loading the dataset\n",
        "heart_disease = pd.read_csv('heart-disease.csv')\n",
        "heart_disease.head()"
      ],
      "execution_count": 0,
      "outputs": [
        {
          "output_type": "execute_result",
          "data": {
            "text/html": [
              "<div>\n",
              "<style scoped>\n",
              "    .dataframe tbody tr th:only-of-type {\n",
              "        vertical-align: middle;\n",
              "    }\n",
              "\n",
              "    .dataframe tbody tr th {\n",
              "        vertical-align: top;\n",
              "    }\n",
              "\n",
              "    .dataframe thead th {\n",
              "        text-align: right;\n",
              "    }\n",
              "</style>\n",
              "<table border=\"1\" class=\"dataframe\">\n",
              "  <thead>\n",
              "    <tr style=\"text-align: right;\">\n",
              "      <th></th>\n",
              "      <th>age</th>\n",
              "      <th>sex</th>\n",
              "      <th>cp</th>\n",
              "      <th>trestbps</th>\n",
              "      <th>chol</th>\n",
              "      <th>fbs</th>\n",
              "      <th>restecg</th>\n",
              "      <th>thalach</th>\n",
              "      <th>exang</th>\n",
              "      <th>oldpeak</th>\n",
              "      <th>slope</th>\n",
              "      <th>ca</th>\n",
              "      <th>thal</th>\n",
              "      <th>target</th>\n",
              "    </tr>\n",
              "  </thead>\n",
              "  <tbody>\n",
              "    <tr>\n",
              "      <th>0</th>\n",
              "      <td>63</td>\n",
              "      <td>1</td>\n",
              "      <td>3</td>\n",
              "      <td>145</td>\n",
              "      <td>233</td>\n",
              "      <td>1</td>\n",
              "      <td>0</td>\n",
              "      <td>150</td>\n",
              "      <td>0</td>\n",
              "      <td>2.3</td>\n",
              "      <td>0</td>\n",
              "      <td>0</td>\n",
              "      <td>1</td>\n",
              "      <td>1</td>\n",
              "    </tr>\n",
              "    <tr>\n",
              "      <th>1</th>\n",
              "      <td>37</td>\n",
              "      <td>1</td>\n",
              "      <td>2</td>\n",
              "      <td>130</td>\n",
              "      <td>250</td>\n",
              "      <td>0</td>\n",
              "      <td>1</td>\n",
              "      <td>187</td>\n",
              "      <td>0</td>\n",
              "      <td>3.5</td>\n",
              "      <td>0</td>\n",
              "      <td>0</td>\n",
              "      <td>2</td>\n",
              "      <td>1</td>\n",
              "    </tr>\n",
              "    <tr>\n",
              "      <th>2</th>\n",
              "      <td>41</td>\n",
              "      <td>0</td>\n",
              "      <td>1</td>\n",
              "      <td>130</td>\n",
              "      <td>204</td>\n",
              "      <td>0</td>\n",
              "      <td>0</td>\n",
              "      <td>172</td>\n",
              "      <td>0</td>\n",
              "      <td>1.4</td>\n",
              "      <td>2</td>\n",
              "      <td>0</td>\n",
              "      <td>2</td>\n",
              "      <td>1</td>\n",
              "    </tr>\n",
              "    <tr>\n",
              "      <th>3</th>\n",
              "      <td>56</td>\n",
              "      <td>1</td>\n",
              "      <td>1</td>\n",
              "      <td>120</td>\n",
              "      <td>236</td>\n",
              "      <td>0</td>\n",
              "      <td>1</td>\n",
              "      <td>178</td>\n",
              "      <td>0</td>\n",
              "      <td>0.8</td>\n",
              "      <td>2</td>\n",
              "      <td>0</td>\n",
              "      <td>2</td>\n",
              "      <td>1</td>\n",
              "    </tr>\n",
              "    <tr>\n",
              "      <th>4</th>\n",
              "      <td>57</td>\n",
              "      <td>0</td>\n",
              "      <td>0</td>\n",
              "      <td>120</td>\n",
              "      <td>354</td>\n",
              "      <td>0</td>\n",
              "      <td>1</td>\n",
              "      <td>163</td>\n",
              "      <td>1</td>\n",
              "      <td>0.6</td>\n",
              "      <td>2</td>\n",
              "      <td>0</td>\n",
              "      <td>2</td>\n",
              "      <td>1</td>\n",
              "    </tr>\n",
              "  </tbody>\n",
              "</table>\n",
              "</div>"
            ],
            "text/plain": [
              "   age  sex  cp  trestbps  chol  fbs  ...  exang  oldpeak  slope  ca  thal  target\n",
              "0   63    1   3       145   233    1  ...      0      2.3      0   0     1       1\n",
              "1   37    1   2       130   250    0  ...      0      3.5      0   0     2       1\n",
              "2   41    0   1       130   204    0  ...      0      1.4      2   0     2       1\n",
              "3   56    1   1       120   236    0  ...      0      0.8      2   0     2       1\n",
              "4   57    0   0       120   354    0  ...      1      0.6      2   0     2       1\n",
              "\n",
              "[5 rows x 14 columns]"
            ]
          },
          "metadata": {
            "tags": []
          },
          "execution_count": 6
        }
      ]
    },
    {
      "cell_type": "code",
      "metadata": {
        "id": "qjNs4_ZYV15X",
        "colab_type": "code",
        "colab": {}
      },
      "source": [
        "X = heart_disease.drop('target',axis=1)\n",
        "y=heart_disease['target']"
      ],
      "execution_count": 0,
      "outputs": []
    },
    {
      "cell_type": "code",
      "metadata": {
        "id": "BzxyiLXZUDn9",
        "colab_type": "code",
        "colab": {}
      },
      "source": [
        "#splittin the data into training and testing sets\n",
        "np.random.seed(42)\n",
        "X_train,X_test,y_train,y_test = train_test_split(X,y,test_size = 0.2)\n",
        "model = RandomForestClassifier()\n",
        "model.fit(X_train,y_train)\n",
        "cv_score = cross_val_score(model,X,y,cv=5,scoring=None)\n"
      ],
      "execution_count": 0,
      "outputs": []
    },
    {
      "cell_type": "code",
      "metadata": {
        "id": "1-nIWkGSWpH4",
        "colab_type": "code",
        "outputId": "4598b8f2-1b43-4b15-a4a4-beeb63d52917",
        "colab": {
          "base_uri": "https://localhost:8080/",
          "height": 51
        }
      },
      "source": [
        "cv_score,np.mean(cv_score)"
      ],
      "execution_count": 0,
      "outputs": [
        {
          "output_type": "execute_result",
          "data": {
            "text/plain": [
              "(array([0.81967213, 0.86885246, 0.81967213, 0.78333333, 0.76666667]),\n",
              " 0.811639344262295)"
            ]
          },
          "metadata": {
            "tags": []
          },
          "execution_count": 6
        }
      ]
    },
    {
      "cell_type": "code",
      "metadata": {
        "id": "Z1mJGAJEWzXV",
        "colab_type": "code",
        "outputId": "2a4e458e-1d4c-40c8-ddfb-8e547a84a6df",
        "colab": {
          "base_uri": "https://localhost:8080/",
          "height": 34
        }
      },
      "source": [
        "print(f'Heart Disease Classifier Cross Validated Accuracy :{np.mean(cv_score)*100:.2f}%')"
      ],
      "execution_count": 0,
      "outputs": [
        {
          "output_type": "stream",
          "text": [
            "Heart Disease Classifier Cross Validated Accuracy :81.16%\n"
          ],
          "name": "stdout"
        }
      ]
    },
    {
      "cell_type": "markdown",
      "metadata": {
        "id": "syZNB84mbyLR",
        "colab_type": "text"
      },
      "source": [
        "2.AREA UNDER THE CURVE/ROC Curve\n",
        "ROC curves are a comparison of the model's true positive rate(tpr) versus the false positive rate(fpr) \n",
        "\n",
        "*   True positive = model predicts 1 when truth is 1\n",
        "*   False positive = model predicts 1 when truth is 0\n",
        "*   True negative = model predicts 0 when truth is 0\n",
        "*   False negative = model predicts 0 when truth is 1\n",
        "\n"
      ]
    },
    {
      "cell_type": "code",
      "metadata": {
        "id": "yHDXL6XVcxDo",
        "colab_type": "code",
        "outputId": "08740e51-1911-4a4e-9751-8780d3cee40b",
        "colab": {
          "base_uri": "https://localhost:8080/",
          "height": 187
        }
      },
      "source": [
        "#calculating the tpr,fpr\n",
        "y_probs = model.predict_proba(X_test)\n",
        "y_probs[:10],len(y_probs)"
      ],
      "execution_count": 0,
      "outputs": [
        {
          "output_type": "execute_result",
          "data": {
            "text/plain": [
              "(array([[0.89, 0.11],\n",
              "        [0.49, 0.51],\n",
              "        [0.43, 0.57],\n",
              "        [0.84, 0.16],\n",
              "        [0.18, 0.82],\n",
              "        [0.14, 0.86],\n",
              "        [0.36, 0.64],\n",
              "        [0.95, 0.05],\n",
              "        [0.99, 0.01],\n",
              "        [0.47, 0.53]]), 61)"
            ]
          },
          "metadata": {
            "tags": []
          },
          "execution_count": 6
        }
      ]
    },
    {
      "cell_type": "code",
      "metadata": {
        "id": "L-QxR_EplFjy",
        "colab_type": "code",
        "colab": {}
      },
      "source": [
        "y_probs_positive = y_probs[:,1]"
      ],
      "execution_count": 0,
      "outputs": []
    },
    {
      "cell_type": "code",
      "metadata": {
        "id": "W98gfUrCkkY6",
        "colab_type": "code",
        "outputId": "a11caf04-d82e-4350-96f4-80f81916fc00",
        "colab": {
          "base_uri": "https://localhost:8080/",
          "height": 102
        }
      },
      "source": [
        "from sklearn.metrics import roc_curve\n",
        "fpr,tpr,thresholds = roc_curve(y_test,y_probs_positive)\n",
        "fpr"
      ],
      "execution_count": 0,
      "outputs": [
        {
          "output_type": "execute_result",
          "data": {
            "text/plain": [
              "array([0.        , 0.        , 0.        , 0.        , 0.        ,\n",
              "       0.03448276, 0.03448276, 0.03448276, 0.03448276, 0.06896552,\n",
              "       0.06896552, 0.10344828, 0.13793103, 0.13793103, 0.17241379,\n",
              "       0.17241379, 0.27586207, 0.4137931 , 0.48275862, 0.55172414,\n",
              "       0.65517241, 0.72413793, 0.72413793, 0.82758621, 1.        ])"
            ]
          },
          "metadata": {
            "tags": []
          },
          "execution_count": 9
        }
      ]
    },
    {
      "cell_type": "code",
      "metadata": {
        "id": "GYPPFFeQmjba",
        "colab_type": "code",
        "outputId": "69903322-89e9-44ad-e780-906801f7e7eb",
        "colab": {
          "base_uri": "https://localhost:8080/",
          "height": 295
        }
      },
      "source": [
        "#Create a function to plot the ROC Curve\n",
        "import matplotlib.pyplot as plt\n",
        "def plot_roc_curve(fpr,tpr):\n",
        "  '''\n",
        "  Plots a ROC Curve given the fpr and tpr of a model\n",
        "  '''\n",
        "  #plot roc curve\n",
        "  plt.plot(fpr,tpr,color = 'orange',label='ROC')\n",
        "  #Plot baseline with no predictive power - guessing\n",
        "  plt.plot([0,1],[0,1],color = 'darkblue',linestyle='--',label='Guessing')\n",
        "  \n",
        "  #customize the plot\n",
        "  plt.xlabel('false positive rate(fpr)')\n",
        "  plt.ylabel('true positive rate(tpr)')\n",
        "  plt.title('ROC Curve')\n",
        "  plt.legend()\n",
        "  plt.show()\n",
        "\n",
        "plot_roc_curve(fpr,tpr)"
      ],
      "execution_count": 0,
      "outputs": [
        {
          "output_type": "display_data",
          "data": {
            "image/png": "[encoded data removed]",
            "text/plain": [
              "<Figure size 432x288 with 1 Axes>"
            ]
          },
          "metadata": {
            "tags": [],
            "needs_background": "light"
          }
        }
      ]
    },
    {
      "cell_type": "code",
      "metadata": {
        "id": "NhTxEJ3TIZRp",
        "colab_type": "code",
        "outputId": "4eebdbc5-5dff-411c-ab63-a691d65c3a30",
        "colab": {
          "base_uri": "https://localhost:8080/",
          "height": 34
        }
      },
      "source": [
        "#Measure the area under the curve in the ROC Curve\n",
        "from sklearn.metrics import roc_auc_score\n",
        "roc_auc_score(y_test,y_probs_positive)"
      ],
      "execution_count": 0,
      "outputs": [
        {
          "output_type": "execute_result",
          "data": {
            "text/plain": [
              "0.9304956896551724"
            ]
          },
          "metadata": {
            "tags": []
          },
          "execution_count": 10
        }
      ]
    },
    {
      "cell_type": "markdown",
      "metadata": {
        "id": "tCL9weOGSdsL",
        "colab_type": "text"
      },
      "source": [
        "**Confusion Matrix**\n",
        "\n",
        "Confusion matrix is a quick way to visualize the labels that the model has predicted correctly versus the ones that the model has predicted incorrectly i.e it shows the true postive , false positive, true negative , false negative in a cross-tab format\n",
        "\n",
        "\n",
        "\n"
      ]
    },
    {
      "cell_type": "code",
      "metadata": {
        "id": "sMDHKDiAUWP3",
        "colab_type": "code",
        "colab": {}
      },
      "source": [
        "# making the predictions with the model above\n",
        "y_preds=model.predict(X_test)"
      ],
      "execution_count": 0,
      "outputs": []
    },
    {
      "cell_type": "code",
      "metadata": {
        "id": "GDq3w6t_S-fc",
        "colab_type": "code",
        "outputId": "878bfe05-ccb4-423d-dae7-b5f6c75a2f9f",
        "colab": {
          "base_uri": "https://localhost:8080/",
          "height": 51
        }
      },
      "source": [
        "# Making the confusion matrix\n",
        "from sklearn.metrics import confusion_matrix\n",
        "confusion_matrix(y_test,y_preds)"
      ],
      "execution_count": 0,
      "outputs": [
        {
          "output_type": "execute_result",
          "data": {
            "text/plain": [
              "array([[24,  5],\n",
              "       [ 4, 28]])"
            ]
          },
          "metadata": {
            "tags": []
          },
          "execution_count": 13
        }
      ]
    },
    {
      "cell_type": "code",
      "metadata": {
        "id": "cEVyVkBJUldZ",
        "colab_type": "code",
        "outputId": "99f892c8-8199-4be7-bee3-26a258c14d97",
        "colab": {
          "base_uri": "https://localhost:8080/",
          "height": 142
        }
      },
      "source": [
        "#Visualize the matrix with pd cross tab\n",
        "pd.crosstab(y_test,y_preds,rownames=['Actual labels'],colnames=['Predicted labels'])"
      ],
      "execution_count": 0,
      "outputs": [
        {
          "output_type": "execute_result",
          "data": {
            "text/html": [
              "<div>\n",
              "<style scoped>\n",
              "    .dataframe tbody tr th:only-of-type {\n",
              "        vertical-align: middle;\n",
              "    }\n",
              "\n",
              "    .dataframe tbody tr th {\n",
              "        vertical-align: top;\n",
              "    }\n",
              "\n",
              "    .dataframe thead th {\n",
              "        text-align: right;\n",
              "    }\n",
              "</style>\n",
              "<table border=\"1\" class=\"dataframe\">\n",
              "  <thead>\n",
              "    <tr style=\"text-align: right;\">\n",
              "      <th>Predicted labels</th>\n",
              "      <th>0</th>\n",
              "      <th>1</th>\n",
              "    </tr>\n",
              "    <tr>\n",
              "      <th>Actual labels</th>\n",
              "      <th></th>\n",
              "      <th></th>\n",
              "    </tr>\n",
              "  </thead>\n",
              "  <tbody>\n",
              "    <tr>\n",
              "      <th>0</th>\n",
              "      <td>24</td>\n",
              "      <td>5</td>\n",
              "    </tr>\n",
              "    <tr>\n",
              "      <th>1</th>\n",
              "      <td>4</td>\n",
              "      <td>28</td>\n",
              "    </tr>\n",
              "  </tbody>\n",
              "</table>\n",
              "</div>"
            ],
            "text/plain": [
              "Predicted labels   0   1\n",
              "Actual labels           \n",
              "0                 24   5\n",
              "1                  4  28"
            ]
          },
          "metadata": {
            "tags": []
          },
          "execution_count": 23
        }
      ]
    },
    {
      "cell_type": "code",
      "metadata": {
        "id": "-FRMbWXDo2cg",
        "colab_type": "code",
        "outputId": "6988da0d-7aa0-4cac-b189-84487dad0ff4",
        "colab": {
          "base_uri": "https://localhost:8080/",
          "height": 293
        }
      },
      "source": [
        "# Making the confusion matrix more visual using seaborn\n",
        "import seaborn as sns\n",
        "#set the font scale\n",
        "sns.set(font_scale=1.5)\n",
        "#create a confusion matrix\n",
        "conf_mat=confusion_matrix(y_test,y_preds)\n",
        "#plot usingseaborn\n",
        "sns.heatmap(conf_mat)"
      ],
      "execution_count": 0,
      "outputs": [
        {
          "output_type": "execute_result",
          "data": {
            "text/plain": [
              "<matplotlib.axes._subplots.AxesSubplot at 0x7fd23c9a4cf8>"
            ]
          },
          "metadata": {
            "tags": []
          },
          "execution_count": 14
        },
        {
          "output_type": "display_data",
          "data": {
            "image/png": "[encoded data removed]",
            "text/plain": [
              "<Figure size 432x288 with 2 Axes>"
            ]
          },
          "metadata": {
            "tags": []
          }
        }
      ]
    },
    {
      "cell_type": "code",
      "metadata": {
        "id": "DRxzpBvUq-mP",
        "colab_type": "code",
        "outputId": "0c7fdae1-a23d-4b0e-d6c0-1d5665ccb98b",
        "colab": {
          "base_uri": "https://localhost:8080/",
          "height": 243
        }
      },
      "source": [
        "# function to include the confusion matrix numbers in heatmap\n",
        "def plot_conf_mat(conf_mat):\n",
        "  '''\n",
        "  PLots the confusion matrix using the heatmap in seaborn\n",
        "  '''\n",
        "  fig,ax=plt.subplots(figsize=(3,3))\n",
        "  ax=sns.heatmap(conf_mat,\n",
        "                 annot=True, #Annotate boxes with conf_mat info\n",
        "                 cbar=False)\n",
        "  plt.xlabel('True Label')\n",
        "  plt.ylabel('Predicted Label')\n",
        "\n",
        "plot_conf_mat(conf_mat)        "
      ],
      "execution_count": 0,
      "outputs": [
        {
          "output_type": "display_data",
          "data": {
            "image/png": "[encoded data removed]",
            "text/plain": [
              "<Figure size 216x216 with 1 Axes>"
            ]
          },
          "metadata": {
            "tags": []
          }
        }
      ]
    },
    {
      "cell_type": "code",
      "metadata": {
        "id": "ZoO2fxTpsrqd",
        "colab_type": "code",
        "outputId": "189e0aa7-c6a1-413a-be43-e1045cf9aceb",
        "colab": {
          "base_uri": "https://localhost:8080/",
          "height": 315
        }
      },
      "source": [
        "# Plotting confusion matrix from sklearn\n",
        "from sklearn.metrics import plot_confusion_matrix\n",
        "plot_confusion_matrix(model,X,y,)"
      ],
      "execution_count": 0,
      "outputs": [
        {
          "output_type": "execute_result",
          "data": {
            "text/plain": [
              "<sklearn.metrics._plot.confusion_matrix.ConfusionMatrixDisplay at 0x7fd236be1128>"
            ]
          },
          "metadata": {
            "tags": []
          },
          "execution_count": 18
        },
        {
          "output_type": "display_data",
          "data": {
            "image/png": "[encoded data removed]",
            "text/plain": [
              "<Figure size 432x288 with 2 Axes>"
            ]
          },
          "metadata": {
            "tags": []
          }
        }
      ]
    },
    {
      "cell_type": "markdown",
      "metadata": {
        "id": "GRqUM7I2tbrZ",
        "colab_type": "text"
      },
      "source": [
        "**Classification Report**"
      ]
    },
    {
      "cell_type": "code",
      "metadata": {
        "id": "h_S7ljZLtuif",
        "colab_type": "code",
        "outputId": "5724e587-1098-453a-e870-d1069ec74b61",
        "colab": {
          "base_uri": "https://localhost:8080/",
          "height": 197
        }
      },
      "source": [
        "#Checking the classification report metric\n",
        "from sklearn.metrics import classification_report\n",
        "print(classification_report(y_test,y_preds))"
      ],
      "execution_count": 0,
      "outputs": [
        {
          "output_type": "error",
          "ename": "NameError",
          "evalue": "ignored",
          "traceback": [
            "\u001b[0;31m---------------------------------------------------------------------------\u001b[0m",
            "\u001b[0;31mNameError\u001b[0m                                 Traceback (most recent call last)",
            "\u001b[0;32m<ipython-input-4-74ef9cbd7b1b>\u001b[0m in \u001b[0;36m<module>\u001b[0;34m()\u001b[0m\n\u001b[1;32m      1\u001b[0m \u001b[0;31m#Checking the classification report metric\u001b[0m\u001b[0;34m\u001b[0m\u001b[0;34m\u001b[0m\u001b[0;34m\u001b[0m\u001b[0m\n\u001b[1;32m      2\u001b[0m \u001b[0;32mfrom\u001b[0m \u001b[0msklearn\u001b[0m\u001b[0;34m.\u001b[0m\u001b[0mmetrics\u001b[0m \u001b[0;32mimport\u001b[0m \u001b[0mclassification_report\u001b[0m\u001b[0;34m\u001b[0m\u001b[0;34m\u001b[0m\u001b[0m\n\u001b[0;32m----> 3\u001b[0;31m \u001b[0mprint\u001b[0m\u001b[0;34m(\u001b[0m\u001b[0mclassification_report\u001b[0m\u001b[0;34m(\u001b[0m\u001b[0my_test\u001b[0m\u001b[0;34m,\u001b[0m\u001b[0my_preds\u001b[0m\u001b[0;34m)\u001b[0m\u001b[0;34m)\u001b[0m\u001b[0;34m\u001b[0m\u001b[0;34m\u001b[0m\u001b[0m\n\u001b[0m",
            "\u001b[0;31mNameError\u001b[0m: name 'y_test' is not defined"
          ]
        }
      ]
    },
    {
      "cell_type": "code",
      "metadata": {
        "id": "CnuzW4FZwc4m",
        "colab_type": "code",
        "outputId": "ff3253ef-0149-4545-f0c1-db2566c24fb8",
        "colab": {
          "base_uri": "https://localhost:8080/",
          "height": 227
        }
      },
      "source": [
        "# Example to show where precision and accuracy are important - imbalanced cases of classification\n",
        "disease_true = np.zeros(10000)\n",
        "disease_true[0]=1 # only 1 positive case\n",
        "disease_preds = np.zeros(10000) # built model that only predicts zeros\n",
        "pd.DataFrame(classification_report(disease_true,disease_preds,output_dict=True))"
      ],
      "execution_count": 0,
      "outputs": [
        {
          "output_type": "stream",
          "text": [
            "/usr/local/lib/python3.6/dist-packages/sklearn/metrics/_classification.py:1272: UndefinedMetricWarning: Precision and F-score are ill-defined and being set to 0.0 in labels with no predicted samples. Use `zero_division` parameter to control this behavior.\n",
            "  _warn_prf(average, modifier, msg_start, len(result))\n"
          ],
          "name": "stderr"
        },
        {
          "output_type": "execute_result",
          "data": {
            "text/html": [
              "<div>\n",
              "<style scoped>\n",
              "    .dataframe tbody tr th:only-of-type {\n",
              "        vertical-align: middle;\n",
              "    }\n",
              "\n",
              "    .dataframe tbody tr th {\n",
              "        vertical-align: top;\n",
              "    }\n",
              "\n",
              "    .dataframe thead th {\n",
              "        text-align: right;\n",
              "    }\n",
              "</style>\n",
              "<table border=\"1\" class=\"dataframe\">\n",
              "  <thead>\n",
              "    <tr style=\"text-align: right;\">\n",
              "      <th></th>\n",
              "      <th>0.0</th>\n",
              "      <th>1.0</th>\n",
              "      <th>accuracy</th>\n",
              "      <th>macro avg</th>\n",
              "      <th>weighted avg</th>\n",
              "    </tr>\n",
              "  </thead>\n",
              "  <tbody>\n",
              "    <tr>\n",
              "      <th>precision</th>\n",
              "      <td>0.99990</td>\n",
              "      <td>0.0</td>\n",
              "      <td>0.9999</td>\n",
              "      <td>0.499950</td>\n",
              "      <td>0.99980</td>\n",
              "    </tr>\n",
              "    <tr>\n",
              "      <th>recall</th>\n",
              "      <td>1.00000</td>\n",
              "      <td>0.0</td>\n",
              "      <td>0.9999</td>\n",
              "      <td>0.500000</td>\n",
              "      <td>0.99990</td>\n",
              "    </tr>\n",
              "    <tr>\n",
              "      <th>f1-score</th>\n",
              "      <td>0.99995</td>\n",
              "      <td>0.0</td>\n",
              "      <td>0.9999</td>\n",
              "      <td>0.499975</td>\n",
              "      <td>0.99985</td>\n",
              "    </tr>\n",
              "    <tr>\n",
              "      <th>support</th>\n",
              "      <td>9999.00000</td>\n",
              "      <td>1.0</td>\n",
              "      <td>0.9999</td>\n",
              "      <td>10000.000000</td>\n",
              "      <td>10000.00000</td>\n",
              "    </tr>\n",
              "  </tbody>\n",
              "</table>\n",
              "</div>"
            ],
            "text/plain": [
              "                  0.0  1.0  accuracy     macro avg  weighted avg\n",
              "precision     0.99990  0.0    0.9999      0.499950       0.99980\n",
              "recall        1.00000  0.0    0.9999      0.500000       0.99990\n",
              "f1-score      0.99995  0.0    0.9999      0.499975       0.99985\n",
              "support    9999.00000  1.0    0.9999  10000.000000   10000.00000"
            ]
          },
          "metadata": {
            "tags": []
          },
          "execution_count": 6
        }
      ]
    },
    {
      "cell_type": "markdown",
      "metadata": {
        "id": "Rot6N6Itx6D0",
        "colab_type": "text"
      },
      "source": [
        "**METRICS FOR REGRESSION MODELS**\n",
        "\n",
        "1.R^2 - Pronounced R-squared or coefficient of determination\n",
        "\n",
        "2.Mean Absolute Error(MAE)\n",
        "\n",
        "3.Mean Squared Error(MSE)"
      ]
    },
    {
      "cell_type": "markdown",
      "metadata": {
        "id": "b6XF-VBk09Cu",
        "colab_type": "text"
      },
      "source": [
        "**R-Squared**\n",
        "R^2 - compares the model's prediction to the mean of the target. Values range from negatie infinity to 1. If the model is perfect, R^2 value is 1, if model predicts only mean of the targets, then R^2 is 0\n",
        "\n"
      ]
    },
    {
      "cell_type": "code",
      "metadata": {
        "id": "Ca5JGWs51kOS",
        "colab_type": "code",
        "outputId": "a12b61ec-1bc5-4ce3-ee4b-c8dfdddf8d6e",
        "colab": {
          "base_uri": "https://localhost:8080/",
          "height": 204
        }
      },
      "source": [
        "from sklearn.ensemble import RandomForestRegressor\n",
        "from sklearn.model_selection import train_test_split\n",
        "from sklearn.datasets import load_boston\n",
        "boston = load_boston()\n",
        "boston_df = pd.DataFrame(boston['data'],columns=boston['feature_names'])\n",
        "boston_df['target']=pd.Series(boston['target'])\n",
        "boston_df.head()\n"
      ],
      "execution_count": 0,
      "outputs": [
        {
          "output_type": "execute_result",
          "data": {
            "text/html": [
              "<div>\n",
              "<style scoped>\n",
              "    .dataframe tbody tr th:only-of-type {\n",
              "        vertical-align: middle;\n",
              "    }\n",
              "\n",
              "    .dataframe tbody tr th {\n",
              "        vertical-align: top;\n",
              "    }\n",
              "\n",
              "    .dataframe thead th {\n",
              "        text-align: right;\n",
              "    }\n",
              "</style>\n",
              "<table border=\"1\" class=\"dataframe\">\n",
              "  <thead>\n",
              "    <tr style=\"text-align: right;\">\n",
              "      <th></th>\n",
              "      <th>CRIM</th>\n",
              "      <th>ZN</th>\n",
              "      <th>INDUS</th>\n",
              "      <th>CHAS</th>\n",
              "      <th>NOX</th>\n",
              "      <th>RM</th>\n",
              "      <th>AGE</th>\n",
              "      <th>DIS</th>\n",
              "      <th>RAD</th>\n",
              "      <th>TAX</th>\n",
              "      <th>PTRATIO</th>\n",
              "      <th>B</th>\n",
              "      <th>LSTAT</th>\n",
              "      <th>target</th>\n",
              "    </tr>\n",
              "  </thead>\n",
              "  <tbody>\n",
              "    <tr>\n",
              "      <th>0</th>\n",
              "      <td>0.00632</td>\n",
              "      <td>18.0</td>\n",
              "      <td>2.31</td>\n",
              "      <td>0.0</td>\n",
              "      <td>0.538</td>\n",
              "      <td>6.575</td>\n",
              "      <td>65.2</td>\n",
              "      <td>4.0900</td>\n",
              "      <td>1.0</td>\n",
              "      <td>296.0</td>\n",
              "      <td>15.3</td>\n",
              "      <td>396.90</td>\n",
              "      <td>4.98</td>\n",
              "      <td>24.0</td>\n",
              "    </tr>\n",
              "    <tr>\n",
              "      <th>1</th>\n",
              "      <td>0.02731</td>\n",
              "      <td>0.0</td>\n",
              "      <td>7.07</td>\n",
              "      <td>0.0</td>\n",
              "      <td>0.469</td>\n",
              "      <td>6.421</td>\n",
              "      <td>78.9</td>\n",
              "      <td>4.9671</td>\n",
              "      <td>2.0</td>\n",
              "      <td>242.0</td>\n",
              "      <td>17.8</td>\n",
              "      <td>396.90</td>\n",
              "      <td>9.14</td>\n",
              "      <td>21.6</td>\n",
              "    </tr>\n",
              "    <tr>\n",
              "      <th>2</th>\n",
              "      <td>0.02729</td>\n",
              "      <td>0.0</td>\n",
              "      <td>7.07</td>\n",
              "      <td>0.0</td>\n",
              "      <td>0.469</td>\n",
              "      <td>7.185</td>\n",
              "      <td>61.1</td>\n",
              "      <td>4.9671</td>\n",
              "      <td>2.0</td>\n",
              "      <td>242.0</td>\n",
              "      <td>17.8</td>\n",
              "      <td>392.83</td>\n",
              "      <td>4.03</td>\n",
              "      <td>34.7</td>\n",
              "    </tr>\n",
              "    <tr>\n",
              "      <th>3</th>\n",
              "      <td>0.03237</td>\n",
              "      <td>0.0</td>\n",
              "      <td>2.18</td>\n",
              "      <td>0.0</td>\n",
              "      <td>0.458</td>\n",
              "      <td>6.998</td>\n",
              "      <td>45.8</td>\n",
              "      <td>6.0622</td>\n",
              "      <td>3.0</td>\n",
              "      <td>222.0</td>\n",
              "      <td>18.7</td>\n",
              "      <td>394.63</td>\n",
              "      <td>2.94</td>\n",
              "      <td>33.4</td>\n",
              "    </tr>\n",
              "    <tr>\n",
              "      <th>4</th>\n",
              "      <td>0.06905</td>\n",
              "      <td>0.0</td>\n",
              "      <td>2.18</td>\n",
              "      <td>0.0</td>\n",
              "      <td>0.458</td>\n",
              "      <td>7.147</td>\n",
              "      <td>54.2</td>\n",
              "      <td>6.0622</td>\n",
              "      <td>3.0</td>\n",
              "      <td>222.0</td>\n",
              "      <td>18.7</td>\n",
              "      <td>396.90</td>\n",
              "      <td>5.33</td>\n",
              "      <td>36.2</td>\n",
              "    </tr>\n",
              "  </tbody>\n",
              "</table>\n",
              "</div>"
            ],
            "text/plain": [
              "      CRIM    ZN  INDUS  CHAS    NOX  ...    TAX  PTRATIO       B  LSTAT  target\n",
              "0  0.00632  18.0   2.31   0.0  0.538  ...  296.0     15.3  396.90   4.98    24.0\n",
              "1  0.02731   0.0   7.07   0.0  0.469  ...  242.0     17.8  396.90   9.14    21.6\n",
              "2  0.02729   0.0   7.07   0.0  0.469  ...  242.0     17.8  392.83   4.03    34.7\n",
              "3  0.03237   0.0   2.18   0.0  0.458  ...  222.0     18.7  394.63   2.94    33.4\n",
              "4  0.06905   0.0   2.18   0.0  0.458  ...  222.0     18.7  396.90   5.33    36.2\n",
              "\n",
              "[5 rows x 14 columns]"
            ]
          },
          "metadata": {
            "tags": []
          },
          "execution_count": 6
        }
      ]
    },
    {
      "cell_type": "code",
      "metadata": {
        "id": "ngf649Xe28tj",
        "colab_type": "code",
        "outputId": "16be17dd-856a-439c-e344-68be7576fba6",
        "colab": {
          "base_uri": "https://localhost:8080/",
          "height": 34
        }
      },
      "source": [
        "#Building the model\n",
        "X = boston_df.drop('target',axis=1)\n",
        "y=boston_df['target']\n",
        "X_train,X_test,y_train,y_test = train_test_split(X,y,test_size=0.2)\n",
        "model = RandomForestRegressor()\n",
        "model.fit(X_train,y_train)\n",
        "model.score(X_test,y_test)"
      ],
      "execution_count": 0,
      "outputs": [
        {
          "output_type": "execute_result",
          "data": {
            "text/plain": [
              "0.841687018783729"
            ]
          },
          "metadata": {
            "tags": []
          },
          "execution_count": 7
        }
      ]
    },
    {
      "cell_type": "markdown",
      "metadata": {
        "id": "nnoFcvzwiM7A",
        "colab_type": "text"
      },
      "source": [
        "**MEAN ABSOLUTE ERROR**"
      ]
    },
    {
      "cell_type": "code",
      "metadata": {
        "id": "Rvt4JiyFi3vb",
        "colab_type": "code",
        "outputId": "06cad46c-23d2-4f54-e156-d2b68aaeede2",
        "colab": {
          "base_uri": "https://localhost:8080/",
          "height": 34
        }
      },
      "source": [
        "#MAE\n",
        "from sklearn.metrics import mean_absolute_error\n",
        "\n",
        "y_preds=model.predict(X_test)\n",
        "mae = mean_absolute_error(y_test,y_preds)\n",
        "mae"
      ],
      "execution_count": 0,
      "outputs": [
        {
          "output_type": "execute_result",
          "data": {
            "text/plain": [
              "2.2744509803921575"
            ]
          },
          "metadata": {
            "tags": []
          },
          "execution_count": 8
        }
      ]
    },
    {
      "cell_type": "code",
      "metadata": {
        "id": "kFRac9VKjldr",
        "colab_type": "code",
        "outputId": "da139cfe-11cf-47ce-f045-f8cc39125214",
        "colab": {
          "base_uri": "https://localhost:8080/",
          "height": 419
        }
      },
      "source": [
        "#calculating the MAE using formula\n",
        "df = pd.DataFrame(data={'Actual_values':y_test,\n",
        "                        'predicted_values':y_preds})\n",
        "df['difference']=df['Actual_values']-df['predicted_values']\n",
        "df"
      ],
      "execution_count": 0,
      "outputs": [
        {
          "output_type": "execute_result",
          "data": {
            "text/html": [
              "<div>\n",
              "<style scoped>\n",
              "    .dataframe tbody tr th:only-of-type {\n",
              "        vertical-align: middle;\n",
              "    }\n",
              "\n",
              "    .dataframe tbody tr th {\n",
              "        vertical-align: top;\n",
              "    }\n",
              "\n",
              "    .dataframe thead th {\n",
              "        text-align: right;\n",
              "    }\n",
              "</style>\n",
              "<table border=\"1\" class=\"dataframe\">\n",
              "  <thead>\n",
              "    <tr style=\"text-align: right;\">\n",
              "      <th></th>\n",
              "      <th>Actual_values</th>\n",
              "      <th>predicted_values</th>\n",
              "      <th>difference</th>\n",
              "    </tr>\n",
              "  </thead>\n",
              "  <tbody>\n",
              "    <tr>\n",
              "      <th>123</th>\n",
              "      <td>17.3</td>\n",
              "      <td>16.607</td>\n",
              "      <td>0.693</td>\n",
              "    </tr>\n",
              "    <tr>\n",
              "      <th>153</th>\n",
              "      <td>19.4</td>\n",
              "      <td>15.475</td>\n",
              "      <td>3.925</td>\n",
              "    </tr>\n",
              "    <tr>\n",
              "      <th>93</th>\n",
              "      <td>25.0</td>\n",
              "      <td>24.957</td>\n",
              "      <td>0.043</td>\n",
              "    </tr>\n",
              "    <tr>\n",
              "      <th>122</th>\n",
              "      <td>20.5</td>\n",
              "      <td>18.595</td>\n",
              "      <td>1.905</td>\n",
              "    </tr>\n",
              "    <tr>\n",
              "      <th>164</th>\n",
              "      <td>22.7</td>\n",
              "      <td>20.709</td>\n",
              "      <td>1.991</td>\n",
              "    </tr>\n",
              "    <tr>\n",
              "      <th>...</th>\n",
              "      <td>...</td>\n",
              "      <td>...</td>\n",
              "      <td>...</td>\n",
              "    </tr>\n",
              "    <tr>\n",
              "      <th>308</th>\n",
              "      <td>22.8</td>\n",
              "      <td>31.166</td>\n",
              "      <td>-8.366</td>\n",
              "    </tr>\n",
              "    <tr>\n",
              "      <th>497</th>\n",
              "      <td>18.3</td>\n",
              "      <td>20.465</td>\n",
              "      <td>-2.165</td>\n",
              "    </tr>\n",
              "    <tr>\n",
              "      <th>74</th>\n",
              "      <td>24.1</td>\n",
              "      <td>24.930</td>\n",
              "      <td>-0.830</td>\n",
              "    </tr>\n",
              "    <tr>\n",
              "      <th>128</th>\n",
              "      <td>18.0</td>\n",
              "      <td>16.606</td>\n",
              "      <td>1.394</td>\n",
              "    </tr>\n",
              "    <tr>\n",
              "      <th>199</th>\n",
              "      <td>34.9</td>\n",
              "      <td>32.953</td>\n",
              "      <td>1.947</td>\n",
              "    </tr>\n",
              "  </tbody>\n",
              "</table>\n",
              "<p>102 rows × 3 columns</p>\n",
              "</div>"
            ],
            "text/plain": [
              "     Actual_values  predicted_values  difference\n",
              "123           17.3            16.607       0.693\n",
              "153           19.4            15.475       3.925\n",
              "93            25.0            24.957       0.043\n",
              "122           20.5            18.595       1.905\n",
              "164           22.7            20.709       1.991\n",
              "..             ...               ...         ...\n",
              "308           22.8            31.166      -8.366\n",
              "497           18.3            20.465      -2.165\n",
              "74            24.1            24.930      -0.830\n",
              "128           18.0            16.606       1.394\n",
              "199           34.9            32.953       1.947\n",
              "\n",
              "[102 rows x 3 columns]"
            ]
          },
          "metadata": {
            "tags": []
          },
          "execution_count": 9
        }
      ]
    },
    {
      "cell_type": "code",
      "metadata": {
        "id": "tAlf3SRbkmYg",
        "colab_type": "code",
        "outputId": "ba04b8e6-54d9-4073-f9a7-5d876445e8de",
        "colab": {
          "base_uri": "https://localhost:8080/",
          "height": 221
        }
      },
      "source": [
        "df['difference'].mean"
      ],
      "execution_count": 0,
      "outputs": [
        {
          "output_type": "execute_result",
          "data": {
            "text/plain": [
              "<bound method Series.mean of 123    0.693\n",
              "153    3.925\n",
              "93     0.043\n",
              "122    1.905\n",
              "164    1.991\n",
              "       ...  \n",
              "308   -8.366\n",
              "497   -2.165\n",
              "74    -0.830\n",
              "128    1.394\n",
              "199    1.947\n",
              "Name: difference, Length: 102, dtype: float64>"
            ]
          },
          "metadata": {
            "tags": []
          },
          "execution_count": 10
        }
      ]
    },
    {
      "cell_type": "markdown",
      "metadata": {
        "id": "RGZZEHfMljuL",
        "colab_type": "text"
      },
      "source": [
        "**Mean Squared Error**"
      ]
    },
    {
      "cell_type": "code",
      "metadata": {
        "id": "b6asbBQjlqLZ",
        "colab_type": "code",
        "outputId": "a7e17d26-e9ce-4edd-e57d-0816ed6d6d3f",
        "colab": {
          "base_uri": "https://localhost:8080/",
          "height": 34
        }
      },
      "source": [
        "from sklearn.metrics import mean_squared_error\n",
        "mse = mean_squared_error(y_test,y_preds)\n",
        "mse"
      ],
      "execution_count": 0,
      "outputs": [
        {
          "output_type": "execute_result",
          "data": {
            "text/plain": [
              "12.642004901960785"
            ]
          },
          "metadata": {
            "tags": []
          },
          "execution_count": 11
        }
      ]
    },
    {
      "cell_type": "markdown",
      "metadata": {
        "id": "cl3rt4DCoiKM",
        "colab_type": "text"
      },
      "source": [
        "**Using the Scoring Parameter**"
      ]
    },
    {
      "cell_type": "code",
      "metadata": {
        "id": "fwsAqB0uodrk",
        "colab_type": "code",
        "outputId": "7ac801c5-53a9-4884-8f0c-13727e11ba6d",
        "colab": {
          "base_uri": "https://localhost:8080/",
          "height": 34
        }
      },
      "source": [
        "from sklearn.model_selection import cross_val_score\n",
        "from sklearn.ensemble import RandomForestClassifier\n",
        "np.random.seed(42)\n",
        "#splitting data into the predictor and response variables\n",
        "X = heart_disease.drop('target',axis=1)\n",
        "y=heart_disease['target']\n",
        "\n",
        "# Modelling\n",
        "model = RandomForestClassifier()\n",
        "\n",
        "cv_acc = cross_val_score(model,X,y,scoring=None,cv=5)\n",
        "cv_acc\n",
        "\n"
      ],
      "execution_count": 0,
      "outputs": [
        {
          "output_type": "execute_result",
          "data": {
            "text/plain": [
              "array([0.81967213, 0.90163934, 0.83606557, 0.78333333, 0.78333333])"
            ]
          },
          "metadata": {
            "tags": []
          },
          "execution_count": 7
        }
      ]
    },
    {
      "cell_type": "code",
      "metadata": {
        "id": "c281w2qep9P6",
        "colab_type": "code",
        "outputId": "cfb7209a-e117-43fd-e45e-486ce16c46a5",
        "colab": {
          "base_uri": "https://localhost:8080/",
          "height": 34
        }
      },
      "source": [
        "# The mean accuracy of the model\n",
        "print(f'The accuracy of the model:{np.mean(cv_acc)*100:.2f}%')"
      ],
      "execution_count": 0,
      "outputs": [
        {
          "output_type": "stream",
          "text": [
            "The accuracy of the model:82.48%\n"
          ],
          "name": "stdout"
        }
      ]
    },
    {
      "cell_type": "code",
      "metadata": {
        "id": "_UL83wU1qwfe",
        "colab_type": "code",
        "outputId": "7c352cd3-3358-4831-adab-5cdc4a9fb945",
        "colab": {
          "base_uri": "https://localhost:8080/",
          "height": 34
        }
      },
      "source": [
        "#Accuracy \n",
        "\n",
        "cv_acc = cross_val_score(model,X,y,scoring='accuracy',cv=5)\n",
        "cv_acc\n",
        "\n",
        "# The mean accuracy of the model\n",
        "print(f'The accuracy of the model:{np.mean(cv_acc)*100:.2f}%')\n"
      ],
      "execution_count": 0,
      "outputs": [
        {
          "output_type": "stream",
          "text": [
            "The accuracy of the model:80.18%\n"
          ],
          "name": "stdout"
        }
      ]
    },
    {
      "cell_type": "code",
      "metadata": {
        "id": "1eAdsPr-rJwE",
        "colab_type": "code",
        "outputId": "268cc43f-7e02-4cfd-9279-6aac6035f95b",
        "colab": {
          "base_uri": "https://localhost:8080/",
          "height": 34
        }
      },
      "source": [
        "# Precision\n",
        "cv_precision = cross_val_score(model,X,y,scoring='precision',cv=5)\n",
        "cv_precision\n",
        "\n",
        "# The mean precision of the model\n",
        "print(f'The precision of the model:{np.mean(cv_precision)*100:.2f}%')\n"
      ],
      "execution_count": 0,
      "outputs": [
        {
          "output_type": "stream",
          "text": [
            "The precision of the model:83.58%\n"
          ],
          "name": "stdout"
        }
      ]
    },
    {
      "cell_type": "code",
      "metadata": {
        "id": "Lo-GvSChrJsM",
        "colab_type": "code",
        "outputId": "c71c32ea-fae9-4fb4-a7b7-6e5486dd0215",
        "colab": {
          "base_uri": "https://localhost:8080/",
          "height": 34
        }
      },
      "source": [
        "# Recall\n",
        "cv_recall= cross_val_score(model,X,y,scoring='recall',cv=5)\n",
        "cv_recall\n",
        "\n",
        "# The mean Recall of the model\n",
        "print(f'The Recall of the model:{np.mean(cv_recall)*100:.2f}%')"
      ],
      "execution_count": 0,
      "outputs": [
        {
          "output_type": "stream",
          "text": [
            "The Recall of the model:87.27%\n"
          ],
          "name": "stdout"
        }
      ]
    },
    {
      "cell_type": "code",
      "metadata": {
        "id": "Lqt6QQG9rJpq",
        "colab_type": "code",
        "outputId": "4d4a859b-8d08-40a6-b8af-684d0286ef21",
        "colab": {
          "base_uri": "https://localhost:8080/",
          "height": 34
        }
      },
      "source": [
        "# f1\n",
        "cv_f1= cross_val_score(model,X,y,scoring='f1',cv=5)\n",
        "cv_f1\n",
        "\n",
        "# The mean Recall of the model\n",
        "print(f'The Recall of the model:{np.mean(cv_f1)*100:.2f}%')"
      ],
      "execution_count": 0,
      "outputs": [
        {
          "output_type": "stream",
          "text": [
            "The Recall of the model:82.57%\n"
          ],
          "name": "stdout"
        }
      ]
    },
    {
      "cell_type": "markdown",
      "metadata": {
        "id": "npGwE8tFt9jl",
        "colab_type": "text"
      },
      "source": [
        "**Trying various evaluation metrics for Regression models**"
      ]
    },
    {
      "cell_type": "code",
      "metadata": {
        "id": "pX1_KH_PrJmn",
        "colab_type": "code",
        "colab": {}
      },
      "source": [
        "from sklearn.ensemble import RandomForestRegressor\n",
        "from sklearn.model_selection import cross_val_score\n",
        "\n",
        "np.random.seed(42)\n",
        "\n",
        "X=boston_df.drop('target',axis=1)\n",
        "y=boston_df['target']\n",
        "\n",
        "model=RandomForestRegressor()"
      ],
      "execution_count": 0,
      "outputs": []
    },
    {
      "cell_type": "code",
      "metadata": {
        "id": "giuZFpyDrJkC",
        "colab_type": "code",
        "outputId": "1c4c5c7a-2350-4a5e-d8b4-9e5f3bf7b747",
        "colab": {
          "base_uri": "https://localhost:8080/",
          "height": 51
        }
      },
      "source": [
        "np.random.seed(42)\n",
        "cv_r2=cross_val_score(model,X,y,scoring=None)\n",
        "cv_r2,np.mean(cv_r2)"
      ],
      "execution_count": 0,
      "outputs": [
        {
          "output_type": "execute_result",
          "data": {
            "text/plain": [
              "(array([0.76861165, 0.85851765, 0.74941131, 0.47891315, 0.25642166]),\n",
              " 0.622375083951403)"
            ]
          },
          "metadata": {
            "tags": []
          },
          "execution_count": 17
        }
      ]
    },
    {
      "cell_type": "code",
      "metadata": {
        "id": "lM9sF-yXrJhQ",
        "colab_type": "code",
        "outputId": "d1e0f2ad-7c23-464b-d120-24e7f42cb290",
        "colab": {
          "base_uri": "https://localhost:8080/",
          "height": 51
        }
      },
      "source": [
        "np.random.seed(42)\n",
        "cv_mae=cross_val_score(model,X,y,scoring='neg_mean_absolute_error')\n",
        "cv_mae,np.mean(cv_mae)"
      ],
      "execution_count": 0,
      "outputs": [
        {
          "output_type": "execute_result",
          "data": {
            "text/plain": [
              "(array([-2.12870588, -2.58823762, -3.3420198 , -3.75555446, -3.34263366]),\n",
              " -3.0314302853814783)"
            ]
          },
          "metadata": {
            "tags": []
          },
          "execution_count": 19
        }
      ]
    },
    {
      "cell_type": "code",
      "metadata": {
        "id": "OaQwUlsMrJXv",
        "colab_type": "code",
        "outputId": "4f72e20c-2839-48d9-c2f6-c1ff97e1a598",
        "colab": {
          "base_uri": "https://localhost:8080/",
          "height": 51
        }
      },
      "source": [
        "# MSE\n",
        "np.random.seed(42)\n",
        "cv_mse=cross_val_score(model,X,y,scoring='neg_mean_squared_error')\n",
        "cv_mse,np.mean(cv_mse)"
      ],
      "execution_count": 0,
      "outputs": [
        {
          "output_type": "execute_result",
          "data": {
            "text/plain": [
              "(array([ -7.99104182, -12.88009356, -20.06894699, -45.70549288,\n",
              "        -19.77049657]), -21.283214366686064)"
            ]
          },
          "metadata": {
            "tags": []
          },
          "execution_count": 21
        }
      ]
    },
    {
      "cell_type": "markdown",
      "metadata": {
        "id": "h3vl_-1_rJQa",
        "colab_type": "text"
      },
      "source": [
        "**Using Different evaluation metrics as scikit learn functions**\n",
        "\n",
        "Classifcation Evaluation Functions"
      ]
    },
    {
      "cell_type": "code",
      "metadata": {
        "id": "0HZugr0HrJF0",
        "colab_type": "code",
        "outputId": "c7c3b4c5-0dcb-4394-97d2-28c2e25ec32e",
        "colab": {
          "base_uri": "https://localhost:8080/",
          "height": 102
        }
      },
      "source": [
        "from sklearn.metrics import accuracy_score,f1_score,precision_score,recall_score\n",
        "from sklearn.ensemble import RandomForestClassifier\n",
        "from sklearn.model_selection import train_test_split\n",
        "\n",
        "np.random.seed(42)\n",
        "\n",
        "X = heart_disease.drop('target',axis=1)\n",
        "y = heart_disease['target']\n",
        "\n",
        "X_train, X_test, y_train, y_test = train_test_split(X,y, test_size=0.2)\n",
        "\n",
        "model = RandomForestClassifier()\n",
        "model.fit(X_train,y_train)\n",
        "\n",
        "# Make predictions\n",
        "y_preds = model.predict(X_test)\n",
        "\n",
        "#Evaluate the classifier\n",
        "print('Evaluate the classification model on the test set')\n",
        "print(f'Accuracy:{accuracy_score(y_test,y_preds)*100:.2f}%')\n",
        "print(f'f1:{f1_score(y_test,y_preds)*100:.2f}%')\n",
        "print(f'precision:{precision_score(y_test,y_preds)*100:.2f}%')\n",
        "print(f'recall:{recall_score(y_test,y_preds)*100:.2f}%')"
      ],
      "execution_count": 13,
      "outputs": [
        {
          "output_type": "stream",
          "text": [
            "Evaluate the classification model on the test set\n",
            "Accuracy:85.25%\n",
            "f1:86.15%\n",
            "precision:84.85%\n",
            "recall:87.50%\n"
          ],
          "name": "stdout"
        }
      ]
    },
    {
      "cell_type": "markdown",
      "metadata": {
        "id": "mJl3GB6LrI2B",
        "colab_type": "text"
      },
      "source": [
        "**Regression Evaluation Functions**"
      ]
    },
    {
      "cell_type": "code",
      "metadata": {
        "id": "hOV0cM3y2RjB",
        "colab_type": "code",
        "outputId": "c0f41761-c10d-4f51-9324-4324f5eb59a6",
        "colab": {
          "base_uri": "https://localhost:8080/",
          "height": 85
        }
      },
      "source": [
        "from sklearn.metrics import r2_score, mean_absolute_error,mean_squared_error\n",
        "from sklearn.ensemble import RandomForestRegressor\n",
        "from sklearn.model_selection import train_test_split\n",
        "\n",
        "np.random.seed(42)\n",
        "\n",
        "X=boston_df.drop('target',axis=1)\n",
        "y=boston_df['target']\n",
        "\n",
        "X_train,X_test,y_train,y_test = train_test_split(X,y,test_size=0.2)\n",
        "\n",
        "model=RandomForestRegressor()\n",
        "model.fit(X_train,y_train)\n",
        "\n",
        "# Make predictions\n",
        "y_preds = model.predict(X_test)\n",
        "\n",
        "#Evaluate the regression model\n",
        "print('Regression model metrics on test set')\n",
        "print(f'r2_score:{r2_score(y_test,y_preds):.3f}')\n",
        "print(f'Mean Absolute Error:{mean_absolute_error(y_test,y_preds):.3f}')\n",
        "print(f'Mean Squared Error:{mean_squared_error(y_test,y_preds):.3f}')\n"
      ],
      "execution_count": 0,
      "outputs": [
        {
          "output_type": "stream",
          "text": [
            "Regression model metrics on test set\n",
            "r2_score:0.874\n",
            "Mean Absolute Error:2.123\n",
            "Mean Squared Error:9.242\n"
          ],
          "name": "stdout"
        }
      ]
    },
    {
      "cell_type": "markdown",
      "metadata": {
        "id": "rQZWDSx02UF_",
        "colab_type": "text"
      },
      "source": [
        "**Improving The Model**"
      ]
    },
    {
      "cell_type": "code",
      "metadata": {
        "id": "jPU7DaZ72T2W",
        "colab_type": "code",
        "outputId": "467e7ab2-c3b2-4b44-f6f7-d96852d29706",
        "colab": {
          "base_uri": "https://localhost:8080/",
          "height": 340
        }
      },
      "source": [
        "from sklearn.ensemble import RandomForestClassifier\n",
        "model=RandomForestClassifier()\n",
        "model.get_params()"
      ],
      "execution_count": 0,
      "outputs": [
        {
          "output_type": "execute_result",
          "data": {
            "text/plain": [
              "{'bootstrap': True,\n",
              " 'ccp_alpha': 0.0,\n",
              " 'class_weight': None,\n",
              " 'criterion': 'gini',\n",
              " 'max_depth': None,\n",
              " 'max_features': 'auto',\n",
              " 'max_leaf_nodes': None,\n",
              " 'max_samples': None,\n",
              " 'min_impurity_decrease': 0.0,\n",
              " 'min_impurity_split': None,\n",
              " 'min_samples_leaf': 1,\n",
              " 'min_samples_split': 2,\n",
              " 'min_weight_fraction_leaf': 0.0,\n",
              " 'n_estimators': 100,\n",
              " 'n_jobs': None,\n",
              " 'oob_score': False,\n",
              " 'random_state': None,\n",
              " 'verbose': 0,\n",
              " 'warm_start': False}"
            ]
          },
          "metadata": {
            "tags": []
          },
          "execution_count": 2
        }
      ]
    },
    {
      "cell_type": "code",
      "metadata": {
        "id": "jx5NsO7ADrIy",
        "colab_type": "code",
        "colab": {}
      },
      "source": [
        "y_true = y_test"
      ],
      "execution_count": 0,
      "outputs": []
    },
    {
      "cell_type": "code",
      "metadata": {
        "id": "ZQdS5fCn2To0",
        "colab_type": "code",
        "outputId": "856d5be5-0537-4f53-bee6-1c5930d39025",
        "colab": {
          "base_uri": "https://localhost:8080/",
          "height": 85
        }
      },
      "source": [
        "# Tuning the hyperparameters by hand \n",
        "# Function to calculte the evaluation metrics\n",
        "def evaluate_preds(y_true,y_preds):\n",
        "  '''\n",
        "  performs the evaluation of y_test vs y_preds on a classification model\n",
        "  '''\n",
        "accuracy = accuracy_score(y_true,y_preds)\n",
        "precision = precision_score(y_true,y_preds)\n",
        "recall = recall_score(y_true,y_preds)\n",
        "f1=f1_score(y_true,y_preds)\n",
        "\n",
        "'''\n",
        "metric_dict = {'accuracy':round(accuracy,2),\n",
        "                   'precision':round(precision,2),\n",
        "                   'recall':round(recall,2),\n",
        "                    'f1':round(f1,2) }\n",
        "                    '''\n",
        "print(f'Accuracy:{accuracy*100:.2f}%')\n",
        "print(f'precision:{precision:.2f}')\n",
        "print(f'recall:{recall:.2f}')\n",
        "print(f'f1:{f1:.2f}')\n",
        "#return metric_dict"
      ],
      "execution_count": 0,
      "outputs": [
        {
          "output_type": "stream",
          "text": [
            "Accuracy:85.25%\n",
            "precision:0.85\n",
            "recall:0.88\n",
            "f1:0.86\n"
          ],
          "name": "stdout"
        }
      ]
    },
    {
      "cell_type": "code",
      "metadata": {
        "id": "xhp0sAxi2TZZ",
        "colab_type": "code",
        "colab": {}
      },
      "source": [
        "def evaluate_preds(y_true, y_preds):\n",
        "    \"\"\"\n",
        "    Performs evaluation comparison on y_true labels vs. y_pred labels\n",
        "    on a classification.\n",
        "    \"\"\"\n",
        "    accuracy = accuracy_score(y_true, y_preds)\n",
        "    precision = precision_score(y_true, y_preds)\n",
        "    recall = recall_score(y_true, y_preds)\n",
        "    f1 = f1_score(y_true, y_preds)\n",
        "    metric_dict = {\"accuracy\": round(accuracy, 2),\n",
        "                   \"precision\": round(precision, 2),\n",
        "                   \"recall\": round(recall, 2),\n",
        "                   \"f1\": round(f1, 2)}\n",
        "    print(f\"Acc: {accuracy * 100:.2f}%\")\n",
        "    print(f\"Precision: {precision:.2f}\")\n",
        "    print(f\"Recall: {recall:.2f}\")\n",
        "    print(f\"F1 score: {f1:.2f}\")\n",
        "    \n",
        "    return metric_dict\n"
      ],
      "execution_count": 0,
      "outputs": []
    },
    {
      "cell_type": "code",
      "metadata": {
        "id": "yxMnXnjE2TE_",
        "colab_type": "code",
        "outputId": "c6f45389-4647-4eac-ce4d-cc46f7a8fb20",
        "colab": {
          "base_uri": "https://localhost:8080/",
          "height": 102
        }
      },
      "source": [
        "evaluate_preds(y_test,y_preds)"
      ],
      "execution_count": 0,
      "outputs": [
        {
          "output_type": "stream",
          "text": [
            "Acc: 85.25%\n",
            "Precision: 0.85\n",
            "Recall: 0.88\n",
            "F1 score: 0.86\n"
          ],
          "name": "stdout"
        },
        {
          "output_type": "execute_result",
          "data": {
            "text/plain": [
              "{'accuracy': 0.85, 'f1': 0.86, 'precision': 0.85, 'recall': 0.88}"
            ]
          },
          "metadata": {
            "tags": []
          },
          "execution_count": 34
        }
      ]
    },
    {
      "cell_type": "code",
      "metadata": {
        "id": "QJPL9OOZGXUd",
        "colab_type": "code",
        "outputId": "54900ac8-703e-40d4-ae16-c37173fc9d1e",
        "colab": {
          "base_uri": "https://localhost:8080/",
          "height": 34
        }
      },
      "source": [
        "#applying the same to hand tune the model using the validatioin and testing set\n",
        "from sklearn.ensemble import RandomForestClassifier\n",
        "np.random.seed(42)\n",
        "\n",
        "#shuffle the data\n",
        "heart_disease_shuffled = heart_disease.sample(frac=1,random_state=0)\n",
        "\n",
        "#Split into Predictor and response variables\n",
        "X = heart_disease_shuffled.drop('target',axis=1)\n",
        "y = heart_disease_shuffled['target']\n",
        "\n",
        "#Splitting the data into training and test splits\n",
        "train_split = round(0.7*len(heart_disease_shuffled)) # 70% of the dataset\n",
        "valid_split = round(train_split+0.15*len(heart_disease_shuffled))\n",
        "X_train,y_train = X[:train_split],y[:train_split]\n",
        "X_valid,y_valid = X[train_split:valid_split],y[train_split:valid_split]\n",
        "X_test,y_test = X[valid_split:],y[valid_split:]\n",
        "\n",
        "len(X_train),len(X_valid),len(X_test)"
      ],
      "execution_count": 26,
      "outputs": [
        {
          "output_type": "execute_result",
          "data": {
            "text/plain": [
              "(212, 45, 46)"
            ]
          },
          "metadata": {
            "tags": []
          },
          "execution_count": 26
        }
      ]
    },
    {
      "cell_type": "code",
      "metadata": {
        "id": "HZ2o7lo4JBzr",
        "colab_type": "code",
        "outputId": "6a18d3a0-e4c7-4d8d-f559-149a680bdd9f",
        "colab": {
          "base_uri": "https://localhost:8080/",
          "height": 102
        }
      },
      "source": [
        "#Fitting the model and getting the classification parameters from evaluate function\n",
        "model = RandomForestClassifier(n_jobs=-1,max_depth=3,n_estimators=50)\n",
        "model.fit(X_train,y_train)\n",
        "#Make predictions of baseline model\n",
        "y_preds = model.predict(X_valid)\n",
        "\n",
        "#Evaluate the model on validaton set\n",
        "baseline_metrics = evaluate_preds(y_valid,y_preds)\n",
        "baseline_metrics\n"
      ],
      "execution_count": 27,
      "outputs": [
        {
          "output_type": "stream",
          "text": [
            "Acc: 84.44%\n",
            "Precision: 0.86\n",
            "Recall: 0.89\n",
            "F1 score: 0.87\n"
          ],
          "name": "stdout"
        },
        {
          "output_type": "execute_result",
          "data": {
            "text/plain": [
              "{'accuracy': 0.84, 'f1': 0.87, 'precision': 0.86, 'recall': 0.89}"
            ]
          },
          "metadata": {
            "tags": []
          },
          "execution_count": 27
        }
      ]
    },
    {
      "cell_type": "code",
      "metadata": {
        "id": "yoFDnSecJ4uf",
        "colab_type": "code",
        "outputId": "69de381b-dd29-490d-fa89-7450c0cc829c",
        "colab": {
          "base_uri": "https://localhost:8080/",
          "height": 102
        }
      },
      "source": [
        "#Evaluating the baseline model on the testset\n",
        "y_preds_test=model.predict(X_test)\n",
        "\n",
        "#Evaluate the baseline model on testset\n",
        "baseline_metrics_test = evaluate_preds(y_test,y_preds_test)\n",
        "baseline_metrics_test"
      ],
      "execution_count": 28,
      "outputs": [
        {
          "output_type": "stream",
          "text": [
            "Acc: 86.96%\n",
            "Precision: 0.80\n",
            "Recall: 0.95\n",
            "F1 score: 0.87\n"
          ],
          "name": "stdout"
        },
        {
          "output_type": "execute_result",
          "data": {
            "text/plain": [
              "{'accuracy': 0.87, 'f1': 0.87, 'precision': 0.8, 'recall': 0.95}"
            ]
          },
          "metadata": {
            "tags": []
          },
          "execution_count": 28
        }
      ]
    },
    {
      "cell_type": "markdown",
      "metadata": {
        "id": "dNfAejlQ9HU3",
        "colab_type": "text"
      },
      "source": [
        "Hyper Parameter tuning using Randomized searchCV\n",
        "\n",
        "\n",
        "\n",
        "\n",
        "\n"
      ]
    },
    {
      "cell_type": "code",
      "metadata": {
        "id": "x5mLRypp9Ls_",
        "colab_type": "code",
        "colab": {
          "base_uri": "https://localhost:8080/",
          "height": 1000
        },
        "outputId": "0c01b409-8742-499b-8b2a-806dd50d6c7f"
      },
      "source": [
        "from sklearn.model_selection import RandomizedSearchCV\n",
        "\n",
        "#Dictionary of the parameter values for randomized search\n",
        "grid = {'n_estimators':[10,100,200,500,1000],\n",
        "        'max_depth':[5,10,15,20,25,30],\n",
        "        'max_features':['auto','sqrt'],\n",
        "        'min_samples_split':[2,4,6,8,],\n",
        "        'min_samples_leaf':[1,2,3,4,]}\n",
        "\n",
        "np.random.seed(42)\n",
        "\n",
        "#Split the dataset into X&y\n",
        "X=heart_disease_shuffled.drop('target',axis=1)\n",
        "y=heart_disease['target']\n",
        "\n",
        "#Splitting data into train test split\n",
        "X_train,X_test,y_train,y_test = train_test_split(X,y,test_size=0.2)\n",
        "\n",
        "#Instantiate the model\n",
        "model = RandomForestClassifier(n_jobs=-1)\n",
        "\n",
        "#Set up Randomized search\n",
        "rs_model = RandomizedSearchCV(estimator = model,\n",
        "                              param_distributions=grid,\n",
        "                              n_iter=10,\n",
        "                              cv=5,\n",
        "                              verbose=2)\n",
        "rs_model.fit(X_train,y_train);\n"
      ],
      "execution_count": 8,
      "outputs": [
        {
          "output_type": "stream",
          "text": [
            "Fitting 5 folds for each of 10 candidates, totalling 50 fits\n",
            "[CV] n_estimators=200, min_samples_split=8, min_samples_leaf=2, max_features=sqrt, max_depth=20 \n"
          ],
          "name": "stdout"
        },
        {
          "output_type": "stream",
          "text": [
            "[Parallel(n_jobs=1)]: Using backend SequentialBackend with 1 concurrent workers.\n"
          ],
          "name": "stderr"
        },
        {
          "output_type": "stream",
          "text": [
            "[CV]  n_estimators=200, min_samples_split=8, min_samples_leaf=2, max_features=sqrt, max_depth=20, total=   1.8s\n",
            "[CV] n_estimators=200, min_samples_split=8, min_samples_leaf=2, max_features=sqrt, max_depth=20 \n"
          ],
          "name": "stdout"
        },
        {
          "output_type": "stream",
          "text": [
            "[Parallel(n_jobs=1)]: Done   1 out of   1 | elapsed:    1.8s remaining:    0.0s\n"
          ],
          "name": "stderr"
        },
        {
          "output_type": "stream",
          "text": [
            "[CV]  n_estimators=200, min_samples_split=8, min_samples_leaf=2, max_features=sqrt, max_depth=20, total=   0.5s\n",
            "[CV] n_estimators=200, min_samples_split=8, min_samples_leaf=2, max_features=sqrt, max_depth=20 \n",
            "[CV]  n_estimators=200, min_samples_split=8, min_samples_leaf=2, max_features=sqrt, max_depth=20, total=   0.5s\n",
            "[CV] n_estimators=200, min_samples_split=8, min_samples_leaf=2, max_features=sqrt, max_depth=20 \n",
            "[CV]  n_estimators=200, min_samples_split=8, min_samples_leaf=2, max_features=sqrt, max_depth=20, total=   0.6s\n",
            "[CV] n_estimators=200, min_samples_split=8, min_samples_leaf=2, max_features=sqrt, max_depth=20 \n",
            "[CV]  n_estimators=200, min_samples_split=8, min_samples_leaf=2, max_features=sqrt, max_depth=20, total=   0.5s\n",
            "[CV] n_estimators=10, min_samples_split=8, min_samples_leaf=4, max_features=auto, max_depth=25 \n",
            "[CV]  n_estimators=10, min_samples_split=8, min_samples_leaf=4, max_features=auto, max_depth=25, total=   0.1s\n",
            "[CV] n_estimators=10, min_samples_split=8, min_samples_leaf=4, max_features=auto, max_depth=25 \n",
            "[CV]  n_estimators=10, min_samples_split=8, min_samples_leaf=4, max_features=auto, max_depth=25, total=   0.1s\n",
            "[CV] n_estimators=10, min_samples_split=8, min_samples_leaf=4, max_features=auto, max_depth=25 \n",
            "[CV]  n_estimators=10, min_samples_split=8, min_samples_leaf=4, max_features=auto, max_depth=25, total=   0.1s\n",
            "[CV] n_estimators=10, min_samples_split=8, min_samples_leaf=4, max_features=auto, max_depth=25 \n",
            "[CV]  n_estimators=10, min_samples_split=8, min_samples_leaf=4, max_features=auto, max_depth=25, total=   0.1s\n",
            "[CV] n_estimators=10, min_samples_split=8, min_samples_leaf=4, max_features=auto, max_depth=25 \n",
            "[CV]  n_estimators=10, min_samples_split=8, min_samples_leaf=4, max_features=auto, max_depth=25, total=   0.1s\n",
            "[CV] n_estimators=100, min_samples_split=2, min_samples_leaf=3, max_features=sqrt, max_depth=30 \n",
            "[CV]  n_estimators=100, min_samples_split=2, min_samples_leaf=3, max_features=sqrt, max_depth=30, total=   0.3s\n",
            "[CV] n_estimators=100, min_samples_split=2, min_samples_leaf=3, max_features=sqrt, max_depth=30 \n",
            "[CV]  n_estimators=100, min_samples_split=2, min_samples_leaf=3, max_features=sqrt, max_depth=30, total=   0.3s\n",
            "[CV] n_estimators=100, min_samples_split=2, min_samples_leaf=3, max_features=sqrt, max_depth=30 \n",
            "[CV]  n_estimators=100, min_samples_split=2, min_samples_leaf=3, max_features=sqrt, max_depth=30, total=   0.3s\n",
            "[CV] n_estimators=100, min_samples_split=2, min_samples_leaf=3, max_features=sqrt, max_depth=30 \n",
            "[CV]  n_estimators=100, min_samples_split=2, min_samples_leaf=3, max_features=sqrt, max_depth=30, total=   0.3s\n",
            "[CV] n_estimators=100, min_samples_split=2, min_samples_leaf=3, max_features=sqrt, max_depth=30 \n",
            "[CV]  n_estimators=100, min_samples_split=2, min_samples_leaf=3, max_features=sqrt, max_depth=30, total=   0.3s\n",
            "[CV] n_estimators=1000, min_samples_split=4, min_samples_leaf=2, max_features=sqrt, max_depth=10 \n",
            "[CV]  n_estimators=1000, min_samples_split=4, min_samples_leaf=2, max_features=sqrt, max_depth=10, total=   2.3s\n",
            "[CV] n_estimators=1000, min_samples_split=4, min_samples_leaf=2, max_features=sqrt, max_depth=10 \n",
            "[CV]  n_estimators=1000, min_samples_split=4, min_samples_leaf=2, max_features=sqrt, max_depth=10, total=   2.2s\n",
            "[CV] n_estimators=1000, min_samples_split=4, min_samples_leaf=2, max_features=sqrt, max_depth=10 \n",
            "[CV]  n_estimators=1000, min_samples_split=4, min_samples_leaf=2, max_features=sqrt, max_depth=10, total=   2.3s\n",
            "[CV] n_estimators=1000, min_samples_split=4, min_samples_leaf=2, max_features=sqrt, max_depth=10 \n",
            "[CV]  n_estimators=1000, min_samples_split=4, min_samples_leaf=2, max_features=sqrt, max_depth=10, total=   2.3s\n",
            "[CV] n_estimators=1000, min_samples_split=4, min_samples_leaf=2, max_features=sqrt, max_depth=10 \n",
            "[CV]  n_estimators=1000, min_samples_split=4, min_samples_leaf=2, max_features=sqrt, max_depth=10, total=   2.3s\n",
            "[CV] n_estimators=10, min_samples_split=8, min_samples_leaf=1, max_features=sqrt, max_depth=15 \n",
            "[CV]  n_estimators=10, min_samples_split=8, min_samples_leaf=1, max_features=sqrt, max_depth=15, total=   0.1s\n",
            "[CV] n_estimators=10, min_samples_split=8, min_samples_leaf=1, max_features=sqrt, max_depth=15 \n",
            "[CV]  n_estimators=10, min_samples_split=8, min_samples_leaf=1, max_features=sqrt, max_depth=15, total=   0.1s\n",
            "[CV] n_estimators=10, min_samples_split=8, min_samples_leaf=1, max_features=sqrt, max_depth=15 \n",
            "[CV]  n_estimators=10, min_samples_split=8, min_samples_leaf=1, max_features=sqrt, max_depth=15, total=   0.1s\n",
            "[CV] n_estimators=10, min_samples_split=8, min_samples_leaf=1, max_features=sqrt, max_depth=15 \n",
            "[CV]  n_estimators=10, min_samples_split=8, min_samples_leaf=1, max_features=sqrt, max_depth=15, total=   0.1s\n",
            "[CV] n_estimators=10, min_samples_split=8, min_samples_leaf=1, max_features=sqrt, max_depth=15 \n",
            "[CV]  n_estimators=10, min_samples_split=8, min_samples_leaf=1, max_features=sqrt, max_depth=15, total=   0.1s\n",
            "[CV] n_estimators=500, min_samples_split=4, min_samples_leaf=1, max_features=auto, max_depth=10 \n",
            "[CV]  n_estimators=500, min_samples_split=4, min_samples_leaf=1, max_features=auto, max_depth=10, total=   1.2s\n",
            "[CV] n_estimators=500, min_samples_split=4, min_samples_leaf=1, max_features=auto, max_depth=10 \n",
            "[CV]  n_estimators=500, min_samples_split=4, min_samples_leaf=1, max_features=auto, max_depth=10, total=   1.2s\n",
            "[CV] n_estimators=500, min_samples_split=4, min_samples_leaf=1, max_features=auto, max_depth=10 \n",
            "[CV]  n_estimators=500, min_samples_split=4, min_samples_leaf=1, max_features=auto, max_depth=10, total=   1.2s\n",
            "[CV] n_estimators=500, min_samples_split=4, min_samples_leaf=1, max_features=auto, max_depth=10 \n",
            "[CV]  n_estimators=500, min_samples_split=4, min_samples_leaf=1, max_features=auto, max_depth=10, total=   1.2s\n",
            "[CV] n_estimators=500, min_samples_split=4, min_samples_leaf=1, max_features=auto, max_depth=10 \n",
            "[CV]  n_estimators=500, min_samples_split=4, min_samples_leaf=1, max_features=auto, max_depth=10, total=   1.2s\n",
            "[CV] n_estimators=100, min_samples_split=4, min_samples_leaf=1, max_features=auto, max_depth=25 \n",
            "[CV]  n_estimators=100, min_samples_split=4, min_samples_leaf=1, max_features=auto, max_depth=25, total=   0.4s\n",
            "[CV] n_estimators=100, min_samples_split=4, min_samples_leaf=1, max_features=auto, max_depth=25 \n",
            "[CV]  n_estimators=100, min_samples_split=4, min_samples_leaf=1, max_features=auto, max_depth=25, total=   0.3s\n",
            "[CV] n_estimators=100, min_samples_split=4, min_samples_leaf=1, max_features=auto, max_depth=25 \n",
            "[CV]  n_estimators=100, min_samples_split=4, min_samples_leaf=1, max_features=auto, max_depth=25, total=   0.3s\n",
            "[CV] n_estimators=100, min_samples_split=4, min_samples_leaf=1, max_features=auto, max_depth=25 \n",
            "[CV]  n_estimators=100, min_samples_split=4, min_samples_leaf=1, max_features=auto, max_depth=25, total=   0.3s\n",
            "[CV] n_estimators=100, min_samples_split=4, min_samples_leaf=1, max_features=auto, max_depth=25 \n",
            "[CV]  n_estimators=100, min_samples_split=4, min_samples_leaf=1, max_features=auto, max_depth=25, total=   0.3s\n",
            "[CV] n_estimators=200, min_samples_split=2, min_samples_leaf=2, max_features=sqrt, max_depth=25 \n",
            "[CV]  n_estimators=200, min_samples_split=2, min_samples_leaf=2, max_features=sqrt, max_depth=25, total=   0.5s\n",
            "[CV] n_estimators=200, min_samples_split=2, min_samples_leaf=2, max_features=sqrt, max_depth=25 \n",
            "[CV]  n_estimators=200, min_samples_split=2, min_samples_leaf=2, max_features=sqrt, max_depth=25, total=   0.5s\n",
            "[CV] n_estimators=200, min_samples_split=2, min_samples_leaf=2, max_features=sqrt, max_depth=25 \n",
            "[CV]  n_estimators=200, min_samples_split=2, min_samples_leaf=2, max_features=sqrt, max_depth=25, total=   0.5s\n",
            "[CV] n_estimators=200, min_samples_split=2, min_samples_leaf=2, max_features=sqrt, max_depth=25 \n",
            "[CV]  n_estimators=200, min_samples_split=2, min_samples_leaf=2, max_features=sqrt, max_depth=25, total=   0.5s\n",
            "[CV] n_estimators=200, min_samples_split=2, min_samples_leaf=2, max_features=sqrt, max_depth=25 \n",
            "[CV]  n_estimators=200, min_samples_split=2, min_samples_leaf=2, max_features=sqrt, max_depth=25, total=   0.5s\n",
            "[CV] n_estimators=100, min_samples_split=6, min_samples_leaf=1, max_features=sqrt, max_depth=15 \n",
            "[CV]  n_estimators=100, min_samples_split=6, min_samples_leaf=1, max_features=sqrt, max_depth=15, total=   0.4s\n",
            "[CV] n_estimators=100, min_samples_split=6, min_samples_leaf=1, max_features=sqrt, max_depth=15 \n",
            "[CV]  n_estimators=100, min_samples_split=6, min_samples_leaf=1, max_features=sqrt, max_depth=15, total=   0.3s\n",
            "[CV] n_estimators=100, min_samples_split=6, min_samples_leaf=1, max_features=sqrt, max_depth=15 \n",
            "[CV]  n_estimators=100, min_samples_split=6, min_samples_leaf=1, max_features=sqrt, max_depth=15, total=   0.3s\n",
            "[CV] n_estimators=100, min_samples_split=6, min_samples_leaf=1, max_features=sqrt, max_depth=15 \n",
            "[CV]  n_estimators=100, min_samples_split=6, min_samples_leaf=1, max_features=sqrt, max_depth=15, total=   0.3s\n",
            "[CV] n_estimators=100, min_samples_split=6, min_samples_leaf=1, max_features=sqrt, max_depth=15 \n",
            "[CV]  n_estimators=100, min_samples_split=6, min_samples_leaf=1, max_features=sqrt, max_depth=15, total=   0.3s\n",
            "[CV] n_estimators=100, min_samples_split=2, min_samples_leaf=2, max_features=sqrt, max_depth=5 \n",
            "[CV]  n_estimators=100, min_samples_split=2, min_samples_leaf=2, max_features=sqrt, max_depth=5, total=   0.3s\n",
            "[CV] n_estimators=100, min_samples_split=2, min_samples_leaf=2, max_features=sqrt, max_depth=5 \n",
            "[CV]  n_estimators=100, min_samples_split=2, min_samples_leaf=2, max_features=sqrt, max_depth=5, total=   0.3s\n",
            "[CV] n_estimators=100, min_samples_split=2, min_samples_leaf=2, max_features=sqrt, max_depth=5 \n",
            "[CV]  n_estimators=100, min_samples_split=2, min_samples_leaf=2, max_features=sqrt, max_depth=5, total=   0.3s\n",
            "[CV] n_estimators=100, min_samples_split=2, min_samples_leaf=2, max_features=sqrt, max_depth=5 \n",
            "[CV]  n_estimators=100, min_samples_split=2, min_samples_leaf=2, max_features=sqrt, max_depth=5, total=   0.3s\n",
            "[CV] n_estimators=100, min_samples_split=2, min_samples_leaf=2, max_features=sqrt, max_depth=5 \n",
            "[CV]  n_estimators=100, min_samples_split=2, min_samples_leaf=2, max_features=sqrt, max_depth=5, total=   0.3s\n"
          ],
          "name": "stdout"
        },
        {
          "output_type": "stream",
          "text": [
            "[Parallel(n_jobs=1)]: Done  50 out of  50 | elapsed:   32.6s finished\n"
          ],
          "name": "stderr"
        }
      ]
    },
    {
      "cell_type": "code",
      "metadata": {
        "id": "fAOyMyaGAWt-",
        "colab_type": "code",
        "colab": {
          "base_uri": "https://localhost:8080/",
          "height": 102
        },
        "outputId": "4b9eeac3-2a01-4407-8125-6c74d9c72420"
      },
      "source": [
        "rs_model.best_params_"
      ],
      "execution_count": 9,
      "outputs": [
        {
          "output_type": "execute_result",
          "data": {
            "text/plain": [
              "{'max_depth': 30,\n",
              " 'max_features': 'sqrt',\n",
              " 'min_samples_leaf': 3,\n",
              " 'min_samples_split': 2,\n",
              " 'n_estimators': 100}"
            ]
          },
          "metadata": {
            "tags": []
          },
          "execution_count": 9
        }
      ]
    },
    {
      "cell_type": "code",
      "metadata": {
        "id": "txBsY2vqBmJ3",
        "colab_type": "code",
        "colab": {
          "base_uri": "https://localhost:8080/",
          "height": 85
        },
        "outputId": "b85e7c16-2361-40a4-9f99-fc4d3bfa1df9"
      },
      "source": [
        "#Making predictions with best hyperparameters\n",
        "rs_y_preds = rs_model.predict(X_test)\n",
        "\n",
        "#Evaluate predictions\n",
        "rs_metrics = evaluate_preds(y_test,rs_y_preds)"
      ],
      "execution_count": 14,
      "outputs": [
        {
          "output_type": "stream",
          "text": [
            "Acc: 59.02%\n",
            "Precision: 0.58\n",
            "Recall: 0.78\n",
            "F1 score: 0.67\n"
          ],
          "name": "stdout"
        }
      ]
    },
    {
      "cell_type": "code",
      "metadata": {
        "id": "imizV6u_DsJ2",
        "colab_type": "code",
        "colab": {
          "base_uri": "https://localhost:8080/",
          "height": 102
        },
        "outputId": "ffafd3f8-0031-44c0-de2f-71d0243d8c0d"
      },
      "source": [
        "grid"
      ],
      "execution_count": 15,
      "outputs": [
        {
          "output_type": "execute_result",
          "data": {
            "text/plain": [
              "{'max_depth': [5, 10, 15, 20, 25, 30],\n",
              " 'max_features': ['auto', 'sqrt'],\n",
              " 'min_samples_leaf': [1, 2, 3, 4],\n",
              " 'min_samples_split': [2, 4, 6, 8],\n",
              " 'n_estimators': [10, 100, 200, 500, 1000]}"
            ]
          },
          "metadata": {
            "tags": []
          },
          "execution_count": 15
        }
      ]
    },
    {
      "cell_type": "markdown",
      "metadata": {
        "id": "VUDwxXh2DvRX",
        "colab_type": "text"
      },
      "source": [
        "**HyperParameter Tuning with GridSearchCV**"
      ]
    },
    {
      "cell_type": "code",
      "metadata": {
        "id": "itQsa3_MD92r",
        "colab_type": "code",
        "colab": {}
      },
      "source": [
        "grid_2 = {'n_estimators':[10,100,150],\n",
        "          'max_depth':[20,30,40],\n",
        "          'max_features':['auto','sqrt'],\n",
        "          'min_samples_leaf':[2,5,7],\n",
        "          'min_samples_split':[2,5,7]}"
      ],
      "execution_count": 0,
      "outputs": []
    },
    {
      "cell_type": "code",
      "metadata": {
        "id": "imVagMzxEqlv",
        "colab_type": "code",
        "colab": {
          "base_uri": "https://localhost:8080/",
          "height": 1000
        },
        "outputId": "b436189e-9007-407b-a079-1c4ec0e92741"
      },
      "source": [
        "from sklearn.model_selection import GridSearchCV\n",
        "\n",
        "#Dictionary of the parameter values for randomized search\n",
        "'''\n",
        "grid = {'n_estimators':[10,100,200,500,1000],\n",
        "        'max_depth':[5,10,15,20,25,30],\n",
        "        'max_features':['auto','sqrt'],\n",
        "        'min_samples_split':[2,4,6,8,],\n",
        "        'min_samples_leaf':[1,2,3,4,]}\n",
        "'''\n",
        "np.random.seed(42)\n",
        "\n",
        "#Split the dataset into X&y\n",
        "X=heart_disease_shuffled.drop('target',axis=1)\n",
        "y=heart_disease['target']\n",
        "\n",
        "#Splitting data into train test split\n",
        "X_train,X_test,y_train,y_test = train_test_split(X,y,test_size=0.2)\n",
        "\n",
        "#Instantiate the model\n",
        "model = RandomForestClassifier(n_jobs=-1)\n",
        "\n",
        "#Set up Randomized search\n",
        "gs_model = GridSearchCV(estimator = model,\n",
        "                              param_grid=grid_2,\n",
        "                              cv=5,\n",
        "                              verbose=2)\n",
        "gs_model.fit(X_train,y_train);"
      ],
      "execution_count": 22,
      "outputs": [
        {
          "output_type": "stream",
          "text": [
            "Fitting 5 folds for each of 162 candidates, totalling 810 fits\n",
            "[CV] max_depth=20, max_features=auto, min_samples_leaf=2, min_samples_split=2, n_estimators=10 \n"
          ],
          "name": "stdout"
        },
        {
          "output_type": "stream",
          "text": [
            "[Parallel(n_jobs=1)]: Using backend SequentialBackend with 1 concurrent workers.\n"
          ],
          "name": "stderr"
        },
        {
          "output_type": "stream",
          "text": [
            "[CV]  max_depth=20, max_features=auto, min_samples_leaf=2, min_samples_split=2, n_estimators=10, total=   1.1s\n",
            "[CV] max_depth=20, max_features=auto, min_samples_leaf=2, min_samples_split=2, n_estimators=10 \n",
            "[CV]  max_depth=20, max_features=auto, min_samples_leaf=2, min_samples_split=2, n_estimators=10, total=   0.1s\n",
            "[CV] max_depth=20, max_features=auto, min_samples_leaf=2, min_samples_split=2, n_estimators=10 \n"
          ],
          "name": "stdout"
        },
        {
          "output_type": "stream",
          "text": [
            "[Parallel(n_jobs=1)]: Done   1 out of   1 | elapsed:    1.1s remaining:    0.0s\n"
          ],
          "name": "stderr"
        },
        {
          "output_type": "stream",
          "text": [
            "[CV]  max_depth=20, max_features=auto, min_samples_leaf=2, min_samples_split=2, n_estimators=10, total=   0.1s\n",
            "[CV] max_depth=20, max_features=auto, min_samples_leaf=2, min_samples_split=2, n_estimators=10 \n",
            "[CV]  max_depth=20, max_features=auto, min_samples_leaf=2, min_samples_split=2, n_estimators=10, total=   0.1s\n",
            "[CV] max_depth=20, max_features=auto, min_samples_leaf=2, min_samples_split=2, n_estimators=10 \n",
            "[CV]  max_depth=20, max_features=auto, min_samples_leaf=2, min_samples_split=2, n_estimators=10, total=   0.1s\n",
            "[CV] max_depth=20, max_features=auto, min_samples_leaf=2, min_samples_split=2, n_estimators=100 \n",
            "[CV]  max_depth=20, max_features=auto, min_samples_leaf=2, min_samples_split=2, n_estimators=100, total=   0.3s\n",
            "[CV] max_depth=20, max_features=auto, min_samples_leaf=2, min_samples_split=2, n_estimators=100 \n",
            "[CV]  max_depth=20, max_features=auto, min_samples_leaf=2, min_samples_split=2, n_estimators=100, total=   0.4s\n",
            "[CV] max_depth=20, max_features=auto, min_samples_leaf=2, min_samples_split=2, n_estimators=100 \n",
            "[CV]  max_depth=20, max_features=auto, min_samples_leaf=2, min_samples_split=2, n_estimators=100, total=   0.4s\n",
            "[CV] max_depth=20, max_features=auto, min_samples_leaf=2, min_samples_split=2, n_estimators=100 \n",
            "[CV]  max_depth=20, max_features=auto, min_samples_leaf=2, min_samples_split=2, n_estimators=100, total=   0.3s\n",
            "[CV] max_depth=20, max_features=auto, min_samples_leaf=2, min_samples_split=2, n_estimators=100 \n",
            "[CV]  max_depth=20, max_features=auto, min_samples_leaf=2, min_samples_split=2, n_estimators=100, total=   0.4s\n",
            "[CV] max_depth=20, max_features=auto, min_samples_leaf=2, min_samples_split=2, n_estimators=150 \n",
            "[CV]  max_depth=20, max_features=auto, min_samples_leaf=2, min_samples_split=2, n_estimators=150, total=   0.5s\n",
            "[CV] max_depth=20, max_features=auto, min_samples_leaf=2, min_samples_split=2, n_estimators=150 \n",
            "[CV]  max_depth=20, max_features=auto, min_samples_leaf=2, min_samples_split=2, n_estimators=150, total=   0.5s\n",
            "[CV] max_depth=20, max_features=auto, min_samples_leaf=2, min_samples_split=2, n_estimators=150 \n",
            "[CV]  max_depth=20, max_features=auto, min_samples_leaf=2, min_samples_split=2, n_estimators=150, total=   0.5s\n",
            "[CV] max_depth=20, max_features=auto, min_samples_leaf=2, min_samples_split=2, n_estimators=150 \n",
            "[CV]  max_depth=20, max_features=auto, min_samples_leaf=2, min_samples_split=2, n_estimators=150, total=   0.5s\n",
            "[CV] max_depth=20, max_features=auto, min_samples_leaf=2, min_samples_split=2, n_estimators=150 \n",
            "[CV]  max_depth=20, max_features=auto, min_samples_leaf=2, min_samples_split=2, n_estimators=150, total=   0.5s\n",
            "[CV] max_depth=20, max_features=auto, min_samples_leaf=2, min_samples_split=5, n_estimators=10 \n",
            "[CV]  max_depth=20, max_features=auto, min_samples_leaf=2, min_samples_split=5, n_estimators=10, total=   0.1s\n",
            "[CV] max_depth=20, max_features=auto, min_samples_leaf=2, min_samples_split=5, n_estimators=10 \n",
            "[CV]  max_depth=20, max_features=auto, min_samples_leaf=2, min_samples_split=5, n_estimators=10, total=   0.1s\n",
            "[CV] max_depth=20, max_features=auto, min_samples_leaf=2, min_samples_split=5, n_estimators=10 \n",
            "[CV]  max_depth=20, max_features=auto, min_samples_leaf=2, min_samples_split=5, n_estimators=10, total=   0.1s\n",
            "[CV] max_depth=20, max_features=auto, min_samples_leaf=2, min_samples_split=5, n_estimators=10 \n",
            "[CV]  max_depth=20, max_features=auto, min_samples_leaf=2, min_samples_split=5, n_estimators=10, total=   0.1s\n",
            "[CV] max_depth=20, max_features=auto, min_samples_leaf=2, min_samples_split=5, n_estimators=10 \n",
            "[CV]  max_depth=20, max_features=auto, min_samples_leaf=2, min_samples_split=5, n_estimators=10, total=   0.1s\n",
            "[CV] max_depth=20, max_features=auto, min_samples_leaf=2, min_samples_split=5, n_estimators=100 \n",
            "[CV]  max_depth=20, max_features=auto, min_samples_leaf=2, min_samples_split=5, n_estimators=100, total=   0.3s\n",
            "[CV] max_depth=20, max_features=auto, min_samples_leaf=2, min_samples_split=5, n_estimators=100 \n",
            "[CV]  max_depth=20, max_features=auto, min_samples_leaf=2, min_samples_split=5, n_estimators=100, total=   0.3s\n",
            "[CV] max_depth=20, max_features=auto, min_samples_leaf=2, min_samples_split=5, n_estimators=100 \n",
            "[CV]  max_depth=20, max_features=auto, min_samples_leaf=2, min_samples_split=5, n_estimators=100, total=   0.4s\n",
            "[CV] max_depth=20, max_features=auto, min_samples_leaf=2, min_samples_split=5, n_estimators=100 \n",
            "[CV]  max_depth=20, max_features=auto, min_samples_leaf=2, min_samples_split=5, n_estimators=100, total=   0.3s\n",
            "[CV] max_depth=20, max_features=auto, min_samples_leaf=2, min_samples_split=5, n_estimators=100 \n",
            "[CV]  max_depth=20, max_features=auto, min_samples_leaf=2, min_samples_split=5, n_estimators=100, total=   0.3s\n",
            "[CV] max_depth=20, max_features=auto, min_samples_leaf=2, min_samples_split=5, n_estimators=150 \n",
            "[CV]  max_depth=20, max_features=auto, min_samples_leaf=2, min_samples_split=5, n_estimators=150, total=   0.5s\n",
            "[CV] max_depth=20, max_features=auto, min_samples_leaf=2, min_samples_split=5, n_estimators=150 \n",
            "[CV]  max_depth=20, max_features=auto, min_samples_leaf=2, min_samples_split=5, n_estimators=150, total=   0.5s\n",
            "[CV] max_depth=20, max_features=auto, min_samples_leaf=2, min_samples_split=5, n_estimators=150 \n",
            "[CV]  max_depth=20, max_features=auto, min_samples_leaf=2, min_samples_split=5, n_estimators=150, total=   0.5s\n",
            "[CV] max_depth=20, max_features=auto, min_samples_leaf=2, min_samples_split=5, n_estimators=150 \n",
            "[CV]  max_depth=20, max_features=auto, min_samples_leaf=2, min_samples_split=5, n_estimators=150, total=   0.5s\n",
            "[CV] max_depth=20, max_features=auto, min_samples_leaf=2, min_samples_split=5, n_estimators=150 \n",
            "[CV]  max_depth=20, max_features=auto, min_samples_leaf=2, min_samples_split=5, n_estimators=150, total=   0.5s\n",
            "[CV] max_depth=20, max_features=auto, min_samples_leaf=2, min_samples_split=7, n_estimators=10 \n",
            "[CV]  max_depth=20, max_features=auto, min_samples_leaf=2, min_samples_split=7, n_estimators=10, total=   0.1s\n",
            "[CV] max_depth=20, max_features=auto, min_samples_leaf=2, min_samples_split=7, n_estimators=10 \n",
            "[CV]  max_depth=20, max_features=auto, min_samples_leaf=2, min_samples_split=7, n_estimators=10, total=   0.1s\n",
            "[CV] max_depth=20, max_features=auto, min_samples_leaf=2, min_samples_split=7, n_estimators=10 \n",
            "[CV]  max_depth=20, max_features=auto, min_samples_leaf=2, min_samples_split=7, n_estimators=10, total=   0.1s\n",
            "[CV] max_depth=20, max_features=auto, min_samples_leaf=2, min_samples_split=7, n_estimators=10 \n",
            "[CV]  max_depth=20, max_features=auto, min_samples_leaf=2, min_samples_split=7, n_estimators=10, total=   0.1s\n",
            "[CV] max_depth=20, max_features=auto, min_samples_leaf=2, min_samples_split=7, n_estimators=10 \n",
            "[CV]  max_depth=20, max_features=auto, min_samples_leaf=2, min_samples_split=7, n_estimators=10, total=   0.1s\n",
            "[CV] max_depth=20, max_features=auto, min_samples_leaf=2, min_samples_split=7, n_estimators=100 \n",
            "[CV]  max_depth=20, max_features=auto, min_samples_leaf=2, min_samples_split=7, n_estimators=100, total=   0.3s\n",
            "[CV] max_depth=20, max_features=auto, min_samples_leaf=2, min_samples_split=7, n_estimators=100 \n",
            "[CV]  max_depth=20, max_features=auto, min_samples_leaf=2, min_samples_split=7, n_estimators=100, total=   0.3s\n",
            "[CV] max_depth=20, max_features=auto, min_samples_leaf=2, min_samples_split=7, n_estimators=100 \n",
            "[CV]  max_depth=20, max_features=auto, min_samples_leaf=2, min_samples_split=7, n_estimators=100, total=   0.3s\n",
            "[CV] max_depth=20, max_features=auto, min_samples_leaf=2, min_samples_split=7, n_estimators=100 \n",
            "[CV]  max_depth=20, max_features=auto, min_samples_leaf=2, min_samples_split=7, n_estimators=100, total=   0.3s\n",
            "[CV] max_depth=20, max_features=auto, min_samples_leaf=2, min_samples_split=7, n_estimators=100 \n",
            "[CV]  max_depth=20, max_features=auto, min_samples_leaf=2, min_samples_split=7, n_estimators=100, total=   0.4s\n",
            "[CV] max_depth=20, max_features=auto, min_samples_leaf=2, min_samples_split=7, n_estimators=150 \n",
            "[CV]  max_depth=20, max_features=auto, min_samples_leaf=2, min_samples_split=7, n_estimators=150, total=   0.5s\n",
            "[CV] max_depth=20, max_features=auto, min_samples_leaf=2, min_samples_split=7, n_estimators=150 \n",
            "[CV]  max_depth=20, max_features=auto, min_samples_leaf=2, min_samples_split=7, n_estimators=150, total=   0.5s\n",
            "[CV] max_depth=20, max_features=auto, min_samples_leaf=2, min_samples_split=7, n_estimators=150 \n",
            "[CV]  max_depth=20, max_features=auto, min_samples_leaf=2, min_samples_split=7, n_estimators=150, total=   0.5s\n",
            "[CV] max_depth=20, max_features=auto, min_samples_leaf=2, min_samples_split=7, n_estimators=150 \n",
            "[CV]  max_depth=20, max_features=auto, min_samples_leaf=2, min_samples_split=7, n_estimators=150, total=   0.5s\n",
            "[CV] max_depth=20, max_features=auto, min_samples_leaf=2, min_samples_split=7, n_estimators=150 \n",
            "[CV]  max_depth=20, max_features=auto, min_samples_leaf=2, min_samples_split=7, n_estimators=150, total=   0.5s\n",
            "[CV] max_depth=20, max_features=auto, min_samples_leaf=5, min_samples_split=2, n_estimators=10 \n",
            "[CV]  max_depth=20, max_features=auto, min_samples_leaf=5, min_samples_split=2, n_estimators=10, total=   0.1s\n",
            "[CV] max_depth=20, max_features=auto, min_samples_leaf=5, min_samples_split=2, n_estimators=10 \n",
            "[CV]  max_depth=20, max_features=auto, min_samples_leaf=5, min_samples_split=2, n_estimators=10, total=   0.1s\n",
            "[CV] max_depth=20, max_features=auto, min_samples_leaf=5, min_samples_split=2, n_estimators=10 \n",
            "[CV]  max_depth=20, max_features=auto, min_samples_leaf=5, min_samples_split=2, n_estimators=10, total=   0.1s\n",
            "[CV] max_depth=20, max_features=auto, min_samples_leaf=5, min_samples_split=2, n_estimators=10 \n",
            "[CV]  max_depth=20, max_features=auto, min_samples_leaf=5, min_samples_split=2, n_estimators=10, total=   0.1s\n",
            "[CV] max_depth=20, max_features=auto, min_samples_leaf=5, min_samples_split=2, n_estimators=10 \n",
            "[CV]  max_depth=20, max_features=auto, min_samples_leaf=5, min_samples_split=2, n_estimators=10, total=   0.1s\n",
            "[CV] max_depth=20, max_features=auto, min_samples_leaf=5, min_samples_split=2, n_estimators=100 \n",
            "[CV]  max_depth=20, max_features=auto, min_samples_leaf=5, min_samples_split=2, n_estimators=100, total=   0.4s\n",
            "[CV] max_depth=20, max_features=auto, min_samples_leaf=5, min_samples_split=2, n_estimators=100 \n",
            "[CV]  max_depth=20, max_features=auto, min_samples_leaf=5, min_samples_split=2, n_estimators=100, total=   0.4s\n",
            "[CV] max_depth=20, max_features=auto, min_samples_leaf=5, min_samples_split=2, n_estimators=100 \n",
            "[CV]  max_depth=20, max_features=auto, min_samples_leaf=5, min_samples_split=2, n_estimators=100, total=   0.4s\n",
            "[CV] max_depth=20, max_features=auto, min_samples_leaf=5, min_samples_split=2, n_estimators=100 \n",
            "[CV]  max_depth=20, max_features=auto, min_samples_leaf=5, min_samples_split=2, n_estimators=100, total=   0.4s\n",
            "[CV] max_depth=20, max_features=auto, min_samples_leaf=5, min_samples_split=2, n_estimators=100 \n",
            "[CV]  max_depth=20, max_features=auto, min_samples_leaf=5, min_samples_split=2, n_estimators=100, total=   0.4s\n",
            "[CV] max_depth=20, max_features=auto, min_samples_leaf=5, min_samples_split=2, n_estimators=150 \n",
            "[CV]  max_depth=20, max_features=auto, min_samples_leaf=5, min_samples_split=2, n_estimators=150, total=   0.5s\n",
            "[CV] max_depth=20, max_features=auto, min_samples_leaf=5, min_samples_split=2, n_estimators=150 \n",
            "[CV]  max_depth=20, max_features=auto, min_samples_leaf=5, min_samples_split=2, n_estimators=150, total=   0.5s\n",
            "[CV] max_depth=20, max_features=auto, min_samples_leaf=5, min_samples_split=2, n_estimators=150 \n",
            "[CV]  max_depth=20, max_features=auto, min_samples_leaf=5, min_samples_split=2, n_estimators=150, total=   0.5s\n",
            "[CV] max_depth=20, max_features=auto, min_samples_leaf=5, min_samples_split=2, n_estimators=150 \n",
            "[CV]  max_depth=20, max_features=auto, min_samples_leaf=5, min_samples_split=2, n_estimators=150, total=   0.5s\n",
            "[CV] max_depth=20, max_features=auto, min_samples_leaf=5, min_samples_split=2, n_estimators=150 \n",
            "[CV]  max_depth=20, max_features=auto, min_samples_leaf=5, min_samples_split=2, n_estimators=150, total=   0.5s\n",
            "[CV] max_depth=20, max_features=auto, min_samples_leaf=5, min_samples_split=5, n_estimators=10 \n",
            "[CV]  max_depth=20, max_features=auto, min_samples_leaf=5, min_samples_split=5, n_estimators=10, total=   0.1s\n",
            "[CV] max_depth=20, max_features=auto, min_samples_leaf=5, min_samples_split=5, n_estimators=10 \n",
            "[CV]  max_depth=20, max_features=auto, min_samples_leaf=5, min_samples_split=5, n_estimators=10, total=   0.1s\n",
            "[CV] max_depth=20, max_features=auto, min_samples_leaf=5, min_samples_split=5, n_estimators=10 \n",
            "[CV]  max_depth=20, max_features=auto, min_samples_leaf=5, min_samples_split=5, n_estimators=10, total=   0.1s\n",
            "[CV] max_depth=20, max_features=auto, min_samples_leaf=5, min_samples_split=5, n_estimators=10 \n",
            "[CV]  max_depth=20, max_features=auto, min_samples_leaf=5, min_samples_split=5, n_estimators=10, total=   0.1s\n",
            "[CV] max_depth=20, max_features=auto, min_samples_leaf=5, min_samples_split=5, n_estimators=10 \n",
            "[CV]  max_depth=20, max_features=auto, min_samples_leaf=5, min_samples_split=5, n_estimators=10, total=   0.1s\n",
            "[CV] max_depth=20, max_features=auto, min_samples_leaf=5, min_samples_split=5, n_estimators=100 \n",
            "[CV]  max_depth=20, max_features=auto, min_samples_leaf=5, min_samples_split=5, n_estimators=100, total=   0.3s\n",
            "[CV] max_depth=20, max_features=auto, min_samples_leaf=5, min_samples_split=5, n_estimators=100 \n",
            "[CV]  max_depth=20, max_features=auto, min_samples_leaf=5, min_samples_split=5, n_estimators=100, total=   0.3s\n",
            "[CV] max_depth=20, max_features=auto, min_samples_leaf=5, min_samples_split=5, n_estimators=100 \n",
            "[CV]  max_depth=20, max_features=auto, min_samples_leaf=5, min_samples_split=5, n_estimators=100, total=   0.3s\n",
            "[CV] max_depth=20, max_features=auto, min_samples_leaf=5, min_samples_split=5, n_estimators=100 \n",
            "[CV]  max_depth=20, max_features=auto, min_samples_leaf=5, min_samples_split=5, n_estimators=100, total=   0.3s\n",
            "[CV] max_depth=20, max_features=auto, min_samples_leaf=5, min_samples_split=5, n_estimators=100 \n",
            "[CV]  max_depth=20, max_features=auto, min_samples_leaf=5, min_samples_split=5, n_estimators=100, total=   0.3s\n",
            "[CV] max_depth=20, max_features=auto, min_samples_leaf=5, min_samples_split=5, n_estimators=150 \n",
            "[CV]  max_depth=20, max_features=auto, min_samples_leaf=5, min_samples_split=5, n_estimators=150, total=   0.5s\n",
            "[CV] max_depth=20, max_features=auto, min_samples_leaf=5, min_samples_split=5, n_estimators=150 \n",
            "[CV]  max_depth=20, max_features=auto, min_samples_leaf=5, min_samples_split=5, n_estimators=150, total=   0.5s\n",
            "[CV] max_depth=20, max_features=auto, min_samples_leaf=5, min_samples_split=5, n_estimators=150 \n",
            "[CV]  max_depth=20, max_features=auto, min_samples_leaf=5, min_samples_split=5, n_estimators=150, total=   0.5s\n",
            "[CV] max_depth=20, max_features=auto, min_samples_leaf=5, min_samples_split=5, n_estimators=150 \n",
            "[CV]  max_depth=20, max_features=auto, min_samples_leaf=5, min_samples_split=5, n_estimators=150, total=   0.5s\n",
            "[CV] max_depth=20, max_features=auto, min_samples_leaf=5, min_samples_split=5, n_estimators=150 \n",
            "[CV]  max_depth=20, max_features=auto, min_samples_leaf=5, min_samples_split=5, n_estimators=150, total=   0.5s\n",
            "[CV] max_depth=20, max_features=auto, min_samples_leaf=5, min_samples_split=7, n_estimators=10 \n",
            "[CV]  max_depth=20, max_features=auto, min_samples_leaf=5, min_samples_split=7, n_estimators=10, total=   0.1s\n",
            "[CV] max_depth=20, max_features=auto, min_samples_leaf=5, min_samples_split=7, n_estimators=10 \n",
            "[CV]  max_depth=20, max_features=auto, min_samples_leaf=5, min_samples_split=7, n_estimators=10, total=   0.1s\n",
            "[CV] max_depth=20, max_features=auto, min_samples_leaf=5, min_samples_split=7, n_estimators=10 \n",
            "[CV]  max_depth=20, max_features=auto, min_samples_leaf=5, min_samples_split=7, n_estimators=10, total=   0.1s\n",
            "[CV] max_depth=20, max_features=auto, min_samples_leaf=5, min_samples_split=7, n_estimators=10 \n",
            "[CV]  max_depth=20, max_features=auto, min_samples_leaf=5, min_samples_split=7, n_estimators=10, total=   0.1s\n",
            "[CV] max_depth=20, max_features=auto, min_samples_leaf=5, min_samples_split=7, n_estimators=10 \n",
            "[CV]  max_depth=20, max_features=auto, min_samples_leaf=5, min_samples_split=7, n_estimators=10, total=   0.1s\n",
            "[CV] max_depth=20, max_features=auto, min_samples_leaf=5, min_samples_split=7, n_estimators=100 \n",
            "[CV]  max_depth=20, max_features=auto, min_samples_leaf=5, min_samples_split=7, n_estimators=100, total=   0.3s\n",
            "[CV] max_depth=20, max_features=auto, min_samples_leaf=5, min_samples_split=7, n_estimators=100 \n",
            "[CV]  max_depth=20, max_features=auto, min_samples_leaf=5, min_samples_split=7, n_estimators=100, total=   0.3s\n",
            "[CV] max_depth=20, max_features=auto, min_samples_leaf=5, min_samples_split=7, n_estimators=100 \n",
            "[CV]  max_depth=20, max_features=auto, min_samples_leaf=5, min_samples_split=7, n_estimators=100, total=   0.3s\n",
            "[CV] max_depth=20, max_features=auto, min_samples_leaf=5, min_samples_split=7, n_estimators=100 \n",
            "[CV]  max_depth=20, max_features=auto, min_samples_leaf=5, min_samples_split=7, n_estimators=100, total=   0.3s\n",
            "[CV] max_depth=20, max_features=auto, min_samples_leaf=5, min_samples_split=7, n_estimators=100 \n",
            "[CV]  max_depth=20, max_features=auto, min_samples_leaf=5, min_samples_split=7, n_estimators=100, total=   0.4s\n",
            "[CV] max_depth=20, max_features=auto, min_samples_leaf=5, min_samples_split=7, n_estimators=150 \n",
            "[CV]  max_depth=20, max_features=auto, min_samples_leaf=5, min_samples_split=7, n_estimators=150, total=   0.5s\n",
            "[CV] max_depth=20, max_features=auto, min_samples_leaf=5, min_samples_split=7, n_estimators=150 \n",
            "[CV]  max_depth=20, max_features=auto, min_samples_leaf=5, min_samples_split=7, n_estimators=150, total=   0.5s\n",
            "[CV] max_depth=20, max_features=auto, min_samples_leaf=5, min_samples_split=7, n_estimators=150 \n",
            "[CV]  max_depth=20, max_features=auto, min_samples_leaf=5, min_samples_split=7, n_estimators=150, total=   0.5s\n",
            "[CV] max_depth=20, max_features=auto, min_samples_leaf=5, min_samples_split=7, n_estimators=150 \n",
            "[CV]  max_depth=20, max_features=auto, min_samples_leaf=5, min_samples_split=7, n_estimators=150, total=   0.5s\n",
            "[CV] max_depth=20, max_features=auto, min_samples_leaf=5, min_samples_split=7, n_estimators=150 \n",
            "[CV]  max_depth=20, max_features=auto, min_samples_leaf=5, min_samples_split=7, n_estimators=150, total=   0.5s\n",
            "[CV] max_depth=20, max_features=auto, min_samples_leaf=7, min_samples_split=2, n_estimators=10 \n",
            "[CV]  max_depth=20, max_features=auto, min_samples_leaf=7, min_samples_split=2, n_estimators=10, total=   0.1s\n",
            "[CV] max_depth=20, max_features=auto, min_samples_leaf=7, min_samples_split=2, n_estimators=10 \n",
            "[CV]  max_depth=20, max_features=auto, min_samples_leaf=7, min_samples_split=2, n_estimators=10, total=   0.1s\n",
            "[CV] max_depth=20, max_features=auto, min_samples_leaf=7, min_samples_split=2, n_estimators=10 \n",
            "[CV]  max_depth=20, max_features=auto, min_samples_leaf=7, min_samples_split=2, n_estimators=10, total=   0.1s\n",
            "[CV] max_depth=20, max_features=auto, min_samples_leaf=7, min_samples_split=2, n_estimators=10 \n",
            "[CV]  max_depth=20, max_features=auto, min_samples_leaf=7, min_samples_split=2, n_estimators=10, total=   0.1s\n",
            "[CV] max_depth=20, max_features=auto, min_samples_leaf=7, min_samples_split=2, n_estimators=10 \n",
            "[CV]  max_depth=20, max_features=auto, min_samples_leaf=7, min_samples_split=2, n_estimators=10, total=   0.1s\n",
            "[CV] max_depth=20, max_features=auto, min_samples_leaf=7, min_samples_split=2, n_estimators=100 \n",
            "[CV]  max_depth=20, max_features=auto, min_samples_leaf=7, min_samples_split=2, n_estimators=100, total=   0.3s\n",
            "[CV] max_depth=20, max_features=auto, min_samples_leaf=7, min_samples_split=2, n_estimators=100 \n",
            "[CV]  max_depth=20, max_features=auto, min_samples_leaf=7, min_samples_split=2, n_estimators=100, total=   0.3s\n",
            "[CV] max_depth=20, max_features=auto, min_samples_leaf=7, min_samples_split=2, n_estimators=100 \n",
            "[CV]  max_depth=20, max_features=auto, min_samples_leaf=7, min_samples_split=2, n_estimators=100, total=   0.4s\n",
            "[CV] max_depth=20, max_features=auto, min_samples_leaf=7, min_samples_split=2, n_estimators=100 \n",
            "[CV]  max_depth=20, max_features=auto, min_samples_leaf=7, min_samples_split=2, n_estimators=100, total=   0.3s\n",
            "[CV] max_depth=20, max_features=auto, min_samples_leaf=7, min_samples_split=2, n_estimators=100 \n",
            "[CV]  max_depth=20, max_features=auto, min_samples_leaf=7, min_samples_split=2, n_estimators=100, total=   0.3s\n",
            "[CV] max_depth=20, max_features=auto, min_samples_leaf=7, min_samples_split=2, n_estimators=150 \n",
            "[CV]  max_depth=20, max_features=auto, min_samples_leaf=7, min_samples_split=2, n_estimators=150, total=   0.5s\n",
            "[CV] max_depth=20, max_features=auto, min_samples_leaf=7, min_samples_split=2, n_estimators=150 \n",
            "[CV]  max_depth=20, max_features=auto, min_samples_leaf=7, min_samples_split=2, n_estimators=150, total=   0.5s\n",
            "[CV] max_depth=20, max_features=auto, min_samples_leaf=7, min_samples_split=2, n_estimators=150 \n",
            "[CV]  max_depth=20, max_features=auto, min_samples_leaf=7, min_samples_split=2, n_estimators=150, total=   0.5s\n",
            "[CV] max_depth=20, max_features=auto, min_samples_leaf=7, min_samples_split=2, n_estimators=150 \n",
            "[CV]  max_depth=20, max_features=auto, min_samples_leaf=7, min_samples_split=2, n_estimators=150, total=   0.5s\n",
            "[CV] max_depth=20, max_features=auto, min_samples_leaf=7, min_samples_split=2, n_estimators=150 \n",
            "[CV]  max_depth=20, max_features=auto, min_samples_leaf=7, min_samples_split=2, n_estimators=150, total=   0.5s\n",
            "[CV] max_depth=20, max_features=auto, min_samples_leaf=7, min_samples_split=5, n_estimators=10 \n",
            "[CV]  max_depth=20, max_features=auto, min_samples_leaf=7, min_samples_split=5, n_estimators=10, total=   0.1s\n",
            "[CV] max_depth=20, max_features=auto, min_samples_leaf=7, min_samples_split=5, n_estimators=10 \n",
            "[CV]  max_depth=20, max_features=auto, min_samples_leaf=7, min_samples_split=5, n_estimators=10, total=   0.1s\n",
            "[CV] max_depth=20, max_features=auto, min_samples_leaf=7, min_samples_split=5, n_estimators=10 \n",
            "[CV]  max_depth=20, max_features=auto, min_samples_leaf=7, min_samples_split=5, n_estimators=10, total=   0.1s\n",
            "[CV] max_depth=20, max_features=auto, min_samples_leaf=7, min_samples_split=5, n_estimators=10 \n",
            "[CV]  max_depth=20, max_features=auto, min_samples_leaf=7, min_samples_split=5, n_estimators=10, total=   0.1s\n",
            "[CV] max_depth=20, max_features=auto, min_samples_leaf=7, min_samples_split=5, n_estimators=10 \n",
            "[CV]  max_depth=20, max_features=auto, min_samples_leaf=7, min_samples_split=5, n_estimators=10, total=   0.1s\n",
            "[CV] max_depth=20, max_features=auto, min_samples_leaf=7, min_samples_split=5, n_estimators=100 \n",
            "[CV]  max_depth=20, max_features=auto, min_samples_leaf=7, min_samples_split=5, n_estimators=100, total=   0.3s\n",
            "[CV] max_depth=20, max_features=auto, min_samples_leaf=7, min_samples_split=5, n_estimators=100 \n",
            "[CV]  max_depth=20, max_features=auto, min_samples_leaf=7, min_samples_split=5, n_estimators=100, total=   0.3s\n",
            "[CV] max_depth=20, max_features=auto, min_samples_leaf=7, min_samples_split=5, n_estimators=100 \n",
            "[CV]  max_depth=20, max_features=auto, min_samples_leaf=7, min_samples_split=5, n_estimators=100, total=   0.3s\n",
            "[CV] max_depth=20, max_features=auto, min_samples_leaf=7, min_samples_split=5, n_estimators=100 \n",
            "[CV]  max_depth=20, max_features=auto, min_samples_leaf=7, min_samples_split=5, n_estimators=100, total=   0.4s\n",
            "[CV] max_depth=20, max_features=auto, min_samples_leaf=7, min_samples_split=5, n_estimators=100 \n",
            "[CV]  max_depth=20, max_features=auto, min_samples_leaf=7, min_samples_split=5, n_estimators=100, total=   0.3s\n",
            "[CV] max_depth=20, max_features=auto, min_samples_leaf=7, min_samples_split=5, n_estimators=150 \n",
            "[CV]  max_depth=20, max_features=auto, min_samples_leaf=7, min_samples_split=5, n_estimators=150, total=   0.5s\n",
            "[CV] max_depth=20, max_features=auto, min_samples_leaf=7, min_samples_split=5, n_estimators=150 \n",
            "[CV]  max_depth=20, max_features=auto, min_samples_leaf=7, min_samples_split=5, n_estimators=150, total=   0.5s\n",
            "[CV] max_depth=20, max_features=auto, min_samples_leaf=7, min_samples_split=5, n_estimators=150 \n",
            "[CV]  max_depth=20, max_features=auto, min_samples_leaf=7, min_samples_split=5, n_estimators=150, total=   0.5s\n",
            "[CV] max_depth=20, max_features=auto, min_samples_leaf=7, min_samples_split=5, n_estimators=150 \n",
            "[CV]  max_depth=20, max_features=auto, min_samples_leaf=7, min_samples_split=5, n_estimators=150, total=   0.5s\n",
            "[CV] max_depth=20, max_features=auto, min_samples_leaf=7, min_samples_split=5, n_estimators=150 \n",
            "[CV]  max_depth=20, max_features=auto, min_samples_leaf=7, min_samples_split=5, n_estimators=150, total=   0.5s\n",
            "[CV] max_depth=20, max_features=auto, min_samples_leaf=7, min_samples_split=7, n_estimators=10 \n",
            "[CV]  max_depth=20, max_features=auto, min_samples_leaf=7, min_samples_split=7, n_estimators=10, total=   0.1s\n",
            "[CV] max_depth=20, max_features=auto, min_samples_leaf=7, min_samples_split=7, n_estimators=10 \n",
            "[CV]  max_depth=20, max_features=auto, min_samples_leaf=7, min_samples_split=7, n_estimators=10, total=   0.1s\n",
            "[CV] max_depth=20, max_features=auto, min_samples_leaf=7, min_samples_split=7, n_estimators=10 \n",
            "[CV]  max_depth=20, max_features=auto, min_samples_leaf=7, min_samples_split=7, n_estimators=10, total=   0.1s\n",
            "[CV] max_depth=20, max_features=auto, min_samples_leaf=7, min_samples_split=7, n_estimators=10 \n",
            "[CV]  max_depth=20, max_features=auto, min_samples_leaf=7, min_samples_split=7, n_estimators=10, total=   0.1s\n",
            "[CV] max_depth=20, max_features=auto, min_samples_leaf=7, min_samples_split=7, n_estimators=10 \n",
            "[CV]  max_depth=20, max_features=auto, min_samples_leaf=7, min_samples_split=7, n_estimators=10, total=   0.1s\n",
            "[CV] max_depth=20, max_features=auto, min_samples_leaf=7, min_samples_split=7, n_estimators=100 \n",
            "[CV]  max_depth=20, max_features=auto, min_samples_leaf=7, min_samples_split=7, n_estimators=100, total=   0.3s\n",
            "[CV] max_depth=20, max_features=auto, min_samples_leaf=7, min_samples_split=7, n_estimators=100 \n",
            "[CV]  max_depth=20, max_features=auto, min_samples_leaf=7, min_samples_split=7, n_estimators=100, total=   0.4s\n",
            "[CV] max_depth=20, max_features=auto, min_samples_leaf=7, min_samples_split=7, n_estimators=100 \n",
            "[CV]  max_depth=20, max_features=auto, min_samples_leaf=7, min_samples_split=7, n_estimators=100, total=   0.3s\n",
            "[CV] max_depth=20, max_features=auto, min_samples_leaf=7, min_samples_split=7, n_estimators=100 \n",
            "[CV]  max_depth=20, max_features=auto, min_samples_leaf=7, min_samples_split=7, n_estimators=100, total=   0.3s\n",
            "[CV] max_depth=20, max_features=auto, min_samples_leaf=7, min_samples_split=7, n_estimators=100 \n",
            "[CV]  max_depth=20, max_features=auto, min_samples_leaf=7, min_samples_split=7, n_estimators=100, total=   0.3s\n",
            "[CV] max_depth=20, max_features=auto, min_samples_leaf=7, min_samples_split=7, n_estimators=150 \n",
            "[CV]  max_depth=20, max_features=auto, min_samples_leaf=7, min_samples_split=7, n_estimators=150, total=   0.5s\n",
            "[CV] max_depth=20, max_features=auto, min_samples_leaf=7, min_samples_split=7, n_estimators=150 \n",
            "[CV]  max_depth=20, max_features=auto, min_samples_leaf=7, min_samples_split=7, n_estimators=150, total=   0.5s\n",
            "[CV] max_depth=20, max_features=auto, min_samples_leaf=7, min_samples_split=7, n_estimators=150 \n",
            "[CV]  max_depth=20, max_features=auto, min_samples_leaf=7, min_samples_split=7, n_estimators=150, total=   0.5s\n",
            "[CV] max_depth=20, max_features=auto, min_samples_leaf=7, min_samples_split=7, n_estimators=150 \n",
            "[CV]  max_depth=20, max_features=auto, min_samples_leaf=7, min_samples_split=7, n_estimators=150, total=   0.5s\n",
            "[CV] max_depth=20, max_features=auto, min_samples_leaf=7, min_samples_split=7, n_estimators=150 \n",
            "[CV]  max_depth=20, max_features=auto, min_samples_leaf=7, min_samples_split=7, n_estimators=150, total=   0.5s\n",
            "[CV] max_depth=20, max_features=sqrt, min_samples_leaf=2, min_samples_split=2, n_estimators=10 \n",
            "[CV]  max_depth=20, max_features=sqrt, min_samples_leaf=2, min_samples_split=2, n_estimators=10, total=   0.1s\n",
            "[CV] max_depth=20, max_features=sqrt, min_samples_leaf=2, min_samples_split=2, n_estimators=10 \n",
            "[CV]  max_depth=20, max_features=sqrt, min_samples_leaf=2, min_samples_split=2, n_estimators=10, total=   0.1s\n",
            "[CV] max_depth=20, max_features=sqrt, min_samples_leaf=2, min_samples_split=2, n_estimators=10 \n",
            "[CV]  max_depth=20, max_features=sqrt, min_samples_leaf=2, min_samples_split=2, n_estimators=10, total=   0.1s\n",
            "[CV] max_depth=20, max_features=sqrt, min_samples_leaf=2, min_samples_split=2, n_estimators=10 \n",
            "[CV]  max_depth=20, max_features=sqrt, min_samples_leaf=2, min_samples_split=2, n_estimators=10, total=   0.1s\n",
            "[CV] max_depth=20, max_features=sqrt, min_samples_leaf=2, min_samples_split=2, n_estimators=10 \n",
            "[CV]  max_depth=20, max_features=sqrt, min_samples_leaf=2, min_samples_split=2, n_estimators=10, total=   0.1s\n",
            "[CV] max_depth=20, max_features=sqrt, min_samples_leaf=2, min_samples_split=2, n_estimators=100 \n",
            "[CV]  max_depth=20, max_features=sqrt, min_samples_leaf=2, min_samples_split=2, n_estimators=100, total=   0.4s\n",
            "[CV] max_depth=20, max_features=sqrt, min_samples_leaf=2, min_samples_split=2, n_estimators=100 \n",
            "[CV]  max_depth=20, max_features=sqrt, min_samples_leaf=2, min_samples_split=2, n_estimators=100, total=   0.3s\n",
            "[CV] max_depth=20, max_features=sqrt, min_samples_leaf=2, min_samples_split=2, n_estimators=100 \n",
            "[CV]  max_depth=20, max_features=sqrt, min_samples_leaf=2, min_samples_split=2, n_estimators=100, total=   0.3s\n",
            "[CV] max_depth=20, max_features=sqrt, min_samples_leaf=2, min_samples_split=2, n_estimators=100 \n",
            "[CV]  max_depth=20, max_features=sqrt, min_samples_leaf=2, min_samples_split=2, n_estimators=100, total=   0.4s\n",
            "[CV] max_depth=20, max_features=sqrt, min_samples_leaf=2, min_samples_split=2, n_estimators=100 \n",
            "[CV]  max_depth=20, max_features=sqrt, min_samples_leaf=2, min_samples_split=2, n_estimators=100, total=   0.3s\n",
            "[CV] max_depth=20, max_features=sqrt, min_samples_leaf=2, min_samples_split=2, n_estimators=150 \n",
            "[CV]  max_depth=20, max_features=sqrt, min_samples_leaf=2, min_samples_split=2, n_estimators=150, total=   0.5s\n",
            "[CV] max_depth=20, max_features=sqrt, min_samples_leaf=2, min_samples_split=2, n_estimators=150 \n",
            "[CV]  max_depth=20, max_features=sqrt, min_samples_leaf=2, min_samples_split=2, n_estimators=150, total=   0.5s\n",
            "[CV] max_depth=20, max_features=sqrt, min_samples_leaf=2, min_samples_split=2, n_estimators=150 \n",
            "[CV]  max_depth=20, max_features=sqrt, min_samples_leaf=2, min_samples_split=2, n_estimators=150, total=   0.5s\n",
            "[CV] max_depth=20, max_features=sqrt, min_samples_leaf=2, min_samples_split=2, n_estimators=150 \n",
            "[CV]  max_depth=20, max_features=sqrt, min_samples_leaf=2, min_samples_split=2, n_estimators=150, total=   0.5s\n",
            "[CV] max_depth=20, max_features=sqrt, min_samples_leaf=2, min_samples_split=2, n_estimators=150 \n",
            "[CV]  max_depth=20, max_features=sqrt, min_samples_leaf=2, min_samples_split=2, n_estimators=150, total=   0.5s\n",
            "[CV] max_depth=20, max_features=sqrt, min_samples_leaf=2, min_samples_split=5, n_estimators=10 \n",
            "[CV]  max_depth=20, max_features=sqrt, min_samples_leaf=2, min_samples_split=5, n_estimators=10, total=   0.1s\n",
            "[CV] max_depth=20, max_features=sqrt, min_samples_leaf=2, min_samples_split=5, n_estimators=10 \n",
            "[CV]  max_depth=20, max_features=sqrt, min_samples_leaf=2, min_samples_split=5, n_estimators=10, total=   0.1s\n",
            "[CV] max_depth=20, max_features=sqrt, min_samples_leaf=2, min_samples_split=5, n_estimators=10 \n",
            "[CV]  max_depth=20, max_features=sqrt, min_samples_leaf=2, min_samples_split=5, n_estimators=10, total=   0.1s\n",
            "[CV] max_depth=20, max_features=sqrt, min_samples_leaf=2, min_samples_split=5, n_estimators=10 \n",
            "[CV]  max_depth=20, max_features=sqrt, min_samples_leaf=2, min_samples_split=5, n_estimators=10, total=   0.1s\n",
            "[CV] max_depth=20, max_features=sqrt, min_samples_leaf=2, min_samples_split=5, n_estimators=10 \n",
            "[CV]  max_depth=20, max_features=sqrt, min_samples_leaf=2, min_samples_split=5, n_estimators=10, total=   0.1s\n",
            "[CV] max_depth=20, max_features=sqrt, min_samples_leaf=2, min_samples_split=5, n_estimators=100 \n",
            "[CV]  max_depth=20, max_features=sqrt, min_samples_leaf=2, min_samples_split=5, n_estimators=100, total=   0.3s\n",
            "[CV] max_depth=20, max_features=sqrt, min_samples_leaf=2, min_samples_split=5, n_estimators=100 \n",
            "[CV]  max_depth=20, max_features=sqrt, min_samples_leaf=2, min_samples_split=5, n_estimators=100, total=   0.3s\n",
            "[CV] max_depth=20, max_features=sqrt, min_samples_leaf=2, min_samples_split=5, n_estimators=100 \n",
            "[CV]  max_depth=20, max_features=sqrt, min_samples_leaf=2, min_samples_split=5, n_estimators=100, total=   0.4s\n",
            "[CV] max_depth=20, max_features=sqrt, min_samples_leaf=2, min_samples_split=5, n_estimators=100 \n",
            "[CV]  max_depth=20, max_features=sqrt, min_samples_leaf=2, min_samples_split=5, n_estimators=100, total=   0.3s\n",
            "[CV] max_depth=20, max_features=sqrt, min_samples_leaf=2, min_samples_split=5, n_estimators=100 \n",
            "[CV]  max_depth=20, max_features=sqrt, min_samples_leaf=2, min_samples_split=5, n_estimators=100, total=   0.3s\n",
            "[CV] max_depth=20, max_features=sqrt, min_samples_leaf=2, min_samples_split=5, n_estimators=150 \n",
            "[CV]  max_depth=20, max_features=sqrt, min_samples_leaf=2, min_samples_split=5, n_estimators=150, total=   0.5s\n",
            "[CV] max_depth=20, max_features=sqrt, min_samples_leaf=2, min_samples_split=5, n_estimators=150 \n",
            "[CV]  max_depth=20, max_features=sqrt, min_samples_leaf=2, min_samples_split=5, n_estimators=150, total=   0.5s\n",
            "[CV] max_depth=20, max_features=sqrt, min_samples_leaf=2, min_samples_split=5, n_estimators=150 \n",
            "[CV]  max_depth=20, max_features=sqrt, min_samples_leaf=2, min_samples_split=5, n_estimators=150, total=   0.5s\n",
            "[CV] max_depth=20, max_features=sqrt, min_samples_leaf=2, min_samples_split=5, n_estimators=150 \n",
            "[CV]  max_depth=20, max_features=sqrt, min_samples_leaf=2, min_samples_split=5, n_estimators=150, total=   0.5s\n",
            "[CV] max_depth=20, max_features=sqrt, min_samples_leaf=2, min_samples_split=5, n_estimators=150 \n",
            "[CV]  max_depth=20, max_features=sqrt, min_samples_leaf=2, min_samples_split=5, n_estimators=150, total=   0.5s\n",
            "[CV] max_depth=20, max_features=sqrt, min_samples_leaf=2, min_samples_split=7, n_estimators=10 \n",
            "[CV]  max_depth=20, max_features=sqrt, min_samples_leaf=2, min_samples_split=7, n_estimators=10, total=   0.1s\n",
            "[CV] max_depth=20, max_features=sqrt, min_samples_leaf=2, min_samples_split=7, n_estimators=10 \n",
            "[CV]  max_depth=20, max_features=sqrt, min_samples_leaf=2, min_samples_split=7, n_estimators=10, total=   0.1s\n",
            "[CV] max_depth=20, max_features=sqrt, min_samples_leaf=2, min_samples_split=7, n_estimators=10 \n",
            "[CV]  max_depth=20, max_features=sqrt, min_samples_leaf=2, min_samples_split=7, n_estimators=10, total=   0.1s\n",
            "[CV] max_depth=20, max_features=sqrt, min_samples_leaf=2, min_samples_split=7, n_estimators=10 \n",
            "[CV]  max_depth=20, max_features=sqrt, min_samples_leaf=2, min_samples_split=7, n_estimators=10, total=   0.1s\n",
            "[CV] max_depth=20, max_features=sqrt, min_samples_leaf=2, min_samples_split=7, n_estimators=10 \n",
            "[CV]  max_depth=20, max_features=sqrt, min_samples_leaf=2, min_samples_split=7, n_estimators=10, total=   0.1s\n",
            "[CV] max_depth=20, max_features=sqrt, min_samples_leaf=2, min_samples_split=7, n_estimators=100 \n",
            "[CV]  max_depth=20, max_features=sqrt, min_samples_leaf=2, min_samples_split=7, n_estimators=100, total=   0.4s\n",
            "[CV] max_depth=20, max_features=sqrt, min_samples_leaf=2, min_samples_split=7, n_estimators=100 \n",
            "[CV]  max_depth=20, max_features=sqrt, min_samples_leaf=2, min_samples_split=7, n_estimators=100, total=   0.3s\n",
            "[CV] max_depth=20, max_features=sqrt, min_samples_leaf=2, min_samples_split=7, n_estimators=100 \n",
            "[CV]  max_depth=20, max_features=sqrt, min_samples_leaf=2, min_samples_split=7, n_estimators=100, total=   0.3s\n",
            "[CV] max_depth=20, max_features=sqrt, min_samples_leaf=2, min_samples_split=7, n_estimators=100 \n",
            "[CV]  max_depth=20, max_features=sqrt, min_samples_leaf=2, min_samples_split=7, n_estimators=100, total=   0.3s\n",
            "[CV] max_depth=20, max_features=sqrt, min_samples_leaf=2, min_samples_split=7, n_estimators=100 \n",
            "[CV]  max_depth=20, max_features=sqrt, min_samples_leaf=2, min_samples_split=7, n_estimators=100, total=   0.3s\n",
            "[CV] max_depth=20, max_features=sqrt, min_samples_leaf=2, min_samples_split=7, n_estimators=150 \n",
            "[CV]  max_depth=20, max_features=sqrt, min_samples_leaf=2, min_samples_split=7, n_estimators=150, total=   0.5s\n",
            "[CV] max_depth=20, max_features=sqrt, min_samples_leaf=2, min_samples_split=7, n_estimators=150 \n",
            "[CV]  max_depth=20, max_features=sqrt, min_samples_leaf=2, min_samples_split=7, n_estimators=150, total=   0.5s\n",
            "[CV] max_depth=20, max_features=sqrt, min_samples_leaf=2, min_samples_split=7, n_estimators=150 \n",
            "[CV]  max_depth=20, max_features=sqrt, min_samples_leaf=2, min_samples_split=7, n_estimators=150, total=   0.5s\n",
            "[CV] max_depth=20, max_features=sqrt, min_samples_leaf=2, min_samples_split=7, n_estimators=150 \n",
            "[CV]  max_depth=20, max_features=sqrt, min_samples_leaf=2, min_samples_split=7, n_estimators=150, total=   0.5s\n",
            "[CV] max_depth=20, max_features=sqrt, min_samples_leaf=2, min_samples_split=7, n_estimators=150 \n",
            "[CV]  max_depth=20, max_features=sqrt, min_samples_leaf=2, min_samples_split=7, n_estimators=150, total=   0.5s\n",
            "[CV] max_depth=20, max_features=sqrt, min_samples_leaf=5, min_samples_split=2, n_estimators=10 \n",
            "[CV]  max_depth=20, max_features=sqrt, min_samples_leaf=5, min_samples_split=2, n_estimators=10, total=   0.1s\n",
            "[CV] max_depth=20, max_features=sqrt, min_samples_leaf=5, min_samples_split=2, n_estimators=10 \n",
            "[CV]  max_depth=20, max_features=sqrt, min_samples_leaf=5, min_samples_split=2, n_estimators=10, total=   0.1s\n",
            "[CV] max_depth=20, max_features=sqrt, min_samples_leaf=5, min_samples_split=2, n_estimators=10 \n",
            "[CV]  max_depth=20, max_features=sqrt, min_samples_leaf=5, min_samples_split=2, n_estimators=10, total=   0.1s\n",
            "[CV] max_depth=20, max_features=sqrt, min_samples_leaf=5, min_samples_split=2, n_estimators=10 \n",
            "[CV]  max_depth=20, max_features=sqrt, min_samples_leaf=5, min_samples_split=2, n_estimators=10, total=   0.1s\n",
            "[CV] max_depth=20, max_features=sqrt, min_samples_leaf=5, min_samples_split=2, n_estimators=10 \n",
            "[CV]  max_depth=20, max_features=sqrt, min_samples_leaf=5, min_samples_split=2, n_estimators=10, total=   0.1s\n",
            "[CV] max_depth=20, max_features=sqrt, min_samples_leaf=5, min_samples_split=2, n_estimators=100 \n",
            "[CV]  max_depth=20, max_features=sqrt, min_samples_leaf=5, min_samples_split=2, n_estimators=100, total=   0.3s\n",
            "[CV] max_depth=20, max_features=sqrt, min_samples_leaf=5, min_samples_split=2, n_estimators=100 \n",
            "[CV]  max_depth=20, max_features=sqrt, min_samples_leaf=5, min_samples_split=2, n_estimators=100, total=   0.3s\n",
            "[CV] max_depth=20, max_features=sqrt, min_samples_leaf=5, min_samples_split=2, n_estimators=100 \n",
            "[CV]  max_depth=20, max_features=sqrt, min_samples_leaf=5, min_samples_split=2, n_estimators=100, total=   0.3s\n",
            "[CV] max_depth=20, max_features=sqrt, min_samples_leaf=5, min_samples_split=2, n_estimators=100 \n",
            "[CV]  max_depth=20, max_features=sqrt, min_samples_leaf=5, min_samples_split=2, n_estimators=100, total=   0.4s\n",
            "[CV] max_depth=20, max_features=sqrt, min_samples_leaf=5, min_samples_split=2, n_estimators=100 \n",
            "[CV]  max_depth=20, max_features=sqrt, min_samples_leaf=5, min_samples_split=2, n_estimators=100, total=   0.3s\n",
            "[CV] max_depth=20, max_features=sqrt, min_samples_leaf=5, min_samples_split=2, n_estimators=150 \n",
            "[CV]  max_depth=20, max_features=sqrt, min_samples_leaf=5, min_samples_split=2, n_estimators=150, total=   0.5s\n",
            "[CV] max_depth=20, max_features=sqrt, min_samples_leaf=5, min_samples_split=2, n_estimators=150 \n",
            "[CV]  max_depth=20, max_features=sqrt, min_samples_leaf=5, min_samples_split=2, n_estimators=150, total=   0.5s\n",
            "[CV] max_depth=20, max_features=sqrt, min_samples_leaf=5, min_samples_split=2, n_estimators=150 \n",
            "[CV]  max_depth=20, max_features=sqrt, min_samples_leaf=5, min_samples_split=2, n_estimators=150, total=   0.5s\n",
            "[CV] max_depth=20, max_features=sqrt, min_samples_leaf=5, min_samples_split=2, n_estimators=150 \n",
            "[CV]  max_depth=20, max_features=sqrt, min_samples_leaf=5, min_samples_split=2, n_estimators=150, total=   0.5s\n",
            "[CV] max_depth=20, max_features=sqrt, min_samples_leaf=5, min_samples_split=2, n_estimators=150 \n",
            "[CV]  max_depth=20, max_features=sqrt, min_samples_leaf=5, min_samples_split=2, n_estimators=150, total=   0.5s\n",
            "[CV] max_depth=20, max_features=sqrt, min_samples_leaf=5, min_samples_split=5, n_estimators=10 \n",
            "[CV]  max_depth=20, max_features=sqrt, min_samples_leaf=5, min_samples_split=5, n_estimators=10, total=   0.1s\n",
            "[CV] max_depth=20, max_features=sqrt, min_samples_leaf=5, min_samples_split=5, n_estimators=10 \n",
            "[CV]  max_depth=20, max_features=sqrt, min_samples_leaf=5, min_samples_split=5, n_estimators=10, total=   0.1s\n",
            "[CV] max_depth=20, max_features=sqrt, min_samples_leaf=5, min_samples_split=5, n_estimators=10 \n",
            "[CV]  max_depth=20, max_features=sqrt, min_samples_leaf=5, min_samples_split=5, n_estimators=10, total=   0.1s\n",
            "[CV] max_depth=20, max_features=sqrt, min_samples_leaf=5, min_samples_split=5, n_estimators=10 \n",
            "[CV]  max_depth=20, max_features=sqrt, min_samples_leaf=5, min_samples_split=5, n_estimators=10, total=   0.1s\n",
            "[CV] max_depth=20, max_features=sqrt, min_samples_leaf=5, min_samples_split=5, n_estimators=10 \n",
            "[CV]  max_depth=20, max_features=sqrt, min_samples_leaf=5, min_samples_split=5, n_estimators=10, total=   0.1s\n",
            "[CV] max_depth=20, max_features=sqrt, min_samples_leaf=5, min_samples_split=5, n_estimators=100 \n",
            "[CV]  max_depth=20, max_features=sqrt, min_samples_leaf=5, min_samples_split=5, n_estimators=100, total=   0.3s\n",
            "[CV] max_depth=20, max_features=sqrt, min_samples_leaf=5, min_samples_split=5, n_estimators=100 \n",
            "[CV]  max_depth=20, max_features=sqrt, min_samples_leaf=5, min_samples_split=5, n_estimators=100, total=   0.3s\n",
            "[CV] max_depth=20, max_features=sqrt, min_samples_leaf=5, min_samples_split=5, n_estimators=100 \n",
            "[CV]  max_depth=20, max_features=sqrt, min_samples_leaf=5, min_samples_split=5, n_estimators=100, total=   0.3s\n",
            "[CV] max_depth=20, max_features=sqrt, min_samples_leaf=5, min_samples_split=5, n_estimators=100 \n",
            "[CV]  max_depth=20, max_features=sqrt, min_samples_leaf=5, min_samples_split=5, n_estimators=100, total=   0.3s\n",
            "[CV] max_depth=20, max_features=sqrt, min_samples_leaf=5, min_samples_split=5, n_estimators=100 \n",
            "[CV]  max_depth=20, max_features=sqrt, min_samples_leaf=5, min_samples_split=5, n_estimators=100, total=   0.4s\n",
            "[CV] max_depth=20, max_features=sqrt, min_samples_leaf=5, min_samples_split=5, n_estimators=150 \n",
            "[CV]  max_depth=20, max_features=sqrt, min_samples_leaf=5, min_samples_split=5, n_estimators=150, total=   0.5s\n",
            "[CV] max_depth=20, max_features=sqrt, min_samples_leaf=5, min_samples_split=5, n_estimators=150 \n",
            "[CV]  max_depth=20, max_features=sqrt, min_samples_leaf=5, min_samples_split=5, n_estimators=150, total=   0.5s\n",
            "[CV] max_depth=20, max_features=sqrt, min_samples_leaf=5, min_samples_split=5, n_estimators=150 \n",
            "[CV]  max_depth=20, max_features=sqrt, min_samples_leaf=5, min_samples_split=5, n_estimators=150, total=   0.5s\n",
            "[CV] max_depth=20, max_features=sqrt, min_samples_leaf=5, min_samples_split=5, n_estimators=150 \n",
            "[CV]  max_depth=20, max_features=sqrt, min_samples_leaf=5, min_samples_split=5, n_estimators=150, total=   0.5s\n",
            "[CV] max_depth=20, max_features=sqrt, min_samples_leaf=5, min_samples_split=5, n_estimators=150 \n",
            "[CV]  max_depth=20, max_features=sqrt, min_samples_leaf=5, min_samples_split=5, n_estimators=150, total=   0.5s\n",
            "[CV] max_depth=20, max_features=sqrt, min_samples_leaf=5, min_samples_split=7, n_estimators=10 \n",
            "[CV]  max_depth=20, max_features=sqrt, min_samples_leaf=5, min_samples_split=7, n_estimators=10, total=   0.1s\n",
            "[CV] max_depth=20, max_features=sqrt, min_samples_leaf=5, min_samples_split=7, n_estimators=10 \n",
            "[CV]  max_depth=20, max_features=sqrt, min_samples_leaf=5, min_samples_split=7, n_estimators=10, total=   0.1s\n",
            "[CV] max_depth=20, max_features=sqrt, min_samples_leaf=5, min_samples_split=7, n_estimators=10 \n",
            "[CV]  max_depth=20, max_features=sqrt, min_samples_leaf=5, min_samples_split=7, n_estimators=10, total=   0.1s\n",
            "[CV] max_depth=20, max_features=sqrt, min_samples_leaf=5, min_samples_split=7, n_estimators=10 \n",
            "[CV]  max_depth=20, max_features=sqrt, min_samples_leaf=5, min_samples_split=7, n_estimators=10, total=   0.2s\n",
            "[CV] max_depth=20, max_features=sqrt, min_samples_leaf=5, min_samples_split=7, n_estimators=10 \n",
            "[CV]  max_depth=20, max_features=sqrt, min_samples_leaf=5, min_samples_split=7, n_estimators=10, total=   0.1s\n",
            "[CV] max_depth=20, max_features=sqrt, min_samples_leaf=5, min_samples_split=7, n_estimators=100 \n",
            "[CV]  max_depth=20, max_features=sqrt, min_samples_leaf=5, min_samples_split=7, n_estimators=100, total=   0.3s\n",
            "[CV] max_depth=20, max_features=sqrt, min_samples_leaf=5, min_samples_split=7, n_estimators=100 \n",
            "[CV]  max_depth=20, max_features=sqrt, min_samples_leaf=5, min_samples_split=7, n_estimators=100, total=   0.3s\n",
            "[CV] max_depth=20, max_features=sqrt, min_samples_leaf=5, min_samples_split=7, n_estimators=100 \n",
            "[CV]  max_depth=20, max_features=sqrt, min_samples_leaf=5, min_samples_split=7, n_estimators=100, total=   0.3s\n",
            "[CV] max_depth=20, max_features=sqrt, min_samples_leaf=5, min_samples_split=7, n_estimators=100 \n",
            "[CV]  max_depth=20, max_features=sqrt, min_samples_leaf=5, min_samples_split=7, n_estimators=100, total=   0.3s\n",
            "[CV] max_depth=20, max_features=sqrt, min_samples_leaf=5, min_samples_split=7, n_estimators=100 \n",
            "[CV]  max_depth=20, max_features=sqrt, min_samples_leaf=5, min_samples_split=7, n_estimators=100, total=   0.3s\n",
            "[CV] max_depth=20, max_features=sqrt, min_samples_leaf=5, min_samples_split=7, n_estimators=150 \n",
            "[CV]  max_depth=20, max_features=sqrt, min_samples_leaf=5, min_samples_split=7, n_estimators=150, total=   0.5s\n",
            "[CV] max_depth=20, max_features=sqrt, min_samples_leaf=5, min_samples_split=7, n_estimators=150 \n",
            "[CV]  max_depth=20, max_features=sqrt, min_samples_leaf=5, min_samples_split=7, n_estimators=150, total=   0.5s\n",
            "[CV] max_depth=20, max_features=sqrt, min_samples_leaf=5, min_samples_split=7, n_estimators=150 \n",
            "[CV]  max_depth=20, max_features=sqrt, min_samples_leaf=5, min_samples_split=7, n_estimators=150, total=   0.5s\n",
            "[CV] max_depth=20, max_features=sqrt, min_samples_leaf=5, min_samples_split=7, n_estimators=150 \n",
            "[CV]  max_depth=20, max_features=sqrt, min_samples_leaf=5, min_samples_split=7, n_estimators=150, total=   0.5s\n",
            "[CV] max_depth=20, max_features=sqrt, min_samples_leaf=5, min_samples_split=7, n_estimators=150 \n",
            "[CV]  max_depth=20, max_features=sqrt, min_samples_leaf=5, min_samples_split=7, n_estimators=150, total=   0.5s\n",
            "[CV] max_depth=20, max_features=sqrt, min_samples_leaf=7, min_samples_split=2, n_estimators=10 \n",
            "[CV]  max_depth=20, max_features=sqrt, min_samples_leaf=7, min_samples_split=2, n_estimators=10, total=   0.1s\n",
            "[CV] max_depth=20, max_features=sqrt, min_samples_leaf=7, min_samples_split=2, n_estimators=10 \n",
            "[CV]  max_depth=20, max_features=sqrt, min_samples_leaf=7, min_samples_split=2, n_estimators=10, total=   0.1s\n",
            "[CV] max_depth=20, max_features=sqrt, min_samples_leaf=7, min_samples_split=2, n_estimators=10 \n",
            "[CV]  max_depth=20, max_features=sqrt, min_samples_leaf=7, min_samples_split=2, n_estimators=10, total=   0.1s\n",
            "[CV] max_depth=20, max_features=sqrt, min_samples_leaf=7, min_samples_split=2, n_estimators=10 \n",
            "[CV]  max_depth=20, max_features=sqrt, min_samples_leaf=7, min_samples_split=2, n_estimators=10, total=   0.1s\n",
            "[CV] max_depth=20, max_features=sqrt, min_samples_leaf=7, min_samples_split=2, n_estimators=10 \n",
            "[CV]  max_depth=20, max_features=sqrt, min_samples_leaf=7, min_samples_split=2, n_estimators=10, total=   0.1s\n",
            "[CV] max_depth=20, max_features=sqrt, min_samples_leaf=7, min_samples_split=2, n_estimators=100 \n",
            "[CV]  max_depth=20, max_features=sqrt, min_samples_leaf=7, min_samples_split=2, n_estimators=100, total=   0.3s\n",
            "[CV] max_depth=20, max_features=sqrt, min_samples_leaf=7, min_samples_split=2, n_estimators=100 \n",
            "[CV]  max_depth=20, max_features=sqrt, min_samples_leaf=7, min_samples_split=2, n_estimators=100, total=   0.3s\n",
            "[CV] max_depth=20, max_features=sqrt, min_samples_leaf=7, min_samples_split=2, n_estimators=100 \n",
            "[CV]  max_depth=20, max_features=sqrt, min_samples_leaf=7, min_samples_split=2, n_estimators=100, total=   0.3s\n",
            "[CV] max_depth=20, max_features=sqrt, min_samples_leaf=7, min_samples_split=2, n_estimators=100 \n",
            "[CV]  max_depth=20, max_features=sqrt, min_samples_leaf=7, min_samples_split=2, n_estimators=100, total=   0.3s\n",
            "[CV] max_depth=20, max_features=sqrt, min_samples_leaf=7, min_samples_split=2, n_estimators=100 \n",
            "[CV]  max_depth=20, max_features=sqrt, min_samples_leaf=7, min_samples_split=2, n_estimators=100, total=   0.4s\n",
            "[CV] max_depth=20, max_features=sqrt, min_samples_leaf=7, min_samples_split=2, n_estimators=150 \n",
            "[CV]  max_depth=20, max_features=sqrt, min_samples_leaf=7, min_samples_split=2, n_estimators=150, total=   0.5s\n",
            "[CV] max_depth=20, max_features=sqrt, min_samples_leaf=7, min_samples_split=2, n_estimators=150 \n",
            "[CV]  max_depth=20, max_features=sqrt, min_samples_leaf=7, min_samples_split=2, n_estimators=150, total=   0.5s\n",
            "[CV] max_depth=20, max_features=sqrt, min_samples_leaf=7, min_samples_split=2, n_estimators=150 \n",
            "[CV]  max_depth=20, max_features=sqrt, min_samples_leaf=7, min_samples_split=2, n_estimators=150, total=   0.5s\n",
            "[CV] max_depth=20, max_features=sqrt, min_samples_leaf=7, min_samples_split=2, n_estimators=150 \n",
            "[CV]  max_depth=20, max_features=sqrt, min_samples_leaf=7, min_samples_split=2, n_estimators=150, total=   0.5s\n",
            "[CV] max_depth=20, max_features=sqrt, min_samples_leaf=7, min_samples_split=2, n_estimators=150 \n",
            "[CV]  max_depth=20, max_features=sqrt, min_samples_leaf=7, min_samples_split=2, n_estimators=150, total=   0.5s\n",
            "[CV] max_depth=20, max_features=sqrt, min_samples_leaf=7, min_samples_split=5, n_estimators=10 \n",
            "[CV]  max_depth=20, max_features=sqrt, min_samples_leaf=7, min_samples_split=5, n_estimators=10, total=   0.1s\n",
            "[CV] max_depth=20, max_features=sqrt, min_samples_leaf=7, min_samples_split=5, n_estimators=10 \n",
            "[CV]  max_depth=20, max_features=sqrt, min_samples_leaf=7, min_samples_split=5, n_estimators=10, total=   0.1s\n",
            "[CV] max_depth=20, max_features=sqrt, min_samples_leaf=7, min_samples_split=5, n_estimators=10 \n",
            "[CV]  max_depth=20, max_features=sqrt, min_samples_leaf=7, min_samples_split=5, n_estimators=10, total=   0.1s\n",
            "[CV] max_depth=20, max_features=sqrt, min_samples_leaf=7, min_samples_split=5, n_estimators=10 \n",
            "[CV]  max_depth=20, max_features=sqrt, min_samples_leaf=7, min_samples_split=5, n_estimators=10, total=   0.1s\n",
            "[CV] max_depth=20, max_features=sqrt, min_samples_leaf=7, min_samples_split=5, n_estimators=10 \n",
            "[CV]  max_depth=20, max_features=sqrt, min_samples_leaf=7, min_samples_split=5, n_estimators=10, total=   0.1s\n",
            "[CV] max_depth=20, max_features=sqrt, min_samples_leaf=7, min_samples_split=5, n_estimators=100 \n",
            "[CV]  max_depth=20, max_features=sqrt, min_samples_leaf=7, min_samples_split=5, n_estimators=100, total=   0.3s\n",
            "[CV] max_depth=20, max_features=sqrt, min_samples_leaf=7, min_samples_split=5, n_estimators=100 \n",
            "[CV]  max_depth=20, max_features=sqrt, min_samples_leaf=7, min_samples_split=5, n_estimators=100, total=   0.3s\n",
            "[CV] max_depth=20, max_features=sqrt, min_samples_leaf=7, min_samples_split=5, n_estimators=100 \n",
            "[CV]  max_depth=20, max_features=sqrt, min_samples_leaf=7, min_samples_split=5, n_estimators=100, total=   0.3s\n",
            "[CV] max_depth=20, max_features=sqrt, min_samples_leaf=7, min_samples_split=5, n_estimators=100 \n",
            "[CV]  max_depth=20, max_features=sqrt, min_samples_leaf=7, min_samples_split=5, n_estimators=100, total=   0.4s\n",
            "[CV] max_depth=20, max_features=sqrt, min_samples_leaf=7, min_samples_split=5, n_estimators=100 \n",
            "[CV]  max_depth=20, max_features=sqrt, min_samples_leaf=7, min_samples_split=5, n_estimators=100, total=   0.3s\n",
            "[CV] max_depth=20, max_features=sqrt, min_samples_leaf=7, min_samples_split=5, n_estimators=150 \n",
            "[CV]  max_depth=20, max_features=sqrt, min_samples_leaf=7, min_samples_split=5, n_estimators=150, total=   0.5s\n",
            "[CV] max_depth=20, max_features=sqrt, min_samples_leaf=7, min_samples_split=5, n_estimators=150 \n",
            "[CV]  max_depth=20, max_features=sqrt, min_samples_leaf=7, min_samples_split=5, n_estimators=150, total=   0.5s\n",
            "[CV] max_depth=20, max_features=sqrt, min_samples_leaf=7, min_samples_split=5, n_estimators=150 \n",
            "[CV]  max_depth=20, max_features=sqrt, min_samples_leaf=7, min_samples_split=5, n_estimators=150, total=   0.5s\n",
            "[CV] max_depth=20, max_features=sqrt, min_samples_leaf=7, min_samples_split=5, n_estimators=150 \n",
            "[CV]  max_depth=20, max_features=sqrt, min_samples_leaf=7, min_samples_split=5, n_estimators=150, total=   0.5s\n",
            "[CV] max_depth=20, max_features=sqrt, min_samples_leaf=7, min_samples_split=5, n_estimators=150 \n",
            "[CV]  max_depth=20, max_features=sqrt, min_samples_leaf=7, min_samples_split=5, n_estimators=150, total=   0.5s\n",
            "[CV] max_depth=20, max_features=sqrt, min_samples_leaf=7, min_samples_split=7, n_estimators=10 \n",
            "[CV]  max_depth=20, max_features=sqrt, min_samples_leaf=7, min_samples_split=7, n_estimators=10, total=   0.1s\n",
            "[CV] max_depth=20, max_features=sqrt, min_samples_leaf=7, min_samples_split=7, n_estimators=10 \n",
            "[CV]  max_depth=20, max_features=sqrt, min_samples_leaf=7, min_samples_split=7, n_estimators=10, total=   0.1s\n",
            "[CV] max_depth=20, max_features=sqrt, min_samples_leaf=7, min_samples_split=7, n_estimators=10 \n",
            "[CV]  max_depth=20, max_features=sqrt, min_samples_leaf=7, min_samples_split=7, n_estimators=10, total=   0.1s\n",
            "[CV] max_depth=20, max_features=sqrt, min_samples_leaf=7, min_samples_split=7, n_estimators=10 \n",
            "[CV]  max_depth=20, max_features=sqrt, min_samples_leaf=7, min_samples_split=7, n_estimators=10, total=   0.1s\n",
            "[CV] max_depth=20, max_features=sqrt, min_samples_leaf=7, min_samples_split=7, n_estimators=10 \n",
            "[CV]  max_depth=20, max_features=sqrt, min_samples_leaf=7, min_samples_split=7, n_estimators=10, total=   0.1s\n",
            "[CV] max_depth=20, max_features=sqrt, min_samples_leaf=7, min_samples_split=7, n_estimators=100 \n",
            "[CV]  max_depth=20, max_features=sqrt, min_samples_leaf=7, min_samples_split=7, n_estimators=100, total=   0.3s\n",
            "[CV] max_depth=20, max_features=sqrt, min_samples_leaf=7, min_samples_split=7, n_estimators=100 \n",
            "[CV]  max_depth=20, max_features=sqrt, min_samples_leaf=7, min_samples_split=7, n_estimators=100, total=   0.3s\n",
            "[CV] max_depth=20, max_features=sqrt, min_samples_leaf=7, min_samples_split=7, n_estimators=100 \n",
            "[CV]  max_depth=20, max_features=sqrt, min_samples_leaf=7, min_samples_split=7, n_estimators=100, total=   0.3s\n",
            "[CV] max_depth=20, max_features=sqrt, min_samples_leaf=7, min_samples_split=7, n_estimators=100 \n",
            "[CV]  max_depth=20, max_features=sqrt, min_samples_leaf=7, min_samples_split=7, n_estimators=100, total=   0.3s\n",
            "[CV] max_depth=20, max_features=sqrt, min_samples_leaf=7, min_samples_split=7, n_estimators=100 \n",
            "[CV]  max_depth=20, max_features=sqrt, min_samples_leaf=7, min_samples_split=7, n_estimators=100, total=   0.3s\n",
            "[CV] max_depth=20, max_features=sqrt, min_samples_leaf=7, min_samples_split=7, n_estimators=150 \n",
            "[CV]  max_depth=20, max_features=sqrt, min_samples_leaf=7, min_samples_split=7, n_estimators=150, total=   0.5s\n",
            "[CV] max_depth=20, max_features=sqrt, min_samples_leaf=7, min_samples_split=7, n_estimators=150 \n",
            "[CV]  max_depth=20, max_features=sqrt, min_samples_leaf=7, min_samples_split=7, n_estimators=150, total=   0.5s\n",
            "[CV] max_depth=20, max_features=sqrt, min_samples_leaf=7, min_samples_split=7, n_estimators=150 \n",
            "[CV]  max_depth=20, max_features=sqrt, min_samples_leaf=7, min_samples_split=7, n_estimators=150, total=   0.5s\n",
            "[CV] max_depth=20, max_features=sqrt, min_samples_leaf=7, min_samples_split=7, n_estimators=150 \n",
            "[CV]  max_depth=20, max_features=sqrt, min_samples_leaf=7, min_samples_split=7, n_estimators=150, total=   0.5s\n",
            "[CV] max_depth=20, max_features=sqrt, min_samples_leaf=7, min_samples_split=7, n_estimators=150 \n",
            "[CV]  max_depth=20, max_features=sqrt, min_samples_leaf=7, min_samples_split=7, n_estimators=150, total=   0.5s\n",
            "[CV] max_depth=30, max_features=auto, min_samples_leaf=2, min_samples_split=2, n_estimators=10 \n",
            "[CV]  max_depth=30, max_features=auto, min_samples_leaf=2, min_samples_split=2, n_estimators=10, total=   0.1s\n",
            "[CV] max_depth=30, max_features=auto, min_samples_leaf=2, min_samples_split=2, n_estimators=10 \n",
            "[CV]  max_depth=30, max_features=auto, min_samples_leaf=2, min_samples_split=2, n_estimators=10, total=   0.1s\n",
            "[CV] max_depth=30, max_features=auto, min_samples_leaf=2, min_samples_split=2, n_estimators=10 \n",
            "[CV]  max_depth=30, max_features=auto, min_samples_leaf=2, min_samples_split=2, n_estimators=10, total=   0.1s\n",
            "[CV] max_depth=30, max_features=auto, min_samples_leaf=2, min_samples_split=2, n_estimators=10 \n",
            "[CV]  max_depth=30, max_features=auto, min_samples_leaf=2, min_samples_split=2, n_estimators=10, total=   0.1s\n",
            "[CV] max_depth=30, max_features=auto, min_samples_leaf=2, min_samples_split=2, n_estimators=10 \n",
            "[CV]  max_depth=30, max_features=auto, min_samples_leaf=2, min_samples_split=2, n_estimators=10, total=   0.1s\n",
            "[CV] max_depth=30, max_features=auto, min_samples_leaf=2, min_samples_split=2, n_estimators=100 \n",
            "[CV]  max_depth=30, max_features=auto, min_samples_leaf=2, min_samples_split=2, n_estimators=100, total=   0.3s\n",
            "[CV] max_depth=30, max_features=auto, min_samples_leaf=2, min_samples_split=2, n_estimators=100 \n",
            "[CV]  max_depth=30, max_features=auto, min_samples_leaf=2, min_samples_split=2, n_estimators=100, total=   0.3s\n",
            "[CV] max_depth=30, max_features=auto, min_samples_leaf=2, min_samples_split=2, n_estimators=100 \n",
            "[CV]  max_depth=30, max_features=auto, min_samples_leaf=2, min_samples_split=2, n_estimators=100, total=   0.3s\n",
            "[CV] max_depth=30, max_features=auto, min_samples_leaf=2, min_samples_split=2, n_estimators=100 \n",
            "[CV]  max_depth=30, max_features=auto, min_samples_leaf=2, min_samples_split=2, n_estimators=100, total=   0.3s\n",
            "[CV] max_depth=30, max_features=auto, min_samples_leaf=2, min_samples_split=2, n_estimators=100 \n",
            "[CV]  max_depth=30, max_features=auto, min_samples_leaf=2, min_samples_split=2, n_estimators=100, total=   0.4s\n",
            "[CV] max_depth=30, max_features=auto, min_samples_leaf=2, min_samples_split=2, n_estimators=150 \n",
            "[CV]  max_depth=30, max_features=auto, min_samples_leaf=2, min_samples_split=2, n_estimators=150, total=   0.5s\n",
            "[CV] max_depth=30, max_features=auto, min_samples_leaf=2, min_samples_split=2, n_estimators=150 \n",
            "[CV]  max_depth=30, max_features=auto, min_samples_leaf=2, min_samples_split=2, n_estimators=150, total=   0.5s\n",
            "[CV] max_depth=30, max_features=auto, min_samples_leaf=2, min_samples_split=2, n_estimators=150 \n",
            "[CV]  max_depth=30, max_features=auto, min_samples_leaf=2, min_samples_split=2, n_estimators=150, total=   0.5s\n",
            "[CV] max_depth=30, max_features=auto, min_samples_leaf=2, min_samples_split=2, n_estimators=150 \n",
            "[CV]  max_depth=30, max_features=auto, min_samples_leaf=2, min_samples_split=2, n_estimators=150, total=   0.5s\n",
            "[CV] max_depth=30, max_features=auto, min_samples_leaf=2, min_samples_split=2, n_estimators=150 \n",
            "[CV]  max_depth=30, max_features=auto, min_samples_leaf=2, min_samples_split=2, n_estimators=150, total=   0.5s\n",
            "[CV] max_depth=30, max_features=auto, min_samples_leaf=2, min_samples_split=5, n_estimators=10 \n",
            "[CV]  max_depth=30, max_features=auto, min_samples_leaf=2, min_samples_split=5, n_estimators=10, total=   0.1s\n",
            "[CV] max_depth=30, max_features=auto, min_samples_leaf=2, min_samples_split=5, n_estimators=10 \n",
            "[CV]  max_depth=30, max_features=auto, min_samples_leaf=2, min_samples_split=5, n_estimators=10, total=   0.1s\n",
            "[CV] max_depth=30, max_features=auto, min_samples_leaf=2, min_samples_split=5, n_estimators=10 \n",
            "[CV]  max_depth=30, max_features=auto, min_samples_leaf=2, min_samples_split=5, n_estimators=10, total=   0.1s\n",
            "[CV] max_depth=30, max_features=auto, min_samples_leaf=2, min_samples_split=5, n_estimators=10 \n",
            "[CV]  max_depth=30, max_features=auto, min_samples_leaf=2, min_samples_split=5, n_estimators=10, total=   0.1s\n",
            "[CV] max_depth=30, max_features=auto, min_samples_leaf=2, min_samples_split=5, n_estimators=10 \n",
            "[CV]  max_depth=30, max_features=auto, min_samples_leaf=2, min_samples_split=5, n_estimators=10, total=   0.1s\n",
            "[CV] max_depth=30, max_features=auto, min_samples_leaf=2, min_samples_split=5, n_estimators=100 \n",
            "[CV]  max_depth=30, max_features=auto, min_samples_leaf=2, min_samples_split=5, n_estimators=100, total=   0.4s\n",
            "[CV] max_depth=30, max_features=auto, min_samples_leaf=2, min_samples_split=5, n_estimators=100 \n",
            "[CV]  max_depth=30, max_features=auto, min_samples_leaf=2, min_samples_split=5, n_estimators=100, total=   0.3s\n",
            "[CV] max_depth=30, max_features=auto, min_samples_leaf=2, min_samples_split=5, n_estimators=100 \n",
            "[CV]  max_depth=30, max_features=auto, min_samples_leaf=2, min_samples_split=5, n_estimators=100, total=   0.4s\n",
            "[CV] max_depth=30, max_features=auto, min_samples_leaf=2, min_samples_split=5, n_estimators=100 \n",
            "[CV]  max_depth=30, max_features=auto, min_samples_leaf=2, min_samples_split=5, n_estimators=100, total=   0.3s\n",
            "[CV] max_depth=30, max_features=auto, min_samples_leaf=2, min_samples_split=5, n_estimators=100 \n",
            "[CV]  max_depth=30, max_features=auto, min_samples_leaf=2, min_samples_split=5, n_estimators=100, total=   0.3s\n",
            "[CV] max_depth=30, max_features=auto, min_samples_leaf=2, min_samples_split=5, n_estimators=150 \n",
            "[CV]  max_depth=30, max_features=auto, min_samples_leaf=2, min_samples_split=5, n_estimators=150, total=   0.5s\n",
            "[CV] max_depth=30, max_features=auto, min_samples_leaf=2, min_samples_split=5, n_estimators=150 \n",
            "[CV]  max_depth=30, max_features=auto, min_samples_leaf=2, min_samples_split=5, n_estimators=150, total=   0.5s\n",
            "[CV] max_depth=30, max_features=auto, min_samples_leaf=2, min_samples_split=5, n_estimators=150 \n",
            "[CV]  max_depth=30, max_features=auto, min_samples_leaf=2, min_samples_split=5, n_estimators=150, total=   0.5s\n",
            "[CV] max_depth=30, max_features=auto, min_samples_leaf=2, min_samples_split=5, n_estimators=150 \n",
            "[CV]  max_depth=30, max_features=auto, min_samples_leaf=2, min_samples_split=5, n_estimators=150, total=   0.5s\n",
            "[CV] max_depth=30, max_features=auto, min_samples_leaf=2, min_samples_split=5, n_estimators=150 \n",
            "[CV]  max_depth=30, max_features=auto, min_samples_leaf=2, min_samples_split=5, n_estimators=150, total=   0.5s\n",
            "[CV] max_depth=30, max_features=auto, min_samples_leaf=2, min_samples_split=7, n_estimators=10 \n",
            "[CV]  max_depth=30, max_features=auto, min_samples_leaf=2, min_samples_split=7, n_estimators=10, total=   0.1s\n",
            "[CV] max_depth=30, max_features=auto, min_samples_leaf=2, min_samples_split=7, n_estimators=10 \n",
            "[CV]  max_depth=30, max_features=auto, min_samples_leaf=2, min_samples_split=7, n_estimators=10, total=   0.1s\n",
            "[CV] max_depth=30, max_features=auto, min_samples_leaf=2, min_samples_split=7, n_estimators=10 \n",
            "[CV]  max_depth=30, max_features=auto, min_samples_leaf=2, min_samples_split=7, n_estimators=10, total=   0.1s\n",
            "[CV] max_depth=30, max_features=auto, min_samples_leaf=2, min_samples_split=7, n_estimators=10 \n",
            "[CV]  max_depth=30, max_features=auto, min_samples_leaf=2, min_samples_split=7, n_estimators=10, total=   0.1s\n",
            "[CV] max_depth=30, max_features=auto, min_samples_leaf=2, min_samples_split=7, n_estimators=10 \n",
            "[CV]  max_depth=30, max_features=auto, min_samples_leaf=2, min_samples_split=7, n_estimators=10, total=   0.1s\n",
            "[CV] max_depth=30, max_features=auto, min_samples_leaf=2, min_samples_split=7, n_estimators=100 \n",
            "[CV]  max_depth=30, max_features=auto, min_samples_leaf=2, min_samples_split=7, n_estimators=100, total=   0.4s\n",
            "[CV] max_depth=30, max_features=auto, min_samples_leaf=2, min_samples_split=7, n_estimators=100 \n",
            "[CV]  max_depth=30, max_features=auto, min_samples_leaf=2, min_samples_split=7, n_estimators=100, total=   0.3s\n",
            "[CV] max_depth=30, max_features=auto, min_samples_leaf=2, min_samples_split=7, n_estimators=100 \n",
            "[CV]  max_depth=30, max_features=auto, min_samples_leaf=2, min_samples_split=7, n_estimators=100, total=   0.4s\n",
            "[CV] max_depth=30, max_features=auto, min_samples_leaf=2, min_samples_split=7, n_estimators=100 \n",
            "[CV]  max_depth=30, max_features=auto, min_samples_leaf=2, min_samples_split=7, n_estimators=100, total=   0.4s\n",
            "[CV] max_depth=30, max_features=auto, min_samples_leaf=2, min_samples_split=7, n_estimators=100 \n",
            "[CV]  max_depth=30, max_features=auto, min_samples_leaf=2, min_samples_split=7, n_estimators=100, total=   0.3s\n",
            "[CV] max_depth=30, max_features=auto, min_samples_leaf=2, min_samples_split=7, n_estimators=150 \n",
            "[CV]  max_depth=30, max_features=auto, min_samples_leaf=2, min_samples_split=7, n_estimators=150, total=   0.5s\n",
            "[CV] max_depth=30, max_features=auto, min_samples_leaf=2, min_samples_split=7, n_estimators=150 \n",
            "[CV]  max_depth=30, max_features=auto, min_samples_leaf=2, min_samples_split=7, n_estimators=150, total=   0.5s\n",
            "[CV] max_depth=30, max_features=auto, min_samples_leaf=2, min_samples_split=7, n_estimators=150 \n",
            "[CV]  max_depth=30, max_features=auto, min_samples_leaf=2, min_samples_split=7, n_estimators=150, total=   0.5s\n",
            "[CV] max_depth=30, max_features=auto, min_samples_leaf=2, min_samples_split=7, n_estimators=150 \n",
            "[CV]  max_depth=30, max_features=auto, min_samples_leaf=2, min_samples_split=7, n_estimators=150, total=   0.5s\n",
            "[CV] max_depth=30, max_features=auto, min_samples_leaf=2, min_samples_split=7, n_estimators=150 \n",
            "[CV]  max_depth=30, max_features=auto, min_samples_leaf=2, min_samples_split=7, n_estimators=150, total=   0.5s\n",
            "[CV] max_depth=30, max_features=auto, min_samples_leaf=5, min_samples_split=2, n_estimators=10 \n",
            "[CV]  max_depth=30, max_features=auto, min_samples_leaf=5, min_samples_split=2, n_estimators=10, total=   0.1s\n",
            "[CV] max_depth=30, max_features=auto, min_samples_leaf=5, min_samples_split=2, n_estimators=10 \n",
            "[CV]  max_depth=30, max_features=auto, min_samples_leaf=5, min_samples_split=2, n_estimators=10, total=   0.1s\n",
            "[CV] max_depth=30, max_features=auto, min_samples_leaf=5, min_samples_split=2, n_estimators=10 \n",
            "[CV]  max_depth=30, max_features=auto, min_samples_leaf=5, min_samples_split=2, n_estimators=10, total=   0.1s\n",
            "[CV] max_depth=30, max_features=auto, min_samples_leaf=5, min_samples_split=2, n_estimators=10 \n",
            "[CV]  max_depth=30, max_features=auto, min_samples_leaf=5, min_samples_split=2, n_estimators=10, total=   0.1s\n",
            "[CV] max_depth=30, max_features=auto, min_samples_leaf=5, min_samples_split=2, n_estimators=10 \n",
            "[CV]  max_depth=30, max_features=auto, min_samples_leaf=5, min_samples_split=2, n_estimators=10, total=   0.1s\n",
            "[CV] max_depth=30, max_features=auto, min_samples_leaf=5, min_samples_split=2, n_estimators=100 \n",
            "[CV]  max_depth=30, max_features=auto, min_samples_leaf=5, min_samples_split=2, n_estimators=100, total=   0.3s\n",
            "[CV] max_depth=30, max_features=auto, min_samples_leaf=5, min_samples_split=2, n_estimators=100 \n",
            "[CV]  max_depth=30, max_features=auto, min_samples_leaf=5, min_samples_split=2, n_estimators=100, total=   0.4s\n",
            "[CV] max_depth=30, max_features=auto, min_samples_leaf=5, min_samples_split=2, n_estimators=100 \n",
            "[CV]  max_depth=30, max_features=auto, min_samples_leaf=5, min_samples_split=2, n_estimators=100, total=   0.3s\n",
            "[CV] max_depth=30, max_features=auto, min_samples_leaf=5, min_samples_split=2, n_estimators=100 \n",
            "[CV]  max_depth=30, max_features=auto, min_samples_leaf=5, min_samples_split=2, n_estimators=100, total=   0.3s\n",
            "[CV] max_depth=30, max_features=auto, min_samples_leaf=5, min_samples_split=2, n_estimators=100 \n",
            "[CV]  max_depth=30, max_features=auto, min_samples_leaf=5, min_samples_split=2, n_estimators=100, total=   0.3s\n",
            "[CV] max_depth=30, max_features=auto, min_samples_leaf=5, min_samples_split=2, n_estimators=150 \n",
            "[CV]  max_depth=30, max_features=auto, min_samples_leaf=5, min_samples_split=2, n_estimators=150, total=   0.5s\n",
            "[CV] max_depth=30, max_features=auto, min_samples_leaf=5, min_samples_split=2, n_estimators=150 \n",
            "[CV]  max_depth=30, max_features=auto, min_samples_leaf=5, min_samples_split=2, n_estimators=150, total=   0.5s\n",
            "[CV] max_depth=30, max_features=auto, min_samples_leaf=5, min_samples_split=2, n_estimators=150 \n",
            "[CV]  max_depth=30, max_features=auto, min_samples_leaf=5, min_samples_split=2, n_estimators=150, total=   0.5s\n",
            "[CV] max_depth=30, max_features=auto, min_samples_leaf=5, min_samples_split=2, n_estimators=150 \n",
            "[CV]  max_depth=30, max_features=auto, min_samples_leaf=5, min_samples_split=2, n_estimators=150, total=   0.5s\n",
            "[CV] max_depth=30, max_features=auto, min_samples_leaf=5, min_samples_split=2, n_estimators=150 \n",
            "[CV]  max_depth=30, max_features=auto, min_samples_leaf=5, min_samples_split=2, n_estimators=150, total=   0.5s\n",
            "[CV] max_depth=30, max_features=auto, min_samples_leaf=5, min_samples_split=5, n_estimators=10 \n",
            "[CV]  max_depth=30, max_features=auto, min_samples_leaf=5, min_samples_split=5, n_estimators=10, total=   0.1s\n",
            "[CV] max_depth=30, max_features=auto, min_samples_leaf=5, min_samples_split=5, n_estimators=10 \n",
            "[CV]  max_depth=30, max_features=auto, min_samples_leaf=5, min_samples_split=5, n_estimators=10, total=   0.1s\n",
            "[CV] max_depth=30, max_features=auto, min_samples_leaf=5, min_samples_split=5, n_estimators=10 \n",
            "[CV]  max_depth=30, max_features=auto, min_samples_leaf=5, min_samples_split=5, n_estimators=10, total=   0.1s\n",
            "[CV] max_depth=30, max_features=auto, min_samples_leaf=5, min_samples_split=5, n_estimators=10 \n",
            "[CV]  max_depth=30, max_features=auto, min_samples_leaf=5, min_samples_split=5, n_estimators=10, total=   0.1s\n",
            "[CV] max_depth=30, max_features=auto, min_samples_leaf=5, min_samples_split=5, n_estimators=10 \n",
            "[CV]  max_depth=30, max_features=auto, min_samples_leaf=5, min_samples_split=5, n_estimators=10, total=   0.1s\n",
            "[CV] max_depth=30, max_features=auto, min_samples_leaf=5, min_samples_split=5, n_estimators=100 \n",
            "[CV]  max_depth=30, max_features=auto, min_samples_leaf=5, min_samples_split=5, n_estimators=100, total=   0.3s\n",
            "[CV] max_depth=30, max_features=auto, min_samples_leaf=5, min_samples_split=5, n_estimators=100 \n",
            "[CV]  max_depth=30, max_features=auto, min_samples_leaf=5, min_samples_split=5, n_estimators=100, total=   0.3s\n",
            "[CV] max_depth=30, max_features=auto, min_samples_leaf=5, min_samples_split=5, n_estimators=100 \n",
            "[CV]  max_depth=30, max_features=auto, min_samples_leaf=5, min_samples_split=5, n_estimators=100, total=   0.3s\n",
            "[CV] max_depth=30, max_features=auto, min_samples_leaf=5, min_samples_split=5, n_estimators=100 \n",
            "[CV]  max_depth=30, max_features=auto, min_samples_leaf=5, min_samples_split=5, n_estimators=100, total=   0.3s\n",
            "[CV] max_depth=30, max_features=auto, min_samples_leaf=5, min_samples_split=5, n_estimators=100 \n",
            "[CV]  max_depth=30, max_features=auto, min_samples_leaf=5, min_samples_split=5, n_estimators=100, total=   0.4s\n",
            "[CV] max_depth=30, max_features=auto, min_samples_leaf=5, min_samples_split=5, n_estimators=150 \n",
            "[CV]  max_depth=30, max_features=auto, min_samples_leaf=5, min_samples_split=5, n_estimators=150, total=   0.5s\n",
            "[CV] max_depth=30, max_features=auto, min_samples_leaf=5, min_samples_split=5, n_estimators=150 \n",
            "[CV]  max_depth=30, max_features=auto, min_samples_leaf=5, min_samples_split=5, n_estimators=150, total=   0.5s\n",
            "[CV] max_depth=30, max_features=auto, min_samples_leaf=5, min_samples_split=5, n_estimators=150 \n",
            "[CV]  max_depth=30, max_features=auto, min_samples_leaf=5, min_samples_split=5, n_estimators=150, total=   0.5s\n",
            "[CV] max_depth=30, max_features=auto, min_samples_leaf=5, min_samples_split=5, n_estimators=150 \n",
            "[CV]  max_depth=30, max_features=auto, min_samples_leaf=5, min_samples_split=5, n_estimators=150, total=   0.5s\n",
            "[CV] max_depth=30, max_features=auto, min_samples_leaf=5, min_samples_split=5, n_estimators=150 \n",
            "[CV]  max_depth=30, max_features=auto, min_samples_leaf=5, min_samples_split=5, n_estimators=150, total=   0.5s\n",
            "[CV] max_depth=30, max_features=auto, min_samples_leaf=5, min_samples_split=7, n_estimators=10 \n",
            "[CV]  max_depth=30, max_features=auto, min_samples_leaf=5, min_samples_split=7, n_estimators=10, total=   0.1s\n",
            "[CV] max_depth=30, max_features=auto, min_samples_leaf=5, min_samples_split=7, n_estimators=10 \n",
            "[CV]  max_depth=30, max_features=auto, min_samples_leaf=5, min_samples_split=7, n_estimators=10, total=   0.1s\n",
            "[CV] max_depth=30, max_features=auto, min_samples_leaf=5, min_samples_split=7, n_estimators=10 \n",
            "[CV]  max_depth=30, max_features=auto, min_samples_leaf=5, min_samples_split=7, n_estimators=10, total=   0.1s\n",
            "[CV] max_depth=30, max_features=auto, min_samples_leaf=5, min_samples_split=7, n_estimators=10 \n",
            "[CV]  max_depth=30, max_features=auto, min_samples_leaf=5, min_samples_split=7, n_estimators=10, total=   0.2s\n",
            "[CV] max_depth=30, max_features=auto, min_samples_leaf=5, min_samples_split=7, n_estimators=10 \n",
            "[CV]  max_depth=30, max_features=auto, min_samples_leaf=5, min_samples_split=7, n_estimators=10, total=   0.1s\n",
            "[CV] max_depth=30, max_features=auto, min_samples_leaf=5, min_samples_split=7, n_estimators=100 \n",
            "[CV]  max_depth=30, max_features=auto, min_samples_leaf=5, min_samples_split=7, n_estimators=100, total=   0.3s\n",
            "[CV] max_depth=30, max_features=auto, min_samples_leaf=5, min_samples_split=7, n_estimators=100 \n",
            "[CV]  max_depth=30, max_features=auto, min_samples_leaf=5, min_samples_split=7, n_estimators=100, total=   0.3s\n",
            "[CV] max_depth=30, max_features=auto, min_samples_leaf=5, min_samples_split=7, n_estimators=100 \n",
            "[CV]  max_depth=30, max_features=auto, min_samples_leaf=5, min_samples_split=7, n_estimators=100, total=   0.3s\n",
            "[CV] max_depth=30, max_features=auto, min_samples_leaf=5, min_samples_split=7, n_estimators=100 \n",
            "[CV]  max_depth=30, max_features=auto, min_samples_leaf=5, min_samples_split=7, n_estimators=100, total=   0.4s\n",
            "[CV] max_depth=30, max_features=auto, min_samples_leaf=5, min_samples_split=7, n_estimators=100 \n",
            "[CV]  max_depth=30, max_features=auto, min_samples_leaf=5, min_samples_split=7, n_estimators=100, total=   0.4s\n",
            "[CV] max_depth=30, max_features=auto, min_samples_leaf=5, min_samples_split=7, n_estimators=150 \n",
            "[CV]  max_depth=30, max_features=auto, min_samples_leaf=5, min_samples_split=7, n_estimators=150, total=   0.5s\n",
            "[CV] max_depth=30, max_features=auto, min_samples_leaf=5, min_samples_split=7, n_estimators=150 \n",
            "[CV]  max_depth=30, max_features=auto, min_samples_leaf=5, min_samples_split=7, n_estimators=150, total=   0.5s\n",
            "[CV] max_depth=30, max_features=auto, min_samples_leaf=5, min_samples_split=7, n_estimators=150 \n",
            "[CV]  max_depth=30, max_features=auto, min_samples_leaf=5, min_samples_split=7, n_estimators=150, total=   0.5s\n",
            "[CV] max_depth=30, max_features=auto, min_samples_leaf=5, min_samples_split=7, n_estimators=150 \n",
            "[CV]  max_depth=30, max_features=auto, min_samples_leaf=5, min_samples_split=7, n_estimators=150, total=   0.5s\n",
            "[CV] max_depth=30, max_features=auto, min_samples_leaf=5, min_samples_split=7, n_estimators=150 \n",
            "[CV]  max_depth=30, max_features=auto, min_samples_leaf=5, min_samples_split=7, n_estimators=150, total=   0.5s\n",
            "[CV] max_depth=30, max_features=auto, min_samples_leaf=7, min_samples_split=2, n_estimators=10 \n",
            "[CV]  max_depth=30, max_features=auto, min_samples_leaf=7, min_samples_split=2, n_estimators=10, total=   0.1s\n",
            "[CV] max_depth=30, max_features=auto, min_samples_leaf=7, min_samples_split=2, n_estimators=10 \n",
            "[CV]  max_depth=30, max_features=auto, min_samples_leaf=7, min_samples_split=2, n_estimators=10, total=   0.1s\n",
            "[CV] max_depth=30, max_features=auto, min_samples_leaf=7, min_samples_split=2, n_estimators=10 \n",
            "[CV]  max_depth=30, max_features=auto, min_samples_leaf=7, min_samples_split=2, n_estimators=10, total=   0.1s\n",
            "[CV] max_depth=30, max_features=auto, min_samples_leaf=7, min_samples_split=2, n_estimators=10 \n",
            "[CV]  max_depth=30, max_features=auto, min_samples_leaf=7, min_samples_split=2, n_estimators=10, total=   0.1s\n",
            "[CV] max_depth=30, max_features=auto, min_samples_leaf=7, min_samples_split=2, n_estimators=10 \n",
            "[CV]  max_depth=30, max_features=auto, min_samples_leaf=7, min_samples_split=2, n_estimators=10, total=   0.1s\n",
            "[CV] max_depth=30, max_features=auto, min_samples_leaf=7, min_samples_split=2, n_estimators=100 \n",
            "[CV]  max_depth=30, max_features=auto, min_samples_leaf=7, min_samples_split=2, n_estimators=100, total=   0.3s\n",
            "[CV] max_depth=30, max_features=auto, min_samples_leaf=7, min_samples_split=2, n_estimators=100 \n",
            "[CV]  max_depth=30, max_features=auto, min_samples_leaf=7, min_samples_split=2, n_estimators=100, total=   0.3s\n",
            "[CV] max_depth=30, max_features=auto, min_samples_leaf=7, min_samples_split=2, n_estimators=100 \n",
            "[CV]  max_depth=30, max_features=auto, min_samples_leaf=7, min_samples_split=2, n_estimators=100, total=   0.3s\n",
            "[CV] max_depth=30, max_features=auto, min_samples_leaf=7, min_samples_split=2, n_estimators=100 \n",
            "[CV]  max_depth=30, max_features=auto, min_samples_leaf=7, min_samples_split=2, n_estimators=100, total=   0.3s\n",
            "[CV] max_depth=30, max_features=auto, min_samples_leaf=7, min_samples_split=2, n_estimators=100 \n",
            "[CV]  max_depth=30, max_features=auto, min_samples_leaf=7, min_samples_split=2, n_estimators=100, total=   0.3s\n",
            "[CV] max_depth=30, max_features=auto, min_samples_leaf=7, min_samples_split=2, n_estimators=150 \n",
            "[CV]  max_depth=30, max_features=auto, min_samples_leaf=7, min_samples_split=2, n_estimators=150, total=   0.5s\n",
            "[CV] max_depth=30, max_features=auto, min_samples_leaf=7, min_samples_split=2, n_estimators=150 \n",
            "[CV]  max_depth=30, max_features=auto, min_samples_leaf=7, min_samples_split=2, n_estimators=150, total=   0.5s\n",
            "[CV] max_depth=30, max_features=auto, min_samples_leaf=7, min_samples_split=2, n_estimators=150 \n",
            "[CV]  max_depth=30, max_features=auto, min_samples_leaf=7, min_samples_split=2, n_estimators=150, total=   0.5s\n",
            "[CV] max_depth=30, max_features=auto, min_samples_leaf=7, min_samples_split=2, n_estimators=150 \n",
            "[CV]  max_depth=30, max_features=auto, min_samples_leaf=7, min_samples_split=2, n_estimators=150, total=   0.5s\n",
            "[CV] max_depth=30, max_features=auto, min_samples_leaf=7, min_samples_split=2, n_estimators=150 \n",
            "[CV]  max_depth=30, max_features=auto, min_samples_leaf=7, min_samples_split=2, n_estimators=150, total=   0.5s\n",
            "[CV] max_depth=30, max_features=auto, min_samples_leaf=7, min_samples_split=5, n_estimators=10 \n",
            "[CV]  max_depth=30, max_features=auto, min_samples_leaf=7, min_samples_split=5, n_estimators=10, total=   0.1s\n",
            "[CV] max_depth=30, max_features=auto, min_samples_leaf=7, min_samples_split=5, n_estimators=10 \n",
            "[CV]  max_depth=30, max_features=auto, min_samples_leaf=7, min_samples_split=5, n_estimators=10, total=   0.1s\n",
            "[CV] max_depth=30, max_features=auto, min_samples_leaf=7, min_samples_split=5, n_estimators=10 \n",
            "[CV]  max_depth=30, max_features=auto, min_samples_leaf=7, min_samples_split=5, n_estimators=10, total=   0.1s\n",
            "[CV] max_depth=30, max_features=auto, min_samples_leaf=7, min_samples_split=5, n_estimators=10 \n",
            "[CV]  max_depth=30, max_features=auto, min_samples_leaf=7, min_samples_split=5, n_estimators=10, total=   0.1s\n",
            "[CV] max_depth=30, max_features=auto, min_samples_leaf=7, min_samples_split=5, n_estimators=10 \n",
            "[CV]  max_depth=30, max_features=auto, min_samples_leaf=7, min_samples_split=5, n_estimators=10, total=   0.1s\n",
            "[CV] max_depth=30, max_features=auto, min_samples_leaf=7, min_samples_split=5, n_estimators=100 \n",
            "[CV]  max_depth=30, max_features=auto, min_samples_leaf=7, min_samples_split=5, n_estimators=100, total=   0.3s\n",
            "[CV] max_depth=30, max_features=auto, min_samples_leaf=7, min_samples_split=5, n_estimators=100 \n",
            "[CV]  max_depth=30, max_features=auto, min_samples_leaf=7, min_samples_split=5, n_estimators=100, total=   0.3s\n",
            "[CV] max_depth=30, max_features=auto, min_samples_leaf=7, min_samples_split=5, n_estimators=100 \n",
            "[CV]  max_depth=30, max_features=auto, min_samples_leaf=7, min_samples_split=5, n_estimators=100, total=   0.3s\n",
            "[CV] max_depth=30, max_features=auto, min_samples_leaf=7, min_samples_split=5, n_estimators=100 \n",
            "[CV]  max_depth=30, max_features=auto, min_samples_leaf=7, min_samples_split=5, n_estimators=100, total=   0.3s\n",
            "[CV] max_depth=30, max_features=auto, min_samples_leaf=7, min_samples_split=5, n_estimators=100 \n",
            "[CV]  max_depth=30, max_features=auto, min_samples_leaf=7, min_samples_split=5, n_estimators=100, total=   0.3s\n",
            "[CV] max_depth=30, max_features=auto, min_samples_leaf=7, min_samples_split=5, n_estimators=150 \n",
            "[CV]  max_depth=30, max_features=auto, min_samples_leaf=7, min_samples_split=5, n_estimators=150, total=   0.5s\n",
            "[CV] max_depth=30, max_features=auto, min_samples_leaf=7, min_samples_split=5, n_estimators=150 \n",
            "[CV]  max_depth=30, max_features=auto, min_samples_leaf=7, min_samples_split=5, n_estimators=150, total=   0.5s\n",
            "[CV] max_depth=30, max_features=auto, min_samples_leaf=7, min_samples_split=5, n_estimators=150 \n",
            "[CV]  max_depth=30, max_features=auto, min_samples_leaf=7, min_samples_split=5, n_estimators=150, total=   0.5s\n",
            "[CV] max_depth=30, max_features=auto, min_samples_leaf=7, min_samples_split=5, n_estimators=150 \n",
            "[CV]  max_depth=30, max_features=auto, min_samples_leaf=7, min_samples_split=5, n_estimators=150, total=   0.5s\n",
            "[CV] max_depth=30, max_features=auto, min_samples_leaf=7, min_samples_split=5, n_estimators=150 \n",
            "[CV]  max_depth=30, max_features=auto, min_samples_leaf=7, min_samples_split=5, n_estimators=150, total=   0.5s\n",
            "[CV] max_depth=30, max_features=auto, min_samples_leaf=7, min_samples_split=7, n_estimators=10 \n",
            "[CV]  max_depth=30, max_features=auto, min_samples_leaf=7, min_samples_split=7, n_estimators=10, total=   0.1s\n",
            "[CV] max_depth=30, max_features=auto, min_samples_leaf=7, min_samples_split=7, n_estimators=10 \n",
            "[CV]  max_depth=30, max_features=auto, min_samples_leaf=7, min_samples_split=7, n_estimators=10, total=   0.1s\n",
            "[CV] max_depth=30, max_features=auto, min_samples_leaf=7, min_samples_split=7, n_estimators=10 \n",
            "[CV]  max_depth=30, max_features=auto, min_samples_leaf=7, min_samples_split=7, n_estimators=10, total=   0.1s\n",
            "[CV] max_depth=30, max_features=auto, min_samples_leaf=7, min_samples_split=7, n_estimators=10 \n",
            "[CV]  max_depth=30, max_features=auto, min_samples_leaf=7, min_samples_split=7, n_estimators=10, total=   0.1s\n",
            "[CV] max_depth=30, max_features=auto, min_samples_leaf=7, min_samples_split=7, n_estimators=10 \n",
            "[CV]  max_depth=30, max_features=auto, min_samples_leaf=7, min_samples_split=7, n_estimators=10, total=   0.1s\n",
            "[CV] max_depth=30, max_features=auto, min_samples_leaf=7, min_samples_split=7, n_estimators=100 \n",
            "[CV]  max_depth=30, max_features=auto, min_samples_leaf=7, min_samples_split=7, n_estimators=100, total=   0.3s\n",
            "[CV] max_depth=30, max_features=auto, min_samples_leaf=7, min_samples_split=7, n_estimators=100 \n",
            "[CV]  max_depth=30, max_features=auto, min_samples_leaf=7, min_samples_split=7, n_estimators=100, total=   0.3s\n",
            "[CV] max_depth=30, max_features=auto, min_samples_leaf=7, min_samples_split=7, n_estimators=100 \n",
            "[CV]  max_depth=30, max_features=auto, min_samples_leaf=7, min_samples_split=7, n_estimators=100, total=   0.3s\n",
            "[CV] max_depth=30, max_features=auto, min_samples_leaf=7, min_samples_split=7, n_estimators=100 \n",
            "[CV]  max_depth=30, max_features=auto, min_samples_leaf=7, min_samples_split=7, n_estimators=100, total=   0.3s\n",
            "[CV] max_depth=30, max_features=auto, min_samples_leaf=7, min_samples_split=7, n_estimators=100 \n",
            "[CV]  max_depth=30, max_features=auto, min_samples_leaf=7, min_samples_split=7, n_estimators=100, total=   0.3s\n",
            "[CV] max_depth=30, max_features=auto, min_samples_leaf=7, min_samples_split=7, n_estimators=150 \n",
            "[CV]  max_depth=30, max_features=auto, min_samples_leaf=7, min_samples_split=7, n_estimators=150, total=   0.5s\n",
            "[CV] max_depth=30, max_features=auto, min_samples_leaf=7, min_samples_split=7, n_estimators=150 \n",
            "[CV]  max_depth=30, max_features=auto, min_samples_leaf=7, min_samples_split=7, n_estimators=150, total=   0.5s\n",
            "[CV] max_depth=30, max_features=auto, min_samples_leaf=7, min_samples_split=7, n_estimators=150 \n",
            "[CV]  max_depth=30, max_features=auto, min_samples_leaf=7, min_samples_split=7, n_estimators=150, total=   0.5s\n",
            "[CV] max_depth=30, max_features=auto, min_samples_leaf=7, min_samples_split=7, n_estimators=150 \n",
            "[CV]  max_depth=30, max_features=auto, min_samples_leaf=7, min_samples_split=7, n_estimators=150, total=   0.5s\n",
            "[CV] max_depth=30, max_features=auto, min_samples_leaf=7, min_samples_split=7, n_estimators=150 \n",
            "[CV]  max_depth=30, max_features=auto, min_samples_leaf=7, min_samples_split=7, n_estimators=150, total=   0.5s\n",
            "[CV] max_depth=30, max_features=sqrt, min_samples_leaf=2, min_samples_split=2, n_estimators=10 \n",
            "[CV]  max_depth=30, max_features=sqrt, min_samples_leaf=2, min_samples_split=2, n_estimators=10, total=   0.1s\n",
            "[CV] max_depth=30, max_features=sqrt, min_samples_leaf=2, min_samples_split=2, n_estimators=10 \n",
            "[CV]  max_depth=30, max_features=sqrt, min_samples_leaf=2, min_samples_split=2, n_estimators=10, total=   0.1s\n",
            "[CV] max_depth=30, max_features=sqrt, min_samples_leaf=2, min_samples_split=2, n_estimators=10 \n",
            "[CV]  max_depth=30, max_features=sqrt, min_samples_leaf=2, min_samples_split=2, n_estimators=10, total=   0.1s\n",
            "[CV] max_depth=30, max_features=sqrt, min_samples_leaf=2, min_samples_split=2, n_estimators=10 \n",
            "[CV]  max_depth=30, max_features=sqrt, min_samples_leaf=2, min_samples_split=2, n_estimators=10, total=   0.1s\n",
            "[CV] max_depth=30, max_features=sqrt, min_samples_leaf=2, min_samples_split=2, n_estimators=10 \n",
            "[CV]  max_depth=30, max_features=sqrt, min_samples_leaf=2, min_samples_split=2, n_estimators=10, total=   0.1s\n",
            "[CV] max_depth=30, max_features=sqrt, min_samples_leaf=2, min_samples_split=2, n_estimators=100 \n",
            "[CV]  max_depth=30, max_features=sqrt, min_samples_leaf=2, min_samples_split=2, n_estimators=100, total=   0.3s\n",
            "[CV] max_depth=30, max_features=sqrt, min_samples_leaf=2, min_samples_split=2, n_estimators=100 \n",
            "[CV]  max_depth=30, max_features=sqrt, min_samples_leaf=2, min_samples_split=2, n_estimators=100, total=   0.3s\n",
            "[CV] max_depth=30, max_features=sqrt, min_samples_leaf=2, min_samples_split=2, n_estimators=100 \n",
            "[CV]  max_depth=30, max_features=sqrt, min_samples_leaf=2, min_samples_split=2, n_estimators=100, total=   0.4s\n",
            "[CV] max_depth=30, max_features=sqrt, min_samples_leaf=2, min_samples_split=2, n_estimators=100 \n",
            "[CV]  max_depth=30, max_features=sqrt, min_samples_leaf=2, min_samples_split=2, n_estimators=100, total=   0.3s\n",
            "[CV] max_depth=30, max_features=sqrt, min_samples_leaf=2, min_samples_split=2, n_estimators=100 \n",
            "[CV]  max_depth=30, max_features=sqrt, min_samples_leaf=2, min_samples_split=2, n_estimators=100, total=   0.4s\n",
            "[CV] max_depth=30, max_features=sqrt, min_samples_leaf=2, min_samples_split=2, n_estimators=150 \n",
            "[CV]  max_depth=30, max_features=sqrt, min_samples_leaf=2, min_samples_split=2, n_estimators=150, total=   0.5s\n",
            "[CV] max_depth=30, max_features=sqrt, min_samples_leaf=2, min_samples_split=2, n_estimators=150 \n",
            "[CV]  max_depth=30, max_features=sqrt, min_samples_leaf=2, min_samples_split=2, n_estimators=150, total=   0.5s\n",
            "[CV] max_depth=30, max_features=sqrt, min_samples_leaf=2, min_samples_split=2, n_estimators=150 \n",
            "[CV]  max_depth=30, max_features=sqrt, min_samples_leaf=2, min_samples_split=2, n_estimators=150, total=   0.5s\n",
            "[CV] max_depth=30, max_features=sqrt, min_samples_leaf=2, min_samples_split=2, n_estimators=150 \n",
            "[CV]  max_depth=30, max_features=sqrt, min_samples_leaf=2, min_samples_split=2, n_estimators=150, total=   0.5s\n",
            "[CV] max_depth=30, max_features=sqrt, min_samples_leaf=2, min_samples_split=2, n_estimators=150 \n",
            "[CV]  max_depth=30, max_features=sqrt, min_samples_leaf=2, min_samples_split=2, n_estimators=150, total=   0.5s\n",
            "[CV] max_depth=30, max_features=sqrt, min_samples_leaf=2, min_samples_split=5, n_estimators=10 \n",
            "[CV]  max_depth=30, max_features=sqrt, min_samples_leaf=2, min_samples_split=5, n_estimators=10, total=   0.1s\n",
            "[CV] max_depth=30, max_features=sqrt, min_samples_leaf=2, min_samples_split=5, n_estimators=10 \n",
            "[CV]  max_depth=30, max_features=sqrt, min_samples_leaf=2, min_samples_split=5, n_estimators=10, total=   0.1s\n",
            "[CV] max_depth=30, max_features=sqrt, min_samples_leaf=2, min_samples_split=5, n_estimators=10 \n",
            "[CV]  max_depth=30, max_features=sqrt, min_samples_leaf=2, min_samples_split=5, n_estimators=10, total=   0.1s\n",
            "[CV] max_depth=30, max_features=sqrt, min_samples_leaf=2, min_samples_split=5, n_estimators=10 \n",
            "[CV]  max_depth=30, max_features=sqrt, min_samples_leaf=2, min_samples_split=5, n_estimators=10, total=   0.1s\n",
            "[CV] max_depth=30, max_features=sqrt, min_samples_leaf=2, min_samples_split=5, n_estimators=10 \n",
            "[CV]  max_depth=30, max_features=sqrt, min_samples_leaf=2, min_samples_split=5, n_estimators=10, total=   0.1s\n",
            "[CV] max_depth=30, max_features=sqrt, min_samples_leaf=2, min_samples_split=5, n_estimators=100 \n",
            "[CV]  max_depth=30, max_features=sqrt, min_samples_leaf=2, min_samples_split=5, n_estimators=100, total=   0.3s\n",
            "[CV] max_depth=30, max_features=sqrt, min_samples_leaf=2, min_samples_split=5, n_estimators=100 \n",
            "[CV]  max_depth=30, max_features=sqrt, min_samples_leaf=2, min_samples_split=5, n_estimators=100, total=   0.3s\n",
            "[CV] max_depth=30, max_features=sqrt, min_samples_leaf=2, min_samples_split=5, n_estimators=100 \n",
            "[CV]  max_depth=30, max_features=sqrt, min_samples_leaf=2, min_samples_split=5, n_estimators=100, total=   0.3s\n",
            "[CV] max_depth=30, max_features=sqrt, min_samples_leaf=2, min_samples_split=5, n_estimators=100 \n",
            "[CV]  max_depth=30, max_features=sqrt, min_samples_leaf=2, min_samples_split=5, n_estimators=100, total=   0.3s\n",
            "[CV] max_depth=30, max_features=sqrt, min_samples_leaf=2, min_samples_split=5, n_estimators=100 \n",
            "[CV]  max_depth=30, max_features=sqrt, min_samples_leaf=2, min_samples_split=5, n_estimators=100, total=   0.3s\n",
            "[CV] max_depth=30, max_features=sqrt, min_samples_leaf=2, min_samples_split=5, n_estimators=150 \n",
            "[CV]  max_depth=30, max_features=sqrt, min_samples_leaf=2, min_samples_split=5, n_estimators=150, total=   0.5s\n",
            "[CV] max_depth=30, max_features=sqrt, min_samples_leaf=2, min_samples_split=5, n_estimators=150 \n",
            "[CV]  max_depth=30, max_features=sqrt, min_samples_leaf=2, min_samples_split=5, n_estimators=150, total=   0.5s\n",
            "[CV] max_depth=30, max_features=sqrt, min_samples_leaf=2, min_samples_split=5, n_estimators=150 \n",
            "[CV]  max_depth=30, max_features=sqrt, min_samples_leaf=2, min_samples_split=5, n_estimators=150, total=   0.5s\n",
            "[CV] max_depth=30, max_features=sqrt, min_samples_leaf=2, min_samples_split=5, n_estimators=150 \n",
            "[CV]  max_depth=30, max_features=sqrt, min_samples_leaf=2, min_samples_split=5, n_estimators=150, total=   0.5s\n",
            "[CV] max_depth=30, max_features=sqrt, min_samples_leaf=2, min_samples_split=5, n_estimators=150 \n",
            "[CV]  max_depth=30, max_features=sqrt, min_samples_leaf=2, min_samples_split=5, n_estimators=150, total=   0.5s\n",
            "[CV] max_depth=30, max_features=sqrt, min_samples_leaf=2, min_samples_split=7, n_estimators=10 \n",
            "[CV]  max_depth=30, max_features=sqrt, min_samples_leaf=2, min_samples_split=7, n_estimators=10, total=   0.1s\n",
            "[CV] max_depth=30, max_features=sqrt, min_samples_leaf=2, min_samples_split=7, n_estimators=10 \n",
            "[CV]  max_depth=30, max_features=sqrt, min_samples_leaf=2, min_samples_split=7, n_estimators=10, total=   0.1s\n",
            "[CV] max_depth=30, max_features=sqrt, min_samples_leaf=2, min_samples_split=7, n_estimators=10 \n",
            "[CV]  max_depth=30, max_features=sqrt, min_samples_leaf=2, min_samples_split=7, n_estimators=10, total=   0.1s\n",
            "[CV] max_depth=30, max_features=sqrt, min_samples_leaf=2, min_samples_split=7, n_estimators=10 \n",
            "[CV]  max_depth=30, max_features=sqrt, min_samples_leaf=2, min_samples_split=7, n_estimators=10, total=   0.1s\n",
            "[CV] max_depth=30, max_features=sqrt, min_samples_leaf=2, min_samples_split=7, n_estimators=10 \n",
            "[CV]  max_depth=30, max_features=sqrt, min_samples_leaf=2, min_samples_split=7, n_estimators=10, total=   0.1s\n",
            "[CV] max_depth=30, max_features=sqrt, min_samples_leaf=2, min_samples_split=7, n_estimators=100 \n",
            "[CV]  max_depth=30, max_features=sqrt, min_samples_leaf=2, min_samples_split=7, n_estimators=100, total=   0.4s\n",
            "[CV] max_depth=30, max_features=sqrt, min_samples_leaf=2, min_samples_split=7, n_estimators=100 \n",
            "[CV]  max_depth=30, max_features=sqrt, min_samples_leaf=2, min_samples_split=7, n_estimators=100, total=   0.3s\n",
            "[CV] max_depth=30, max_features=sqrt, min_samples_leaf=2, min_samples_split=7, n_estimators=100 \n",
            "[CV]  max_depth=30, max_features=sqrt, min_samples_leaf=2, min_samples_split=7, n_estimators=100, total=   0.3s\n",
            "[CV] max_depth=30, max_features=sqrt, min_samples_leaf=2, min_samples_split=7, n_estimators=100 \n",
            "[CV]  max_depth=30, max_features=sqrt, min_samples_leaf=2, min_samples_split=7, n_estimators=100, total=   0.4s\n",
            "[CV] max_depth=30, max_features=sqrt, min_samples_leaf=2, min_samples_split=7, n_estimators=100 \n",
            "[CV]  max_depth=30, max_features=sqrt, min_samples_leaf=2, min_samples_split=7, n_estimators=100, total=   0.3s\n",
            "[CV] max_depth=30, max_features=sqrt, min_samples_leaf=2, min_samples_split=7, n_estimators=150 \n",
            "[CV]  max_depth=30, max_features=sqrt, min_samples_leaf=2, min_samples_split=7, n_estimators=150, total=   0.5s\n",
            "[CV] max_depth=30, max_features=sqrt, min_samples_leaf=2, min_samples_split=7, n_estimators=150 \n",
            "[CV]  max_depth=30, max_features=sqrt, min_samples_leaf=2, min_samples_split=7, n_estimators=150, total=   0.5s\n",
            "[CV] max_depth=30, max_features=sqrt, min_samples_leaf=2, min_samples_split=7, n_estimators=150 \n",
            "[CV]  max_depth=30, max_features=sqrt, min_samples_leaf=2, min_samples_split=7, n_estimators=150, total=   0.5s\n",
            "[CV] max_depth=30, max_features=sqrt, min_samples_leaf=2, min_samples_split=7, n_estimators=150 \n",
            "[CV]  max_depth=30, max_features=sqrt, min_samples_leaf=2, min_samples_split=7, n_estimators=150, total=   0.5s\n",
            "[CV] max_depth=30, max_features=sqrt, min_samples_leaf=2, min_samples_split=7, n_estimators=150 \n",
            "[CV]  max_depth=30, max_features=sqrt, min_samples_leaf=2, min_samples_split=7, n_estimators=150, total=   0.5s\n",
            "[CV] max_depth=30, max_features=sqrt, min_samples_leaf=5, min_samples_split=2, n_estimators=10 \n",
            "[CV]  max_depth=30, max_features=sqrt, min_samples_leaf=5, min_samples_split=2, n_estimators=10, total=   0.1s\n",
            "[CV] max_depth=30, max_features=sqrt, min_samples_leaf=5, min_samples_split=2, n_estimators=10 \n",
            "[CV]  max_depth=30, max_features=sqrt, min_samples_leaf=5, min_samples_split=2, n_estimators=10, total=   0.1s\n",
            "[CV] max_depth=30, max_features=sqrt, min_samples_leaf=5, min_samples_split=2, n_estimators=10 \n",
            "[CV]  max_depth=30, max_features=sqrt, min_samples_leaf=5, min_samples_split=2, n_estimators=10, total=   0.1s\n",
            "[CV] max_depth=30, max_features=sqrt, min_samples_leaf=5, min_samples_split=2, n_estimators=10 \n",
            "[CV]  max_depth=30, max_features=sqrt, min_samples_leaf=5, min_samples_split=2, n_estimators=10, total=   0.1s\n",
            "[CV] max_depth=30, max_features=sqrt, min_samples_leaf=5, min_samples_split=2, n_estimators=10 \n",
            "[CV]  max_depth=30, max_features=sqrt, min_samples_leaf=5, min_samples_split=2, n_estimators=10, total=   0.1s\n",
            "[CV] max_depth=30, max_features=sqrt, min_samples_leaf=5, min_samples_split=2, n_estimators=100 \n",
            "[CV]  max_depth=30, max_features=sqrt, min_samples_leaf=5, min_samples_split=2, n_estimators=100, total=   0.3s\n",
            "[CV] max_depth=30, max_features=sqrt, min_samples_leaf=5, min_samples_split=2, n_estimators=100 \n",
            "[CV]  max_depth=30, max_features=sqrt, min_samples_leaf=5, min_samples_split=2, n_estimators=100, total=   0.4s\n",
            "[CV] max_depth=30, max_features=sqrt, min_samples_leaf=5, min_samples_split=2, n_estimators=100 \n",
            "[CV]  max_depth=30, max_features=sqrt, min_samples_leaf=5, min_samples_split=2, n_estimators=100, total=   0.3s\n",
            "[CV] max_depth=30, max_features=sqrt, min_samples_leaf=5, min_samples_split=2, n_estimators=100 \n",
            "[CV]  max_depth=30, max_features=sqrt, min_samples_leaf=5, min_samples_split=2, n_estimators=100, total=   0.3s\n",
            "[CV] max_depth=30, max_features=sqrt, min_samples_leaf=5, min_samples_split=2, n_estimators=100 \n",
            "[CV]  max_depth=30, max_features=sqrt, min_samples_leaf=5, min_samples_split=2, n_estimators=100, total=   0.3s\n",
            "[CV] max_depth=30, max_features=sqrt, min_samples_leaf=5, min_samples_split=2, n_estimators=150 \n",
            "[CV]  max_depth=30, max_features=sqrt, min_samples_leaf=5, min_samples_split=2, n_estimators=150, total=   0.5s\n",
            "[CV] max_depth=30, max_features=sqrt, min_samples_leaf=5, min_samples_split=2, n_estimators=150 \n",
            "[CV]  max_depth=30, max_features=sqrt, min_samples_leaf=5, min_samples_split=2, n_estimators=150, total=   0.5s\n",
            "[CV] max_depth=30, max_features=sqrt, min_samples_leaf=5, min_samples_split=2, n_estimators=150 \n",
            "[CV]  max_depth=30, max_features=sqrt, min_samples_leaf=5, min_samples_split=2, n_estimators=150, total=   0.5s\n",
            "[CV] max_depth=30, max_features=sqrt, min_samples_leaf=5, min_samples_split=2, n_estimators=150 \n",
            "[CV]  max_depth=30, max_features=sqrt, min_samples_leaf=5, min_samples_split=2, n_estimators=150, total=   0.5s\n",
            "[CV] max_depth=30, max_features=sqrt, min_samples_leaf=5, min_samples_split=2, n_estimators=150 \n",
            "[CV]  max_depth=30, max_features=sqrt, min_samples_leaf=5, min_samples_split=2, n_estimators=150, total=   0.5s\n",
            "[CV] max_depth=30, max_features=sqrt, min_samples_leaf=5, min_samples_split=5, n_estimators=10 \n",
            "[CV]  max_depth=30, max_features=sqrt, min_samples_leaf=5, min_samples_split=5, n_estimators=10, total=   0.1s\n",
            "[CV] max_depth=30, max_features=sqrt, min_samples_leaf=5, min_samples_split=5, n_estimators=10 \n",
            "[CV]  max_depth=30, max_features=sqrt, min_samples_leaf=5, min_samples_split=5, n_estimators=10, total=   0.1s\n",
            "[CV] max_depth=30, max_features=sqrt, min_samples_leaf=5, min_samples_split=5, n_estimators=10 \n",
            "[CV]  max_depth=30, max_features=sqrt, min_samples_leaf=5, min_samples_split=5, n_estimators=10, total=   0.1s\n",
            "[CV] max_depth=30, max_features=sqrt, min_samples_leaf=5, min_samples_split=5, n_estimators=10 \n",
            "[CV]  max_depth=30, max_features=sqrt, min_samples_leaf=5, min_samples_split=5, n_estimators=10, total=   0.1s\n",
            "[CV] max_depth=30, max_features=sqrt, min_samples_leaf=5, min_samples_split=5, n_estimators=10 \n",
            "[CV]  max_depth=30, max_features=sqrt, min_samples_leaf=5, min_samples_split=5, n_estimators=10, total=   0.1s\n",
            "[CV] max_depth=30, max_features=sqrt, min_samples_leaf=5, min_samples_split=5, n_estimators=100 \n",
            "[CV]  max_depth=30, max_features=sqrt, min_samples_leaf=5, min_samples_split=5, n_estimators=100, total=   0.3s\n",
            "[CV] max_depth=30, max_features=sqrt, min_samples_leaf=5, min_samples_split=5, n_estimators=100 \n",
            "[CV]  max_depth=30, max_features=sqrt, min_samples_leaf=5, min_samples_split=5, n_estimators=100, total=   0.3s\n",
            "[CV] max_depth=30, max_features=sqrt, min_samples_leaf=5, min_samples_split=5, n_estimators=100 \n",
            "[CV]  max_depth=30, max_features=sqrt, min_samples_leaf=5, min_samples_split=5, n_estimators=100, total=   0.4s\n",
            "[CV] max_depth=30, max_features=sqrt, min_samples_leaf=5, min_samples_split=5, n_estimators=100 \n",
            "[CV]  max_depth=30, max_features=sqrt, min_samples_leaf=5, min_samples_split=5, n_estimators=100, total=   0.3s\n",
            "[CV] max_depth=30, max_features=sqrt, min_samples_leaf=5, min_samples_split=5, n_estimators=100 \n",
            "[CV]  max_depth=30, max_features=sqrt, min_samples_leaf=5, min_samples_split=5, n_estimators=100, total=   0.3s\n",
            "[CV] max_depth=30, max_features=sqrt, min_samples_leaf=5, min_samples_split=5, n_estimators=150 \n",
            "[CV]  max_depth=30, max_features=sqrt, min_samples_leaf=5, min_samples_split=5, n_estimators=150, total=   0.5s\n",
            "[CV] max_depth=30, max_features=sqrt, min_samples_leaf=5, min_samples_split=5, n_estimators=150 \n",
            "[CV]  max_depth=30, max_features=sqrt, min_samples_leaf=5, min_samples_split=5, n_estimators=150, total=   0.5s\n",
            "[CV] max_depth=30, max_features=sqrt, min_samples_leaf=5, min_samples_split=5, n_estimators=150 \n",
            "[CV]  max_depth=30, max_features=sqrt, min_samples_leaf=5, min_samples_split=5, n_estimators=150, total=   0.6s\n",
            "[CV] max_depth=30, max_features=sqrt, min_samples_leaf=5, min_samples_split=5, n_estimators=150 \n",
            "[CV]  max_depth=30, max_features=sqrt, min_samples_leaf=5, min_samples_split=5, n_estimators=150, total=   0.5s\n",
            "[CV] max_depth=30, max_features=sqrt, min_samples_leaf=5, min_samples_split=5, n_estimators=150 \n",
            "[CV]  max_depth=30, max_features=sqrt, min_samples_leaf=5, min_samples_split=5, n_estimators=150, total=   0.5s\n",
            "[CV] max_depth=30, max_features=sqrt, min_samples_leaf=5, min_samples_split=7, n_estimators=10 \n",
            "[CV]  max_depth=30, max_features=sqrt, min_samples_leaf=5, min_samples_split=7, n_estimators=10, total=   0.1s\n",
            "[CV] max_depth=30, max_features=sqrt, min_samples_leaf=5, min_samples_split=7, n_estimators=10 \n",
            "[CV]  max_depth=30, max_features=sqrt, min_samples_leaf=5, min_samples_split=7, n_estimators=10, total=   0.1s\n",
            "[CV] max_depth=30, max_features=sqrt, min_samples_leaf=5, min_samples_split=7, n_estimators=10 \n",
            "[CV]  max_depth=30, max_features=sqrt, min_samples_leaf=5, min_samples_split=7, n_estimators=10, total=   0.1s\n",
            "[CV] max_depth=30, max_features=sqrt, min_samples_leaf=5, min_samples_split=7, n_estimators=10 \n",
            "[CV]  max_depth=30, max_features=sqrt, min_samples_leaf=5, min_samples_split=7, n_estimators=10, total=   0.1s\n",
            "[CV] max_depth=30, max_features=sqrt, min_samples_leaf=5, min_samples_split=7, n_estimators=10 \n",
            "[CV]  max_depth=30, max_features=sqrt, min_samples_leaf=5, min_samples_split=7, n_estimators=10, total=   0.1s\n",
            "[CV] max_depth=30, max_features=sqrt, min_samples_leaf=5, min_samples_split=7, n_estimators=100 \n",
            "[CV]  max_depth=30, max_features=sqrt, min_samples_leaf=5, min_samples_split=7, n_estimators=100, total=   0.3s\n",
            "[CV] max_depth=30, max_features=sqrt, min_samples_leaf=5, min_samples_split=7, n_estimators=100 \n",
            "[CV]  max_depth=30, max_features=sqrt, min_samples_leaf=5, min_samples_split=7, n_estimators=100, total=   0.3s\n",
            "[CV] max_depth=30, max_features=sqrt, min_samples_leaf=5, min_samples_split=7, n_estimators=100 \n",
            "[CV]  max_depth=30, max_features=sqrt, min_samples_leaf=5, min_samples_split=7, n_estimators=100, total=   0.3s\n",
            "[CV] max_depth=30, max_features=sqrt, min_samples_leaf=5, min_samples_split=7, n_estimators=100 \n",
            "[CV]  max_depth=30, max_features=sqrt, min_samples_leaf=5, min_samples_split=7, n_estimators=100, total=   0.3s\n",
            "[CV] max_depth=30, max_features=sqrt, min_samples_leaf=5, min_samples_split=7, n_estimators=100 \n",
            "[CV]  max_depth=30, max_features=sqrt, min_samples_leaf=5, min_samples_split=7, n_estimators=100, total=   0.3s\n",
            "[CV] max_depth=30, max_features=sqrt, min_samples_leaf=5, min_samples_split=7, n_estimators=150 \n",
            "[CV]  max_depth=30, max_features=sqrt, min_samples_leaf=5, min_samples_split=7, n_estimators=150, total=   0.5s\n",
            "[CV] max_depth=30, max_features=sqrt, min_samples_leaf=5, min_samples_split=7, n_estimators=150 \n",
            "[CV]  max_depth=30, max_features=sqrt, min_samples_leaf=5, min_samples_split=7, n_estimators=150, total=   0.5s\n",
            "[CV] max_depth=30, max_features=sqrt, min_samples_leaf=5, min_samples_split=7, n_estimators=150 \n",
            "[CV]  max_depth=30, max_features=sqrt, min_samples_leaf=5, min_samples_split=7, n_estimators=150, total=   0.5s\n",
            "[CV] max_depth=30, max_features=sqrt, min_samples_leaf=5, min_samples_split=7, n_estimators=150 \n",
            "[CV]  max_depth=30, max_features=sqrt, min_samples_leaf=5, min_samples_split=7, n_estimators=150, total=   0.5s\n",
            "[CV] max_depth=30, max_features=sqrt, min_samples_leaf=5, min_samples_split=7, n_estimators=150 \n",
            "[CV]  max_depth=30, max_features=sqrt, min_samples_leaf=5, min_samples_split=7, n_estimators=150, total=   0.5s\n",
            "[CV] max_depth=30, max_features=sqrt, min_samples_leaf=7, min_samples_split=2, n_estimators=10 \n",
            "[CV]  max_depth=30, max_features=sqrt, min_samples_leaf=7, min_samples_split=2, n_estimators=10, total=   0.1s\n",
            "[CV] max_depth=30, max_features=sqrt, min_samples_leaf=7, min_samples_split=2, n_estimators=10 \n",
            "[CV]  max_depth=30, max_features=sqrt, min_samples_leaf=7, min_samples_split=2, n_estimators=10, total=   0.1s\n",
            "[CV] max_depth=30, max_features=sqrt, min_samples_leaf=7, min_samples_split=2, n_estimators=10 \n",
            "[CV]  max_depth=30, max_features=sqrt, min_samples_leaf=7, min_samples_split=2, n_estimators=10, total=   0.1s\n",
            "[CV] max_depth=30, max_features=sqrt, min_samples_leaf=7, min_samples_split=2, n_estimators=10 \n",
            "[CV]  max_depth=30, max_features=sqrt, min_samples_leaf=7, min_samples_split=2, n_estimators=10, total=   0.1s\n",
            "[CV] max_depth=30, max_features=sqrt, min_samples_leaf=7, min_samples_split=2, n_estimators=10 \n",
            "[CV]  max_depth=30, max_features=sqrt, min_samples_leaf=7, min_samples_split=2, n_estimators=10, total=   0.1s\n",
            "[CV] max_depth=30, max_features=sqrt, min_samples_leaf=7, min_samples_split=2, n_estimators=100 \n",
            "[CV]  max_depth=30, max_features=sqrt, min_samples_leaf=7, min_samples_split=2, n_estimators=100, total=   0.3s\n",
            "[CV] max_depth=30, max_features=sqrt, min_samples_leaf=7, min_samples_split=2, n_estimators=100 \n",
            "[CV]  max_depth=30, max_features=sqrt, min_samples_leaf=7, min_samples_split=2, n_estimators=100, total=   0.3s\n",
            "[CV] max_depth=30, max_features=sqrt, min_samples_leaf=7, min_samples_split=2, n_estimators=100 \n",
            "[CV]  max_depth=30, max_features=sqrt, min_samples_leaf=7, min_samples_split=2, n_estimators=100, total=   0.3s\n",
            "[CV] max_depth=30, max_features=sqrt, min_samples_leaf=7, min_samples_split=2, n_estimators=100 \n",
            "[CV]  max_depth=30, max_features=sqrt, min_samples_leaf=7, min_samples_split=2, n_estimators=100, total=   0.4s\n",
            "[CV] max_depth=30, max_features=sqrt, min_samples_leaf=7, min_samples_split=2, n_estimators=100 \n",
            "[CV]  max_depth=30, max_features=sqrt, min_samples_leaf=7, min_samples_split=2, n_estimators=100, total=   0.3s\n",
            "[CV] max_depth=30, max_features=sqrt, min_samples_leaf=7, min_samples_split=2, n_estimators=150 \n",
            "[CV]  max_depth=30, max_features=sqrt, min_samples_leaf=7, min_samples_split=2, n_estimators=150, total=   0.5s\n",
            "[CV] max_depth=30, max_features=sqrt, min_samples_leaf=7, min_samples_split=2, n_estimators=150 \n",
            "[CV]  max_depth=30, max_features=sqrt, min_samples_leaf=7, min_samples_split=2, n_estimators=150, total=   0.5s\n",
            "[CV] max_depth=30, max_features=sqrt, min_samples_leaf=7, min_samples_split=2, n_estimators=150 \n",
            "[CV]  max_depth=30, max_features=sqrt, min_samples_leaf=7, min_samples_split=2, n_estimators=150, total=   0.5s\n",
            "[CV] max_depth=30, max_features=sqrt, min_samples_leaf=7, min_samples_split=2, n_estimators=150 \n",
            "[CV]  max_depth=30, max_features=sqrt, min_samples_leaf=7, min_samples_split=2, n_estimators=150, total=   0.5s\n",
            "[CV] max_depth=30, max_features=sqrt, min_samples_leaf=7, min_samples_split=2, n_estimators=150 \n",
            "[CV]  max_depth=30, max_features=sqrt, min_samples_leaf=7, min_samples_split=2, n_estimators=150, total=   0.5s\n",
            "[CV] max_depth=30, max_features=sqrt, min_samples_leaf=7, min_samples_split=5, n_estimators=10 \n",
            "[CV]  max_depth=30, max_features=sqrt, min_samples_leaf=7, min_samples_split=5, n_estimators=10, total=   0.1s\n",
            "[CV] max_depth=30, max_features=sqrt, min_samples_leaf=7, min_samples_split=5, n_estimators=10 \n",
            "[CV]  max_depth=30, max_features=sqrt, min_samples_leaf=7, min_samples_split=5, n_estimators=10, total=   0.2s\n",
            "[CV] max_depth=30, max_features=sqrt, min_samples_leaf=7, min_samples_split=5, n_estimators=10 \n",
            "[CV]  max_depth=30, max_features=sqrt, min_samples_leaf=7, min_samples_split=5, n_estimators=10, total=   0.2s\n",
            "[CV] max_depth=30, max_features=sqrt, min_samples_leaf=7, min_samples_split=5, n_estimators=10 \n",
            "[CV]  max_depth=30, max_features=sqrt, min_samples_leaf=7, min_samples_split=5, n_estimators=10, total=   0.1s\n",
            "[CV] max_depth=30, max_features=sqrt, min_samples_leaf=7, min_samples_split=5, n_estimators=10 \n",
            "[CV]  max_depth=30, max_features=sqrt, min_samples_leaf=7, min_samples_split=5, n_estimators=10, total=   0.1s\n",
            "[CV] max_depth=30, max_features=sqrt, min_samples_leaf=7, min_samples_split=5, n_estimators=100 \n",
            "[CV]  max_depth=30, max_features=sqrt, min_samples_leaf=7, min_samples_split=5, n_estimators=100, total=   0.3s\n",
            "[CV] max_depth=30, max_features=sqrt, min_samples_leaf=7, min_samples_split=5, n_estimators=100 \n",
            "[CV]  max_depth=30, max_features=sqrt, min_samples_leaf=7, min_samples_split=5, n_estimators=100, total=   0.3s\n",
            "[CV] max_depth=30, max_features=sqrt, min_samples_leaf=7, min_samples_split=5, n_estimators=100 \n",
            "[CV]  max_depth=30, max_features=sqrt, min_samples_leaf=7, min_samples_split=5, n_estimators=100, total=   0.3s\n",
            "[CV] max_depth=30, max_features=sqrt, min_samples_leaf=7, min_samples_split=5, n_estimators=100 \n",
            "[CV]  max_depth=30, max_features=sqrt, min_samples_leaf=7, min_samples_split=5, n_estimators=100, total=   0.3s\n",
            "[CV] max_depth=30, max_features=sqrt, min_samples_leaf=7, min_samples_split=5, n_estimators=100 \n",
            "[CV]  max_depth=30, max_features=sqrt, min_samples_leaf=7, min_samples_split=5, n_estimators=100, total=   0.3s\n",
            "[CV] max_depth=30, max_features=sqrt, min_samples_leaf=7, min_samples_split=5, n_estimators=150 \n",
            "[CV]  max_depth=30, max_features=sqrt, min_samples_leaf=7, min_samples_split=5, n_estimators=150, total=   0.5s\n",
            "[CV] max_depth=30, max_features=sqrt, min_samples_leaf=7, min_samples_split=5, n_estimators=150 \n",
            "[CV]  max_depth=30, max_features=sqrt, min_samples_leaf=7, min_samples_split=5, n_estimators=150, total=   0.5s\n",
            "[CV] max_depth=30, max_features=sqrt, min_samples_leaf=7, min_samples_split=5, n_estimators=150 \n",
            "[CV]  max_depth=30, max_features=sqrt, min_samples_leaf=7, min_samples_split=5, n_estimators=150, total=   0.5s\n",
            "[CV] max_depth=30, max_features=sqrt, min_samples_leaf=7, min_samples_split=5, n_estimators=150 \n",
            "[CV]  max_depth=30, max_features=sqrt, min_samples_leaf=7, min_samples_split=5, n_estimators=150, total=   0.5s\n",
            "[CV] max_depth=30, max_features=sqrt, min_samples_leaf=7, min_samples_split=5, n_estimators=150 \n",
            "[CV]  max_depth=30, max_features=sqrt, min_samples_leaf=7, min_samples_split=5, n_estimators=150, total=   0.5s\n",
            "[CV] max_depth=30, max_features=sqrt, min_samples_leaf=7, min_samples_split=7, n_estimators=10 \n",
            "[CV]  max_depth=30, max_features=sqrt, min_samples_leaf=7, min_samples_split=7, n_estimators=10, total=   0.1s\n",
            "[CV] max_depth=30, max_features=sqrt, min_samples_leaf=7, min_samples_split=7, n_estimators=10 \n",
            "[CV]  max_depth=30, max_features=sqrt, min_samples_leaf=7, min_samples_split=7, n_estimators=10, total=   0.1s\n",
            "[CV] max_depth=30, max_features=sqrt, min_samples_leaf=7, min_samples_split=7, n_estimators=10 \n",
            "[CV]  max_depth=30, max_features=sqrt, min_samples_leaf=7, min_samples_split=7, n_estimators=10, total=   0.1s\n",
            "[CV] max_depth=30, max_features=sqrt, min_samples_leaf=7, min_samples_split=7, n_estimators=10 \n",
            "[CV]  max_depth=30, max_features=sqrt, min_samples_leaf=7, min_samples_split=7, n_estimators=10, total=   0.1s\n",
            "[CV] max_depth=30, max_features=sqrt, min_samples_leaf=7, min_samples_split=7, n_estimators=10 \n",
            "[CV]  max_depth=30, max_features=sqrt, min_samples_leaf=7, min_samples_split=7, n_estimators=10, total=   0.1s\n",
            "[CV] max_depth=30, max_features=sqrt, min_samples_leaf=7, min_samples_split=7, n_estimators=100 \n",
            "[CV]  max_depth=30, max_features=sqrt, min_samples_leaf=7, min_samples_split=7, n_estimators=100, total=   0.4s\n",
            "[CV] max_depth=30, max_features=sqrt, min_samples_leaf=7, min_samples_split=7, n_estimators=100 \n",
            "[CV]  max_depth=30, max_features=sqrt, min_samples_leaf=7, min_samples_split=7, n_estimators=100, total=   0.3s\n",
            "[CV] max_depth=30, max_features=sqrt, min_samples_leaf=7, min_samples_split=7, n_estimators=100 \n",
            "[CV]  max_depth=30, max_features=sqrt, min_samples_leaf=7, min_samples_split=7, n_estimators=100, total=   0.3s\n",
            "[CV] max_depth=30, max_features=sqrt, min_samples_leaf=7, min_samples_split=7, n_estimators=100 \n",
            "[CV]  max_depth=30, max_features=sqrt, min_samples_leaf=7, min_samples_split=7, n_estimators=100, total=   0.3s\n",
            "[CV] max_depth=30, max_features=sqrt, min_samples_leaf=7, min_samples_split=7, n_estimators=100 \n",
            "[CV]  max_depth=30, max_features=sqrt, min_samples_leaf=7, min_samples_split=7, n_estimators=100, total=   0.3s\n",
            "[CV] max_depth=30, max_features=sqrt, min_samples_leaf=7, min_samples_split=7, n_estimators=150 \n",
            "[CV]  max_depth=30, max_features=sqrt, min_samples_leaf=7, min_samples_split=7, n_estimators=150, total=   0.5s\n",
            "[CV] max_depth=30, max_features=sqrt, min_samples_leaf=7, min_samples_split=7, n_estimators=150 \n",
            "[CV]  max_depth=30, max_features=sqrt, min_samples_leaf=7, min_samples_split=7, n_estimators=150, total=   0.5s\n",
            "[CV] max_depth=30, max_features=sqrt, min_samples_leaf=7, min_samples_split=7, n_estimators=150 \n",
            "[CV]  max_depth=30, max_features=sqrt, min_samples_leaf=7, min_samples_split=7, n_estimators=150, total=   0.5s\n",
            "[CV] max_depth=30, max_features=sqrt, min_samples_leaf=7, min_samples_split=7, n_estimators=150 \n",
            "[CV]  max_depth=30, max_features=sqrt, min_samples_leaf=7, min_samples_split=7, n_estimators=150, total=   0.5s\n",
            "[CV] max_depth=30, max_features=sqrt, min_samples_leaf=7, min_samples_split=7, n_estimators=150 \n",
            "[CV]  max_depth=30, max_features=sqrt, min_samples_leaf=7, min_samples_split=7, n_estimators=150, total=   0.5s\n",
            "[CV] max_depth=40, max_features=auto, min_samples_leaf=2, min_samples_split=2, n_estimators=10 \n",
            "[CV]  max_depth=40, max_features=auto, min_samples_leaf=2, min_samples_split=2, n_estimators=10, total=   0.1s\n",
            "[CV] max_depth=40, max_features=auto, min_samples_leaf=2, min_samples_split=2, n_estimators=10 \n",
            "[CV]  max_depth=40, max_features=auto, min_samples_leaf=2, min_samples_split=2, n_estimators=10, total=   0.1s\n",
            "[CV] max_depth=40, max_features=auto, min_samples_leaf=2, min_samples_split=2, n_estimators=10 \n",
            "[CV]  max_depth=40, max_features=auto, min_samples_leaf=2, min_samples_split=2, n_estimators=10, total=   0.1s\n",
            "[CV] max_depth=40, max_features=auto, min_samples_leaf=2, min_samples_split=2, n_estimators=10 \n",
            "[CV]  max_depth=40, max_features=auto, min_samples_leaf=2, min_samples_split=2, n_estimators=10, total=   0.1s\n",
            "[CV] max_depth=40, max_features=auto, min_samples_leaf=2, min_samples_split=2, n_estimators=10 \n",
            "[CV]  max_depth=40, max_features=auto, min_samples_leaf=2, min_samples_split=2, n_estimators=10, total=   0.1s\n",
            "[CV] max_depth=40, max_features=auto, min_samples_leaf=2, min_samples_split=2, n_estimators=100 \n",
            "[CV]  max_depth=40, max_features=auto, min_samples_leaf=2, min_samples_split=2, n_estimators=100, total=   0.3s\n",
            "[CV] max_depth=40, max_features=auto, min_samples_leaf=2, min_samples_split=2, n_estimators=100 \n",
            "[CV]  max_depth=40, max_features=auto, min_samples_leaf=2, min_samples_split=2, n_estimators=100, total=   0.3s\n",
            "[CV] max_depth=40, max_features=auto, min_samples_leaf=2, min_samples_split=2, n_estimators=100 \n",
            "[CV]  max_depth=40, max_features=auto, min_samples_leaf=2, min_samples_split=2, n_estimators=100, total=   0.3s\n",
            "[CV] max_depth=40, max_features=auto, min_samples_leaf=2, min_samples_split=2, n_estimators=100 \n",
            "[CV]  max_depth=40, max_features=auto, min_samples_leaf=2, min_samples_split=2, n_estimators=100, total=   0.4s\n",
            "[CV] max_depth=40, max_features=auto, min_samples_leaf=2, min_samples_split=2, n_estimators=100 \n",
            "[CV]  max_depth=40, max_features=auto, min_samples_leaf=2, min_samples_split=2, n_estimators=100, total=   0.3s\n",
            "[CV] max_depth=40, max_features=auto, min_samples_leaf=2, min_samples_split=2, n_estimators=150 \n",
            "[CV]  max_depth=40, max_features=auto, min_samples_leaf=2, min_samples_split=2, n_estimators=150, total=   0.5s\n",
            "[CV] max_depth=40, max_features=auto, min_samples_leaf=2, min_samples_split=2, n_estimators=150 \n",
            "[CV]  max_depth=40, max_features=auto, min_samples_leaf=2, min_samples_split=2, n_estimators=150, total=   0.5s\n",
            "[CV] max_depth=40, max_features=auto, min_samples_leaf=2, min_samples_split=2, n_estimators=150 \n",
            "[CV]  max_depth=40, max_features=auto, min_samples_leaf=2, min_samples_split=2, n_estimators=150, total=   0.5s\n",
            "[CV] max_depth=40, max_features=auto, min_samples_leaf=2, min_samples_split=2, n_estimators=150 \n",
            "[CV]  max_depth=40, max_features=auto, min_samples_leaf=2, min_samples_split=2, n_estimators=150, total=   0.5s\n",
            "[CV] max_depth=40, max_features=auto, min_samples_leaf=2, min_samples_split=2, n_estimators=150 \n",
            "[CV]  max_depth=40, max_features=auto, min_samples_leaf=2, min_samples_split=2, n_estimators=150, total=   0.5s\n",
            "[CV] max_depth=40, max_features=auto, min_samples_leaf=2, min_samples_split=5, n_estimators=10 \n",
            "[CV]  max_depth=40, max_features=auto, min_samples_leaf=2, min_samples_split=5, n_estimators=10, total=   0.1s\n",
            "[CV] max_depth=40, max_features=auto, min_samples_leaf=2, min_samples_split=5, n_estimators=10 \n",
            "[CV]  max_depth=40, max_features=auto, min_samples_leaf=2, min_samples_split=5, n_estimators=10, total=   0.1s\n",
            "[CV] max_depth=40, max_features=auto, min_samples_leaf=2, min_samples_split=5, n_estimators=10 \n",
            "[CV]  max_depth=40, max_features=auto, min_samples_leaf=2, min_samples_split=5, n_estimators=10, total=   0.1s\n",
            "[CV] max_depth=40, max_features=auto, min_samples_leaf=2, min_samples_split=5, n_estimators=10 \n",
            "[CV]  max_depth=40, max_features=auto, min_samples_leaf=2, min_samples_split=5, n_estimators=10, total=   0.1s\n",
            "[CV] max_depth=40, max_features=auto, min_samples_leaf=2, min_samples_split=5, n_estimators=10 \n",
            "[CV]  max_depth=40, max_features=auto, min_samples_leaf=2, min_samples_split=5, n_estimators=10, total=   0.1s\n",
            "[CV] max_depth=40, max_features=auto, min_samples_leaf=2, min_samples_split=5, n_estimators=100 \n",
            "[CV]  max_depth=40, max_features=auto, min_samples_leaf=2, min_samples_split=5, n_estimators=100, total=   0.4s\n",
            "[CV] max_depth=40, max_features=auto, min_samples_leaf=2, min_samples_split=5, n_estimators=100 \n",
            "[CV]  max_depth=40, max_features=auto, min_samples_leaf=2, min_samples_split=5, n_estimators=100, total=   0.3s\n",
            "[CV] max_depth=40, max_features=auto, min_samples_leaf=2, min_samples_split=5, n_estimators=100 \n",
            "[CV]  max_depth=40, max_features=auto, min_samples_leaf=2, min_samples_split=5, n_estimators=100, total=   0.3s\n",
            "[CV] max_depth=40, max_features=auto, min_samples_leaf=2, min_samples_split=5, n_estimators=100 \n",
            "[CV]  max_depth=40, max_features=auto, min_samples_leaf=2, min_samples_split=5, n_estimators=100, total=   0.3s\n",
            "[CV] max_depth=40, max_features=auto, min_samples_leaf=2, min_samples_split=5, n_estimators=100 \n",
            "[CV]  max_depth=40, max_features=auto, min_samples_leaf=2, min_samples_split=5, n_estimators=100, total=   0.3s\n",
            "[CV] max_depth=40, max_features=auto, min_samples_leaf=2, min_samples_split=5, n_estimators=150 \n",
            "[CV]  max_depth=40, max_features=auto, min_samples_leaf=2, min_samples_split=5, n_estimators=150, total=   0.5s\n",
            "[CV] max_depth=40, max_features=auto, min_samples_leaf=2, min_samples_split=5, n_estimators=150 \n",
            "[CV]  max_depth=40, max_features=auto, min_samples_leaf=2, min_samples_split=5, n_estimators=150, total=   0.5s\n",
            "[CV] max_depth=40, max_features=auto, min_samples_leaf=2, min_samples_split=5, n_estimators=150 \n",
            "[CV]  max_depth=40, max_features=auto, min_samples_leaf=2, min_samples_split=5, n_estimators=150, total=   0.5s\n",
            "[CV] max_depth=40, max_features=auto, min_samples_leaf=2, min_samples_split=5, n_estimators=150 \n",
            "[CV]  max_depth=40, max_features=auto, min_samples_leaf=2, min_samples_split=5, n_estimators=150, total=   0.5s\n",
            "[CV] max_depth=40, max_features=auto, min_samples_leaf=2, min_samples_split=5, n_estimators=150 \n",
            "[CV]  max_depth=40, max_features=auto, min_samples_leaf=2, min_samples_split=5, n_estimators=150, total=   0.5s\n",
            "[CV] max_depth=40, max_features=auto, min_samples_leaf=2, min_samples_split=7, n_estimators=10 \n",
            "[CV]  max_depth=40, max_features=auto, min_samples_leaf=2, min_samples_split=7, n_estimators=10, total=   0.1s\n",
            "[CV] max_depth=40, max_features=auto, min_samples_leaf=2, min_samples_split=7, n_estimators=10 \n",
            "[CV]  max_depth=40, max_features=auto, min_samples_leaf=2, min_samples_split=7, n_estimators=10, total=   0.1s\n",
            "[CV] max_depth=40, max_features=auto, min_samples_leaf=2, min_samples_split=7, n_estimators=10 \n",
            "[CV]  max_depth=40, max_features=auto, min_samples_leaf=2, min_samples_split=7, n_estimators=10, total=   0.1s\n",
            "[CV] max_depth=40, max_features=auto, min_samples_leaf=2, min_samples_split=7, n_estimators=10 \n",
            "[CV]  max_depth=40, max_features=auto, min_samples_leaf=2, min_samples_split=7, n_estimators=10, total=   0.1s\n",
            "[CV] max_depth=40, max_features=auto, min_samples_leaf=2, min_samples_split=7, n_estimators=10 \n",
            "[CV]  max_depth=40, max_features=auto, min_samples_leaf=2, min_samples_split=7, n_estimators=10, total=   0.1s\n",
            "[CV] max_depth=40, max_features=auto, min_samples_leaf=2, min_samples_split=7, n_estimators=100 \n",
            "[CV]  max_depth=40, max_features=auto, min_samples_leaf=2, min_samples_split=7, n_estimators=100, total=   0.4s\n",
            "[CV] max_depth=40, max_features=auto, min_samples_leaf=2, min_samples_split=7, n_estimators=100 \n",
            "[CV]  max_depth=40, max_features=auto, min_samples_leaf=2, min_samples_split=7, n_estimators=100, total=   0.3s\n",
            "[CV] max_depth=40, max_features=auto, min_samples_leaf=2, min_samples_split=7, n_estimators=100 \n",
            "[CV]  max_depth=40, max_features=auto, min_samples_leaf=2, min_samples_split=7, n_estimators=100, total=   0.3s\n",
            "[CV] max_depth=40, max_features=auto, min_samples_leaf=2, min_samples_split=7, n_estimators=100 \n",
            "[CV]  max_depth=40, max_features=auto, min_samples_leaf=2, min_samples_split=7, n_estimators=100, total=   0.4s\n",
            "[CV] max_depth=40, max_features=auto, min_samples_leaf=2, min_samples_split=7, n_estimators=100 \n",
            "[CV]  max_depth=40, max_features=auto, min_samples_leaf=2, min_samples_split=7, n_estimators=100, total=   0.3s\n",
            "[CV] max_depth=40, max_features=auto, min_samples_leaf=2, min_samples_split=7, n_estimators=150 \n",
            "[CV]  max_depth=40, max_features=auto, min_samples_leaf=2, min_samples_split=7, n_estimators=150, total=   0.5s\n",
            "[CV] max_depth=40, max_features=auto, min_samples_leaf=2, min_samples_split=7, n_estimators=150 \n",
            "[CV]  max_depth=40, max_features=auto, min_samples_leaf=2, min_samples_split=7, n_estimators=150, total=   0.5s\n",
            "[CV] max_depth=40, max_features=auto, min_samples_leaf=2, min_samples_split=7, n_estimators=150 \n",
            "[CV]  max_depth=40, max_features=auto, min_samples_leaf=2, min_samples_split=7, n_estimators=150, total=   0.5s\n",
            "[CV] max_depth=40, max_features=auto, min_samples_leaf=2, min_samples_split=7, n_estimators=150 \n",
            "[CV]  max_depth=40, max_features=auto, min_samples_leaf=2, min_samples_split=7, n_estimators=150, total=   0.5s\n",
            "[CV] max_depth=40, max_features=auto, min_samples_leaf=2, min_samples_split=7, n_estimators=150 \n",
            "[CV]  max_depth=40, max_features=auto, min_samples_leaf=2, min_samples_split=7, n_estimators=150, total=   0.5s\n",
            "[CV] max_depth=40, max_features=auto, min_samples_leaf=5, min_samples_split=2, n_estimators=10 \n",
            "[CV]  max_depth=40, max_features=auto, min_samples_leaf=5, min_samples_split=2, n_estimators=10, total=   0.1s\n",
            "[CV] max_depth=40, max_features=auto, min_samples_leaf=5, min_samples_split=2, n_estimators=10 \n",
            "[CV]  max_depth=40, max_features=auto, min_samples_leaf=5, min_samples_split=2, n_estimators=10, total=   0.1s\n",
            "[CV] max_depth=40, max_features=auto, min_samples_leaf=5, min_samples_split=2, n_estimators=10 \n",
            "[CV]  max_depth=40, max_features=auto, min_samples_leaf=5, min_samples_split=2, n_estimators=10, total=   0.1s\n",
            "[CV] max_depth=40, max_features=auto, min_samples_leaf=5, min_samples_split=2, n_estimators=10 \n",
            "[CV]  max_depth=40, max_features=auto, min_samples_leaf=5, min_samples_split=2, n_estimators=10, total=   0.1s\n",
            "[CV] max_depth=40, max_features=auto, min_samples_leaf=5, min_samples_split=2, n_estimators=10 \n",
            "[CV]  max_depth=40, max_features=auto, min_samples_leaf=5, min_samples_split=2, n_estimators=10, total=   0.1s\n",
            "[CV] max_depth=40, max_features=auto, min_samples_leaf=5, min_samples_split=2, n_estimators=100 \n",
            "[CV]  max_depth=40, max_features=auto, min_samples_leaf=5, min_samples_split=2, n_estimators=100, total=   0.3s\n",
            "[CV] max_depth=40, max_features=auto, min_samples_leaf=5, min_samples_split=2, n_estimators=100 \n",
            "[CV]  max_depth=40, max_features=auto, min_samples_leaf=5, min_samples_split=2, n_estimators=100, total=   0.3s\n",
            "[CV] max_depth=40, max_features=auto, min_samples_leaf=5, min_samples_split=2, n_estimators=100 \n",
            "[CV]  max_depth=40, max_features=auto, min_samples_leaf=5, min_samples_split=2, n_estimators=100, total=   0.3s\n",
            "[CV] max_depth=40, max_features=auto, min_samples_leaf=5, min_samples_split=2, n_estimators=100 \n",
            "[CV]  max_depth=40, max_features=auto, min_samples_leaf=5, min_samples_split=2, n_estimators=100, total=   0.3s\n",
            "[CV] max_depth=40, max_features=auto, min_samples_leaf=5, min_samples_split=2, n_estimators=100 \n",
            "[CV]  max_depth=40, max_features=auto, min_samples_leaf=5, min_samples_split=2, n_estimators=100, total=   0.4s\n",
            "[CV] max_depth=40, max_features=auto, min_samples_leaf=5, min_samples_split=2, n_estimators=150 \n",
            "[CV]  max_depth=40, max_features=auto, min_samples_leaf=5, min_samples_split=2, n_estimators=150, total=   0.5s\n",
            "[CV] max_depth=40, max_features=auto, min_samples_leaf=5, min_samples_split=2, n_estimators=150 \n",
            "[CV]  max_depth=40, max_features=auto, min_samples_leaf=5, min_samples_split=2, n_estimators=150, total=   0.5s\n",
            "[CV] max_depth=40, max_features=auto, min_samples_leaf=5, min_samples_split=2, n_estimators=150 \n",
            "[CV]  max_depth=40, max_features=auto, min_samples_leaf=5, min_samples_split=2, n_estimators=150, total=   0.5s\n",
            "[CV] max_depth=40, max_features=auto, min_samples_leaf=5, min_samples_split=2, n_estimators=150 \n",
            "[CV]  max_depth=40, max_features=auto, min_samples_leaf=5, min_samples_split=2, n_estimators=150, total=   0.5s\n",
            "[CV] max_depth=40, max_features=auto, min_samples_leaf=5, min_samples_split=2, n_estimators=150 \n",
            "[CV]  max_depth=40, max_features=auto, min_samples_leaf=5, min_samples_split=2, n_estimators=150, total=   0.5s\n",
            "[CV] max_depth=40, max_features=auto, min_samples_leaf=5, min_samples_split=5, n_estimators=10 \n",
            "[CV]  max_depth=40, max_features=auto, min_samples_leaf=5, min_samples_split=5, n_estimators=10, total=   0.1s\n",
            "[CV] max_depth=40, max_features=auto, min_samples_leaf=5, min_samples_split=5, n_estimators=10 \n",
            "[CV]  max_depth=40, max_features=auto, min_samples_leaf=5, min_samples_split=5, n_estimators=10, total=   0.1s\n",
            "[CV] max_depth=40, max_features=auto, min_samples_leaf=5, min_samples_split=5, n_estimators=10 \n",
            "[CV]  max_depth=40, max_features=auto, min_samples_leaf=5, min_samples_split=5, n_estimators=10, total=   0.1s\n",
            "[CV] max_depth=40, max_features=auto, min_samples_leaf=5, min_samples_split=5, n_estimators=10 \n",
            "[CV]  max_depth=40, max_features=auto, min_samples_leaf=5, min_samples_split=5, n_estimators=10, total=   0.1s\n",
            "[CV] max_depth=40, max_features=auto, min_samples_leaf=5, min_samples_split=5, n_estimators=10 \n",
            "[CV]  max_depth=40, max_features=auto, min_samples_leaf=5, min_samples_split=5, n_estimators=10, total=   0.1s\n",
            "[CV] max_depth=40, max_features=auto, min_samples_leaf=5, min_samples_split=5, n_estimators=100 \n",
            "[CV]  max_depth=40, max_features=auto, min_samples_leaf=5, min_samples_split=5, n_estimators=100, total=   0.3s\n",
            "[CV] max_depth=40, max_features=auto, min_samples_leaf=5, min_samples_split=5, n_estimators=100 \n",
            "[CV]  max_depth=40, max_features=auto, min_samples_leaf=5, min_samples_split=5, n_estimators=100, total=   0.3s\n",
            "[CV] max_depth=40, max_features=auto, min_samples_leaf=5, min_samples_split=5, n_estimators=100 \n",
            "[CV]  max_depth=40, max_features=auto, min_samples_leaf=5, min_samples_split=5, n_estimators=100, total=   0.3s\n",
            "[CV] max_depth=40, max_features=auto, min_samples_leaf=5, min_samples_split=5, n_estimators=100 \n",
            "[CV]  max_depth=40, max_features=auto, min_samples_leaf=5, min_samples_split=5, n_estimators=100, total=   0.3s\n",
            "[CV] max_depth=40, max_features=auto, min_samples_leaf=5, min_samples_split=5, n_estimators=100 \n",
            "[CV]  max_depth=40, max_features=auto, min_samples_leaf=5, min_samples_split=5, n_estimators=100, total=   0.3s\n",
            "[CV] max_depth=40, max_features=auto, min_samples_leaf=5, min_samples_split=5, n_estimators=150 \n",
            "[CV]  max_depth=40, max_features=auto, min_samples_leaf=5, min_samples_split=5, n_estimators=150, total=   0.5s\n",
            "[CV] max_depth=40, max_features=auto, min_samples_leaf=5, min_samples_split=5, n_estimators=150 \n",
            "[CV]  max_depth=40, max_features=auto, min_samples_leaf=5, min_samples_split=5, n_estimators=150, total=   0.5s\n",
            "[CV] max_depth=40, max_features=auto, min_samples_leaf=5, min_samples_split=5, n_estimators=150 \n",
            "[CV]  max_depth=40, max_features=auto, min_samples_leaf=5, min_samples_split=5, n_estimators=150, total=   0.5s\n",
            "[CV] max_depth=40, max_features=auto, min_samples_leaf=5, min_samples_split=5, n_estimators=150 \n",
            "[CV]  max_depth=40, max_features=auto, min_samples_leaf=5, min_samples_split=5, n_estimators=150, total=   0.5s\n",
            "[CV] max_depth=40, max_features=auto, min_samples_leaf=5, min_samples_split=5, n_estimators=150 \n",
            "[CV]  max_depth=40, max_features=auto, min_samples_leaf=5, min_samples_split=5, n_estimators=150, total=   0.5s\n",
            "[CV] max_depth=40, max_features=auto, min_samples_leaf=5, min_samples_split=7, n_estimators=10 \n",
            "[CV]  max_depth=40, max_features=auto, min_samples_leaf=5, min_samples_split=7, n_estimators=10, total=   0.1s\n",
            "[CV] max_depth=40, max_features=auto, min_samples_leaf=5, min_samples_split=7, n_estimators=10 \n",
            "[CV]  max_depth=40, max_features=auto, min_samples_leaf=5, min_samples_split=7, n_estimators=10, total=   0.1s\n",
            "[CV] max_depth=40, max_features=auto, min_samples_leaf=5, min_samples_split=7, n_estimators=10 \n",
            "[CV]  max_depth=40, max_features=auto, min_samples_leaf=5, min_samples_split=7, n_estimators=10, total=   0.1s\n",
            "[CV] max_depth=40, max_features=auto, min_samples_leaf=5, min_samples_split=7, n_estimators=10 \n",
            "[CV]  max_depth=40, max_features=auto, min_samples_leaf=5, min_samples_split=7, n_estimators=10, total=   0.1s\n",
            "[CV] max_depth=40, max_features=auto, min_samples_leaf=5, min_samples_split=7, n_estimators=10 \n",
            "[CV]  max_depth=40, max_features=auto, min_samples_leaf=5, min_samples_split=7, n_estimators=10, total=   0.1s\n",
            "[CV] max_depth=40, max_features=auto, min_samples_leaf=5, min_samples_split=7, n_estimators=100 \n",
            "[CV]  max_depth=40, max_features=auto, min_samples_leaf=5, min_samples_split=7, n_estimators=100, total=   0.3s\n",
            "[CV] max_depth=40, max_features=auto, min_samples_leaf=5, min_samples_split=7, n_estimators=100 \n",
            "[CV]  max_depth=40, max_features=auto, min_samples_leaf=5, min_samples_split=7, n_estimators=100, total=   0.3s\n",
            "[CV] max_depth=40, max_features=auto, min_samples_leaf=5, min_samples_split=7, n_estimators=100 \n",
            "[CV]  max_depth=40, max_features=auto, min_samples_leaf=5, min_samples_split=7, n_estimators=100, total=   0.3s\n",
            "[CV] max_depth=40, max_features=auto, min_samples_leaf=5, min_samples_split=7, n_estimators=100 \n",
            "[CV]  max_depth=40, max_features=auto, min_samples_leaf=5, min_samples_split=7, n_estimators=100, total=   0.3s\n",
            "[CV] max_depth=40, max_features=auto, min_samples_leaf=5, min_samples_split=7, n_estimators=100 \n",
            "[CV]  max_depth=40, max_features=auto, min_samples_leaf=5, min_samples_split=7, n_estimators=100, total=   0.3s\n",
            "[CV] max_depth=40, max_features=auto, min_samples_leaf=5, min_samples_split=7, n_estimators=150 \n",
            "[CV]  max_depth=40, max_features=auto, min_samples_leaf=5, min_samples_split=7, n_estimators=150, total=   0.5s\n",
            "[CV] max_depth=40, max_features=auto, min_samples_leaf=5, min_samples_split=7, n_estimators=150 \n",
            "[CV]  max_depth=40, max_features=auto, min_samples_leaf=5, min_samples_split=7, n_estimators=150, total=   0.5s\n",
            "[CV] max_depth=40, max_features=auto, min_samples_leaf=5, min_samples_split=7, n_estimators=150 \n",
            "[CV]  max_depth=40, max_features=auto, min_samples_leaf=5, min_samples_split=7, n_estimators=150, total=   0.5s\n",
            "[CV] max_depth=40, max_features=auto, min_samples_leaf=5, min_samples_split=7, n_estimators=150 \n",
            "[CV]  max_depth=40, max_features=auto, min_samples_leaf=5, min_samples_split=7, n_estimators=150, total=   0.5s\n",
            "[CV] max_depth=40, max_features=auto, min_samples_leaf=5, min_samples_split=7, n_estimators=150 \n",
            "[CV]  max_depth=40, max_features=auto, min_samples_leaf=5, min_samples_split=7, n_estimators=150, total=   0.5s\n",
            "[CV] max_depth=40, max_features=auto, min_samples_leaf=7, min_samples_split=2, n_estimators=10 \n",
            "[CV]  max_depth=40, max_features=auto, min_samples_leaf=7, min_samples_split=2, n_estimators=10, total=   0.1s\n",
            "[CV] max_depth=40, max_features=auto, min_samples_leaf=7, min_samples_split=2, n_estimators=10 \n",
            "[CV]  max_depth=40, max_features=auto, min_samples_leaf=7, min_samples_split=2, n_estimators=10, total=   0.1s\n",
            "[CV] max_depth=40, max_features=auto, min_samples_leaf=7, min_samples_split=2, n_estimators=10 \n",
            "[CV]  max_depth=40, max_features=auto, min_samples_leaf=7, min_samples_split=2, n_estimators=10, total=   0.1s\n",
            "[CV] max_depth=40, max_features=auto, min_samples_leaf=7, min_samples_split=2, n_estimators=10 \n",
            "[CV]  max_depth=40, max_features=auto, min_samples_leaf=7, min_samples_split=2, n_estimators=10, total=   0.1s\n",
            "[CV] max_depth=40, max_features=auto, min_samples_leaf=7, min_samples_split=2, n_estimators=10 \n",
            "[CV]  max_depth=40, max_features=auto, min_samples_leaf=7, min_samples_split=2, n_estimators=10, total=   0.1s\n",
            "[CV] max_depth=40, max_features=auto, min_samples_leaf=7, min_samples_split=2, n_estimators=100 \n",
            "[CV]  max_depth=40, max_features=auto, min_samples_leaf=7, min_samples_split=2, n_estimators=100, total=   0.3s\n",
            "[CV] max_depth=40, max_features=auto, min_samples_leaf=7, min_samples_split=2, n_estimators=100 \n",
            "[CV]  max_depth=40, max_features=auto, min_samples_leaf=7, min_samples_split=2, n_estimators=100, total=   0.4s\n",
            "[CV] max_depth=40, max_features=auto, min_samples_leaf=7, min_samples_split=2, n_estimators=100 \n",
            "[CV]  max_depth=40, max_features=auto, min_samples_leaf=7, min_samples_split=2, n_estimators=100, total=   0.3s\n",
            "[CV] max_depth=40, max_features=auto, min_samples_leaf=7, min_samples_split=2, n_estimators=100 \n",
            "[CV]  max_depth=40, max_features=auto, min_samples_leaf=7, min_samples_split=2, n_estimators=100, total=   0.3s\n",
            "[CV] max_depth=40, max_features=auto, min_samples_leaf=7, min_samples_split=2, n_estimators=100 \n",
            "[CV]  max_depth=40, max_features=auto, min_samples_leaf=7, min_samples_split=2, n_estimators=100, total=   0.3s\n",
            "[CV] max_depth=40, max_features=auto, min_samples_leaf=7, min_samples_split=2, n_estimators=150 \n",
            "[CV]  max_depth=40, max_features=auto, min_samples_leaf=7, min_samples_split=2, n_estimators=150, total=   0.5s\n",
            "[CV] max_depth=40, max_features=auto, min_samples_leaf=7, min_samples_split=2, n_estimators=150 \n",
            "[CV]  max_depth=40, max_features=auto, min_samples_leaf=7, min_samples_split=2, n_estimators=150, total=   0.5s\n",
            "[CV] max_depth=40, max_features=auto, min_samples_leaf=7, min_samples_split=2, n_estimators=150 \n",
            "[CV]  max_depth=40, max_features=auto, min_samples_leaf=7, min_samples_split=2, n_estimators=150, total=   0.5s\n",
            "[CV] max_depth=40, max_features=auto, min_samples_leaf=7, min_samples_split=2, n_estimators=150 \n",
            "[CV]  max_depth=40, max_features=auto, min_samples_leaf=7, min_samples_split=2, n_estimators=150, total=   0.5s\n",
            "[CV] max_depth=40, max_features=auto, min_samples_leaf=7, min_samples_split=2, n_estimators=150 \n",
            "[CV]  max_depth=40, max_features=auto, min_samples_leaf=7, min_samples_split=2, n_estimators=150, total=   0.5s\n",
            "[CV] max_depth=40, max_features=auto, min_samples_leaf=7, min_samples_split=5, n_estimators=10 \n",
            "[CV]  max_depth=40, max_features=auto, min_samples_leaf=7, min_samples_split=5, n_estimators=10, total=   0.1s\n",
            "[CV] max_depth=40, max_features=auto, min_samples_leaf=7, min_samples_split=5, n_estimators=10 \n",
            "[CV]  max_depth=40, max_features=auto, min_samples_leaf=7, min_samples_split=5, n_estimators=10, total=   0.1s\n",
            "[CV] max_depth=40, max_features=auto, min_samples_leaf=7, min_samples_split=5, n_estimators=10 \n",
            "[CV]  max_depth=40, max_features=auto, min_samples_leaf=7, min_samples_split=5, n_estimators=10, total=   0.1s\n",
            "[CV] max_depth=40, max_features=auto, min_samples_leaf=7, min_samples_split=5, n_estimators=10 \n",
            "[CV]  max_depth=40, max_features=auto, min_samples_leaf=7, min_samples_split=5, n_estimators=10, total=   0.1s\n",
            "[CV] max_depth=40, max_features=auto, min_samples_leaf=7, min_samples_split=5, n_estimators=10 \n",
            "[CV]  max_depth=40, max_features=auto, min_samples_leaf=7, min_samples_split=5, n_estimators=10, total=   0.1s\n",
            "[CV] max_depth=40, max_features=auto, min_samples_leaf=7, min_samples_split=5, n_estimators=100 \n",
            "[CV]  max_depth=40, max_features=auto, min_samples_leaf=7, min_samples_split=5, n_estimators=100, total=   0.3s\n",
            "[CV] max_depth=40, max_features=auto, min_samples_leaf=7, min_samples_split=5, n_estimators=100 \n",
            "[CV]  max_depth=40, max_features=auto, min_samples_leaf=7, min_samples_split=5, n_estimators=100, total=   0.4s\n",
            "[CV] max_depth=40, max_features=auto, min_samples_leaf=7, min_samples_split=5, n_estimators=100 \n",
            "[CV]  max_depth=40, max_features=auto, min_samples_leaf=7, min_samples_split=5, n_estimators=100, total=   0.3s\n",
            "[CV] max_depth=40, max_features=auto, min_samples_leaf=7, min_samples_split=5, n_estimators=100 \n",
            "[CV]  max_depth=40, max_features=auto, min_samples_leaf=7, min_samples_split=5, n_estimators=100, total=   0.3s\n",
            "[CV] max_depth=40, max_features=auto, min_samples_leaf=7, min_samples_split=5, n_estimators=100 \n",
            "[CV]  max_depth=40, max_features=auto, min_samples_leaf=7, min_samples_split=5, n_estimators=100, total=   0.3s\n",
            "[CV] max_depth=40, max_features=auto, min_samples_leaf=7, min_samples_split=5, n_estimators=150 \n",
            "[CV]  max_depth=40, max_features=auto, min_samples_leaf=7, min_samples_split=5, n_estimators=150, total=   0.5s\n",
            "[CV] max_depth=40, max_features=auto, min_samples_leaf=7, min_samples_split=5, n_estimators=150 \n",
            "[CV]  max_depth=40, max_features=auto, min_samples_leaf=7, min_samples_split=5, n_estimators=150, total=   0.5s\n",
            "[CV] max_depth=40, max_features=auto, min_samples_leaf=7, min_samples_split=5, n_estimators=150 \n",
            "[CV]  max_depth=40, max_features=auto, min_samples_leaf=7, min_samples_split=5, n_estimators=150, total=   0.5s\n",
            "[CV] max_depth=40, max_features=auto, min_samples_leaf=7, min_samples_split=5, n_estimators=150 \n",
            "[CV]  max_depth=40, max_features=auto, min_samples_leaf=7, min_samples_split=5, n_estimators=150, total=   0.5s\n",
            "[CV] max_depth=40, max_features=auto, min_samples_leaf=7, min_samples_split=5, n_estimators=150 \n",
            "[CV]  max_depth=40, max_features=auto, min_samples_leaf=7, min_samples_split=5, n_estimators=150, total=   0.5s\n",
            "[CV] max_depth=40, max_features=auto, min_samples_leaf=7, min_samples_split=7, n_estimators=10 \n",
            "[CV]  max_depth=40, max_features=auto, min_samples_leaf=7, min_samples_split=7, n_estimators=10, total=   0.1s\n",
            "[CV] max_depth=40, max_features=auto, min_samples_leaf=7, min_samples_split=7, n_estimators=10 \n",
            "[CV]  max_depth=40, max_features=auto, min_samples_leaf=7, min_samples_split=7, n_estimators=10, total=   0.1s\n",
            "[CV] max_depth=40, max_features=auto, min_samples_leaf=7, min_samples_split=7, n_estimators=10 \n",
            "[CV]  max_depth=40, max_features=auto, min_samples_leaf=7, min_samples_split=7, n_estimators=10, total=   0.1s\n",
            "[CV] max_depth=40, max_features=auto, min_samples_leaf=7, min_samples_split=7, n_estimators=10 \n",
            "[CV]  max_depth=40, max_features=auto, min_samples_leaf=7, min_samples_split=7, n_estimators=10, total=   0.1s\n",
            "[CV] max_depth=40, max_features=auto, min_samples_leaf=7, min_samples_split=7, n_estimators=10 \n",
            "[CV]  max_depth=40, max_features=auto, min_samples_leaf=7, min_samples_split=7, n_estimators=10, total=   0.1s\n",
            "[CV] max_depth=40, max_features=auto, min_samples_leaf=7, min_samples_split=7, n_estimators=100 \n",
            "[CV]  max_depth=40, max_features=auto, min_samples_leaf=7, min_samples_split=7, n_estimators=100, total=   0.3s\n",
            "[CV] max_depth=40, max_features=auto, min_samples_leaf=7, min_samples_split=7, n_estimators=100 \n",
            "[CV]  max_depth=40, max_features=auto, min_samples_leaf=7, min_samples_split=7, n_estimators=100, total=   0.3s\n",
            "[CV] max_depth=40, max_features=auto, min_samples_leaf=7, min_samples_split=7, n_estimators=100 \n",
            "[CV]  max_depth=40, max_features=auto, min_samples_leaf=7, min_samples_split=7, n_estimators=100, total=   0.3s\n",
            "[CV] max_depth=40, max_features=auto, min_samples_leaf=7, min_samples_split=7, n_estimators=100 \n",
            "[CV]  max_depth=40, max_features=auto, min_samples_leaf=7, min_samples_split=7, n_estimators=100, total=   0.3s\n",
            "[CV] max_depth=40, max_features=auto, min_samples_leaf=7, min_samples_split=7, n_estimators=100 \n",
            "[CV]  max_depth=40, max_features=auto, min_samples_leaf=7, min_samples_split=7, n_estimators=100, total=   0.3s\n",
            "[CV] max_depth=40, max_features=auto, min_samples_leaf=7, min_samples_split=7, n_estimators=150 \n",
            "[CV]  max_depth=40, max_features=auto, min_samples_leaf=7, min_samples_split=7, n_estimators=150, total=   0.5s\n",
            "[CV] max_depth=40, max_features=auto, min_samples_leaf=7, min_samples_split=7, n_estimators=150 \n",
            "[CV]  max_depth=40, max_features=auto, min_samples_leaf=7, min_samples_split=7, n_estimators=150, total=   0.5s\n",
            "[CV] max_depth=40, max_features=auto, min_samples_leaf=7, min_samples_split=7, n_estimators=150 \n",
            "[CV]  max_depth=40, max_features=auto, min_samples_leaf=7, min_samples_split=7, n_estimators=150, total=   0.5s\n",
            "[CV] max_depth=40, max_features=auto, min_samples_leaf=7, min_samples_split=7, n_estimators=150 \n",
            "[CV]  max_depth=40, max_features=auto, min_samples_leaf=7, min_samples_split=7, n_estimators=150, total=   0.5s\n",
            "[CV] max_depth=40, max_features=auto, min_samples_leaf=7, min_samples_split=7, n_estimators=150 \n",
            "[CV]  max_depth=40, max_features=auto, min_samples_leaf=7, min_samples_split=7, n_estimators=150, total=   0.5s\n",
            "[CV] max_depth=40, max_features=sqrt, min_samples_leaf=2, min_samples_split=2, n_estimators=10 \n",
            "[CV]  max_depth=40, max_features=sqrt, min_samples_leaf=2, min_samples_split=2, n_estimators=10, total=   0.1s\n",
            "[CV] max_depth=40, max_features=sqrt, min_samples_leaf=2, min_samples_split=2, n_estimators=10 \n",
            "[CV]  max_depth=40, max_features=sqrt, min_samples_leaf=2, min_samples_split=2, n_estimators=10, total=   0.1s\n",
            "[CV] max_depth=40, max_features=sqrt, min_samples_leaf=2, min_samples_split=2, n_estimators=10 \n",
            "[CV]  max_depth=40, max_features=sqrt, min_samples_leaf=2, min_samples_split=2, n_estimators=10, total=   0.1s\n",
            "[CV] max_depth=40, max_features=sqrt, min_samples_leaf=2, min_samples_split=2, n_estimators=10 \n",
            "[CV]  max_depth=40, max_features=sqrt, min_samples_leaf=2, min_samples_split=2, n_estimators=10, total=   0.1s\n",
            "[CV] max_depth=40, max_features=sqrt, min_samples_leaf=2, min_samples_split=2, n_estimators=10 \n",
            "[CV]  max_depth=40, max_features=sqrt, min_samples_leaf=2, min_samples_split=2, n_estimators=10, total=   0.1s\n",
            "[CV] max_depth=40, max_features=sqrt, min_samples_leaf=2, min_samples_split=2, n_estimators=100 \n",
            "[CV]  max_depth=40, max_features=sqrt, min_samples_leaf=2, min_samples_split=2, n_estimators=100, total=   0.4s\n",
            "[CV] max_depth=40, max_features=sqrt, min_samples_leaf=2, min_samples_split=2, n_estimators=100 \n",
            "[CV]  max_depth=40, max_features=sqrt, min_samples_leaf=2, min_samples_split=2, n_estimators=100, total=   0.3s\n",
            "[CV] max_depth=40, max_features=sqrt, min_samples_leaf=2, min_samples_split=2, n_estimators=100 \n",
            "[CV]  max_depth=40, max_features=sqrt, min_samples_leaf=2, min_samples_split=2, n_estimators=100, total=   0.3s\n",
            "[CV] max_depth=40, max_features=sqrt, min_samples_leaf=2, min_samples_split=2, n_estimators=100 \n",
            "[CV]  max_depth=40, max_features=sqrt, min_samples_leaf=2, min_samples_split=2, n_estimators=100, total=   0.4s\n",
            "[CV] max_depth=40, max_features=sqrt, min_samples_leaf=2, min_samples_split=2, n_estimators=100 \n",
            "[CV]  max_depth=40, max_features=sqrt, min_samples_leaf=2, min_samples_split=2, n_estimators=100, total=   0.4s\n",
            "[CV] max_depth=40, max_features=sqrt, min_samples_leaf=2, min_samples_split=2, n_estimators=150 \n",
            "[CV]  max_depth=40, max_features=sqrt, min_samples_leaf=2, min_samples_split=2, n_estimators=150, total=   0.5s\n",
            "[CV] max_depth=40, max_features=sqrt, min_samples_leaf=2, min_samples_split=2, n_estimators=150 \n",
            "[CV]  max_depth=40, max_features=sqrt, min_samples_leaf=2, min_samples_split=2, n_estimators=150, total=   0.5s\n",
            "[CV] max_depth=40, max_features=sqrt, min_samples_leaf=2, min_samples_split=2, n_estimators=150 \n",
            "[CV]  max_depth=40, max_features=sqrt, min_samples_leaf=2, min_samples_split=2, n_estimators=150, total=   0.5s\n",
            "[CV] max_depth=40, max_features=sqrt, min_samples_leaf=2, min_samples_split=2, n_estimators=150 \n",
            "[CV]  max_depth=40, max_features=sqrt, min_samples_leaf=2, min_samples_split=2, n_estimators=150, total=   0.5s\n",
            "[CV] max_depth=40, max_features=sqrt, min_samples_leaf=2, min_samples_split=2, n_estimators=150 \n",
            "[CV]  max_depth=40, max_features=sqrt, min_samples_leaf=2, min_samples_split=2, n_estimators=150, total=   0.5s\n",
            "[CV] max_depth=40, max_features=sqrt, min_samples_leaf=2, min_samples_split=5, n_estimators=10 \n",
            "[CV]  max_depth=40, max_features=sqrt, min_samples_leaf=2, min_samples_split=5, n_estimators=10, total=   0.2s\n",
            "[CV] max_depth=40, max_features=sqrt, min_samples_leaf=2, min_samples_split=5, n_estimators=10 \n",
            "[CV]  max_depth=40, max_features=sqrt, min_samples_leaf=2, min_samples_split=5, n_estimators=10, total=   0.1s\n",
            "[CV] max_depth=40, max_features=sqrt, min_samples_leaf=2, min_samples_split=5, n_estimators=10 \n",
            "[CV]  max_depth=40, max_features=sqrt, min_samples_leaf=2, min_samples_split=5, n_estimators=10, total=   0.1s\n",
            "[CV] max_depth=40, max_features=sqrt, min_samples_leaf=2, min_samples_split=5, n_estimators=10 \n",
            "[CV]  max_depth=40, max_features=sqrt, min_samples_leaf=2, min_samples_split=5, n_estimators=10, total=   0.1s\n",
            "[CV] max_depth=40, max_features=sqrt, min_samples_leaf=2, min_samples_split=5, n_estimators=10 \n",
            "[CV]  max_depth=40, max_features=sqrt, min_samples_leaf=2, min_samples_split=5, n_estimators=10, total=   0.1s\n",
            "[CV] max_depth=40, max_features=sqrt, min_samples_leaf=2, min_samples_split=5, n_estimators=100 \n",
            "[CV]  max_depth=40, max_features=sqrt, min_samples_leaf=2, min_samples_split=5, n_estimators=100, total=   0.3s\n",
            "[CV] max_depth=40, max_features=sqrt, min_samples_leaf=2, min_samples_split=5, n_estimators=100 \n",
            "[CV]  max_depth=40, max_features=sqrt, min_samples_leaf=2, min_samples_split=5, n_estimators=100, total=   0.3s\n",
            "[CV] max_depth=40, max_features=sqrt, min_samples_leaf=2, min_samples_split=5, n_estimators=100 \n",
            "[CV]  max_depth=40, max_features=sqrt, min_samples_leaf=2, min_samples_split=5, n_estimators=100, total=   0.3s\n",
            "[CV] max_depth=40, max_features=sqrt, min_samples_leaf=2, min_samples_split=5, n_estimators=100 \n",
            "[CV]  max_depth=40, max_features=sqrt, min_samples_leaf=2, min_samples_split=5, n_estimators=100, total=   0.4s\n",
            "[CV] max_depth=40, max_features=sqrt, min_samples_leaf=2, min_samples_split=5, n_estimators=100 \n",
            "[CV]  max_depth=40, max_features=sqrt, min_samples_leaf=2, min_samples_split=5, n_estimators=100, total=   0.4s\n",
            "[CV] max_depth=40, max_features=sqrt, min_samples_leaf=2, min_samples_split=5, n_estimators=150 \n",
            "[CV]  max_depth=40, max_features=sqrt, min_samples_leaf=2, min_samples_split=5, n_estimators=150, total=   0.5s\n",
            "[CV] max_depth=40, max_features=sqrt, min_samples_leaf=2, min_samples_split=5, n_estimators=150 \n",
            "[CV]  max_depth=40, max_features=sqrt, min_samples_leaf=2, min_samples_split=5, n_estimators=150, total=   0.5s\n",
            "[CV] max_depth=40, max_features=sqrt, min_samples_leaf=2, min_samples_split=5, n_estimators=150 \n",
            "[CV]  max_depth=40, max_features=sqrt, min_samples_leaf=2, min_samples_split=5, n_estimators=150, total=   0.5s\n",
            "[CV] max_depth=40, max_features=sqrt, min_samples_leaf=2, min_samples_split=5, n_estimators=150 \n",
            "[CV]  max_depth=40, max_features=sqrt, min_samples_leaf=2, min_samples_split=5, n_estimators=150, total=   0.5s\n",
            "[CV] max_depth=40, max_features=sqrt, min_samples_leaf=2, min_samples_split=5, n_estimators=150 \n",
            "[CV]  max_depth=40, max_features=sqrt, min_samples_leaf=2, min_samples_split=5, n_estimators=150, total=   0.5s\n",
            "[CV] max_depth=40, max_features=sqrt, min_samples_leaf=2, min_samples_split=7, n_estimators=10 \n",
            "[CV]  max_depth=40, max_features=sqrt, min_samples_leaf=2, min_samples_split=7, n_estimators=10, total=   0.2s\n",
            "[CV] max_depth=40, max_features=sqrt, min_samples_leaf=2, min_samples_split=7, n_estimators=10 \n",
            "[CV]  max_depth=40, max_features=sqrt, min_samples_leaf=2, min_samples_split=7, n_estimators=10, total=   0.2s\n",
            "[CV] max_depth=40, max_features=sqrt, min_samples_leaf=2, min_samples_split=7, n_estimators=10 \n",
            "[CV]  max_depth=40, max_features=sqrt, min_samples_leaf=2, min_samples_split=7, n_estimators=10, total=   0.1s\n",
            "[CV] max_depth=40, max_features=sqrt, min_samples_leaf=2, min_samples_split=7, n_estimators=10 \n",
            "[CV]  max_depth=40, max_features=sqrt, min_samples_leaf=2, min_samples_split=7, n_estimators=10, total=   0.1s\n",
            "[CV] max_depth=40, max_features=sqrt, min_samples_leaf=2, min_samples_split=7, n_estimators=10 \n",
            "[CV]  max_depth=40, max_features=sqrt, min_samples_leaf=2, min_samples_split=7, n_estimators=10, total=   0.1s\n",
            "[CV] max_depth=40, max_features=sqrt, min_samples_leaf=2, min_samples_split=7, n_estimators=100 \n",
            "[CV]  max_depth=40, max_features=sqrt, min_samples_leaf=2, min_samples_split=7, n_estimators=100, total=   0.4s\n",
            "[CV] max_depth=40, max_features=sqrt, min_samples_leaf=2, min_samples_split=7, n_estimators=100 \n",
            "[CV]  max_depth=40, max_features=sqrt, min_samples_leaf=2, min_samples_split=7, n_estimators=100, total=   0.4s\n",
            "[CV] max_depth=40, max_features=sqrt, min_samples_leaf=2, min_samples_split=7, n_estimators=100 \n",
            "[CV]  max_depth=40, max_features=sqrt, min_samples_leaf=2, min_samples_split=7, n_estimators=100, total=   0.3s\n",
            "[CV] max_depth=40, max_features=sqrt, min_samples_leaf=2, min_samples_split=7, n_estimators=100 \n",
            "[CV]  max_depth=40, max_features=sqrt, min_samples_leaf=2, min_samples_split=7, n_estimators=100, total=   0.4s\n",
            "[CV] max_depth=40, max_features=sqrt, min_samples_leaf=2, min_samples_split=7, n_estimators=100 \n",
            "[CV]  max_depth=40, max_features=sqrt, min_samples_leaf=2, min_samples_split=7, n_estimators=100, total=   0.4s\n",
            "[CV] max_depth=40, max_features=sqrt, min_samples_leaf=2, min_samples_split=7, n_estimators=150 \n",
            "[CV]  max_depth=40, max_features=sqrt, min_samples_leaf=2, min_samples_split=7, n_estimators=150, total=   0.5s\n",
            "[CV] max_depth=40, max_features=sqrt, min_samples_leaf=2, min_samples_split=7, n_estimators=150 \n",
            "[CV]  max_depth=40, max_features=sqrt, min_samples_leaf=2, min_samples_split=7, n_estimators=150, total=   0.5s\n",
            "[CV] max_depth=40, max_features=sqrt, min_samples_leaf=2, min_samples_split=7, n_estimators=150 \n",
            "[CV]  max_depth=40, max_features=sqrt, min_samples_leaf=2, min_samples_split=7, n_estimators=150, total=   0.5s\n",
            "[CV] max_depth=40, max_features=sqrt, min_samples_leaf=2, min_samples_split=7, n_estimators=150 \n",
            "[CV]  max_depth=40, max_features=sqrt, min_samples_leaf=2, min_samples_split=7, n_estimators=150, total=   0.5s\n",
            "[CV] max_depth=40, max_features=sqrt, min_samples_leaf=2, min_samples_split=7, n_estimators=150 \n",
            "[CV]  max_depth=40, max_features=sqrt, min_samples_leaf=2, min_samples_split=7, n_estimators=150, total=   0.5s\n",
            "[CV] max_depth=40, max_features=sqrt, min_samples_leaf=5, min_samples_split=2, n_estimators=10 \n",
            "[CV]  max_depth=40, max_features=sqrt, min_samples_leaf=5, min_samples_split=2, n_estimators=10, total=   0.2s\n",
            "[CV] max_depth=40, max_features=sqrt, min_samples_leaf=5, min_samples_split=2, n_estimators=10 \n",
            "[CV]  max_depth=40, max_features=sqrt, min_samples_leaf=5, min_samples_split=2, n_estimators=10, total=   0.2s\n",
            "[CV] max_depth=40, max_features=sqrt, min_samples_leaf=5, min_samples_split=2, n_estimators=10 \n",
            "[CV]  max_depth=40, max_features=sqrt, min_samples_leaf=5, min_samples_split=2, n_estimators=10, total=   0.2s\n",
            "[CV] max_depth=40, max_features=sqrt, min_samples_leaf=5, min_samples_split=2, n_estimators=10 \n",
            "[CV]  max_depth=40, max_features=sqrt, min_samples_leaf=5, min_samples_split=2, n_estimators=10, total=   0.2s\n",
            "[CV] max_depth=40, max_features=sqrt, min_samples_leaf=5, min_samples_split=2, n_estimators=10 \n",
            "[CV]  max_depth=40, max_features=sqrt, min_samples_leaf=5, min_samples_split=2, n_estimators=10, total=   0.1s\n",
            "[CV] max_depth=40, max_features=sqrt, min_samples_leaf=5, min_samples_split=2, n_estimators=100 \n",
            "[CV]  max_depth=40, max_features=sqrt, min_samples_leaf=5, min_samples_split=2, n_estimators=100, total=   0.4s\n",
            "[CV] max_depth=40, max_features=sqrt, min_samples_leaf=5, min_samples_split=2, n_estimators=100 \n",
            "[CV]  max_depth=40, max_features=sqrt, min_samples_leaf=5, min_samples_split=2, n_estimators=100, total=   0.4s\n",
            "[CV] max_depth=40, max_features=sqrt, min_samples_leaf=5, min_samples_split=2, n_estimators=100 \n",
            "[CV]  max_depth=40, max_features=sqrt, min_samples_leaf=5, min_samples_split=2, n_estimators=100, total=   0.4s\n",
            "[CV] max_depth=40, max_features=sqrt, min_samples_leaf=5, min_samples_split=2, n_estimators=100 \n",
            "[CV]  max_depth=40, max_features=sqrt, min_samples_leaf=5, min_samples_split=2, n_estimators=100, total=   0.4s\n",
            "[CV] max_depth=40, max_features=sqrt, min_samples_leaf=5, min_samples_split=2, n_estimators=100 \n",
            "[CV]  max_depth=40, max_features=sqrt, min_samples_leaf=5, min_samples_split=2, n_estimators=100, total=   0.4s\n",
            "[CV] max_depth=40, max_features=sqrt, min_samples_leaf=5, min_samples_split=2, n_estimators=150 \n",
            "[CV]  max_depth=40, max_features=sqrt, min_samples_leaf=5, min_samples_split=2, n_estimators=150, total=   0.5s\n",
            "[CV] max_depth=40, max_features=sqrt, min_samples_leaf=5, min_samples_split=2, n_estimators=150 \n",
            "[CV]  max_depth=40, max_features=sqrt, min_samples_leaf=5, min_samples_split=2, n_estimators=150, total=   0.5s\n",
            "[CV] max_depth=40, max_features=sqrt, min_samples_leaf=5, min_samples_split=2, n_estimators=150 \n",
            "[CV]  max_depth=40, max_features=sqrt, min_samples_leaf=5, min_samples_split=2, n_estimators=150, total=   0.5s\n",
            "[CV] max_depth=40, max_features=sqrt, min_samples_leaf=5, min_samples_split=2, n_estimators=150 \n",
            "[CV]  max_depth=40, max_features=sqrt, min_samples_leaf=5, min_samples_split=2, n_estimators=150, total=   0.5s\n",
            "[CV] max_depth=40, max_features=sqrt, min_samples_leaf=5, min_samples_split=2, n_estimators=150 \n",
            "[CV]  max_depth=40, max_features=sqrt, min_samples_leaf=5, min_samples_split=2, n_estimators=150, total=   0.5s\n",
            "[CV] max_depth=40, max_features=sqrt, min_samples_leaf=5, min_samples_split=5, n_estimators=10 \n",
            "[CV]  max_depth=40, max_features=sqrt, min_samples_leaf=5, min_samples_split=5, n_estimators=10, total=   0.1s\n",
            "[CV] max_depth=40, max_features=sqrt, min_samples_leaf=5, min_samples_split=5, n_estimators=10 \n",
            "[CV]  max_depth=40, max_features=sqrt, min_samples_leaf=5, min_samples_split=5, n_estimators=10, total=   0.2s\n",
            "[CV] max_depth=40, max_features=sqrt, min_samples_leaf=5, min_samples_split=5, n_estimators=10 \n",
            "[CV]  max_depth=40, max_features=sqrt, min_samples_leaf=5, min_samples_split=5, n_estimators=10, total=   0.1s\n",
            "[CV] max_depth=40, max_features=sqrt, min_samples_leaf=5, min_samples_split=5, n_estimators=10 \n",
            "[CV]  max_depth=40, max_features=sqrt, min_samples_leaf=5, min_samples_split=5, n_estimators=10, total=   0.1s\n",
            "[CV] max_depth=40, max_features=sqrt, min_samples_leaf=5, min_samples_split=5, n_estimators=10 \n",
            "[CV]  max_depth=40, max_features=sqrt, min_samples_leaf=5, min_samples_split=5, n_estimators=10, total=   0.1s\n",
            "[CV] max_depth=40, max_features=sqrt, min_samples_leaf=5, min_samples_split=5, n_estimators=100 \n",
            "[CV]  max_depth=40, max_features=sqrt, min_samples_leaf=5, min_samples_split=5, n_estimators=100, total=   0.3s\n",
            "[CV] max_depth=40, max_features=sqrt, min_samples_leaf=5, min_samples_split=5, n_estimators=100 \n",
            "[CV]  max_depth=40, max_features=sqrt, min_samples_leaf=5, min_samples_split=5, n_estimators=100, total=   0.3s\n",
            "[CV] max_depth=40, max_features=sqrt, min_samples_leaf=5, min_samples_split=5, n_estimators=100 \n",
            "[CV]  max_depth=40, max_features=sqrt, min_samples_leaf=5, min_samples_split=5, n_estimators=100, total=   0.4s\n",
            "[CV] max_depth=40, max_features=sqrt, min_samples_leaf=5, min_samples_split=5, n_estimators=100 \n",
            "[CV]  max_depth=40, max_features=sqrt, min_samples_leaf=5, min_samples_split=5, n_estimators=100, total=   0.3s\n",
            "[CV] max_depth=40, max_features=sqrt, min_samples_leaf=5, min_samples_split=5, n_estimators=100 \n",
            "[CV]  max_depth=40, max_features=sqrt, min_samples_leaf=5, min_samples_split=5, n_estimators=100, total=   0.4s\n",
            "[CV] max_depth=40, max_features=sqrt, min_samples_leaf=5, min_samples_split=5, n_estimators=150 \n",
            "[CV]  max_depth=40, max_features=sqrt, min_samples_leaf=5, min_samples_split=5, n_estimators=150, total=   0.5s\n",
            "[CV] max_depth=40, max_features=sqrt, min_samples_leaf=5, min_samples_split=5, n_estimators=150 \n",
            "[CV]  max_depth=40, max_features=sqrt, min_samples_leaf=5, min_samples_split=5, n_estimators=150, total=   0.5s\n",
            "[CV] max_depth=40, max_features=sqrt, min_samples_leaf=5, min_samples_split=5, n_estimators=150 \n",
            "[CV]  max_depth=40, max_features=sqrt, min_samples_leaf=5, min_samples_split=5, n_estimators=150, total=   0.5s\n",
            "[CV] max_depth=40, max_features=sqrt, min_samples_leaf=5, min_samples_split=5, n_estimators=150 \n",
            "[CV]  max_depth=40, max_features=sqrt, min_samples_leaf=5, min_samples_split=5, n_estimators=150, total=   0.5s\n",
            "[CV] max_depth=40, max_features=sqrt, min_samples_leaf=5, min_samples_split=5, n_estimators=150 \n",
            "[CV]  max_depth=40, max_features=sqrt, min_samples_leaf=5, min_samples_split=5, n_estimators=150, total=   0.5s\n",
            "[CV] max_depth=40, max_features=sqrt, min_samples_leaf=5, min_samples_split=7, n_estimators=10 \n",
            "[CV]  max_depth=40, max_features=sqrt, min_samples_leaf=5, min_samples_split=7, n_estimators=10, total=   0.1s\n",
            "[CV] max_depth=40, max_features=sqrt, min_samples_leaf=5, min_samples_split=7, n_estimators=10 \n",
            "[CV]  max_depth=40, max_features=sqrt, min_samples_leaf=5, min_samples_split=7, n_estimators=10, total=   0.1s\n",
            "[CV] max_depth=40, max_features=sqrt, min_samples_leaf=5, min_samples_split=7, n_estimators=10 \n",
            "[CV]  max_depth=40, max_features=sqrt, min_samples_leaf=5, min_samples_split=7, n_estimators=10, total=   0.1s\n",
            "[CV] max_depth=40, max_features=sqrt, min_samples_leaf=5, min_samples_split=7, n_estimators=10 \n",
            "[CV]  max_depth=40, max_features=sqrt, min_samples_leaf=5, min_samples_split=7, n_estimators=10, total=   0.1s\n",
            "[CV] max_depth=40, max_features=sqrt, min_samples_leaf=5, min_samples_split=7, n_estimators=10 \n",
            "[CV]  max_depth=40, max_features=sqrt, min_samples_leaf=5, min_samples_split=7, n_estimators=10, total=   0.1s\n",
            "[CV] max_depth=40, max_features=sqrt, min_samples_leaf=5, min_samples_split=7, n_estimators=100 \n",
            "[CV]  max_depth=40, max_features=sqrt, min_samples_leaf=5, min_samples_split=7, n_estimators=100, total=   0.3s\n",
            "[CV] max_depth=40, max_features=sqrt, min_samples_leaf=5, min_samples_split=7, n_estimators=100 \n",
            "[CV]  max_depth=40, max_features=sqrt, min_samples_leaf=5, min_samples_split=7, n_estimators=100, total=   0.3s\n",
            "[CV] max_depth=40, max_features=sqrt, min_samples_leaf=5, min_samples_split=7, n_estimators=100 \n",
            "[CV]  max_depth=40, max_features=sqrt, min_samples_leaf=5, min_samples_split=7, n_estimators=100, total=   0.3s\n",
            "[CV] max_depth=40, max_features=sqrt, min_samples_leaf=5, min_samples_split=7, n_estimators=100 \n",
            "[CV]  max_depth=40, max_features=sqrt, min_samples_leaf=5, min_samples_split=7, n_estimators=100, total=   0.3s\n",
            "[CV] max_depth=40, max_features=sqrt, min_samples_leaf=5, min_samples_split=7, n_estimators=100 \n",
            "[CV]  max_depth=40, max_features=sqrt, min_samples_leaf=5, min_samples_split=7, n_estimators=100, total=   0.3s\n",
            "[CV] max_depth=40, max_features=sqrt, min_samples_leaf=5, min_samples_split=7, n_estimators=150 \n",
            "[CV]  max_depth=40, max_features=sqrt, min_samples_leaf=5, min_samples_split=7, n_estimators=150, total=   0.5s\n",
            "[CV] max_depth=40, max_features=sqrt, min_samples_leaf=5, min_samples_split=7, n_estimators=150 \n",
            "[CV]  max_depth=40, max_features=sqrt, min_samples_leaf=5, min_samples_split=7, n_estimators=150, total=   0.5s\n",
            "[CV] max_depth=40, max_features=sqrt, min_samples_leaf=5, min_samples_split=7, n_estimators=150 \n",
            "[CV]  max_depth=40, max_features=sqrt, min_samples_leaf=5, min_samples_split=7, n_estimators=150, total=   0.5s\n",
            "[CV] max_depth=40, max_features=sqrt, min_samples_leaf=5, min_samples_split=7, n_estimators=150 \n",
            "[CV]  max_depth=40, max_features=sqrt, min_samples_leaf=5, min_samples_split=7, n_estimators=150, total=   0.5s\n",
            "[CV] max_depth=40, max_features=sqrt, min_samples_leaf=5, min_samples_split=7, n_estimators=150 \n",
            "[CV]  max_depth=40, max_features=sqrt, min_samples_leaf=5, min_samples_split=7, n_estimators=150, total=   0.5s\n",
            "[CV] max_depth=40, max_features=sqrt, min_samples_leaf=7, min_samples_split=2, n_estimators=10 \n",
            "[CV]  max_depth=40, max_features=sqrt, min_samples_leaf=7, min_samples_split=2, n_estimators=10, total=   0.1s\n",
            "[CV] max_depth=40, max_features=sqrt, min_samples_leaf=7, min_samples_split=2, n_estimators=10 \n",
            "[CV]  max_depth=40, max_features=sqrt, min_samples_leaf=7, min_samples_split=2, n_estimators=10, total=   0.1s\n",
            "[CV] max_depth=40, max_features=sqrt, min_samples_leaf=7, min_samples_split=2, n_estimators=10 \n",
            "[CV]  max_depth=40, max_features=sqrt, min_samples_leaf=7, min_samples_split=2, n_estimators=10, total=   0.1s\n",
            "[CV] max_depth=40, max_features=sqrt, min_samples_leaf=7, min_samples_split=2, n_estimators=10 \n",
            "[CV]  max_depth=40, max_features=sqrt, min_samples_leaf=7, min_samples_split=2, n_estimators=10, total=   0.1s\n",
            "[CV] max_depth=40, max_features=sqrt, min_samples_leaf=7, min_samples_split=2, n_estimators=10 \n",
            "[CV]  max_depth=40, max_features=sqrt, min_samples_leaf=7, min_samples_split=2, n_estimators=10, total=   0.2s\n",
            "[CV] max_depth=40, max_features=sqrt, min_samples_leaf=7, min_samples_split=2, n_estimators=100 \n",
            "[CV]  max_depth=40, max_features=sqrt, min_samples_leaf=7, min_samples_split=2, n_estimators=100, total=   0.3s\n",
            "[CV] max_depth=40, max_features=sqrt, min_samples_leaf=7, min_samples_split=2, n_estimators=100 \n",
            "[CV]  max_depth=40, max_features=sqrt, min_samples_leaf=7, min_samples_split=2, n_estimators=100, total=   0.3s\n",
            "[CV] max_depth=40, max_features=sqrt, min_samples_leaf=7, min_samples_split=2, n_estimators=100 \n",
            "[CV]  max_depth=40, max_features=sqrt, min_samples_leaf=7, min_samples_split=2, n_estimators=100, total=   0.3s\n",
            "[CV] max_depth=40, max_features=sqrt, min_samples_leaf=7, min_samples_split=2, n_estimators=100 \n",
            "[CV]  max_depth=40, max_features=sqrt, min_samples_leaf=7, min_samples_split=2, n_estimators=100, total=   0.3s\n",
            "[CV] max_depth=40, max_features=sqrt, min_samples_leaf=7, min_samples_split=2, n_estimators=100 \n",
            "[CV]  max_depth=40, max_features=sqrt, min_samples_leaf=7, min_samples_split=2, n_estimators=100, total=   0.3s\n",
            "[CV] max_depth=40, max_features=sqrt, min_samples_leaf=7, min_samples_split=2, n_estimators=150 \n",
            "[CV]  max_depth=40, max_features=sqrt, min_samples_leaf=7, min_samples_split=2, n_estimators=150, total=   0.5s\n",
            "[CV] max_depth=40, max_features=sqrt, min_samples_leaf=7, min_samples_split=2, n_estimators=150 \n",
            "[CV]  max_depth=40, max_features=sqrt, min_samples_leaf=7, min_samples_split=2, n_estimators=150, total=   0.5s\n",
            "[CV] max_depth=40, max_features=sqrt, min_samples_leaf=7, min_samples_split=2, n_estimators=150 \n",
            "[CV]  max_depth=40, max_features=sqrt, min_samples_leaf=7, min_samples_split=2, n_estimators=150, total=   0.5s\n",
            "[CV] max_depth=40, max_features=sqrt, min_samples_leaf=7, min_samples_split=2, n_estimators=150 \n",
            "[CV]  max_depth=40, max_features=sqrt, min_samples_leaf=7, min_samples_split=2, n_estimators=150, total=   0.5s\n",
            "[CV] max_depth=40, max_features=sqrt, min_samples_leaf=7, min_samples_split=2, n_estimators=150 \n",
            "[CV]  max_depth=40, max_features=sqrt, min_samples_leaf=7, min_samples_split=2, n_estimators=150, total=   0.5s\n",
            "[CV] max_depth=40, max_features=sqrt, min_samples_leaf=7, min_samples_split=5, n_estimators=10 \n",
            "[CV]  max_depth=40, max_features=sqrt, min_samples_leaf=7, min_samples_split=5, n_estimators=10, total=   0.1s\n",
            "[CV] max_depth=40, max_features=sqrt, min_samples_leaf=7, min_samples_split=5, n_estimators=10 \n",
            "[CV]  max_depth=40, max_features=sqrt, min_samples_leaf=7, min_samples_split=5, n_estimators=10, total=   0.1s\n",
            "[CV] max_depth=40, max_features=sqrt, min_samples_leaf=7, min_samples_split=5, n_estimators=10 \n",
            "[CV]  max_depth=40, max_features=sqrt, min_samples_leaf=7, min_samples_split=5, n_estimators=10, total=   0.1s\n",
            "[CV] max_depth=40, max_features=sqrt, min_samples_leaf=7, min_samples_split=5, n_estimators=10 \n",
            "[CV]  max_depth=40, max_features=sqrt, min_samples_leaf=7, min_samples_split=5, n_estimators=10, total=   0.1s\n",
            "[CV] max_depth=40, max_features=sqrt, min_samples_leaf=7, min_samples_split=5, n_estimators=10 \n",
            "[CV]  max_depth=40, max_features=sqrt, min_samples_leaf=7, min_samples_split=5, n_estimators=10, total=   0.1s\n",
            "[CV] max_depth=40, max_features=sqrt, min_samples_leaf=7, min_samples_split=5, n_estimators=100 \n",
            "[CV]  max_depth=40, max_features=sqrt, min_samples_leaf=7, min_samples_split=5, n_estimators=100, total=   0.3s\n",
            "[CV] max_depth=40, max_features=sqrt, min_samples_leaf=7, min_samples_split=5, n_estimators=100 \n",
            "[CV]  max_depth=40, max_features=sqrt, min_samples_leaf=7, min_samples_split=5, n_estimators=100, total=   0.3s\n",
            "[CV] max_depth=40, max_features=sqrt, min_samples_leaf=7, min_samples_split=5, n_estimators=100 \n",
            "[CV]  max_depth=40, max_features=sqrt, min_samples_leaf=7, min_samples_split=5, n_estimators=100, total=   0.3s\n",
            "[CV] max_depth=40, max_features=sqrt, min_samples_leaf=7, min_samples_split=5, n_estimators=100 \n",
            "[CV]  max_depth=40, max_features=sqrt, min_samples_leaf=7, min_samples_split=5, n_estimators=100, total=   0.4s\n",
            "[CV] max_depth=40, max_features=sqrt, min_samples_leaf=7, min_samples_split=5, n_estimators=100 \n",
            "[CV]  max_depth=40, max_features=sqrt, min_samples_leaf=7, min_samples_split=5, n_estimators=100, total=   0.3s\n",
            "[CV] max_depth=40, max_features=sqrt, min_samples_leaf=7, min_samples_split=5, n_estimators=150 \n",
            "[CV]  max_depth=40, max_features=sqrt, min_samples_leaf=7, min_samples_split=5, n_estimators=150, total=   0.5s\n",
            "[CV] max_depth=40, max_features=sqrt, min_samples_leaf=7, min_samples_split=5, n_estimators=150 \n",
            "[CV]  max_depth=40, max_features=sqrt, min_samples_leaf=7, min_samples_split=5, n_estimators=150, total=   0.5s\n",
            "[CV] max_depth=40, max_features=sqrt, min_samples_leaf=7, min_samples_split=5, n_estimators=150 \n",
            "[CV]  max_depth=40, max_features=sqrt, min_samples_leaf=7, min_samples_split=5, n_estimators=150, total=   0.5s\n",
            "[CV] max_depth=40, max_features=sqrt, min_samples_leaf=7, min_samples_split=5, n_estimators=150 \n",
            "[CV]  max_depth=40, max_features=sqrt, min_samples_leaf=7, min_samples_split=5, n_estimators=150, total=   0.5s\n",
            "[CV] max_depth=40, max_features=sqrt, min_samples_leaf=7, min_samples_split=5, n_estimators=150 \n",
            "[CV]  max_depth=40, max_features=sqrt, min_samples_leaf=7, min_samples_split=5, n_estimators=150, total=   0.5s\n",
            "[CV] max_depth=40, max_features=sqrt, min_samples_leaf=7, min_samples_split=7, n_estimators=10 \n",
            "[CV]  max_depth=40, max_features=sqrt, min_samples_leaf=7, min_samples_split=7, n_estimators=10, total=   0.1s\n",
            "[CV] max_depth=40, max_features=sqrt, min_samples_leaf=7, min_samples_split=7, n_estimators=10 \n",
            "[CV]  max_depth=40, max_features=sqrt, min_samples_leaf=7, min_samples_split=7, n_estimators=10, total=   0.2s\n",
            "[CV] max_depth=40, max_features=sqrt, min_samples_leaf=7, min_samples_split=7, n_estimators=10 \n",
            "[CV]  max_depth=40, max_features=sqrt, min_samples_leaf=7, min_samples_split=7, n_estimators=10, total=   0.1s\n",
            "[CV] max_depth=40, max_features=sqrt, min_samples_leaf=7, min_samples_split=7, n_estimators=10 \n",
            "[CV]  max_depth=40, max_features=sqrt, min_samples_leaf=7, min_samples_split=7, n_estimators=10, total=   0.1s\n",
            "[CV] max_depth=40, max_features=sqrt, min_samples_leaf=7, min_samples_split=7, n_estimators=10 \n",
            "[CV]  max_depth=40, max_features=sqrt, min_samples_leaf=7, min_samples_split=7, n_estimators=10, total=   0.1s\n",
            "[CV] max_depth=40, max_features=sqrt, min_samples_leaf=7, min_samples_split=7, n_estimators=100 \n",
            "[CV]  max_depth=40, max_features=sqrt, min_samples_leaf=7, min_samples_split=7, n_estimators=100, total=   0.3s\n",
            "[CV] max_depth=40, max_features=sqrt, min_samples_leaf=7, min_samples_split=7, n_estimators=100 \n",
            "[CV]  max_depth=40, max_features=sqrt, min_samples_leaf=7, min_samples_split=7, n_estimators=100, total=   0.4s\n",
            "[CV] max_depth=40, max_features=sqrt, min_samples_leaf=7, min_samples_split=7, n_estimators=100 \n",
            "[CV]  max_depth=40, max_features=sqrt, min_samples_leaf=7, min_samples_split=7, n_estimators=100, total=   0.3s\n",
            "[CV] max_depth=40, max_features=sqrt, min_samples_leaf=7, min_samples_split=7, n_estimators=100 \n",
            "[CV]  max_depth=40, max_features=sqrt, min_samples_leaf=7, min_samples_split=7, n_estimators=100, total=   0.3s\n",
            "[CV] max_depth=40, max_features=sqrt, min_samples_leaf=7, min_samples_split=7, n_estimators=100 \n",
            "[CV]  max_depth=40, max_features=sqrt, min_samples_leaf=7, min_samples_split=7, n_estimators=100, total=   0.4s\n",
            "[CV] max_depth=40, max_features=sqrt, min_samples_leaf=7, min_samples_split=7, n_estimators=150 \n",
            "[CV]  max_depth=40, max_features=sqrt, min_samples_leaf=7, min_samples_split=7, n_estimators=150, total=   0.5s\n",
            "[CV] max_depth=40, max_features=sqrt, min_samples_leaf=7, min_samples_split=7, n_estimators=150 \n",
            "[CV]  max_depth=40, max_features=sqrt, min_samples_leaf=7, min_samples_split=7, n_estimators=150, total=   0.5s\n",
            "[CV] max_depth=40, max_features=sqrt, min_samples_leaf=7, min_samples_split=7, n_estimators=150 \n",
            "[CV]  max_depth=40, max_features=sqrt, min_samples_leaf=7, min_samples_split=7, n_estimators=150, total=   0.5s\n",
            "[CV] max_depth=40, max_features=sqrt, min_samples_leaf=7, min_samples_split=7, n_estimators=150 \n",
            "[CV]  max_depth=40, max_features=sqrt, min_samples_leaf=7, min_samples_split=7, n_estimators=150, total=   0.5s\n",
            "[CV] max_depth=40, max_features=sqrt, min_samples_leaf=7, min_samples_split=7, n_estimators=150 \n",
            "[CV]  max_depth=40, max_features=sqrt, min_samples_leaf=7, min_samples_split=7, n_estimators=150, total=   0.5s\n"
          ],
          "name": "stdout"
        },
        {
          "output_type": "stream",
          "text": [
            "[Parallel(n_jobs=1)]: Done 810 out of 810 | elapsed:  4.4min finished\n"
          ],
          "name": "stderr"
        }
      ]
    },
    {
      "cell_type": "code",
      "metadata": {
        "id": "8qIor1PaIfZV",
        "colab_type": "code",
        "colab": {
          "base_uri": "https://localhost:8080/",
          "height": 102
        },
        "outputId": "a97b5b1d-77ab-49ed-f826-3c48411e7a62"
      },
      "source": [
        "gs_model.best_params_"
      ],
      "execution_count": 23,
      "outputs": [
        {
          "output_type": "execute_result",
          "data": {
            "text/plain": [
              "{'max_depth': 40,\n",
              " 'max_features': 'auto',\n",
              " 'min_samples_leaf': 7,\n",
              " 'min_samples_split': 2,\n",
              " 'n_estimators': 10}"
            ]
          },
          "metadata": {
            "tags": []
          },
          "execution_count": 23
        }
      ]
    },
    {
      "cell_type": "code",
      "metadata": {
        "id": "bM_X1DFSI88A",
        "colab_type": "code",
        "colab": {
          "base_uri": "https://localhost:8080/",
          "height": 85
        },
        "outputId": "8b93d5f1-165f-4050-c39b-942d05b23e95"
      },
      "source": [
        "#Make predictions with gridsearchCV\n",
        "gs_y_preds = gs_model.predict(X_test)\n",
        "\n",
        "#Evaluate the metrics of the GridSearch predictions\n",
        "gs_metrics = evaluate_preds(y_test,gs_y_preds)"
      ],
      "execution_count": 24,
      "outputs": [
        {
          "output_type": "stream",
          "text": [
            "Acc: 55.74%\n",
            "Precision: 0.55\n",
            "Recall: 0.81\n",
            "F1 score: 0.66\n"
          ],
          "name": "stdout"
        }
      ]
    },
    {
      "cell_type": "code",
      "metadata": {
        "id": "ScXFKpltJWxE",
        "colab_type": "code",
        "colab": {
          "base_uri": "https://localhost:8080/",
          "height": 34
        },
        "outputId": "e23c79ba-39a5-4fb1-a001-a10c91b0e8ed"
      },
      "source": [
        "rs_metrics"
      ],
      "execution_count": 25,
      "outputs": [
        {
          "output_type": "execute_result",
          "data": {
            "text/plain": [
              "{'accuracy': 0.59, 'f1': 0.67, 'precision': 0.58, 'recall': 0.78}"
            ]
          },
          "metadata": {
            "tags": []
          },
          "execution_count": 25
        }
      ]
    },
    {
      "cell_type": "code",
      "metadata": {
        "id": "GZdSvC6GJiMj",
        "colab_type": "code",
        "colab": {
          "base_uri": "https://localhost:8080/",
          "height": 518
        },
        "outputId": "87955593-0ea0-41e5-b4bc-18c6c0905257"
      },
      "source": [
        "#Lets compare our differnt metrics\n",
        "compare_metrics = pd.DataFrame({'baseline_metrics':baseline_metrics_test,\n",
        "                                'Randomized CV':rs_metrics,\n",
        "                                'GridSearch CV':gs_metrics})\n",
        "\n",
        "compare_metrics.plot.bar(figsize=(10,8));"
      ],
      "execution_count": 31,
      "outputs": [
        {
          "output_type": "display_data",
          "data": {
            "image/png": "[encoded data removed]",
            "text/plain": [
              "<Figure size 720x576 with 1 Axes>"
            ]
          },
          "metadata": {
            "tags": [],
            "needs_background": "light"
          }
        }
      ]
    }
  ]
}